{
  "nbformat": 4,
  "nbformat_minor": 0,
  "metadata": {
    "colab": {
      "name": "Intro to SQL",
      "provenance": []
    },
    "kernelspec": {
      "name": "python3",
      "display_name": "Python 3"
    },
    "language_info": {
      "name": "python"
    }
  },
  "cells": [
    {
      "cell_type": "markdown",
      "metadata": {
        "id": "lM-9Uu9cWhsZ"
      },
      "source": [
        "### **Onboarding | Tables**\n",
        "\n",
        "* From looking at the tabs, who is the first person listed in the `people` table?"
      ]
    },
    {
      "cell_type": "code",
      "metadata": {
        "id": "suMt7PubpRjT"
      },
      "source": [
        "import pandas as pd\n",
        "from sqlalchemy import create_engine, null\n",
        "engine = create_engine(\"sqlite:///data.sqlite\").connect()"
      ],
      "execution_count": 89,
      "outputs": []
    },
    {
      "cell_type": "code",
      "metadata": {
        "colab": {
          "base_uri": "https://localhost:8080/",
          "height": 206
        },
        "id": "XAlqdMxQS4MC",
        "outputId": "08954eb2-0097-421b-9423-3476a6c1f068"
      },
      "source": [
        "import pandas as pd\n",
        "from sqlalchemy import create_engine\n",
        "engine = create_engine(\"sqlite:///data.sqlite\")\n",
        "pd.read_sql_query(\"SELECT * FROM 'public.people'\", engine).head()"
      ],
      "execution_count": 92,
      "outputs": [
        {
          "output_type": "execute_result",
          "data": {
            "text/html": [
              "<div>\n",
              "<style scoped>\n",
              "    .dataframe tbody tr th:only-of-type {\n",
              "        vertical-align: middle;\n",
              "    }\n",
              "\n",
              "    .dataframe tbody tr th {\n",
              "        vertical-align: top;\n",
              "    }\n",
              "\n",
              "    .dataframe thead th {\n",
              "        text-align: right;\n",
              "    }\n",
              "</style>\n",
              "<table border=\"1\" class=\"dataframe\">\n",
              "  <thead>\n",
              "    <tr style=\"text-align: right;\">\n",
              "      <th></th>\n",
              "      <th>id</th>\n",
              "      <th>name</th>\n",
              "      <th>birthdate</th>\n",
              "      <th>deathdate</th>\n",
              "    </tr>\n",
              "  </thead>\n",
              "  <tbody>\n",
              "    <tr>\n",
              "      <th>0</th>\n",
              "      <td>1</td>\n",
              "      <td>50 Cent</td>\n",
              "      <td>1975-07-06</td>\n",
              "      <td></td>\n",
              "    </tr>\n",
              "    <tr>\n",
              "      <th>1</th>\n",
              "      <td>2</td>\n",
              "      <td>A. Michael Baldwin</td>\n",
              "      <td>1963-04-04</td>\n",
              "      <td></td>\n",
              "    </tr>\n",
              "    <tr>\n",
              "      <th>2</th>\n",
              "      <td>3</td>\n",
              "      <td>A. Raven Cruz</td>\n",
              "      <td></td>\n",
              "      <td></td>\n",
              "    </tr>\n",
              "    <tr>\n",
              "      <th>3</th>\n",
              "      <td>4</td>\n",
              "      <td>A.J. Buckley</td>\n",
              "      <td>1978-02-09</td>\n",
              "      <td></td>\n",
              "    </tr>\n",
              "    <tr>\n",
              "      <th>4</th>\n",
              "      <td>5</td>\n",
              "      <td>A.J. DeLucia</td>\n",
              "      <td></td>\n",
              "      <td></td>\n",
              "    </tr>\n",
              "  </tbody>\n",
              "</table>\n",
              "</div>"
            ],
            "text/plain": [
              "  id                name   birthdate deathdate\n",
              "0  1             50 Cent  1975-07-06          \n",
              "1  2  A. Michael Baldwin  1963-04-04          \n",
              "2  3       A. Raven Cruz                      \n",
              "3  4        A.J. Buckley  1978-02-09          \n",
              "4  5        A.J. DeLucia                      "
            ]
          },
          "metadata": {},
          "execution_count": 92
        }
      ]
    },
    {
      "cell_type": "code",
      "metadata": {
        "id": "MXVvq6YuUgf5",
        "colab": {
          "base_uri": "https://localhost:8080/",
          "height": 518
        },
        "outputId": "12dbed6a-5d05-45f2-b3c0-63f81023312a"
      },
      "source": [
        "pd.read_sql_query(\"'DataCamp <3 SQL' AS result\", engine)"
      ],
      "execution_count": 4,
      "outputs": [
        {
          "output_type": "error",
          "ename": "OperationalError",
          "evalue": "ignored",
          "traceback": [
            "\u001b[0;31m---------------------------------------------------------------------------\u001b[0m",
            "\u001b[0;31mOperationalError\u001b[0m                          Traceback (most recent call last)",
            "\u001b[0;32m/usr/local/lib/python3.7/dist-packages/sqlalchemy/engine/base.py\u001b[0m in \u001b[0;36m_execute_context\u001b[0;34m(self, dialect, constructor, statement, parameters, execution_options, *args, **kw)\u001b[0m\n\u001b[1;32m   1789\u001b[0m                     self.dialect.do_execute_no_params(\n\u001b[0;32m-> 1790\u001b[0;31m                         \u001b[0mcursor\u001b[0m\u001b[0;34m,\u001b[0m \u001b[0mstatement\u001b[0m\u001b[0;34m,\u001b[0m \u001b[0mcontext\u001b[0m\u001b[0;34m\u001b[0m\u001b[0;34m\u001b[0m\u001b[0m\n\u001b[0m\u001b[1;32m   1791\u001b[0m                     )\n",
            "\u001b[0;32m/usr/local/lib/python3.7/dist-packages/sqlalchemy/engine/default.py\u001b[0m in \u001b[0;36mdo_execute_no_params\u001b[0;34m(self, cursor, statement, context)\u001b[0m\n\u001b[1;32m    719\u001b[0m     \u001b[0;32mdef\u001b[0m \u001b[0mdo_execute_no_params\u001b[0m\u001b[0;34m(\u001b[0m\u001b[0mself\u001b[0m\u001b[0;34m,\u001b[0m \u001b[0mcursor\u001b[0m\u001b[0;34m,\u001b[0m \u001b[0mstatement\u001b[0m\u001b[0;34m,\u001b[0m \u001b[0mcontext\u001b[0m\u001b[0;34m=\u001b[0m\u001b[0;32mNone\u001b[0m\u001b[0;34m)\u001b[0m\u001b[0;34m:\u001b[0m\u001b[0;34m\u001b[0m\u001b[0;34m\u001b[0m\u001b[0m\n\u001b[0;32m--> 720\u001b[0;31m         \u001b[0mcursor\u001b[0m\u001b[0;34m.\u001b[0m\u001b[0mexecute\u001b[0m\u001b[0;34m(\u001b[0m\u001b[0mstatement\u001b[0m\u001b[0;34m)\u001b[0m\u001b[0;34m\u001b[0m\u001b[0;34m\u001b[0m\u001b[0m\n\u001b[0m\u001b[1;32m    721\u001b[0m \u001b[0;34m\u001b[0m\u001b[0m\n",
            "\u001b[0;31mOperationalError\u001b[0m: near \"'DataCamp <3 SQL'\": syntax error",
            "\nThe above exception was the direct cause of the following exception:\n",
            "\u001b[0;31mOperationalError\u001b[0m                          Traceback (most recent call last)",
            "\u001b[0;32m<ipython-input-4-d18bc07fb020>\u001b[0m in \u001b[0;36m<module>\u001b[0;34m()\u001b[0m\n\u001b[0;32m----> 1\u001b[0;31m \u001b[0mpd\u001b[0m\u001b[0;34m.\u001b[0m\u001b[0mread_sql_query\u001b[0m\u001b[0;34m(\u001b[0m\u001b[0;34m\"'DataCamp <3 SQL' AS result\"\u001b[0m\u001b[0;34m,\u001b[0m \u001b[0mengine\u001b[0m\u001b[0;34m)\u001b[0m\u001b[0;34m\u001b[0m\u001b[0;34m\u001b[0m\u001b[0m\n\u001b[0m",
            "\u001b[0;32m/usr/local/lib/python3.7/dist-packages/pandas/io/sql.py\u001b[0m in \u001b[0;36mread_sql_query\u001b[0;34m(sql, con, index_col, coerce_float, params, parse_dates, chunksize)\u001b[0m\n\u001b[1;32m    381\u001b[0m         \u001b[0mcoerce_float\u001b[0m\u001b[0;34m=\u001b[0m\u001b[0mcoerce_float\u001b[0m\u001b[0;34m,\u001b[0m\u001b[0;34m\u001b[0m\u001b[0;34m\u001b[0m\u001b[0m\n\u001b[1;32m    382\u001b[0m         \u001b[0mparse_dates\u001b[0m\u001b[0;34m=\u001b[0m\u001b[0mparse_dates\u001b[0m\u001b[0;34m,\u001b[0m\u001b[0;34m\u001b[0m\u001b[0;34m\u001b[0m\u001b[0m\n\u001b[0;32m--> 383\u001b[0;31m         \u001b[0mchunksize\u001b[0m\u001b[0;34m=\u001b[0m\u001b[0mchunksize\u001b[0m\u001b[0;34m,\u001b[0m\u001b[0;34m\u001b[0m\u001b[0;34m\u001b[0m\u001b[0m\n\u001b[0m\u001b[1;32m    384\u001b[0m     )\n\u001b[1;32m    385\u001b[0m \u001b[0;34m\u001b[0m\u001b[0m\n",
            "\u001b[0;32m/usr/local/lib/python3.7/dist-packages/pandas/io/sql.py\u001b[0m in \u001b[0;36mread_query\u001b[0;34m(self, sql, index_col, coerce_float, parse_dates, params, chunksize)\u001b[0m\n\u001b[1;32m   1293\u001b[0m         \u001b[0margs\u001b[0m \u001b[0;34m=\u001b[0m \u001b[0m_convert_params\u001b[0m\u001b[0;34m(\u001b[0m\u001b[0msql\u001b[0m\u001b[0;34m,\u001b[0m \u001b[0mparams\u001b[0m\u001b[0;34m)\u001b[0m\u001b[0;34m\u001b[0m\u001b[0;34m\u001b[0m\u001b[0m\n\u001b[1;32m   1294\u001b[0m \u001b[0;34m\u001b[0m\u001b[0m\n\u001b[0;32m-> 1295\u001b[0;31m         \u001b[0mresult\u001b[0m \u001b[0;34m=\u001b[0m \u001b[0mself\u001b[0m\u001b[0;34m.\u001b[0m\u001b[0mexecute\u001b[0m\u001b[0;34m(\u001b[0m\u001b[0;34m*\u001b[0m\u001b[0margs\u001b[0m\u001b[0;34m)\u001b[0m\u001b[0;34m\u001b[0m\u001b[0;34m\u001b[0m\u001b[0m\n\u001b[0m\u001b[1;32m   1296\u001b[0m         \u001b[0mcolumns\u001b[0m \u001b[0;34m=\u001b[0m \u001b[0mresult\u001b[0m\u001b[0;34m.\u001b[0m\u001b[0mkeys\u001b[0m\u001b[0;34m(\u001b[0m\u001b[0;34m)\u001b[0m\u001b[0;34m\u001b[0m\u001b[0;34m\u001b[0m\u001b[0m\n\u001b[1;32m   1297\u001b[0m \u001b[0;34m\u001b[0m\u001b[0m\n",
            "\u001b[0;32m/usr/local/lib/python3.7/dist-packages/pandas/io/sql.py\u001b[0m in \u001b[0;36mexecute\u001b[0;34m(self, *args, **kwargs)\u001b[0m\n\u001b[1;32m   1160\u001b[0m         \u001b[0;34m\"\"\"Simple passthrough to SQLAlchemy connectable\"\"\"\u001b[0m\u001b[0;34m\u001b[0m\u001b[0;34m\u001b[0m\u001b[0m\n\u001b[1;32m   1161\u001b[0m         return self.connectable.execution_options(no_parameters=True).execute(\n\u001b[0;32m-> 1162\u001b[0;31m             \u001b[0;34m*\u001b[0m\u001b[0margs\u001b[0m\u001b[0;34m,\u001b[0m \u001b[0;34m**\u001b[0m\u001b[0mkwargs\u001b[0m\u001b[0;34m\u001b[0m\u001b[0;34m\u001b[0m\u001b[0m\n\u001b[0m\u001b[1;32m   1163\u001b[0m         )\n\u001b[1;32m   1164\u001b[0m \u001b[0;34m\u001b[0m\u001b[0m\n",
            "\u001b[0;32m<string>\u001b[0m in \u001b[0;36mexecute\u001b[0;34m(self, statement, *multiparams, **params)\u001b[0m\n",
            "\u001b[0;32m/usr/local/lib/python3.7/dist-packages/sqlalchemy/util/deprecations.py\u001b[0m in \u001b[0;36mwarned\u001b[0;34m(fn, *args, **kwargs)\u001b[0m\n\u001b[1;32m    388\u001b[0m         \u001b[0;32mif\u001b[0m \u001b[0;32mnot\u001b[0m \u001b[0mskip_warning\u001b[0m\u001b[0;34m:\u001b[0m\u001b[0;34m\u001b[0m\u001b[0;34m\u001b[0m\u001b[0m\n\u001b[1;32m    389\u001b[0m             \u001b[0m_warn_with_version\u001b[0m\u001b[0;34m(\u001b[0m\u001b[0mmessage\u001b[0m\u001b[0;34m,\u001b[0m \u001b[0mversion\u001b[0m\u001b[0;34m,\u001b[0m \u001b[0mwtype\u001b[0m\u001b[0;34m,\u001b[0m \u001b[0mstacklevel\u001b[0m\u001b[0;34m=\u001b[0m\u001b[0;36m3\u001b[0m\u001b[0;34m)\u001b[0m\u001b[0;34m\u001b[0m\u001b[0;34m\u001b[0m\u001b[0m\n\u001b[0;32m--> 390\u001b[0;31m         \u001b[0;32mreturn\u001b[0m \u001b[0mfn\u001b[0m\u001b[0;34m(\u001b[0m\u001b[0;34m*\u001b[0m\u001b[0margs\u001b[0m\u001b[0;34m,\u001b[0m \u001b[0;34m**\u001b[0m\u001b[0mkwargs\u001b[0m\u001b[0;34m)\u001b[0m\u001b[0;34m\u001b[0m\u001b[0;34m\u001b[0m\u001b[0m\n\u001b[0m\u001b[1;32m    391\u001b[0m \u001b[0;34m\u001b[0m\u001b[0m\n\u001b[1;32m    392\u001b[0m     \u001b[0mdoc\u001b[0m \u001b[0;34m=\u001b[0m \u001b[0mfunc\u001b[0m\u001b[0;34m.\u001b[0m\u001b[0m__doc__\u001b[0m \u001b[0;32mis\u001b[0m \u001b[0;32mnot\u001b[0m \u001b[0;32mNone\u001b[0m \u001b[0;32mand\u001b[0m \u001b[0mfunc\u001b[0m\u001b[0;34m.\u001b[0m\u001b[0m__doc__\u001b[0m \u001b[0;32mor\u001b[0m \u001b[0;34m\"\"\u001b[0m\u001b[0;34m\u001b[0m\u001b[0;34m\u001b[0m\u001b[0m\n",
            "\u001b[0;32m/usr/local/lib/python3.7/dist-packages/sqlalchemy/engine/base.py\u001b[0m in \u001b[0;36mexecute\u001b[0;34m(self, statement, *multiparams, **params)\u001b[0m\n\u001b[1;32m   3134\u001b[0m         \"\"\"\n\u001b[1;32m   3135\u001b[0m         \u001b[0mconnection\u001b[0m \u001b[0;34m=\u001b[0m \u001b[0mself\u001b[0m\u001b[0;34m.\u001b[0m\u001b[0mconnect\u001b[0m\u001b[0;34m(\u001b[0m\u001b[0mclose_with_result\u001b[0m\u001b[0;34m=\u001b[0m\u001b[0;32mTrue\u001b[0m\u001b[0;34m)\u001b[0m\u001b[0;34m\u001b[0m\u001b[0;34m\u001b[0m\u001b[0m\n\u001b[0;32m-> 3136\u001b[0;31m         \u001b[0;32mreturn\u001b[0m \u001b[0mconnection\u001b[0m\u001b[0;34m.\u001b[0m\u001b[0mexecute\u001b[0m\u001b[0;34m(\u001b[0m\u001b[0mstatement\u001b[0m\u001b[0;34m,\u001b[0m \u001b[0;34m*\u001b[0m\u001b[0mmultiparams\u001b[0m\u001b[0;34m,\u001b[0m \u001b[0;34m**\u001b[0m\u001b[0mparams\u001b[0m\u001b[0;34m)\u001b[0m\u001b[0;34m\u001b[0m\u001b[0;34m\u001b[0m\u001b[0m\n\u001b[0m\u001b[1;32m   3137\u001b[0m \u001b[0;34m\u001b[0m\u001b[0m\n\u001b[1;32m   3138\u001b[0m     @util.deprecated_20(\n",
            "\u001b[0;32m/usr/local/lib/python3.7/dist-packages/sqlalchemy/engine/base.py\u001b[0m in \u001b[0;36mexecute\u001b[0;34m(self, statement, *multiparams, **params)\u001b[0m\n\u001b[1;32m   1274\u001b[0m                 \u001b[0mparams\u001b[0m\u001b[0;34m,\u001b[0m\u001b[0;34m\u001b[0m\u001b[0;34m\u001b[0m\u001b[0m\n\u001b[1;32m   1275\u001b[0m                 \u001b[0m_EMPTY_EXECUTION_OPTS\u001b[0m\u001b[0;34m,\u001b[0m\u001b[0;34m\u001b[0m\u001b[0;34m\u001b[0m\u001b[0m\n\u001b[0;32m-> 1276\u001b[0;31m                 \u001b[0mfuture\u001b[0m\u001b[0;34m=\u001b[0m\u001b[0;32mFalse\u001b[0m\u001b[0;34m,\u001b[0m\u001b[0;34m\u001b[0m\u001b[0;34m\u001b[0m\u001b[0m\n\u001b[0m\u001b[1;32m   1277\u001b[0m             )\n\u001b[1;32m   1278\u001b[0m \u001b[0;34m\u001b[0m\u001b[0m\n",
            "\u001b[0;32m/usr/local/lib/python3.7/dist-packages/sqlalchemy/engine/base.py\u001b[0m in \u001b[0;36m_exec_driver_sql\u001b[0;34m(self, statement, multiparams, params, execution_options, future)\u001b[0m\n\u001b[1;32m   1580\u001b[0m             \u001b[0mexecution_options\u001b[0m\u001b[0;34m,\u001b[0m\u001b[0;34m\u001b[0m\u001b[0;34m\u001b[0m\u001b[0m\n\u001b[1;32m   1581\u001b[0m             \u001b[0mstatement\u001b[0m\u001b[0;34m,\u001b[0m\u001b[0;34m\u001b[0m\u001b[0;34m\u001b[0m\u001b[0m\n\u001b[0;32m-> 1582\u001b[0;31m             \u001b[0mdistilled_parameters\u001b[0m\u001b[0;34m,\u001b[0m\u001b[0;34m\u001b[0m\u001b[0;34m\u001b[0m\u001b[0m\n\u001b[0m\u001b[1;32m   1583\u001b[0m         )\n\u001b[1;32m   1584\u001b[0m \u001b[0;34m\u001b[0m\u001b[0m\n",
            "\u001b[0;32m/usr/local/lib/python3.7/dist-packages/sqlalchemy/engine/base.py\u001b[0m in \u001b[0;36m_execute_context\u001b[0;34m(self, dialect, constructor, statement, parameters, execution_options, *args, **kw)\u001b[0m\n\u001b[1;32m   1841\u001b[0m         \u001b[0;32mexcept\u001b[0m \u001b[0mBaseException\u001b[0m \u001b[0;32mas\u001b[0m \u001b[0me\u001b[0m\u001b[0;34m:\u001b[0m\u001b[0;34m\u001b[0m\u001b[0;34m\u001b[0m\u001b[0m\n\u001b[1;32m   1842\u001b[0m             self._handle_dbapi_exception(\n\u001b[0;32m-> 1843\u001b[0;31m                 \u001b[0me\u001b[0m\u001b[0;34m,\u001b[0m \u001b[0mstatement\u001b[0m\u001b[0;34m,\u001b[0m \u001b[0mparameters\u001b[0m\u001b[0;34m,\u001b[0m \u001b[0mcursor\u001b[0m\u001b[0;34m,\u001b[0m \u001b[0mcontext\u001b[0m\u001b[0;34m\u001b[0m\u001b[0;34m\u001b[0m\u001b[0m\n\u001b[0m\u001b[1;32m   1844\u001b[0m             )\n\u001b[1;32m   1845\u001b[0m \u001b[0;34m\u001b[0m\u001b[0m\n",
            "\u001b[0;32m/usr/local/lib/python3.7/dist-packages/sqlalchemy/engine/base.py\u001b[0m in \u001b[0;36m_handle_dbapi_exception\u001b[0;34m(self, e, statement, parameters, cursor, context)\u001b[0m\n\u001b[1;32m   2022\u001b[0m             \u001b[0;32melif\u001b[0m \u001b[0mshould_wrap\u001b[0m\u001b[0;34m:\u001b[0m\u001b[0;34m\u001b[0m\u001b[0;34m\u001b[0m\u001b[0m\n\u001b[1;32m   2023\u001b[0m                 util.raise_(\n\u001b[0;32m-> 2024\u001b[0;31m                     \u001b[0msqlalchemy_exception\u001b[0m\u001b[0;34m,\u001b[0m \u001b[0mwith_traceback\u001b[0m\u001b[0;34m=\u001b[0m\u001b[0mexc_info\u001b[0m\u001b[0;34m[\u001b[0m\u001b[0;36m2\u001b[0m\u001b[0;34m]\u001b[0m\u001b[0;34m,\u001b[0m \u001b[0mfrom_\u001b[0m\u001b[0;34m=\u001b[0m\u001b[0me\u001b[0m\u001b[0;34m\u001b[0m\u001b[0;34m\u001b[0m\u001b[0m\n\u001b[0m\u001b[1;32m   2025\u001b[0m                 )\n\u001b[1;32m   2026\u001b[0m             \u001b[0;32melse\u001b[0m\u001b[0;34m:\u001b[0m\u001b[0;34m\u001b[0m\u001b[0;34m\u001b[0m\u001b[0m\n",
            "\u001b[0;32m/usr/local/lib/python3.7/dist-packages/sqlalchemy/util/compat.py\u001b[0m in \u001b[0;36mraise_\u001b[0;34m(***failed resolving arguments***)\u001b[0m\n\u001b[1;32m    205\u001b[0m \u001b[0;34m\u001b[0m\u001b[0m\n\u001b[1;32m    206\u001b[0m         \u001b[0;32mtry\u001b[0m\u001b[0;34m:\u001b[0m\u001b[0;34m\u001b[0m\u001b[0;34m\u001b[0m\u001b[0m\n\u001b[0;32m--> 207\u001b[0;31m             \u001b[0;32mraise\u001b[0m \u001b[0mexception\u001b[0m\u001b[0;34m\u001b[0m\u001b[0;34m\u001b[0m\u001b[0m\n\u001b[0m\u001b[1;32m    208\u001b[0m         \u001b[0;32mfinally\u001b[0m\u001b[0;34m:\u001b[0m\u001b[0;34m\u001b[0m\u001b[0;34m\u001b[0m\u001b[0m\n\u001b[1;32m    209\u001b[0m             \u001b[0;31m# credit to\u001b[0m\u001b[0;34m\u001b[0m\u001b[0;34m\u001b[0m\u001b[0;34m\u001b[0m\u001b[0m\n",
            "\u001b[0;32m/usr/local/lib/python3.7/dist-packages/sqlalchemy/engine/base.py\u001b[0m in \u001b[0;36m_execute_context\u001b[0;34m(self, dialect, constructor, statement, parameters, execution_options, *args, **kw)\u001b[0m\n\u001b[1;32m   1788\u001b[0m                 \u001b[0;32mif\u001b[0m \u001b[0;32mnot\u001b[0m \u001b[0mevt_handled\u001b[0m\u001b[0;34m:\u001b[0m\u001b[0;34m\u001b[0m\u001b[0;34m\u001b[0m\u001b[0m\n\u001b[1;32m   1789\u001b[0m                     self.dialect.do_execute_no_params(\n\u001b[0;32m-> 1790\u001b[0;31m                         \u001b[0mcursor\u001b[0m\u001b[0;34m,\u001b[0m \u001b[0mstatement\u001b[0m\u001b[0;34m,\u001b[0m \u001b[0mcontext\u001b[0m\u001b[0;34m\u001b[0m\u001b[0;34m\u001b[0m\u001b[0m\n\u001b[0m\u001b[1;32m   1791\u001b[0m                     )\n\u001b[1;32m   1792\u001b[0m             \u001b[0;32melse\u001b[0m\u001b[0;34m:\u001b[0m\u001b[0;34m\u001b[0m\u001b[0;34m\u001b[0m\u001b[0m\n",
            "\u001b[0;32m/usr/local/lib/python3.7/dist-packages/sqlalchemy/engine/default.py\u001b[0m in \u001b[0;36mdo_execute_no_params\u001b[0;34m(self, cursor, statement, context)\u001b[0m\n\u001b[1;32m    718\u001b[0m \u001b[0;34m\u001b[0m\u001b[0m\n\u001b[1;32m    719\u001b[0m     \u001b[0;32mdef\u001b[0m \u001b[0mdo_execute_no_params\u001b[0m\u001b[0;34m(\u001b[0m\u001b[0mself\u001b[0m\u001b[0;34m,\u001b[0m \u001b[0mcursor\u001b[0m\u001b[0;34m,\u001b[0m \u001b[0mstatement\u001b[0m\u001b[0;34m,\u001b[0m \u001b[0mcontext\u001b[0m\u001b[0;34m=\u001b[0m\u001b[0;32mNone\u001b[0m\u001b[0;34m)\u001b[0m\u001b[0;34m:\u001b[0m\u001b[0;34m\u001b[0m\u001b[0;34m\u001b[0m\u001b[0m\n\u001b[0;32m--> 720\u001b[0;31m         \u001b[0mcursor\u001b[0m\u001b[0;34m.\u001b[0m\u001b[0mexecute\u001b[0m\u001b[0;34m(\u001b[0m\u001b[0mstatement\u001b[0m\u001b[0;34m)\u001b[0m\u001b[0;34m\u001b[0m\u001b[0;34m\u001b[0m\u001b[0m\n\u001b[0m\u001b[1;32m    721\u001b[0m \u001b[0;34m\u001b[0m\u001b[0m\n\u001b[1;32m    722\u001b[0m     \u001b[0;32mdef\u001b[0m \u001b[0mis_disconnect\u001b[0m\u001b[0;34m(\u001b[0m\u001b[0mself\u001b[0m\u001b[0;34m,\u001b[0m \u001b[0me\u001b[0m\u001b[0;34m,\u001b[0m \u001b[0mconnection\u001b[0m\u001b[0;34m,\u001b[0m \u001b[0mcursor\u001b[0m\u001b[0;34m)\u001b[0m\u001b[0;34m:\u001b[0m\u001b[0;34m\u001b[0m\u001b[0;34m\u001b[0m\u001b[0m\n",
            "\u001b[0;31mOperationalError\u001b[0m: (sqlite3.OperationalError) near \"'DataCamp <3 SQL'\": syntax error\n[SQL: 'DataCamp <3 SQL' AS result]\n(Background on this error at: https://sqlalche.me/e/14/e3q8)"
          ]
        }
      ]
    },
    {
      "cell_type": "code",
      "metadata": {
        "colab": {
          "base_uri": "https://localhost:8080/",
          "height": 81
        },
        "id": "Xcj0Y5G3XTj_",
        "outputId": "bb68b614-f803-4826-f761-9699928aa936"
      },
      "source": [
        "pd.read_sql_query(\"SELECT 'DataCamp <3 SQL' AS result\", engine)"
      ],
      "execution_count": 5,
      "outputs": [
        {
          "output_type": "execute_result",
          "data": {
            "text/html": [
              "<div>\n",
              "<style scoped>\n",
              "    .dataframe tbody tr th:only-of-type {\n",
              "        vertical-align: middle;\n",
              "    }\n",
              "\n",
              "    .dataframe tbody tr th {\n",
              "        vertical-align: top;\n",
              "    }\n",
              "\n",
              "    .dataframe thead th {\n",
              "        text-align: right;\n",
              "    }\n",
              "</style>\n",
              "<table border=\"1\" class=\"dataframe\">\n",
              "  <thead>\n",
              "    <tr style=\"text-align: right;\">\n",
              "      <th></th>\n",
              "      <th>result</th>\n",
              "    </tr>\n",
              "  </thead>\n",
              "  <tbody>\n",
              "    <tr>\n",
              "      <th>0</th>\n",
              "      <td>DataCamp &lt;3 SQL</td>\n",
              "    </tr>\n",
              "  </tbody>\n",
              "</table>\n",
              "</div>"
            ],
            "text/plain": [
              "            result\n",
              "0  DataCamp <3 SQL"
            ]
          },
          "metadata": {},
          "execution_count": 5
        }
      ]
    },
    {
      "cell_type": "markdown",
      "metadata": {
        "id": "IALZgRq4X_M0"
      },
      "source": [
        "# **SELECTing single columns**\n",
        "\n",
        "While SQL can be used to create and modify databases, the focus of this course will be *querying* databases. A *query* is a request for data from a database table (or combination of tables). Querying is an essential skill for a data scientist, since the data you need for your analyses will often live in databases.\n",
        "\n",
        "In SQL, you can select data from a table using a `SELECT` statement. For example, the following query selects the `name` column from the `people` table:\n",
        "\n",
        "```\n",
        "SELECT name\n",
        "FROM people;\n",
        "```\n",
        "\n",
        "In this query, `SELECT` and `FROM` are called keywords. In SQL, keywords are not case-sensitive, which means you can write the same query as:\n",
        "\n",
        "```\n",
        "select name\n",
        "from people;\n",
        "```\n",
        "\n",
        "That said, it's good practice to make SQL keywords uppercase to distinguish them from other parts of your query, like column and table names.\n",
        "\n",
        "It's also good practice (but not necessary for the exercises in this course) to <ins>include a semicolon</ins> at the end of your query. This tells SQL where the end of your query is!\n",
        "\n",
        "Remember, you can see the results of executing your query in the query tab!\n",
        "\n",
        "* Select the `title` column from the `films` table."
      ]
    },
    {
      "cell_type": "code",
      "metadata": {
        "colab": {
          "base_uri": "https://localhost:8080/",
          "height": 206
        },
        "id": "MyLzXxcJXiDk",
        "outputId": "533d16d2-05df-4e0d-85bd-eff01b6cd100"
      },
      "source": [
        "pd.read_sql_query(\"SELECT title FROM 'public.films';\", engine).head()"
      ],
      "execution_count": 23,
      "outputs": [
        {
          "output_type": "execute_result",
          "data": {
            "text/html": [
              "<div>\n",
              "<style scoped>\n",
              "    .dataframe tbody tr th:only-of-type {\n",
              "        vertical-align: middle;\n",
              "    }\n",
              "\n",
              "    .dataframe tbody tr th {\n",
              "        vertical-align: top;\n",
              "    }\n",
              "\n",
              "    .dataframe thead th {\n",
              "        text-align: right;\n",
              "    }\n",
              "</style>\n",
              "<table border=\"1\" class=\"dataframe\">\n",
              "  <thead>\n",
              "    <tr style=\"text-align: right;\">\n",
              "      <th></th>\n",
              "      <th>title</th>\n",
              "    </tr>\n",
              "  </thead>\n",
              "  <tbody>\n",
              "    <tr>\n",
              "      <th>0</th>\n",
              "      <td>Intolerance: Love's Struggle Throughout the Ages</td>\n",
              "    </tr>\n",
              "    <tr>\n",
              "      <th>1</th>\n",
              "      <td>Over the Hill to the Poorhouse</td>\n",
              "    </tr>\n",
              "    <tr>\n",
              "      <th>2</th>\n",
              "      <td>The Big Parade</td>\n",
              "    </tr>\n",
              "    <tr>\n",
              "      <th>3</th>\n",
              "      <td>Metropolis</td>\n",
              "    </tr>\n",
              "    <tr>\n",
              "      <th>4</th>\n",
              "      <td>Pandora's Box</td>\n",
              "    </tr>\n",
              "  </tbody>\n",
              "</table>\n",
              "</div>"
            ],
            "text/plain": [
              "                                              title\n",
              "0  Intolerance: Love's Struggle Throughout the Ages\n",
              "1                    Over the Hill to the Poorhouse\n",
              "2                                    The Big Parade\n",
              "3                                        Metropolis\n",
              "4                                     Pandora's Box"
            ]
          },
          "metadata": {},
          "execution_count": 23
        }
      ]
    },
    {
      "cell_type": "markdown",
      "metadata": {
        "id": "p9AJ1PbQZedK"
      },
      "source": [
        "* Select the `release_year` column from the `films` table."
      ]
    },
    {
      "cell_type": "code",
      "metadata": {
        "colab": {
          "base_uri": "https://localhost:8080/",
          "height": 206
        },
        "id": "_vALuROeZT1e",
        "outputId": "67420efe-7541-42e3-eda7-4ae2c2563018"
      },
      "source": [
        "pd.read_sql_query(\"SELECT release_year FROM 'public.films';\", engine).head()"
      ],
      "execution_count": 10,
      "outputs": [
        {
          "output_type": "execute_result",
          "data": {
            "text/html": [
              "<div>\n",
              "<style scoped>\n",
              "    .dataframe tbody tr th:only-of-type {\n",
              "        vertical-align: middle;\n",
              "    }\n",
              "\n",
              "    .dataframe tbody tr th {\n",
              "        vertical-align: top;\n",
              "    }\n",
              "\n",
              "    .dataframe thead th {\n",
              "        text-align: right;\n",
              "    }\n",
              "</style>\n",
              "<table border=\"1\" class=\"dataframe\">\n",
              "  <thead>\n",
              "    <tr style=\"text-align: right;\">\n",
              "      <th></th>\n",
              "      <th>release_year</th>\n",
              "    </tr>\n",
              "  </thead>\n",
              "  <tbody>\n",
              "    <tr>\n",
              "      <th>0</th>\n",
              "      <td>1916</td>\n",
              "    </tr>\n",
              "    <tr>\n",
              "      <th>1</th>\n",
              "      <td>1920</td>\n",
              "    </tr>\n",
              "    <tr>\n",
              "      <th>2</th>\n",
              "      <td>1925</td>\n",
              "    </tr>\n",
              "    <tr>\n",
              "      <th>3</th>\n",
              "      <td>1927</td>\n",
              "    </tr>\n",
              "    <tr>\n",
              "      <th>4</th>\n",
              "      <td>1929</td>\n",
              "    </tr>\n",
              "  </tbody>\n",
              "</table>\n",
              "</div>"
            ],
            "text/plain": [
              "  release_year\n",
              "0         1916\n",
              "1         1920\n",
              "2         1925\n",
              "3         1927\n",
              "4         1929"
            ]
          },
          "metadata": {},
          "execution_count": 10
        }
      ]
    },
    {
      "cell_type": "markdown",
      "metadata": {
        "id": "LLC-yIUzZtPh"
      },
      "source": [
        "* Select the `name` of each person in the `people` table."
      ]
    },
    {
      "cell_type": "code",
      "metadata": {
        "colab": {
          "base_uri": "https://localhost:8080/",
          "height": 206
        },
        "id": "pTkI0pXVZnlc",
        "outputId": "ab04bcec-8c2b-4f96-a426-3dc47e3f0c3a"
      },
      "source": [
        "pd.read_sql_query(\"SELECT name FROM 'public.people';\", engine).head()"
      ],
      "execution_count": 9,
      "outputs": [
        {
          "output_type": "execute_result",
          "data": {
            "text/html": [
              "<div>\n",
              "<style scoped>\n",
              "    .dataframe tbody tr th:only-of-type {\n",
              "        vertical-align: middle;\n",
              "    }\n",
              "\n",
              "    .dataframe tbody tr th {\n",
              "        vertical-align: top;\n",
              "    }\n",
              "\n",
              "    .dataframe thead th {\n",
              "        text-align: right;\n",
              "    }\n",
              "</style>\n",
              "<table border=\"1\" class=\"dataframe\">\n",
              "  <thead>\n",
              "    <tr style=\"text-align: right;\">\n",
              "      <th></th>\n",
              "      <th>name</th>\n",
              "    </tr>\n",
              "  </thead>\n",
              "  <tbody>\n",
              "    <tr>\n",
              "      <th>0</th>\n",
              "      <td>50 Cent</td>\n",
              "    </tr>\n",
              "    <tr>\n",
              "      <th>1</th>\n",
              "      <td>A. Michael Baldwin</td>\n",
              "    </tr>\n",
              "    <tr>\n",
              "      <th>2</th>\n",
              "      <td>A. Raven Cruz</td>\n",
              "    </tr>\n",
              "    <tr>\n",
              "      <th>3</th>\n",
              "      <td>A.J. Buckley</td>\n",
              "    </tr>\n",
              "    <tr>\n",
              "      <th>4</th>\n",
              "      <td>A.J. DeLucia</td>\n",
              "    </tr>\n",
              "  </tbody>\n",
              "</table>\n",
              "</div>"
            ],
            "text/plain": [
              "                 name\n",
              "0             50 Cent\n",
              "1  A. Michael Baldwin\n",
              "2       A. Raven Cruz\n",
              "3        A.J. Buckley\n",
              "4        A.J. DeLucia"
            ]
          },
          "metadata": {},
          "execution_count": 9
        }
      ]
    },
    {
      "cell_type": "markdown",
      "metadata": {
        "id": "i7wpT7OmayAn"
      },
      "source": [
        "# **SELECTing multiple columns**\n",
        "\n",
        "To select multiple columns from a table, simply separate the column names with <ins>commas</ins>!\n",
        "\n",
        "For example, this query selects two columns, `name` and `birthdate`, from the `people` table:\n",
        "\n",
        "\n",
        "\n",
        "```\n",
        "SELECT name, birthdate\n",
        "FROM people;\n",
        "```\n",
        "\n",
        "\n",
        "\n",
        "Sometimes, you may want to select all columns from a table. Typing out every column name would be a pain, so there's a handy shortcut:\n",
        "\n",
        "```\n",
        "SELECT *\n",
        "FROM people;\n",
        "```\n",
        "\n",
        "If you only want to return a certain number of results, you can use the `LIMIT` keyword to limit the number of rows returned:\n",
        "\n",
        "\n",
        "\n",
        "```\n",
        "SELECT *\n",
        "FROM people\n",
        "LIMIT 10;\n",
        "```\n",
        "\n",
        "\n",
        "Before getting started with the instructions below, check out the column names in the `films` table!\n",
        "\n",
        "* Get the `title`, `release_year` and `country` of every film from the `films` table.\n",
        "\n"
      ]
    },
    {
      "cell_type": "code",
      "metadata": {
        "colab": {
          "base_uri": "https://localhost:8080/",
          "height": 206
        },
        "id": "Jeh4vZg1Z7aZ",
        "outputId": "d5b84059-3cbd-48a4-8447-9a5a388e1dd3"
      },
      "source": [
        "pd.read_sql_query(\"SELECT title, release_year, country FROM 'public.films';\", engine).head()"
      ],
      "execution_count": 22,
      "outputs": [
        {
          "output_type": "execute_result",
          "data": {
            "text/html": [
              "<div>\n",
              "<style scoped>\n",
              "    .dataframe tbody tr th:only-of-type {\n",
              "        vertical-align: middle;\n",
              "    }\n",
              "\n",
              "    .dataframe tbody tr th {\n",
              "        vertical-align: top;\n",
              "    }\n",
              "\n",
              "    .dataframe thead th {\n",
              "        text-align: right;\n",
              "    }\n",
              "</style>\n",
              "<table border=\"1\" class=\"dataframe\">\n",
              "  <thead>\n",
              "    <tr style=\"text-align: right;\">\n",
              "      <th></th>\n",
              "      <th>title</th>\n",
              "      <th>release_year</th>\n",
              "      <th>country</th>\n",
              "    </tr>\n",
              "  </thead>\n",
              "  <tbody>\n",
              "    <tr>\n",
              "      <th>0</th>\n",
              "      <td>Intolerance: Love's Struggle Throughout the Ages</td>\n",
              "      <td>1916</td>\n",
              "      <td>USA</td>\n",
              "    </tr>\n",
              "    <tr>\n",
              "      <th>1</th>\n",
              "      <td>Over the Hill to the Poorhouse</td>\n",
              "      <td>1920</td>\n",
              "      <td>USA</td>\n",
              "    </tr>\n",
              "    <tr>\n",
              "      <th>2</th>\n",
              "      <td>The Big Parade</td>\n",
              "      <td>1925</td>\n",
              "      <td>USA</td>\n",
              "    </tr>\n",
              "    <tr>\n",
              "      <th>3</th>\n",
              "      <td>Metropolis</td>\n",
              "      <td>1927</td>\n",
              "      <td>Germany</td>\n",
              "    </tr>\n",
              "    <tr>\n",
              "      <th>4</th>\n",
              "      <td>Pandora's Box</td>\n",
              "      <td>1929</td>\n",
              "      <td>Germany</td>\n",
              "    </tr>\n",
              "  </tbody>\n",
              "</table>\n",
              "</div>"
            ],
            "text/plain": [
              "                                              title release_year  country\n",
              "0  Intolerance: Love's Struggle Throughout the Ages         1916      USA\n",
              "1                    Over the Hill to the Poorhouse         1920      USA\n",
              "2                                    The Big Parade         1925      USA\n",
              "3                                        Metropolis         1927  Germany\n",
              "4                                     Pandora's Box         1929  Germany"
            ]
          },
          "metadata": {},
          "execution_count": 22
        }
      ]
    },
    {
      "cell_type": "markdown",
      "metadata": {
        "id": "rI0_qAr8cMm9"
      },
      "source": [
        "* Get all columns from the `films` table."
      ]
    },
    {
      "cell_type": "code",
      "metadata": {
        "colab": {
          "base_uri": "https://localhost:8080/",
          "height": 143
        },
        "id": "mz05p399b3Px",
        "outputId": "15658214-fa21-4ff3-eb71-d92370aa1157"
      },
      "source": [
        "pd.read_sql_query(\"SELECT * FROM 'public.films' LIMIT 3;\", engine)"
      ],
      "execution_count": 15,
      "outputs": [
        {
          "output_type": "execute_result",
          "data": {
            "text/html": [
              "<div>\n",
              "<style scoped>\n",
              "    .dataframe tbody tr th:only-of-type {\n",
              "        vertical-align: middle;\n",
              "    }\n",
              "\n",
              "    .dataframe tbody tr th {\n",
              "        vertical-align: top;\n",
              "    }\n",
              "\n",
              "    .dataframe thead th {\n",
              "        text-align: right;\n",
              "    }\n",
              "</style>\n",
              "<table border=\"1\" class=\"dataframe\">\n",
              "  <thead>\n",
              "    <tr style=\"text-align: right;\">\n",
              "      <th></th>\n",
              "      <th>id</th>\n",
              "      <th>title</th>\n",
              "      <th>release_year</th>\n",
              "      <th>country</th>\n",
              "      <th>duration</th>\n",
              "      <th>language</th>\n",
              "      <th>certification</th>\n",
              "      <th>gross</th>\n",
              "      <th>budget</th>\n",
              "    </tr>\n",
              "  </thead>\n",
              "  <tbody>\n",
              "    <tr>\n",
              "      <th>0</th>\n",
              "      <td>1</td>\n",
              "      <td>Intolerance: Love's Struggle Throughout the Ages</td>\n",
              "      <td>1916</td>\n",
              "      <td>USA</td>\n",
              "      <td>123</td>\n",
              "      <td></td>\n",
              "      <td>Not Rated</td>\n",
              "      <td></td>\n",
              "      <td>385907</td>\n",
              "    </tr>\n",
              "    <tr>\n",
              "      <th>1</th>\n",
              "      <td>2</td>\n",
              "      <td>Over the Hill to the Poorhouse</td>\n",
              "      <td>1920</td>\n",
              "      <td>USA</td>\n",
              "      <td>110</td>\n",
              "      <td></td>\n",
              "      <td></td>\n",
              "      <td>3000000</td>\n",
              "      <td>100000</td>\n",
              "    </tr>\n",
              "    <tr>\n",
              "      <th>2</th>\n",
              "      <td>3</td>\n",
              "      <td>The Big Parade</td>\n",
              "      <td>1925</td>\n",
              "      <td>USA</td>\n",
              "      <td>151</td>\n",
              "      <td></td>\n",
              "      <td>Not Rated</td>\n",
              "      <td></td>\n",
              "      <td>245000</td>\n",
              "    </tr>\n",
              "  </tbody>\n",
              "</table>\n",
              "</div>"
            ],
            "text/plain": [
              "  id                                             title  ...    gross  budget\n",
              "0  1  Intolerance: Love's Struggle Throughout the Ages  ...           385907\n",
              "1  2                    Over the Hill to the Poorhouse  ...  3000000  100000\n",
              "2  3                                    The Big Parade  ...           245000\n",
              "\n",
              "[3 rows x 9 columns]"
            ]
          },
          "metadata": {},
          "execution_count": 15
        }
      ]
    },
    {
      "cell_type": "markdown",
      "metadata": {
        "id": "5J6uxklCcacs"
      },
      "source": [
        "# **SELECT DISTINCT**\n",
        "\n",
        "Often your results will include many duplicate values. If you want to select all the unique values from a column, you can use the `DISTINCT` keyword.\n",
        "\n",
        "This might be useful if, for example, you're interested in knowing which languages are represented in the `films` table:\n",
        "\n",
        "```\n",
        "SELECT DISTINCT language\n",
        "FROM films;\n",
        "```\n",
        "\n",
        "\n",
        "* Get all the unique countries represented in the films table."
      ]
    },
    {
      "cell_type": "code",
      "metadata": {
        "colab": {
          "base_uri": "https://localhost:8080/",
          "height": 206
        },
        "id": "z1aIfHNfcTan",
        "outputId": "da5e026a-430b-476c-d768-1b36096d3d35"
      },
      "source": [
        "pd.read_sql_query('''SELECT DISTINCT country \n",
        "                     FROM \"public.films\"\n",
        "                     LIMIT 5;''', engine)"
      ],
      "execution_count": 21,
      "outputs": [
        {
          "output_type": "execute_result",
          "data": {
            "text/html": [
              "<div>\n",
              "<style scoped>\n",
              "    .dataframe tbody tr th:only-of-type {\n",
              "        vertical-align: middle;\n",
              "    }\n",
              "\n",
              "    .dataframe tbody tr th {\n",
              "        vertical-align: top;\n",
              "    }\n",
              "\n",
              "    .dataframe thead th {\n",
              "        text-align: right;\n",
              "    }\n",
              "</style>\n",
              "<table border=\"1\" class=\"dataframe\">\n",
              "  <thead>\n",
              "    <tr style=\"text-align: right;\">\n",
              "      <th></th>\n",
              "      <th>country</th>\n",
              "    </tr>\n",
              "  </thead>\n",
              "  <tbody>\n",
              "    <tr>\n",
              "      <th>0</th>\n",
              "      <td>USA</td>\n",
              "    </tr>\n",
              "    <tr>\n",
              "      <th>1</th>\n",
              "      <td>Germany</td>\n",
              "    </tr>\n",
              "    <tr>\n",
              "      <th>2</th>\n",
              "      <td>Japan</td>\n",
              "    </tr>\n",
              "    <tr>\n",
              "      <th>3</th>\n",
              "      <td>Denmark</td>\n",
              "    </tr>\n",
              "    <tr>\n",
              "      <th>4</th>\n",
              "      <td>UK</td>\n",
              "    </tr>\n",
              "  </tbody>\n",
              "</table>\n",
              "</div>"
            ],
            "text/plain": [
              "   country\n",
              "0      USA\n",
              "1  Germany\n",
              "2    Japan\n",
              "3  Denmark\n",
              "4       UK"
            ]
          },
          "metadata": {},
          "execution_count": 21
        }
      ]
    },
    {
      "cell_type": "markdown",
      "metadata": {
        "id": "4iT7owFhdcoq"
      },
      "source": [
        "* Get all the different film `certification`s from the `films` table."
      ]
    },
    {
      "cell_type": "code",
      "metadata": {
        "colab": {
          "base_uri": "https://localhost:8080/",
          "height": 457
        },
        "id": "W2UcHzhidNhB",
        "outputId": "f6441154-80f7-4f64-f55b-daf0a8569642"
      },
      "source": [
        "pd.read_sql_query('''SELECT DISTINCT certification \n",
        "                     FROM \"public.films\";''', engine)"
      ],
      "execution_count": 19,
      "outputs": [
        {
          "output_type": "execute_result",
          "data": {
            "text/html": [
              "<div>\n",
              "<style scoped>\n",
              "    .dataframe tbody tr th:only-of-type {\n",
              "        vertical-align: middle;\n",
              "    }\n",
              "\n",
              "    .dataframe tbody tr th {\n",
              "        vertical-align: top;\n",
              "    }\n",
              "\n",
              "    .dataframe thead th {\n",
              "        text-align: right;\n",
              "    }\n",
              "</style>\n",
              "<table border=\"1\" class=\"dataframe\">\n",
              "  <thead>\n",
              "    <tr style=\"text-align: right;\">\n",
              "      <th></th>\n",
              "      <th>certification</th>\n",
              "    </tr>\n",
              "  </thead>\n",
              "  <tbody>\n",
              "    <tr>\n",
              "      <th>0</th>\n",
              "      <td>Not Rated</td>\n",
              "    </tr>\n",
              "    <tr>\n",
              "      <th>1</th>\n",
              "      <td></td>\n",
              "    </tr>\n",
              "    <tr>\n",
              "      <th>2</th>\n",
              "      <td>Passed</td>\n",
              "    </tr>\n",
              "    <tr>\n",
              "      <th>3</th>\n",
              "      <td>Unrated</td>\n",
              "    </tr>\n",
              "    <tr>\n",
              "      <th>4</th>\n",
              "      <td>Approved</td>\n",
              "    </tr>\n",
              "    <tr>\n",
              "      <th>5</th>\n",
              "      <td>G</td>\n",
              "    </tr>\n",
              "    <tr>\n",
              "      <th>6</th>\n",
              "      <td>PG</td>\n",
              "    </tr>\n",
              "    <tr>\n",
              "      <th>7</th>\n",
              "      <td>R</td>\n",
              "    </tr>\n",
              "    <tr>\n",
              "      <th>8</th>\n",
              "      <td>PG-13</td>\n",
              "    </tr>\n",
              "    <tr>\n",
              "      <th>9</th>\n",
              "      <td>M</td>\n",
              "    </tr>\n",
              "    <tr>\n",
              "      <th>10</th>\n",
              "      <td>GP</td>\n",
              "    </tr>\n",
              "    <tr>\n",
              "      <th>11</th>\n",
              "      <td>X</td>\n",
              "    </tr>\n",
              "    <tr>\n",
              "      <th>12</th>\n",
              "      <td>NC-17</td>\n",
              "    </tr>\n",
              "  </tbody>\n",
              "</table>\n",
              "</div>"
            ],
            "text/plain": [
              "   certification\n",
              "0      Not Rated\n",
              "1               \n",
              "2         Passed\n",
              "3        Unrated\n",
              "4       Approved\n",
              "5              G\n",
              "6             PG\n",
              "7              R\n",
              "8          PG-13\n",
              "9              M\n",
              "10            GP\n",
              "11             X\n",
              "12         NC-17"
            ]
          },
          "metadata": {},
          "execution_count": 19
        }
      ]
    },
    {
      "cell_type": "markdown",
      "metadata": {
        "id": "6LA2KBrQdxua"
      },
      "source": [
        "* Get the different types of film `role`s from the `roles` table."
      ]
    },
    {
      "cell_type": "code",
      "metadata": {
        "colab": {
          "base_uri": "https://localhost:8080/",
          "height": 112
        },
        "id": "rhlrnKzNdrDK",
        "outputId": "54e23d7d-6423-4528-a54b-f633c7b6d923"
      },
      "source": [
        "pd.read_sql_query('''SELECT DISTINCT role \n",
        "                     FROM \"public.roles\";''', engine)"
      ],
      "execution_count": 20,
      "outputs": [
        {
          "output_type": "execute_result",
          "data": {
            "text/html": [
              "<div>\n",
              "<style scoped>\n",
              "    .dataframe tbody tr th:only-of-type {\n",
              "        vertical-align: middle;\n",
              "    }\n",
              "\n",
              "    .dataframe tbody tr th {\n",
              "        vertical-align: top;\n",
              "    }\n",
              "\n",
              "    .dataframe thead th {\n",
              "        text-align: right;\n",
              "    }\n",
              "</style>\n",
              "<table border=\"1\" class=\"dataframe\">\n",
              "  <thead>\n",
              "    <tr style=\"text-align: right;\">\n",
              "      <th></th>\n",
              "      <th>role</th>\n",
              "    </tr>\n",
              "  </thead>\n",
              "  <tbody>\n",
              "    <tr>\n",
              "      <th>0</th>\n",
              "      <td>director</td>\n",
              "    </tr>\n",
              "    <tr>\n",
              "      <th>1</th>\n",
              "      <td>actor</td>\n",
              "    </tr>\n",
              "  </tbody>\n",
              "</table>\n",
              "</div>"
            ],
            "text/plain": [
              "       role\n",
              "0  director\n",
              "1     actor"
            ]
          },
          "metadata": {},
          "execution_count": 20
        }
      ]
    },
    {
      "cell_type": "markdown",
      "metadata": {
        "id": "BFHYZ2p8eHqz"
      },
      "source": [
        "# **Learning to COUNT**\n",
        "\n",
        "What if you want to count the number of employees in your employees table? The `COUNT()` function lets you do this by returning the number of rows in one or more columns.\n",
        "\n",
        "For example, this code gives the number of rows in the `people` table:\n",
        "\n",
        "\n",
        "\n",
        "```\n",
        "SELECT COUNT(*)\n",
        "FROM people;\n",
        "```\n",
        "\n",
        "\n",
        "How many records are contained in the reviews table?"
      ]
    },
    {
      "cell_type": "code",
      "metadata": {
        "colab": {
          "base_uri": "https://localhost:8080/",
          "height": 81
        },
        "id": "9h8R0cx1d_lx",
        "outputId": "7c9cf54d-0067-43f4-f71c-9c3614ff4b15"
      },
      "source": [
        "pd.read_sql_query('''SELECT COUNT(*) \n",
        "                     FROM \"public.reviews\";''', engine)"
      ],
      "execution_count": 24,
      "outputs": [
        {
          "output_type": "execute_result",
          "data": {
            "text/html": [
              "<div>\n",
              "<style scoped>\n",
              "    .dataframe tbody tr th:only-of-type {\n",
              "        vertical-align: middle;\n",
              "    }\n",
              "\n",
              "    .dataframe tbody tr th {\n",
              "        vertical-align: top;\n",
              "    }\n",
              "\n",
              "    .dataframe thead th {\n",
              "        text-align: right;\n",
              "    }\n",
              "</style>\n",
              "<table border=\"1\" class=\"dataframe\">\n",
              "  <thead>\n",
              "    <tr style=\"text-align: right;\">\n",
              "      <th></th>\n",
              "      <th>COUNT(*)</th>\n",
              "    </tr>\n",
              "  </thead>\n",
              "  <tbody>\n",
              "    <tr>\n",
              "      <th>0</th>\n",
              "      <td>4968</td>\n",
              "    </tr>\n",
              "  </tbody>\n",
              "</table>\n",
              "</div>"
            ],
            "text/plain": [
              "   COUNT(*)\n",
              "0      4968"
            ]
          },
          "metadata": {},
          "execution_count": 24
        }
      ]
    },
    {
      "cell_type": "markdown",
      "metadata": {
        "id": "XGjF0Lhhexiv"
      },
      "source": [
        "# **Practice with COUNT**\n",
        "\n",
        "As you've seen, `COUNT(*)` tells you how many rows are in a table. However, if you want to count the number of *non-missing* values in a particular column, you can call `COUNT()` on just that column.\n",
        "\n",
        "For example, to count the number of birth dates present in the `people` table:\n",
        "\n",
        "```\n",
        "SELECT COUNT(birthdate)\n",
        "FROM people;\n",
        "```\n",
        "\n",
        "It's also common to combine `COUNT()` with `DISTINCT` to count the number of distinct values in a column.\n",
        "\n",
        "For example, this query counts the number of distinct birth dates contained in the `people` table:\n",
        "\n",
        "\n",
        "\n",
        "```\n",
        "SELECT COUNT(DISTINCT birthdate)\n",
        "FROM people;\n",
        "```\n",
        "* Count the number of rows in the `people` table."
      ]
    },
    {
      "cell_type": "code",
      "metadata": {
        "colab": {
          "base_uri": "https://localhost:8080/",
          "height": 81
        },
        "id": "U-b_jg9Qesio",
        "outputId": "e61ba98d-224d-401f-8cf8-6deabdc69648"
      },
      "source": [
        "pd.read_sql_query('''SELECT COUNT(*) \n",
        "                     FROM \"public.people\";''', engine)"
      ],
      "execution_count": 26,
      "outputs": [
        {
          "output_type": "execute_result",
          "data": {
            "text/html": [
              "<div>\n",
              "<style scoped>\n",
              "    .dataframe tbody tr th:only-of-type {\n",
              "        vertical-align: middle;\n",
              "    }\n",
              "\n",
              "    .dataframe tbody tr th {\n",
              "        vertical-align: top;\n",
              "    }\n",
              "\n",
              "    .dataframe thead th {\n",
              "        text-align: right;\n",
              "    }\n",
              "</style>\n",
              "<table border=\"1\" class=\"dataframe\">\n",
              "  <thead>\n",
              "    <tr style=\"text-align: right;\">\n",
              "      <th></th>\n",
              "      <th>COUNT(*)</th>\n",
              "    </tr>\n",
              "  </thead>\n",
              "  <tbody>\n",
              "    <tr>\n",
              "      <th>0</th>\n",
              "      <td>8397</td>\n",
              "    </tr>\n",
              "  </tbody>\n",
              "</table>\n",
              "</div>"
            ],
            "text/plain": [
              "   COUNT(*)\n",
              "0      8397"
            ]
          },
          "metadata": {},
          "execution_count": 26
        }
      ]
    },
    {
      "cell_type": "markdown",
      "metadata": {
        "id": "cIz-S2qifyKN"
      },
      "source": [
        "* Count the number of (non-missing) `birthdate` in the `people` table."
      ]
    },
    {
      "cell_type": "code",
      "metadata": {
        "colab": {
          "base_uri": "https://localhost:8080/",
          "height": 81
        },
        "id": "iIavZGvWfr5-",
        "outputId": "0f3578d7-eaa1-4292-c655-c435ba15a071"
      },
      "source": [
        "pd.read_sql_query('''SELECT COUNT(birthdate) \n",
        "                     FROM \"public.people\";''', engine)"
      ],
      "execution_count": 27,
      "outputs": [
        {
          "output_type": "execute_result",
          "data": {
            "text/html": [
              "<div>\n",
              "<style scoped>\n",
              "    .dataframe tbody tr th:only-of-type {\n",
              "        vertical-align: middle;\n",
              "    }\n",
              "\n",
              "    .dataframe tbody tr th {\n",
              "        vertical-align: top;\n",
              "    }\n",
              "\n",
              "    .dataframe thead th {\n",
              "        text-align: right;\n",
              "    }\n",
              "</style>\n",
              "<table border=\"1\" class=\"dataframe\">\n",
              "  <thead>\n",
              "    <tr style=\"text-align: right;\">\n",
              "      <th></th>\n",
              "      <th>COUNT(birthdate)</th>\n",
              "    </tr>\n",
              "  </thead>\n",
              "  <tbody>\n",
              "    <tr>\n",
              "      <th>0</th>\n",
              "      <td>8397</td>\n",
              "    </tr>\n",
              "  </tbody>\n",
              "</table>\n",
              "</div>"
            ],
            "text/plain": [
              "   COUNT(birthdate)\n",
              "0              8397"
            ]
          },
          "metadata": {},
          "execution_count": 27
        }
      ]
    },
    {
      "cell_type": "markdown",
      "metadata": {
        "id": "Rvm0rB8VgINt"
      },
      "source": [
        "* Count the number of unique `birthdate` in the `people` table."
      ]
    },
    {
      "cell_type": "code",
      "metadata": {
        "colab": {
          "base_uri": "https://localhost:8080/",
          "height": 81
        },
        "id": "xv_qSfqugERI",
        "outputId": "444e00b4-b677-493b-ddd0-4d59af9ba426"
      },
      "source": [
        "pd.read_sql_query('''SELECT COUNT(DISTINCT birthdate) \n",
        "                     FROM \"public.people\";''', engine)"
      ],
      "execution_count": 30,
      "outputs": [
        {
          "output_type": "execute_result",
          "data": {
            "text/html": [
              "<div>\n",
              "<style scoped>\n",
              "    .dataframe tbody tr th:only-of-type {\n",
              "        vertical-align: middle;\n",
              "    }\n",
              "\n",
              "    .dataframe tbody tr th {\n",
              "        vertical-align: top;\n",
              "    }\n",
              "\n",
              "    .dataframe thead th {\n",
              "        text-align: right;\n",
              "    }\n",
              "</style>\n",
              "<table border=\"1\" class=\"dataframe\">\n",
              "  <thead>\n",
              "    <tr style=\"text-align: right;\">\n",
              "      <th></th>\n",
              "      <th>COUNT(DISTINCT birthdate)</th>\n",
              "    </tr>\n",
              "  </thead>\n",
              "  <tbody>\n",
              "    <tr>\n",
              "      <th>0</th>\n",
              "      <td>5399</td>\n",
              "    </tr>\n",
              "  </tbody>\n",
              "</table>\n",
              "</div>"
            ],
            "text/plain": [
              "   COUNT(DISTINCT birthdate)\n",
              "0                       5399"
            ]
          },
          "metadata": {},
          "execution_count": 30
        }
      ]
    },
    {
      "cell_type": "markdown",
      "metadata": {
        "id": "uxmBObTngfnA"
      },
      "source": [
        "* Count the number of unique `language`s in the `films` table."
      ]
    },
    {
      "cell_type": "code",
      "metadata": {
        "colab": {
          "base_uri": "https://localhost:8080/",
          "height": 81
        },
        "id": "NCW5qFVcgTzj",
        "outputId": "bfb5c318-9cad-4fa7-d400-cec37ec70aff"
      },
      "source": [
        "pd.read_sql_query('''SELECT COUNT(DISTINCT language) AS count\n",
        "                     FROM \"public.films\";''', engine)"
      ],
      "execution_count": 32,
      "outputs": [
        {
          "output_type": "execute_result",
          "data": {
            "text/html": [
              "<div>\n",
              "<style scoped>\n",
              "    .dataframe tbody tr th:only-of-type {\n",
              "        vertical-align: middle;\n",
              "    }\n",
              "\n",
              "    .dataframe tbody tr th {\n",
              "        vertical-align: top;\n",
              "    }\n",
              "\n",
              "    .dataframe thead th {\n",
              "        text-align: right;\n",
              "    }\n",
              "</style>\n",
              "<table border=\"1\" class=\"dataframe\">\n",
              "  <thead>\n",
              "    <tr style=\"text-align: right;\">\n",
              "      <th></th>\n",
              "      <th>count</th>\n",
              "    </tr>\n",
              "  </thead>\n",
              "  <tbody>\n",
              "    <tr>\n",
              "      <th>0</th>\n",
              "      <td>48</td>\n",
              "    </tr>\n",
              "  </tbody>\n",
              "</table>\n",
              "</div>"
            ],
            "text/plain": [
              "   count\n",
              "0     48"
            ]
          },
          "metadata": {},
          "execution_count": 32
        }
      ]
    },
    {
      "cell_type": "markdown",
      "metadata": {
        "id": "cuoir4r4g3X-"
      },
      "source": [
        "* Count the number of unique countries in the `films` table."
      ]
    },
    {
      "cell_type": "code",
      "metadata": {
        "colab": {
          "base_uri": "https://localhost:8080/",
          "height": 81
        },
        "id": "sO9za3-rgo0_",
        "outputId": "a2c5dbbe-0c0a-4fad-e47c-c3459e6f9fbf"
      },
      "source": [
        "pd.read_sql_query('''SELECT COUNT(DISTINCT country) AS count\n",
        "                     FROM \"public.films\";''', engine)"
      ],
      "execution_count": 33,
      "outputs": [
        {
          "output_type": "execute_result",
          "data": {
            "text/html": [
              "<div>\n",
              "<style scoped>\n",
              "    .dataframe tbody tr th:only-of-type {\n",
              "        vertical-align: middle;\n",
              "    }\n",
              "\n",
              "    .dataframe tbody tr th {\n",
              "        vertical-align: top;\n",
              "    }\n",
              "\n",
              "    .dataframe thead th {\n",
              "        text-align: right;\n",
              "    }\n",
              "</style>\n",
              "<table border=\"1\" class=\"dataframe\">\n",
              "  <thead>\n",
              "    <tr style=\"text-align: right;\">\n",
              "      <th></th>\n",
              "      <th>count</th>\n",
              "    </tr>\n",
              "  </thead>\n",
              "  <tbody>\n",
              "    <tr>\n",
              "      <th>0</th>\n",
              "      <td>65</td>\n",
              "    </tr>\n",
              "  </tbody>\n",
              "</table>\n",
              "</div>"
            ],
            "text/plain": [
              "   count\n",
              "0     65"
            ]
          },
          "metadata": {},
          "execution_count": 33
        }
      ]
    },
    {
      "cell_type": "markdown",
      "metadata": {
        "id": "1mjypOV3P6NZ"
      },
      "source": [
        "# **Filtering results**\n",
        "\n",
        "In SQL, the `WHERE` keyword allows you to filter based on both text and numeric values in a table. There are a few different comparison operators you can use:\n",
        "\n",
        "* `=` equal\n",
        "* `<>` not equal\n",
        "* `<` less than\n",
        "* `>` greater than\n",
        "* `<=` less than or equal to\n",
        "* `>=` greater than or equal to\n",
        "\n",
        "For example, you can filter text records such as `title`. The following code returns all films with the title `'Metropolis'`:\n",
        "\n",
        "```\n",
        "SELECT title\n",
        "FROM films\n",
        "WHERE title = 'Metropolis';\n",
        "```\n",
        "\n",
        "Notice that the <ins>`WHERE` clause always comes after the `FROM`</ins> statement!\n",
        "\n",
        "**We will use `<>` and not `!=` for the not equal operator, as per the SQL standard.**\n",
        "\n",
        "The following query return films released after the year 2000.\n",
        "\n",
        "```\n",
        "SELECT title\n",
        "FROM films\n",
        "WHERE release_year > 2000;\n",
        "```\n",
        "\n"
      ]
    },
    {
      "cell_type": "code",
      "metadata": {
        "colab": {
          "base_uri": "https://localhost:8080/",
          "height": 206
        },
        "id": "aeo5aPHshDJ-",
        "outputId": "bd558bfe-91d8-464f-a9be-16928f36caa0"
      },
      "source": [
        "pd.read_sql_query('''SELECT title, release_year\n",
        "                     FROM \"public.films\"\n",
        "                     WHERE release_year > '2000'\n",
        "                     LIMIT 5;''', engine)\n",
        "\n",
        "# ถ้าทำในไพธอน ตัวเลข ต้องมีเครื่องเหมายคำพูดด้วย"
      ],
      "execution_count": 18,
      "outputs": [
        {
          "output_type": "execute_result",
          "data": {
            "text/html": [
              "<div>\n",
              "<style scoped>\n",
              "    .dataframe tbody tr th:only-of-type {\n",
              "        vertical-align: middle;\n",
              "    }\n",
              "\n",
              "    .dataframe tbody tr th {\n",
              "        vertical-align: top;\n",
              "    }\n",
              "\n",
              "    .dataframe thead th {\n",
              "        text-align: right;\n",
              "    }\n",
              "</style>\n",
              "<table border=\"1\" class=\"dataframe\">\n",
              "  <thead>\n",
              "    <tr style=\"text-align: right;\">\n",
              "      <th></th>\n",
              "      <th>title</th>\n",
              "      <th>release_year</th>\n",
              "    </tr>\n",
              "  </thead>\n",
              "  <tbody>\n",
              "    <tr>\n",
              "      <th>0</th>\n",
              "      <td>15 Minutes</td>\n",
              "      <td>2001</td>\n",
              "    </tr>\n",
              "    <tr>\n",
              "      <th>1</th>\n",
              "      <td>3000 Miles to Graceland</td>\n",
              "      <td>2001</td>\n",
              "    </tr>\n",
              "    <tr>\n",
              "      <th>2</th>\n",
              "      <td>A Beautiful Mind</td>\n",
              "      <td>2001</td>\n",
              "    </tr>\n",
              "    <tr>\n",
              "      <th>3</th>\n",
              "      <td>A Knight's Tale</td>\n",
              "      <td>2001</td>\n",
              "    </tr>\n",
              "    <tr>\n",
              "      <th>4</th>\n",
              "      <td>A.I. Artificial Intelligence</td>\n",
              "      <td>2001</td>\n",
              "    </tr>\n",
              "  </tbody>\n",
              "</table>\n",
              "</div>"
            ],
            "text/plain": [
              "                          title release_year\n",
              "0                    15 Minutes         2001\n",
              "1       3000 Miles to Graceland         2001\n",
              "2              A Beautiful Mind         2001\n",
              "3               A Knight's Tale         2001\n",
              "4  A.I. Artificial Intelligence         2001"
            ]
          },
          "metadata": {},
          "execution_count": 18
        }
      ]
    },
    {
      "cell_type": "markdown",
      "metadata": {
        "id": "dJDhE4F9TFvc"
      },
      "source": [
        "# **Simple filtering of numeric values**\n",
        "\n",
        "As you learned in the previous exercise, the `WHERE` clause can also be used to filter numeric records, such as years or ages.\n",
        "\n",
        "For example, the following query selects all details for films with a budget over ten thousand dollars:\n",
        "\n",
        "\n",
        "\n",
        "```\n",
        "SELECT *\n",
        "FROM films\n",
        "WHERE budget > 10000;\n",
        "```\n",
        "\n",
        "\n",
        "Now it's your turn to use the `WHERE` clause to filter numeric values!\n",
        "\n",
        "* Get all details for all films released in 2016."
      ]
    },
    {
      "cell_type": "code",
      "metadata": {
        "colab": {
          "base_uri": "https://localhost:8080/",
          "height": 206
        },
        "id": "3ZKJiW_BRjPO",
        "outputId": "de4c2e69-940b-4d3e-c162-7382d4cfab16"
      },
      "source": [
        "pd.read_sql_query('''SELECT * \n",
        "                     FROM \"public.films\"\n",
        "                     WHERE release_year = '2016'\n",
        "                     LIMIT 5;''', engine)"
      ],
      "execution_count": 20,
      "outputs": [
        {
          "output_type": "execute_result",
          "data": {
            "text/html": [
              "<div>\n",
              "<style scoped>\n",
              "    .dataframe tbody tr th:only-of-type {\n",
              "        vertical-align: middle;\n",
              "    }\n",
              "\n",
              "    .dataframe tbody tr th {\n",
              "        vertical-align: top;\n",
              "    }\n",
              "\n",
              "    .dataframe thead th {\n",
              "        text-align: right;\n",
              "    }\n",
              "</style>\n",
              "<table border=\"1\" class=\"dataframe\">\n",
              "  <thead>\n",
              "    <tr style=\"text-align: right;\">\n",
              "      <th></th>\n",
              "      <th>id</th>\n",
              "      <th>title</th>\n",
              "      <th>release_year</th>\n",
              "      <th>country</th>\n",
              "      <th>duration</th>\n",
              "      <th>language</th>\n",
              "      <th>certification</th>\n",
              "      <th>gross</th>\n",
              "      <th>budget</th>\n",
              "    </tr>\n",
              "  </thead>\n",
              "  <tbody>\n",
              "    <tr>\n",
              "      <th>0</th>\n",
              "      <td>4821</td>\n",
              "      <td>10 Cloverfield Lane</td>\n",
              "      <td>2016</td>\n",
              "      <td>USA</td>\n",
              "      <td>104</td>\n",
              "      <td>English</td>\n",
              "      <td>PG-13</td>\n",
              "      <td>71897215</td>\n",
              "      <td>15000000</td>\n",
              "    </tr>\n",
              "    <tr>\n",
              "      <th>1</th>\n",
              "      <td>4822</td>\n",
              "      <td>13 Hours</td>\n",
              "      <td>2016</td>\n",
              "      <td>USA</td>\n",
              "      <td>144</td>\n",
              "      <td>English</td>\n",
              "      <td>R</td>\n",
              "      <td>52822418</td>\n",
              "      <td>50000000</td>\n",
              "    </tr>\n",
              "    <tr>\n",
              "      <th>2</th>\n",
              "      <td>4823</td>\n",
              "      <td>A Beginner's Guide to Snuff</td>\n",
              "      <td>2016</td>\n",
              "      <td>USA</td>\n",
              "      <td>87</td>\n",
              "      <td>English</td>\n",
              "      <td></td>\n",
              "      <td></td>\n",
              "      <td></td>\n",
              "    </tr>\n",
              "    <tr>\n",
              "      <th>3</th>\n",
              "      <td>4824</td>\n",
              "      <td>Airlift</td>\n",
              "      <td>2016</td>\n",
              "      <td>India</td>\n",
              "      <td>130</td>\n",
              "      <td>Hindi</td>\n",
              "      <td></td>\n",
              "      <td></td>\n",
              "      <td>4400000</td>\n",
              "    </tr>\n",
              "    <tr>\n",
              "      <th>4</th>\n",
              "      <td>4825</td>\n",
              "      <td>Alice Through the Looking Glass</td>\n",
              "      <td>2016</td>\n",
              "      <td>USA</td>\n",
              "      <td>113</td>\n",
              "      <td>English</td>\n",
              "      <td>PG</td>\n",
              "      <td>76846624</td>\n",
              "      <td>170000000</td>\n",
              "    </tr>\n",
              "  </tbody>\n",
              "</table>\n",
              "</div>"
            ],
            "text/plain": [
              "     id                            title  ...     gross     budget\n",
              "0  4821              10 Cloverfield Lane  ...  71897215   15000000\n",
              "1  4822                         13 Hours  ...  52822418   50000000\n",
              "2  4823      A Beginner's Guide to Snuff  ...                     \n",
              "3  4824                          Airlift  ...              4400000\n",
              "4  4825  Alice Through the Looking Glass  ...  76846624  170000000\n",
              "\n",
              "[5 rows x 9 columns]"
            ]
          },
          "metadata": {},
          "execution_count": 20
        }
      ]
    },
    {
      "cell_type": "markdown",
      "metadata": {
        "id": "ZX3bGpqxUcF4"
      },
      "source": [
        "* Get the number of films released before 2000"
      ]
    },
    {
      "cell_type": "code",
      "metadata": {
        "colab": {
          "base_uri": "https://localhost:8080/",
          "height": 81
        },
        "id": "eGGWzqIGSPhF",
        "outputId": "97fece52-859b-4863-f440-13912fba97d5"
      },
      "source": [
        "pd.read_sql_query('''SELECT COUNT(*) AS count\n",
        "                     FROM \"public.films\"\n",
        "                     WHERE release_year < '2000';''', engine)"
      ],
      "execution_count": 40,
      "outputs": [
        {
          "output_type": "execute_result",
          "data": {
            "text/html": [
              "<div>\n",
              "<style scoped>\n",
              "    .dataframe tbody tr th:only-of-type {\n",
              "        vertical-align: middle;\n",
              "    }\n",
              "\n",
              "    .dataframe tbody tr th {\n",
              "        vertical-align: top;\n",
              "    }\n",
              "\n",
              "    .dataframe thead th {\n",
              "        text-align: right;\n",
              "    }\n",
              "</style>\n",
              "<table border=\"1\" class=\"dataframe\">\n",
              "  <thead>\n",
              "    <tr style=\"text-align: right;\">\n",
              "      <th></th>\n",
              "      <th>count</th>\n",
              "    </tr>\n",
              "  </thead>\n",
              "  <tbody>\n",
              "    <tr>\n",
              "      <th>0</th>\n",
              "      <td>1379</td>\n",
              "    </tr>\n",
              "  </tbody>\n",
              "</table>\n",
              "</div>"
            ],
            "text/plain": [
              "   count\n",
              "0   1379"
            ]
          },
          "metadata": {},
          "execution_count": 40
        }
      ]
    },
    {
      "cell_type": "markdown",
      "metadata": {
        "id": "zZb2QlPgYIvy"
      },
      "source": [
        "ไม่แน่ใจว่า ทำไมตัวเลขต่าง\n",
        "\n",
        "* Get the `title` and `release` year of films released after 2000."
      ]
    },
    {
      "cell_type": "code",
      "metadata": {
        "colab": {
          "base_uri": "https://localhost:8080/",
          "height": 206
        },
        "id": "Niku4BneVH4O",
        "outputId": "5e8aded6-d9a0-429e-caef-9cc52b3d8237"
      },
      "source": [
        "pd.read_sql_query('''SELECT title, release_year\n",
        "                     FROM \"public.films\"\n",
        "                     WHERE release_year > '2000'\n",
        "                    LIMIT 5;''', engine)"
      ],
      "execution_count": 50,
      "outputs": [
        {
          "output_type": "execute_result",
          "data": {
            "text/html": [
              "<div>\n",
              "<style scoped>\n",
              "    .dataframe tbody tr th:only-of-type {\n",
              "        vertical-align: middle;\n",
              "    }\n",
              "\n",
              "    .dataframe tbody tr th {\n",
              "        vertical-align: top;\n",
              "    }\n",
              "\n",
              "    .dataframe thead th {\n",
              "        text-align: right;\n",
              "    }\n",
              "</style>\n",
              "<table border=\"1\" class=\"dataframe\">\n",
              "  <thead>\n",
              "    <tr style=\"text-align: right;\">\n",
              "      <th></th>\n",
              "      <th>title</th>\n",
              "      <th>release_year</th>\n",
              "    </tr>\n",
              "  </thead>\n",
              "  <tbody>\n",
              "    <tr>\n",
              "      <th>0</th>\n",
              "      <td>15 Minutes</td>\n",
              "      <td>2001</td>\n",
              "    </tr>\n",
              "    <tr>\n",
              "      <th>1</th>\n",
              "      <td>3000 Miles to Graceland</td>\n",
              "      <td>2001</td>\n",
              "    </tr>\n",
              "    <tr>\n",
              "      <th>2</th>\n",
              "      <td>A Beautiful Mind</td>\n",
              "      <td>2001</td>\n",
              "    </tr>\n",
              "    <tr>\n",
              "      <th>3</th>\n",
              "      <td>A Knight's Tale</td>\n",
              "      <td>2001</td>\n",
              "    </tr>\n",
              "    <tr>\n",
              "      <th>4</th>\n",
              "      <td>A.I. Artificial Intelligence</td>\n",
              "      <td>2001</td>\n",
              "    </tr>\n",
              "  </tbody>\n",
              "</table>\n",
              "</div>"
            ],
            "text/plain": [
              "                          title release_year\n",
              "0                    15 Minutes         2001\n",
              "1       3000 Miles to Graceland         2001\n",
              "2              A Beautiful Mind         2001\n",
              "3               A Knight's Tale         2001\n",
              "4  A.I. Artificial Intelligence         2001"
            ]
          },
          "metadata": {},
          "execution_count": 50
        }
      ]
    },
    {
      "cell_type": "markdown",
      "metadata": {
        "id": "0q3vSgw5czBS"
      },
      "source": [
        "# **Simple filtering of text**\n",
        "\n",
        "Remember, the `WHERE` clause can also be used to filter text results, such as names or countries.\n",
        "\n",
        "For example, this query gets the titles of all films which were filmed in China:\n",
        "\n",
        "\n",
        "\n",
        "```\n",
        "SELECT title\n",
        "FROM films\n",
        "WHERE country = 'China';\n",
        "```\n",
        "\n",
        "\n",
        "Now it's your turn to practice using WHERE with text values!\n",
        "\n",
        "**Important: in PostgreSQL (the version of SQL we're using), you must use single quotes with `WHERE`.**\n",
        "\n",
        "* Get all details for all French language films."
      ]
    },
    {
      "cell_type": "code",
      "metadata": {
        "colab": {
          "base_uri": "https://localhost:8080/",
          "height": 206
        },
        "id": "mFNucsR0YXJa",
        "outputId": "531e7fec-2d0f-4c38-97c1-19efcf803506"
      },
      "source": [
        "pd.read_sql_query('''SELECT *\n",
        "                     FROM \"public.films\"\n",
        "                     WHERE language='French'\n",
        "                     LIMIT 5;''', engine)"
      ],
      "execution_count": 51,
      "outputs": [
        {
          "output_type": "execute_result",
          "data": {
            "text/html": [
              "<div>\n",
              "<style scoped>\n",
              "    .dataframe tbody tr th:only-of-type {\n",
              "        vertical-align: middle;\n",
              "    }\n",
              "\n",
              "    .dataframe tbody tr th {\n",
              "        vertical-align: top;\n",
              "    }\n",
              "\n",
              "    .dataframe thead th {\n",
              "        text-align: right;\n",
              "    }\n",
              "</style>\n",
              "<table border=\"1\" class=\"dataframe\">\n",
              "  <thead>\n",
              "    <tr style=\"text-align: right;\">\n",
              "      <th></th>\n",
              "      <th>id</th>\n",
              "      <th>title</th>\n",
              "      <th>release_year</th>\n",
              "      <th>country</th>\n",
              "      <th>duration</th>\n",
              "      <th>language</th>\n",
              "      <th>certification</th>\n",
              "      <th>gross</th>\n",
              "      <th>budget</th>\n",
              "    </tr>\n",
              "  </thead>\n",
              "  <tbody>\n",
              "    <tr>\n",
              "      <th>0</th>\n",
              "      <td>108</td>\n",
              "      <td>Une Femme Mariée</td>\n",
              "      <td>1964</td>\n",
              "      <td>France</td>\n",
              "      <td>94</td>\n",
              "      <td>French</td>\n",
              "      <td></td>\n",
              "      <td></td>\n",
              "      <td>120000</td>\n",
              "    </tr>\n",
              "    <tr>\n",
              "      <th>1</th>\n",
              "      <td>111</td>\n",
              "      <td>Pierrot le Fou</td>\n",
              "      <td>1965</td>\n",
              "      <td>France</td>\n",
              "      <td>110</td>\n",
              "      <td>French</td>\n",
              "      <td>Not Rated</td>\n",
              "      <td></td>\n",
              "      <td>300000</td>\n",
              "    </tr>\n",
              "    <tr>\n",
              "      <th>2</th>\n",
              "      <td>140</td>\n",
              "      <td>Mississippi Mermaid</td>\n",
              "      <td>1969</td>\n",
              "      <td>France</td>\n",
              "      <td>123</td>\n",
              "      <td>French</td>\n",
              "      <td>R</td>\n",
              "      <td>26893</td>\n",
              "      <td>1600000</td>\n",
              "    </tr>\n",
              "    <tr>\n",
              "      <th>3</th>\n",
              "      <td>423</td>\n",
              "      <td>Subway</td>\n",
              "      <td>1985</td>\n",
              "      <td>France</td>\n",
              "      <td>98</td>\n",
              "      <td>French</td>\n",
              "      <td>R</td>\n",
              "      <td></td>\n",
              "      <td>17000000</td>\n",
              "    </tr>\n",
              "    <tr>\n",
              "      <th>4</th>\n",
              "      <td>662</td>\n",
              "      <td>Les visiteurs</td>\n",
              "      <td>1993</td>\n",
              "      <td>France</td>\n",
              "      <td>107</td>\n",
              "      <td>French</td>\n",
              "      <td>R</td>\n",
              "      <td>700000</td>\n",
              "      <td>50000000</td>\n",
              "    </tr>\n",
              "  </tbody>\n",
              "</table>\n",
              "</div>"
            ],
            "text/plain": [
              "    id                title release_year  ... certification   gross    budget\n",
              "0  108     Une Femme Mariée         1964  ...                          120000\n",
              "1  111       Pierrot le Fou         1965  ...     Not Rated            300000\n",
              "2  140  Mississippi Mermaid         1969  ...             R   26893   1600000\n",
              "3  423               Subway         1985  ...             R          17000000\n",
              "4  662        Les visiteurs         1993  ...             R  700000  50000000\n",
              "\n",
              "[5 rows x 9 columns]"
            ]
          },
          "metadata": {},
          "execution_count": 51
        }
      ]
    },
    {
      "cell_type": "markdown",
      "metadata": {
        "id": "dBYdA9JHdXev"
      },
      "source": [
        "* Get the `name` and `birthdate` of the person born on November 11th, 1974. Remember to use ISO date format (`'1974-11-11'`)!"
      ]
    },
    {
      "cell_type": "code",
      "metadata": {
        "colab": {
          "base_uri": "https://localhost:8080/",
          "height": 81
        },
        "id": "8Xjbv8XtdSN6",
        "outputId": "a4d06ace-267f-4c1b-f001-4aebe10aaf44"
      },
      "source": [
        "pd.read_sql_query('''SELECT name, birthdate\n",
        "                     FROM \"public.people\"\n",
        "                     WHERE birthdate = '1974-11-11'\n",
        "                     LIMIT 5;''', engine)"
      ],
      "execution_count": 52,
      "outputs": [
        {
          "output_type": "execute_result",
          "data": {
            "text/html": [
              "<div>\n",
              "<style scoped>\n",
              "    .dataframe tbody tr th:only-of-type {\n",
              "        vertical-align: middle;\n",
              "    }\n",
              "\n",
              "    .dataframe tbody tr th {\n",
              "        vertical-align: top;\n",
              "    }\n",
              "\n",
              "    .dataframe thead th {\n",
              "        text-align: right;\n",
              "    }\n",
              "</style>\n",
              "<table border=\"1\" class=\"dataframe\">\n",
              "  <thead>\n",
              "    <tr style=\"text-align: right;\">\n",
              "      <th></th>\n",
              "      <th>name</th>\n",
              "      <th>birthdate</th>\n",
              "    </tr>\n",
              "  </thead>\n",
              "  <tbody>\n",
              "    <tr>\n",
              "      <th>0</th>\n",
              "      <td>Leonardo DiCaprio</td>\n",
              "      <td>1974-11-11</td>\n",
              "    </tr>\n",
              "  </tbody>\n",
              "</table>\n",
              "</div>"
            ],
            "text/plain": [
              "                name   birthdate\n",
              "0  Leonardo DiCaprio  1974-11-11"
            ]
          },
          "metadata": {},
          "execution_count": 52
        }
      ]
    },
    {
      "cell_type": "markdown",
      "metadata": {
        "id": "xjeEnMRpd1Pf"
      },
      "source": [
        "* Get the number of `Hindi` language films."
      ]
    },
    {
      "cell_type": "code",
      "metadata": {
        "colab": {
          "base_uri": "https://localhost:8080/",
          "height": 81
        },
        "id": "4Y1dQSvqduQO",
        "outputId": "ff9f014d-34fb-4814-be68-c6cbf969be6e"
      },
      "source": [
        "pd.read_sql_query('''SELECT COUNT(title) AS count\n",
        "                     FROM \"public.films\"\n",
        "                     WHERE language = 'Hindi';''', engine)"
      ],
      "execution_count": 54,
      "outputs": [
        {
          "output_type": "execute_result",
          "data": {
            "text/html": [
              "<div>\n",
              "<style scoped>\n",
              "    .dataframe tbody tr th:only-of-type {\n",
              "        vertical-align: middle;\n",
              "    }\n",
              "\n",
              "    .dataframe tbody tr th {\n",
              "        vertical-align: top;\n",
              "    }\n",
              "\n",
              "    .dataframe thead th {\n",
              "        text-align: right;\n",
              "    }\n",
              "</style>\n",
              "<table border=\"1\" class=\"dataframe\">\n",
              "  <thead>\n",
              "    <tr style=\"text-align: right;\">\n",
              "      <th></th>\n",
              "      <th>count</th>\n",
              "    </tr>\n",
              "  </thead>\n",
              "  <tbody>\n",
              "    <tr>\n",
              "      <th>0</th>\n",
              "      <td>28</td>\n",
              "    </tr>\n",
              "  </tbody>\n",
              "</table>\n",
              "</div>"
            ],
            "text/plain": [
              "   count\n",
              "0     28"
            ]
          },
          "metadata": {},
          "execution_count": 54
        }
      ]
    },
    {
      "cell_type": "markdown",
      "metadata": {
        "id": "YCWlAyzReLPQ"
      },
      "source": [
        "* Get all details for all films with an `R` `certification`"
      ]
    },
    {
      "cell_type": "code",
      "metadata": {
        "colab": {
          "base_uri": "https://localhost:8080/",
          "height": 206
        },
        "id": "pBy71BiDeD9i",
        "outputId": "cf3e45bb-489a-43b9-e602-3e5f212aff87"
      },
      "source": [
        "pd.read_sql_query('''SELECT * \n",
        "                     FROM \"public.films\"\n",
        "                     WHERE certification = 'R'\n",
        "                     LIMIT 5;''', engine)"
      ],
      "execution_count": 55,
      "outputs": [
        {
          "output_type": "execute_result",
          "data": {
            "text/html": [
              "<div>\n",
              "<style scoped>\n",
              "    .dataframe tbody tr th:only-of-type {\n",
              "        vertical-align: middle;\n",
              "    }\n",
              "\n",
              "    .dataframe tbody tr th {\n",
              "        vertical-align: top;\n",
              "    }\n",
              "\n",
              "    .dataframe thead th {\n",
              "        text-align: right;\n",
              "    }\n",
              "</style>\n",
              "<table border=\"1\" class=\"dataframe\">\n",
              "  <thead>\n",
              "    <tr style=\"text-align: right;\">\n",
              "      <th></th>\n",
              "      <th>id</th>\n",
              "      <th>title</th>\n",
              "      <th>release_year</th>\n",
              "      <th>country</th>\n",
              "      <th>duration</th>\n",
              "      <th>language</th>\n",
              "      <th>certification</th>\n",
              "      <th>gross</th>\n",
              "      <th>budget</th>\n",
              "    </tr>\n",
              "  </thead>\n",
              "  <tbody>\n",
              "    <tr>\n",
              "      <th>0</th>\n",
              "      <td>76</td>\n",
              "      <td>Psycho</td>\n",
              "      <td>1960</td>\n",
              "      <td>USA</td>\n",
              "      <td>108</td>\n",
              "      <td>English</td>\n",
              "      <td>R</td>\n",
              "      <td>32000000</td>\n",
              "      <td>806947</td>\n",
              "    </tr>\n",
              "    <tr>\n",
              "      <th>1</th>\n",
              "      <td>99</td>\n",
              "      <td>A Fistful of Dollars</td>\n",
              "      <td>1964</td>\n",
              "      <td>Italy</td>\n",
              "      <td>99</td>\n",
              "      <td>Italian</td>\n",
              "      <td>R</td>\n",
              "      <td>3500000</td>\n",
              "      <td>200000</td>\n",
              "    </tr>\n",
              "    <tr>\n",
              "      <th>2</th>\n",
              "      <td>134</td>\n",
              "      <td>Rosemary's Baby</td>\n",
              "      <td>1968</td>\n",
              "      <td>USA</td>\n",
              "      <td>136</td>\n",
              "      <td>English</td>\n",
              "      <td>R</td>\n",
              "      <td></td>\n",
              "      <td>2300000</td>\n",
              "    </tr>\n",
              "    <tr>\n",
              "      <th>3</th>\n",
              "      <td>140</td>\n",
              "      <td>Mississippi Mermaid</td>\n",
              "      <td>1969</td>\n",
              "      <td>France</td>\n",
              "      <td>123</td>\n",
              "      <td>French</td>\n",
              "      <td>R</td>\n",
              "      <td>26893</td>\n",
              "      <td>1600000</td>\n",
              "    </tr>\n",
              "    <tr>\n",
              "      <th>4</th>\n",
              "      <td>145</td>\n",
              "      <td>The Wild Bunch</td>\n",
              "      <td>1969</td>\n",
              "      <td>USA</td>\n",
              "      <td>144</td>\n",
              "      <td>English</td>\n",
              "      <td>R</td>\n",
              "      <td></td>\n",
              "      <td>6244087</td>\n",
              "    </tr>\n",
              "  </tbody>\n",
              "</table>\n",
              "</div>"
            ],
            "text/plain": [
              "    id                 title release_year  ... certification     gross   budget\n",
              "0   76                Psycho         1960  ...             R  32000000   806947\n",
              "1   99  A Fistful of Dollars         1964  ...             R   3500000   200000\n",
              "2  134       Rosemary's Baby         1968  ...             R            2300000\n",
              "3  140   Mississippi Mermaid         1969  ...             R     26893  1600000\n",
              "4  145        The Wild Bunch         1969  ...             R            6244087\n",
              "\n",
              "[5 rows x 9 columns]"
            ]
          },
          "metadata": {},
          "execution_count": 55
        }
      ]
    },
    {
      "cell_type": "markdown",
      "metadata": {
        "id": "fG0n4iTbekY_"
      },
      "source": [
        "# **WHERE AND**\n",
        "Often, you'll want to select data based on multiple conditions. You can build up your `WHERE` queries by combining multiple conditions with the `AND` keyword.\n",
        "\n",
        "For example,\n",
        "\n",
        "```\n",
        "SELECT title\n",
        "FROM films\n",
        "WHERE release_year > 1994\n",
        "AND release_year < 2000;\n",
        "```\n",
        "\n",
        "gives you the titles of films released between 1994 and 2000.\n",
        "\n",
        "Note that you need to specify the column name separately for every `AND` condition, so the following would be invalid:\n",
        "\n",
        "```\n",
        "SELECT title\n",
        "FROM films\n",
        "WHERE release_year > 1994 AND < 2000;\n",
        "```\n",
        "\n",
        "You can add as many `AND` conditions as you need!\n",
        "* Get the `title` and `release_year` for all `Spanish` language films released before 2000."
      ]
    },
    {
      "cell_type": "code",
      "metadata": {
        "colab": {
          "base_uri": "https://localhost:8080/",
          "height": 143
        },
        "id": "1xIk4zTfeaiG",
        "outputId": "6ac5dbbf-6fb2-4f2b-d3d2-d9768b3ca1f0"
      },
      "source": [
        "pd.read_sql_query('''SELECT title, release_year\n",
        "                     FROM \"public.films\"\n",
        "                     WHERE language = 'Spanish'\n",
        "                     AND release_year < '2000'\n",
        "                     LIMIT 5;''', engine)"
      ],
      "execution_count": 57,
      "outputs": [
        {
          "output_type": "execute_result",
          "data": {
            "text/html": [
              "<div>\n",
              "<style scoped>\n",
              "    .dataframe tbody tr th:only-of-type {\n",
              "        vertical-align: middle;\n",
              "    }\n",
              "\n",
              "    .dataframe tbody tr th {\n",
              "        vertical-align: top;\n",
              "    }\n",
              "\n",
              "    .dataframe thead th {\n",
              "        text-align: right;\n",
              "    }\n",
              "</style>\n",
              "<table border=\"1\" class=\"dataframe\">\n",
              "  <thead>\n",
              "    <tr style=\"text-align: right;\">\n",
              "      <th></th>\n",
              "      <th>title</th>\n",
              "      <th>release_year</th>\n",
              "    </tr>\n",
              "  </thead>\n",
              "  <tbody>\n",
              "    <tr>\n",
              "      <th>0</th>\n",
              "      <td>El Mariachi</td>\n",
              "      <td>1992</td>\n",
              "    </tr>\n",
              "    <tr>\n",
              "      <th>1</th>\n",
              "      <td>La otra conquista</td>\n",
              "      <td>1998</td>\n",
              "    </tr>\n",
              "    <tr>\n",
              "      <th>2</th>\n",
              "      <td>Tango</td>\n",
              "      <td>1998</td>\n",
              "    </tr>\n",
              "  </tbody>\n",
              "</table>\n",
              "</div>"
            ],
            "text/plain": [
              "               title release_year\n",
              "0        El Mariachi         1992\n",
              "1  La otra conquista         1998\n",
              "2              Tango         1998"
            ]
          },
          "metadata": {},
          "execution_count": 57
        }
      ]
    },
    {
      "cell_type": "markdown",
      "metadata": {
        "id": "RJEqPey_fYBs"
      },
      "source": [
        "* Get all details for `Spanish` language films released after `2000`."
      ]
    },
    {
      "cell_type": "code",
      "metadata": {
        "colab": {
          "base_uri": "https://localhost:8080/",
          "height": 206
        },
        "id": "e1QiFn_TfRGl",
        "outputId": "7326f129-6be7-44d1-bb63-04840c7069b6"
      },
      "source": [
        "pd.read_sql_query('''SELECT *\n",
        "                     FROM \"public.films\"\n",
        "                     WHERE language = 'Spanish'\n",
        "                     AND release_year > '2000'\n",
        "                     LIMIT 5;''', engine)"
      ],
      "execution_count": 58,
      "outputs": [
        {
          "output_type": "execute_result",
          "data": {
            "text/html": [
              "<div>\n",
              "<style scoped>\n",
              "    .dataframe tbody tr th:only-of-type {\n",
              "        vertical-align: middle;\n",
              "    }\n",
              "\n",
              "    .dataframe tbody tr th {\n",
              "        vertical-align: top;\n",
              "    }\n",
              "\n",
              "    .dataframe thead th {\n",
              "        text-align: right;\n",
              "    }\n",
              "</style>\n",
              "<table border=\"1\" class=\"dataframe\">\n",
              "  <thead>\n",
              "    <tr style=\"text-align: right;\">\n",
              "      <th></th>\n",
              "      <th>id</th>\n",
              "      <th>title</th>\n",
              "      <th>release_year</th>\n",
              "      <th>country</th>\n",
              "      <th>duration</th>\n",
              "      <th>language</th>\n",
              "      <th>certification</th>\n",
              "      <th>gross</th>\n",
              "      <th>budget</th>\n",
              "    </tr>\n",
              "  </thead>\n",
              "  <tbody>\n",
              "    <tr>\n",
              "      <th>0</th>\n",
              "      <td>1695</td>\n",
              "      <td>Y Tu Mamá También</td>\n",
              "      <td>2001</td>\n",
              "      <td>Mexico</td>\n",
              "      <td>106</td>\n",
              "      <td>Spanish</td>\n",
              "      <td>R</td>\n",
              "      <td>13622333</td>\n",
              "      <td>2000000</td>\n",
              "    </tr>\n",
              "    <tr>\n",
              "      <th>1</th>\n",
              "      <td>1757</td>\n",
              "      <td>El crimen del padre Amaro</td>\n",
              "      <td>2002</td>\n",
              "      <td>Mexico</td>\n",
              "      <td>118</td>\n",
              "      <td>Spanish</td>\n",
              "      <td>R</td>\n",
              "      <td>5709616</td>\n",
              "      <td>1800000</td>\n",
              "    </tr>\n",
              "    <tr>\n",
              "      <th>2</th>\n",
              "      <td>1807</td>\n",
              "      <td>Mondays in the Sun</td>\n",
              "      <td>2002</td>\n",
              "      <td>Spain</td>\n",
              "      <td>113</td>\n",
              "      <td>Spanish</td>\n",
              "      <td>R</td>\n",
              "      <td>146402</td>\n",
              "      <td>4000000</td>\n",
              "    </tr>\n",
              "    <tr>\n",
              "      <th>3</th>\n",
              "      <td>2173</td>\n",
              "      <td>Live-In Maid</td>\n",
              "      <td>2004</td>\n",
              "      <td>Argentina</td>\n",
              "      <td>83</td>\n",
              "      <td>Spanish</td>\n",
              "      <td>Unrated</td>\n",
              "      <td></td>\n",
              "      <td>800000</td>\n",
              "    </tr>\n",
              "    <tr>\n",
              "      <th>4</th>\n",
              "      <td>2175</td>\n",
              "      <td>Maria Full of Grace</td>\n",
              "      <td>2004</td>\n",
              "      <td>Colombia</td>\n",
              "      <td>101</td>\n",
              "      <td>Spanish</td>\n",
              "      <td>R</td>\n",
              "      <td>6517198</td>\n",
              "      <td>3000000</td>\n",
              "    </tr>\n",
              "  </tbody>\n",
              "</table>\n",
              "</div>"
            ],
            "text/plain": [
              "     id                      title  ...     gross   budget\n",
              "0  1695          Y Tu Mamá También  ...  13622333  2000000\n",
              "1  1757  El crimen del padre Amaro  ...   5709616  1800000\n",
              "2  1807         Mondays in the Sun  ...    146402  4000000\n",
              "3  2173               Live-In Maid  ...             800000\n",
              "4  2175        Maria Full of Grace  ...   6517198  3000000\n",
              "\n",
              "[5 rows x 9 columns]"
            ]
          },
          "metadata": {},
          "execution_count": 58
        }
      ]
    },
    {
      "cell_type": "markdown",
      "metadata": {
        "id": "CkXmyE8EfpcM"
      },
      "source": [
        "* Get all details for `Spanish` language films released after `2000`, but before `2010`."
      ]
    },
    {
      "cell_type": "code",
      "metadata": {
        "colab": {
          "base_uri": "https://localhost:8080/",
          "height": 206
        },
        "id": "Me5bRIpoflSr",
        "outputId": "3ed01270-0391-41ec-ebdb-5d96d92fb113"
      },
      "source": [
        "pd.read_sql_query('''SELECT *\n",
        "                     FROM \"public.films\"\n",
        "                     WHERE language = 'Spanish'\n",
        "                     AND release_year > '2000'\n",
        "                     AND release_year < '2010'\n",
        "                     LIMIT 5;''', engine)"
      ],
      "execution_count": 59,
      "outputs": [
        {
          "output_type": "execute_result",
          "data": {
            "text/html": [
              "<div>\n",
              "<style scoped>\n",
              "    .dataframe tbody tr th:only-of-type {\n",
              "        vertical-align: middle;\n",
              "    }\n",
              "\n",
              "    .dataframe tbody tr th {\n",
              "        vertical-align: top;\n",
              "    }\n",
              "\n",
              "    .dataframe thead th {\n",
              "        text-align: right;\n",
              "    }\n",
              "</style>\n",
              "<table border=\"1\" class=\"dataframe\">\n",
              "  <thead>\n",
              "    <tr style=\"text-align: right;\">\n",
              "      <th></th>\n",
              "      <th>id</th>\n",
              "      <th>title</th>\n",
              "      <th>release_year</th>\n",
              "      <th>country</th>\n",
              "      <th>duration</th>\n",
              "      <th>language</th>\n",
              "      <th>certification</th>\n",
              "      <th>gross</th>\n",
              "      <th>budget</th>\n",
              "    </tr>\n",
              "  </thead>\n",
              "  <tbody>\n",
              "    <tr>\n",
              "      <th>0</th>\n",
              "      <td>1695</td>\n",
              "      <td>Y Tu Mamá También</td>\n",
              "      <td>2001</td>\n",
              "      <td>Mexico</td>\n",
              "      <td>106</td>\n",
              "      <td>Spanish</td>\n",
              "      <td>R</td>\n",
              "      <td>13622333</td>\n",
              "      <td>2000000</td>\n",
              "    </tr>\n",
              "    <tr>\n",
              "      <th>1</th>\n",
              "      <td>1757</td>\n",
              "      <td>El crimen del padre Amaro</td>\n",
              "      <td>2002</td>\n",
              "      <td>Mexico</td>\n",
              "      <td>118</td>\n",
              "      <td>Spanish</td>\n",
              "      <td>R</td>\n",
              "      <td>5709616</td>\n",
              "      <td>1800000</td>\n",
              "    </tr>\n",
              "    <tr>\n",
              "      <th>2</th>\n",
              "      <td>1807</td>\n",
              "      <td>Mondays in the Sun</td>\n",
              "      <td>2002</td>\n",
              "      <td>Spain</td>\n",
              "      <td>113</td>\n",
              "      <td>Spanish</td>\n",
              "      <td>R</td>\n",
              "      <td>146402</td>\n",
              "      <td>4000000</td>\n",
              "    </tr>\n",
              "    <tr>\n",
              "      <th>3</th>\n",
              "      <td>2173</td>\n",
              "      <td>Live-In Maid</td>\n",
              "      <td>2004</td>\n",
              "      <td>Argentina</td>\n",
              "      <td>83</td>\n",
              "      <td>Spanish</td>\n",
              "      <td>Unrated</td>\n",
              "      <td></td>\n",
              "      <td>800000</td>\n",
              "    </tr>\n",
              "    <tr>\n",
              "      <th>4</th>\n",
              "      <td>2175</td>\n",
              "      <td>Maria Full of Grace</td>\n",
              "      <td>2004</td>\n",
              "      <td>Colombia</td>\n",
              "      <td>101</td>\n",
              "      <td>Spanish</td>\n",
              "      <td>R</td>\n",
              "      <td>6517198</td>\n",
              "      <td>3000000</td>\n",
              "    </tr>\n",
              "  </tbody>\n",
              "</table>\n",
              "</div>"
            ],
            "text/plain": [
              "     id                      title  ...     gross   budget\n",
              "0  1695          Y Tu Mamá También  ...  13622333  2000000\n",
              "1  1757  El crimen del padre Amaro  ...   5709616  1800000\n",
              "2  1807         Mondays in the Sun  ...    146402  4000000\n",
              "3  2173               Live-In Maid  ...             800000\n",
              "4  2175        Maria Full of Grace  ...   6517198  3000000\n",
              "\n",
              "[5 rows x 9 columns]"
            ]
          },
          "metadata": {},
          "execution_count": 59
        }
      ]
    },
    {
      "cell_type": "markdown",
      "metadata": {
        "id": "jlGoqn60f9Ar"
      },
      "source": [
        "# **WHERE AND OR**\n",
        "\n",
        "What if you want to select rows based on multiple conditions where <ins>some but not all</ins> of the conditions need to be met? For this, SQL has the `OR` operator.\n",
        "\n",
        "For example, the following returns all films released in either 1994 <ins>or</ins> 2000:\n",
        "\n",
        "\n",
        "\n",
        "```\n",
        "SELECT title\n",
        "FROM films\n",
        "WHERE release_year = 1994\n",
        "OR release_year = 2000;\n",
        "```\n",
        "\n",
        "\n",
        "Note that you need to specify the column for every `OR` condition, so the following is invalid:\n",
        "\n",
        "\n",
        "\n",
        "```\n",
        "SELECT title\n",
        "FROM films\n",
        "WHERE release_year = 1994 OR 2000;\n",
        "```\n",
        "\n",
        "\n",
        "When combining `AND` and `OR`, be sure to enclose the individual clauses in <ins>parentheses</ins>, like so:\n",
        "\n",
        "Otherwise, due to SQL's precedence rules, you may not get the results you're expecting!\n",
        "\n",
        "\n",
        "For example, the following query selects all films that were released in 1994 or 1995 which had a rating of PG or R.\n",
        "\n",
        "```\n",
        "SELECT title\n",
        "FROM films\n",
        "WHERE (release_year = 1994 OR release_year = 1995)\n",
        "AND (certification = 'PG' OR certification = 'R');\n",
        "```\n",
        "\n",
        "* Get the `title` and `release_year` for films released in the 90s.\n",
        "\n",
        "\n",
        "\n",
        "\n"
      ]
    },
    {
      "cell_type": "code",
      "metadata": {
        "colab": {
          "base_uri": "https://localhost:8080/",
          "height": 206
        },
        "id": "DEKfvzF9fzSn",
        "outputId": "6b67dbcc-7f68-4ecc-fc6c-c4710ef01d68"
      },
      "source": [
        "pd.read_sql_query('''SELECT title, release_year\n",
        "                     FROM \"public.films\"\n",
        "                     WHERE release_year >= '1990'\n",
        "                     AND release_year < '2000'\n",
        "                     LIMIT 5;''', engine)"
      ],
      "execution_count": 62,
      "outputs": [
        {
          "output_type": "execute_result",
          "data": {
            "text/html": [
              "<div>\n",
              "<style scoped>\n",
              "    .dataframe tbody tr th:only-of-type {\n",
              "        vertical-align: middle;\n",
              "    }\n",
              "\n",
              "    .dataframe tbody tr th {\n",
              "        vertical-align: top;\n",
              "    }\n",
              "\n",
              "    .dataframe thead th {\n",
              "        text-align: right;\n",
              "    }\n",
              "</style>\n",
              "<table border=\"1\" class=\"dataframe\">\n",
              "  <thead>\n",
              "    <tr style=\"text-align: right;\">\n",
              "      <th></th>\n",
              "      <th>title</th>\n",
              "      <th>release_year</th>\n",
              "    </tr>\n",
              "  </thead>\n",
              "  <tbody>\n",
              "    <tr>\n",
              "      <th>0</th>\n",
              "      <td>Arachnophobia</td>\n",
              "      <td>1990</td>\n",
              "    </tr>\n",
              "    <tr>\n",
              "      <th>1</th>\n",
              "      <td>Back to the Future Part III</td>\n",
              "      <td>1990</td>\n",
              "    </tr>\n",
              "    <tr>\n",
              "      <th>2</th>\n",
              "      <td>Child's Play 2</td>\n",
              "      <td>1990</td>\n",
              "    </tr>\n",
              "    <tr>\n",
              "      <th>3</th>\n",
              "      <td>Dances with Wolves</td>\n",
              "      <td>1990</td>\n",
              "    </tr>\n",
              "    <tr>\n",
              "      <th>4</th>\n",
              "      <td>Days of Thunder</td>\n",
              "      <td>1990</td>\n",
              "    </tr>\n",
              "  </tbody>\n",
              "</table>\n",
              "</div>"
            ],
            "text/plain": [
              "                         title release_year\n",
              "0                Arachnophobia         1990\n",
              "1  Back to the Future Part III         1990\n",
              "2               Child's Play 2         1990\n",
              "3           Dances with Wolves         1990\n",
              "4              Days of Thunder         1990"
            ]
          },
          "metadata": {},
          "execution_count": 62
        }
      ]
    },
    {
      "cell_type": "markdown",
      "metadata": {
        "id": "r4Nt8rGZhuUP"
      },
      "source": [
        "* Now, build on your query to filter the records to only include `French` or `Spanish` language films."
      ]
    },
    {
      "cell_type": "code",
      "metadata": {
        "colab": {
          "base_uri": "https://localhost:8080/",
          "height": 363
        },
        "id": "3Si3EAWlhmF9",
        "outputId": "fb7ed760-f54c-4980-a8d4-0c85101f0241"
      },
      "source": [
        "pd.read_sql_query('''SELECT title, release_year\n",
        "                     FROM \"public.films\"\n",
        "                     WHERE (release_year >= '1990' AND release_year < '2000')\n",
        "                     AND (language = 'Spanish' OR language = 'French');''', engine)"
      ],
      "execution_count": 66,
      "outputs": [
        {
          "output_type": "execute_result",
          "data": {
            "text/html": [
              "<div>\n",
              "<style scoped>\n",
              "    .dataframe tbody tr th:only-of-type {\n",
              "        vertical-align: middle;\n",
              "    }\n",
              "\n",
              "    .dataframe tbody tr th {\n",
              "        vertical-align: top;\n",
              "    }\n",
              "\n",
              "    .dataframe thead th {\n",
              "        text-align: right;\n",
              "    }\n",
              "</style>\n",
              "<table border=\"1\" class=\"dataframe\">\n",
              "  <thead>\n",
              "    <tr style=\"text-align: right;\">\n",
              "      <th></th>\n",
              "      <th>title</th>\n",
              "      <th>release_year</th>\n",
              "    </tr>\n",
              "  </thead>\n",
              "  <tbody>\n",
              "    <tr>\n",
              "      <th>0</th>\n",
              "      <td>El Mariachi</td>\n",
              "      <td>1992</td>\n",
              "    </tr>\n",
              "    <tr>\n",
              "      <th>1</th>\n",
              "      <td>Les visiteurs</td>\n",
              "      <td>1993</td>\n",
              "    </tr>\n",
              "    <tr>\n",
              "      <th>2</th>\n",
              "      <td>The Horseman on the Roof</td>\n",
              "      <td>1995</td>\n",
              "    </tr>\n",
              "    <tr>\n",
              "      <th>3</th>\n",
              "      <td>When the Cat's Away</td>\n",
              "      <td>1996</td>\n",
              "    </tr>\n",
              "    <tr>\n",
              "      <th>4</th>\n",
              "      <td>The Chambermaid on the Titanic</td>\n",
              "      <td>1997</td>\n",
              "    </tr>\n",
              "    <tr>\n",
              "      <th>5</th>\n",
              "      <td>The Swindle</td>\n",
              "      <td>1997</td>\n",
              "    </tr>\n",
              "    <tr>\n",
              "      <th>6</th>\n",
              "      <td>La otra conquista</td>\n",
              "      <td>1998</td>\n",
              "    </tr>\n",
              "    <tr>\n",
              "      <th>7</th>\n",
              "      <td>Les couloirs du temps: Les visiteurs II</td>\n",
              "      <td>1998</td>\n",
              "    </tr>\n",
              "    <tr>\n",
              "      <th>8</th>\n",
              "      <td>Tango</td>\n",
              "      <td>1998</td>\n",
              "    </tr>\n",
              "    <tr>\n",
              "      <th>9</th>\n",
              "      <td>The Red Violin</td>\n",
              "      <td>1998</td>\n",
              "    </tr>\n",
              "  </tbody>\n",
              "</table>\n",
              "</div>"
            ],
            "text/plain": [
              "                                     title release_year\n",
              "0                              El Mariachi         1992\n",
              "1                            Les visiteurs         1993\n",
              "2                 The Horseman on the Roof         1995\n",
              "3                      When the Cat's Away         1996\n",
              "4           The Chambermaid on the Titanic         1997\n",
              "5                              The Swindle         1997\n",
              "6                        La otra conquista         1998\n",
              "7  Les couloirs du temps: Les visiteurs II         1998\n",
              "8                                    Tango         1998\n",
              "9                           The Red Violin         1998"
            ]
          },
          "metadata": {},
          "execution_count": 66
        }
      ]
    },
    {
      "cell_type": "markdown",
      "metadata": {
        "id": "n67HHjqqiRoA"
      },
      "source": [
        "* Finally, restrict the query to only return films that took in more than $2M `gross`."
      ]
    },
    {
      "cell_type": "code",
      "metadata": {
        "colab": {
          "base_uri": "https://localhost:8080/",
          "height": 367
        },
        "id": "xA6Ywwaoh57b",
        "outputId": "433feb52-9b66-45f5-af05-0f57487060df"
      },
      "source": [
        "df = pd.read_sql_query('''SELECT title, release_year, gross\n",
        "                     FROM 'public.films'\n",
        "                     WHERE (release_year >= '1990' AND release_year < '2000')\n",
        "                     AND (language = 'French' OR language = 'Spanish')\n",
        "                     AND gross > '2000000'; ''', engine)\n",
        "\n",
        "display(df)\n",
        "print(\"\\n\")\n",
        "\n",
        "df[\"gross\"] = df[\"gross\"].astype(int)\n",
        "df = df[df[\"gross\"] > 2000000]\n",
        "df"
      ],
      "execution_count": 83,
      "outputs": [
        {
          "output_type": "display_data",
          "data": {
            "text/html": [
              "<div>\n",
              "<style scoped>\n",
              "    .dataframe tbody tr th:only-of-type {\n",
              "        vertical-align: middle;\n",
              "    }\n",
              "\n",
              "    .dataframe tbody tr th {\n",
              "        vertical-align: top;\n",
              "    }\n",
              "\n",
              "    .dataframe thead th {\n",
              "        text-align: right;\n",
              "    }\n",
              "</style>\n",
              "<table border=\"1\" class=\"dataframe\">\n",
              "  <thead>\n",
              "    <tr style=\"text-align: right;\">\n",
              "      <th></th>\n",
              "      <th>title</th>\n",
              "      <th>release_year</th>\n",
              "      <th>gross</th>\n",
              "    </tr>\n",
              "  </thead>\n",
              "  <tbody>\n",
              "    <tr>\n",
              "      <th>0</th>\n",
              "      <td>El Mariachi</td>\n",
              "      <td>1992</td>\n",
              "      <td>2040920</td>\n",
              "    </tr>\n",
              "    <tr>\n",
              "      <th>1</th>\n",
              "      <td>Les visiteurs</td>\n",
              "      <td>1993</td>\n",
              "      <td>700000</td>\n",
              "    </tr>\n",
              "    <tr>\n",
              "      <th>2</th>\n",
              "      <td>The Chambermaid on the Titanic</td>\n",
              "      <td>1997</td>\n",
              "      <td>244465</td>\n",
              "    </tr>\n",
              "    <tr>\n",
              "      <th>3</th>\n",
              "      <td>The Swindle</td>\n",
              "      <td>1997</td>\n",
              "      <td>231417</td>\n",
              "    </tr>\n",
              "    <tr>\n",
              "      <th>4</th>\n",
              "      <td>La otra conquista</td>\n",
              "      <td>1998</td>\n",
              "      <td>886410</td>\n",
              "    </tr>\n",
              "    <tr>\n",
              "      <th>5</th>\n",
              "      <td>The Red Violin</td>\n",
              "      <td>1998</td>\n",
              "      <td>9473382</td>\n",
              "    </tr>\n",
              "  </tbody>\n",
              "</table>\n",
              "</div>"
            ],
            "text/plain": [
              "                            title release_year    gross\n",
              "0                     El Mariachi         1992  2040920\n",
              "1                   Les visiteurs         1993   700000\n",
              "2  The Chambermaid on the Titanic         1997   244465\n",
              "3                     The Swindle         1997   231417\n",
              "4               La otra conquista         1998   886410\n",
              "5                  The Red Violin         1998  9473382"
            ]
          },
          "metadata": {}
        },
        {
          "output_type": "stream",
          "name": "stdout",
          "text": [
            "\n",
            "\n"
          ]
        },
        {
          "output_type": "execute_result",
          "data": {
            "text/html": [
              "<div>\n",
              "<style scoped>\n",
              "    .dataframe tbody tr th:only-of-type {\n",
              "        vertical-align: middle;\n",
              "    }\n",
              "\n",
              "    .dataframe tbody tr th {\n",
              "        vertical-align: top;\n",
              "    }\n",
              "\n",
              "    .dataframe thead th {\n",
              "        text-align: right;\n",
              "    }\n",
              "</style>\n",
              "<table border=\"1\" class=\"dataframe\">\n",
              "  <thead>\n",
              "    <tr style=\"text-align: right;\">\n",
              "      <th></th>\n",
              "      <th>title</th>\n",
              "      <th>release_year</th>\n",
              "      <th>gross</th>\n",
              "    </tr>\n",
              "  </thead>\n",
              "  <tbody>\n",
              "    <tr>\n",
              "      <th>0</th>\n",
              "      <td>El Mariachi</td>\n",
              "      <td>1992</td>\n",
              "      <td>2040920</td>\n",
              "    </tr>\n",
              "    <tr>\n",
              "      <th>5</th>\n",
              "      <td>The Red Violin</td>\n",
              "      <td>1998</td>\n",
              "      <td>9473382</td>\n",
              "    </tr>\n",
              "  </tbody>\n",
              "</table>\n",
              "</div>"
            ],
            "text/plain": [
              "            title release_year    gross\n",
              "0     El Mariachi         1992  2040920\n",
              "5  The Red Violin         1998  9473382"
            ]
          },
          "metadata": {},
          "execution_count": 83
        }
      ]
    },
    {
      "cell_type": "code",
      "metadata": {
        "colab": {
          "base_uri": "https://localhost:8080/"
        },
        "id": "6aRsi-hsFpN0",
        "outputId": "d353bb6b-84aa-4a18-dafa-d0a081ea85c5"
      },
      "source": [
        "help(pd.read_sql_query)"
      ],
      "execution_count": 79,
      "outputs": [
        {
          "output_type": "stream",
          "name": "stdout",
          "text": [
            "Help on function read_sql_query in module pandas.io.sql:\n",
            "\n",
            "read_sql_query(sql, con, index_col=None, coerce_float=True, params=None, parse_dates=None, chunksize: Union[int, NoneType] = None) -> Union[pandas.core.frame.DataFrame, Iterator[pandas.core.frame.DataFrame]]\n",
            "    Read SQL query into a DataFrame.\n",
            "    \n",
            "    Returns a DataFrame corresponding to the result set of the query\n",
            "    string. Optionally provide an `index_col` parameter to use one of the\n",
            "    columns as the index, otherwise default integer index will be used.\n",
            "    \n",
            "    Parameters\n",
            "    ----------\n",
            "    sql : str SQL query or SQLAlchemy Selectable (select or text object)\n",
            "        SQL query to be executed.\n",
            "    con : SQLAlchemy connectable, str, or sqlite3 connection\n",
            "        Using SQLAlchemy makes it possible to use any DB supported by that\n",
            "        library. If a DBAPI2 object, only sqlite3 is supported.\n",
            "    index_col : str or list of str, optional, default: None\n",
            "        Column(s) to set as index(MultiIndex).\n",
            "    coerce_float : bool, default True\n",
            "        Attempts to convert values of non-string, non-numeric objects (like\n",
            "        decimal.Decimal) to floating point. Useful for SQL result sets.\n",
            "    params : list, tuple or dict, optional, default: None\n",
            "        List of parameters to pass to execute method.  The syntax used\n",
            "        to pass parameters is database driver dependent. Check your\n",
            "        database driver documentation for which of the five syntax styles,\n",
            "        described in PEP 249's paramstyle, is supported.\n",
            "        Eg. for psycopg2, uses %(name)s so use params={'name' : 'value'}.\n",
            "    parse_dates : list or dict, default: None\n",
            "        - List of column names to parse as dates.\n",
            "        - Dict of ``{column_name: format string}`` where format string is\n",
            "          strftime compatible in case of parsing string times, or is one of\n",
            "          (D, s, ns, ms, us) in case of parsing integer timestamps.\n",
            "        - Dict of ``{column_name: arg dict}``, where the arg dict corresponds\n",
            "          to the keyword arguments of :func:`pandas.to_datetime`\n",
            "          Especially useful with databases without native Datetime support,\n",
            "          such as SQLite.\n",
            "    chunksize : int, default None\n",
            "        If specified, return an iterator where `chunksize` is the number of\n",
            "        rows to include in each chunk.\n",
            "    \n",
            "    Returns\n",
            "    -------\n",
            "    DataFrame or Iterator[DataFrame]\n",
            "    \n",
            "    See Also\n",
            "    --------\n",
            "    read_sql_table : Read SQL database table into a DataFrame.\n",
            "    read_sql : Read SQL query or database table into a DataFrame.\n",
            "    \n",
            "    Notes\n",
            "    -----\n",
            "    Any datetime values with time zone information parsed via the `parse_dates`\n",
            "    parameter will be converted to UTC.\n",
            "\n"
          ]
        }
      ]
    },
    {
      "cell_type": "markdown",
      "metadata": {
        "id": "sgknIDk7rFfP"
      },
      "source": [
        "ไม่รู้เหมือนกัน ทำไมมันมีปัญหากับ `gross > '2000000'` มันอาจจะเป็นเพราะว่า `'2000000'` เป็น string แต่มันควรจะถูกต้องตั้งแต่แรก"
      ]
    },
    {
      "cell_type": "markdown",
      "metadata": {
        "id": "UJUMFMT27NBF"
      },
      "source": [
        "# **BETWEEN**\n",
        "\n",
        "Similar to the `WHERE` clause, the `BETWEEN` clause can be used with multiple `AND` and `OR` operators, so you can build up your queries and make them even more powerful!\n",
        "\n",
        "For example, suppose we have a table called kids. We can get the names of all kids between the ages of 2 and 12 from the United States:\n",
        "\n",
        "\n",
        "\n",
        "```\n",
        "SELECT name\n",
        "FROM kids\n",
        "WHERE age BETWEEN 2 AND 12\n",
        "AND nationality = 'USA';\n",
        "```\n",
        "\n",
        "* Get the `title` and `release_year` of all films released between 1990 and 2000 (inclusive).\n"
      ]
    },
    {
      "cell_type": "code",
      "metadata": {
        "colab": {
          "base_uri": "https://localhost:8080/",
          "height": 206
        },
        "id": "R-M6y6t63VP8",
        "outputId": "83f2c490-7201-44f9-bf0a-147a59a5ba53"
      },
      "source": [
        "pd.read_sql_query('''SELECT title, release_year\n",
        "                     FROM \"public.films\"\n",
        "                     WHERE release_year BETWEEN '1990' AND '2000'\n",
        "                     LIMIT 5;''', engine)"
      ],
      "execution_count": 27,
      "outputs": [
        {
          "output_type": "execute_result",
          "data": {
            "text/html": [
              "<div>\n",
              "<style scoped>\n",
              "    .dataframe tbody tr th:only-of-type {\n",
              "        vertical-align: middle;\n",
              "    }\n",
              "\n",
              "    .dataframe tbody tr th {\n",
              "        vertical-align: top;\n",
              "    }\n",
              "\n",
              "    .dataframe thead th {\n",
              "        text-align: right;\n",
              "    }\n",
              "</style>\n",
              "<table border=\"1\" class=\"dataframe\">\n",
              "  <thead>\n",
              "    <tr style=\"text-align: right;\">\n",
              "      <th></th>\n",
              "      <th>title</th>\n",
              "      <th>release_year</th>\n",
              "    </tr>\n",
              "  </thead>\n",
              "  <tbody>\n",
              "    <tr>\n",
              "      <th>0</th>\n",
              "      <td>Arachnophobia</td>\n",
              "      <td>1990</td>\n",
              "    </tr>\n",
              "    <tr>\n",
              "      <th>1</th>\n",
              "      <td>Back to the Future Part III</td>\n",
              "      <td>1990</td>\n",
              "    </tr>\n",
              "    <tr>\n",
              "      <th>2</th>\n",
              "      <td>Child's Play 2</td>\n",
              "      <td>1990</td>\n",
              "    </tr>\n",
              "    <tr>\n",
              "      <th>3</th>\n",
              "      <td>Dances with Wolves</td>\n",
              "      <td>1990</td>\n",
              "    </tr>\n",
              "    <tr>\n",
              "      <th>4</th>\n",
              "      <td>Days of Thunder</td>\n",
              "      <td>1990</td>\n",
              "    </tr>\n",
              "  </tbody>\n",
              "</table>\n",
              "</div>"
            ],
            "text/plain": [
              "                         title release_year\n",
              "0                Arachnophobia         1990\n",
              "1  Back to the Future Part III         1990\n",
              "2               Child's Play 2         1990\n",
              "3           Dances with Wolves         1990\n",
              "4              Days of Thunder         1990"
            ]
          },
          "metadata": {},
          "execution_count": 27
        }
      ]
    },
    {
      "cell_type": "markdown",
      "metadata": {
        "id": "wvB9rmft80ir"
      },
      "source": [
        "* Now, build on your previous query to select only films that have `budget` over $100 million."
      ]
    },
    {
      "cell_type": "code",
      "metadata": {
        "colab": {
          "base_uri": "https://localhost:8080/",
          "height": 206
        },
        "id": "TUyxl8xE8rOT",
        "outputId": "bb1f8f3b-0024-46a1-b6f1-7e65eeb5f945"
      },
      "source": [
        "df = pd.read_sql_query('''SELECT title, release_year, budget\n",
        "                          FROM \"public.films\"\n",
        "                          WHERE (release_year BETWEEN '1990' AND '2000')\n",
        "                          AND budget > '100000000';''', engine)\n",
        "\n",
        "df[\"budget\"] = df[\"budget\"].astype(int)\n",
        "df = df[df[\"budget\"] > 100000000]\n",
        "df.head()\n"
      ],
      "execution_count": 35,
      "outputs": [
        {
          "output_type": "execute_result",
          "data": {
            "text/html": [
              "<div>\n",
              "<style scoped>\n",
              "    .dataframe tbody tr th:only-of-type {\n",
              "        vertical-align: middle;\n",
              "    }\n",
              "\n",
              "    .dataframe tbody tr th {\n",
              "        vertical-align: top;\n",
              "    }\n",
              "\n",
              "    .dataframe thead th {\n",
              "        text-align: right;\n",
              "    }\n",
              "</style>\n",
              "<table border=\"1\" class=\"dataframe\">\n",
              "  <thead>\n",
              "    <tr style=\"text-align: right;\">\n",
              "      <th></th>\n",
              "      <th>title</th>\n",
              "      <th>release_year</th>\n",
              "      <th>budget</th>\n",
              "    </tr>\n",
              "  </thead>\n",
              "  <tbody>\n",
              "    <tr>\n",
              "      <th>50</th>\n",
              "      <td>Terminator 2: Judgment Day</td>\n",
              "      <td>1991</td>\n",
              "      <td>102000000</td>\n",
              "    </tr>\n",
              "    <tr>\n",
              "      <th>184</th>\n",
              "      <td>True Lies</td>\n",
              "      <td>1994</td>\n",
              "      <td>115000000</td>\n",
              "    </tr>\n",
              "    <tr>\n",
              "      <th>251</th>\n",
              "      <td>Waterworld</td>\n",
              "      <td>1995</td>\n",
              "      <td>175000000</td>\n",
              "    </tr>\n",
              "    <tr>\n",
              "      <th>359</th>\n",
              "      <td>Batman &amp; Robin</td>\n",
              "      <td>1997</td>\n",
              "      <td>125000000</td>\n",
              "    </tr>\n",
              "    <tr>\n",
              "      <th>371</th>\n",
              "      <td>Dante's Peak</td>\n",
              "      <td>1997</td>\n",
              "      <td>116000000</td>\n",
              "    </tr>\n",
              "  </tbody>\n",
              "</table>\n",
              "</div>"
            ],
            "text/plain": [
              "                          title release_year     budget\n",
              "50   Terminator 2: Judgment Day         1991  102000000\n",
              "184                   True Lies         1994  115000000\n",
              "251                  Waterworld         1995  175000000\n",
              "359              Batman & Robin         1997  125000000\n",
              "371                Dante's Peak         1997  116000000"
            ]
          },
          "metadata": {},
          "execution_count": 35
        }
      ]
    },
    {
      "cell_type": "markdown",
      "metadata": {
        "id": "nR2kn9_O92vD"
      },
      "source": [
        "* Now restrict the query to only return Spanish language films."
      ]
    },
    {
      "cell_type": "code",
      "metadata": {
        "colab": {
          "base_uri": "https://localhost:8080/",
          "height": 81
        },
        "id": "WwrpCFqr9EKm",
        "outputId": "8b5f7b86-f270-44dc-afeb-2544e28b0718"
      },
      "source": [
        "df = pd.read_sql_query('''SELECT title, release_year, budget, language\n",
        "                          FROM \"public.films\"\n",
        "                          WHERE (release_year BETWEEN '1990' AND '2000')\n",
        "                          AND budget > '100000000'\n",
        "                          AND language = 'Spanish';''', engine)\n",
        "\n",
        "\n",
        "df[\"budget\"] = df[\"budget\"].astype(int)\n",
        "df = df[df[\"budget\"] > 100000000]\n",
        "df.head()"
      ],
      "execution_count": 38,
      "outputs": [
        {
          "output_type": "execute_result",
          "data": {
            "text/html": [
              "<div>\n",
              "<style scoped>\n",
              "    .dataframe tbody tr th:only-of-type {\n",
              "        vertical-align: middle;\n",
              "    }\n",
              "\n",
              "    .dataframe tbody tr th {\n",
              "        vertical-align: top;\n",
              "    }\n",
              "\n",
              "    .dataframe thead th {\n",
              "        text-align: right;\n",
              "    }\n",
              "</style>\n",
              "<table border=\"1\" class=\"dataframe\">\n",
              "  <thead>\n",
              "    <tr style=\"text-align: right;\">\n",
              "      <th></th>\n",
              "      <th>title</th>\n",
              "      <th>release_year</th>\n",
              "      <th>budget</th>\n",
              "      <th>language</th>\n",
              "    </tr>\n",
              "  </thead>\n",
              "  <tbody>\n",
              "    <tr>\n",
              "      <th>2</th>\n",
              "      <td>Tango</td>\n",
              "      <td>1998</td>\n",
              "      <td>700000000</td>\n",
              "      <td>Spanish</td>\n",
              "    </tr>\n",
              "  </tbody>\n",
              "</table>\n",
              "</div>"
            ],
            "text/plain": [
              "   title release_year     budget language\n",
              "2  Tango         1998  700000000  Spanish"
            ]
          },
          "metadata": {},
          "execution_count": 38
        }
      ]
    },
    {
      "cell_type": "markdown",
      "metadata": {
        "id": "EDK0VsjX-SiY"
      },
      "source": [
        "*  include all Spanish language or French language films with the same criteria as before. Don't forget your parentheses!"
      ]
    },
    {
      "cell_type": "code",
      "metadata": {
        "colab": {
          "base_uri": "https://localhost:8080/",
          "height": 112
        },
        "id": "dRZ8r89B-FC4",
        "outputId": "cba7ee06-c02c-45a7-8d3d-54662f408e3e"
      },
      "source": [
        "df = pd.read_sql_query('''SELECT title, release_year, budget, language\n",
        "                          FROM \"public.films\"\n",
        "                          WHERE (release_year BETWEEN '1990' AND '2000')\n",
        "                          AND budget > '100000000'\n",
        "                          AND (language = 'Spanish' OR language = 'French');''', engine)\n",
        "\n",
        "\n",
        "df[\"budget\"] = df[\"budget\"].astype(int)\n",
        "df = df[df[\"budget\"] > 100000000]\n",
        "df.head()"
      ],
      "execution_count": 39,
      "outputs": [
        {
          "output_type": "execute_result",
          "data": {
            "text/html": [
              "<div>\n",
              "<style scoped>\n",
              "    .dataframe tbody tr th:only-of-type {\n",
              "        vertical-align: middle;\n",
              "    }\n",
              "\n",
              "    .dataframe tbody tr th {\n",
              "        vertical-align: top;\n",
              "    }\n",
              "\n",
              "    .dataframe thead th {\n",
              "        text-align: right;\n",
              "    }\n",
              "</style>\n",
              "<table border=\"1\" class=\"dataframe\">\n",
              "  <thead>\n",
              "    <tr style=\"text-align: right;\">\n",
              "      <th></th>\n",
              "      <th>title</th>\n",
              "      <th>release_year</th>\n",
              "      <th>budget</th>\n",
              "      <th>language</th>\n",
              "    </tr>\n",
              "  </thead>\n",
              "  <tbody>\n",
              "    <tr>\n",
              "      <th>5</th>\n",
              "      <td>Les couloirs du temps: Les visiteurs II</td>\n",
              "      <td>1998</td>\n",
              "      <td>140000000</td>\n",
              "      <td>French</td>\n",
              "    </tr>\n",
              "    <tr>\n",
              "      <th>6</th>\n",
              "      <td>Tango</td>\n",
              "      <td>1998</td>\n",
              "      <td>700000000</td>\n",
              "      <td>Spanish</td>\n",
              "    </tr>\n",
              "  </tbody>\n",
              "</table>\n",
              "</div>"
            ],
            "text/plain": [
              "                                     title release_year     budget language\n",
              "5  Les couloirs du temps: Les visiteurs II         1998  140000000   French\n",
              "6                                    Tango         1998  700000000  Spanish"
            ]
          },
          "metadata": {},
          "execution_count": 39
        }
      ]
    },
    {
      "cell_type": "markdown",
      "metadata": {
        "id": "sfm0fktZ-gcH"
      },
      "source": [
        "# **WHERE IN**\n",
        "As you've seen, `WHERE` is very useful for filtering results. However, if you want to filter based on many conditions, `WHERE` can get unwieldy. For example:\n",
        "\n",
        "\n",
        "\n",
        "```\n",
        "SELECT name\n",
        "FROM kids\n",
        "WHERE age = 2\n",
        "OR age = 4\n",
        "OR age = 6\n",
        "OR age = 8\n",
        "OR age = 10;\n",
        "```\n",
        "\n",
        "\n",
        "Enter the `IN` operator! The `IN` operator allows you to specify multiple values in a `WHERE` clause, making it easier and quicker to specify multiple `OR` conditions.\n",
        "\n",
        "So, the above example would become simply:\n",
        "\n",
        "```\n",
        "SELECT name\n",
        "FROM kids\n",
        "WHERE age IN (2, 4, 6, 8, 10);\n",
        "```\n",
        "\n",
        "* Get the `title` and `release_year` of all films released in 1990 or 2000 where `duration` was longer than two hours. Remember, `duration` is in minutes!"
      ]
    },
    {
      "cell_type": "code",
      "metadata": {
        "colab": {
          "base_uri": "https://localhost:8080/",
          "height": 206
        },
        "id": "eyTuo2gb-a4i",
        "outputId": "121cad54-10e9-4a3b-a2f9-ee7da099e5e0"
      },
      "source": [
        "df = pd.read_sql_query('''SELECT title, release_year, duration FROM 'public.films'\n",
        "                          WHERE release_year IN ('1990', '2000')\n",
        "                          AND duration > ('120');''', engine)\n",
        "\n",
        "df[\"duration\"] = df[\"duration\"].astype(int)\n",
        "df = df[df[\"duration\"] > 120]\n",
        "df.head()"
      ],
      "execution_count": 58,
      "outputs": [
        {
          "output_type": "execute_result",
          "data": {
            "text/html": [
              "<div>\n",
              "<style scoped>\n",
              "    .dataframe tbody tr th:only-of-type {\n",
              "        vertical-align: middle;\n",
              "    }\n",
              "\n",
              "    .dataframe tbody tr th {\n",
              "        vertical-align: top;\n",
              "    }\n",
              "\n",
              "    .dataframe thead th {\n",
              "        text-align: right;\n",
              "    }\n",
              "</style>\n",
              "<table border=\"1\" class=\"dataframe\">\n",
              "  <thead>\n",
              "    <tr style=\"text-align: right;\">\n",
              "      <th></th>\n",
              "      <th>title</th>\n",
              "      <th>release_year</th>\n",
              "      <th>duration</th>\n",
              "    </tr>\n",
              "  </thead>\n",
              "  <tbody>\n",
              "    <tr>\n",
              "      <th>1</th>\n",
              "      <td>Dances with Wolves</td>\n",
              "      <td>1990</td>\n",
              "      <td>236</td>\n",
              "    </tr>\n",
              "    <tr>\n",
              "      <th>2</th>\n",
              "      <td>Die Hard 2</td>\n",
              "      <td>1990</td>\n",
              "      <td>124</td>\n",
              "    </tr>\n",
              "    <tr>\n",
              "      <th>3</th>\n",
              "      <td>Ghost</td>\n",
              "      <td>1990</td>\n",
              "      <td>127</td>\n",
              "    </tr>\n",
              "    <tr>\n",
              "      <th>4</th>\n",
              "      <td>Goodfellas</td>\n",
              "      <td>1990</td>\n",
              "      <td>146</td>\n",
              "    </tr>\n",
              "    <tr>\n",
              "      <th>8</th>\n",
              "      <td>Mo' Better Blues</td>\n",
              "      <td>1990</td>\n",
              "      <td>129</td>\n",
              "    </tr>\n",
              "  </tbody>\n",
              "</table>\n",
              "</div>"
            ],
            "text/plain": [
              "                title release_year  duration\n",
              "1  Dances with Wolves         1990       236\n",
              "2          Die Hard 2         1990       124\n",
              "3               Ghost         1990       127\n",
              "4          Goodfellas         1990       146\n",
              "8    Mo' Better Blues         1990       129"
            ]
          },
          "metadata": {},
          "execution_count": 58
        }
      ]
    },
    {
      "cell_type": "markdown",
      "metadata": {
        "id": "iRPiGuOVBB1L"
      },
      "source": [
        "* Get the `title` and `language` of all films which were in English, Spanish, or French."
      ]
    },
    {
      "cell_type": "code",
      "metadata": {
        "colab": {
          "base_uri": "https://localhost:8080/",
          "height": 206
        },
        "id": "fO1UVmHh_YyY",
        "outputId": "58f8ebb7-657c-4434-aca4-deca29908c37"
      },
      "source": [
        "pd.read_sql_query('''SELECT title, language FROM 'public.films'\n",
        "                     WHERE language IN ('English', 'Spanish', 'French')\n",
        "                     LIMIT 5;''', engine)"
      ],
      "execution_count": 59,
      "outputs": [
        {
          "output_type": "execute_result",
          "data": {
            "text/html": [
              "<div>\n",
              "<style scoped>\n",
              "    .dataframe tbody tr th:only-of-type {\n",
              "        vertical-align: middle;\n",
              "    }\n",
              "\n",
              "    .dataframe tbody tr th {\n",
              "        vertical-align: top;\n",
              "    }\n",
              "\n",
              "    .dataframe thead th {\n",
              "        text-align: right;\n",
              "    }\n",
              "</style>\n",
              "<table border=\"1\" class=\"dataframe\">\n",
              "  <thead>\n",
              "    <tr style=\"text-align: right;\">\n",
              "      <th></th>\n",
              "      <th>title</th>\n",
              "      <th>language</th>\n",
              "    </tr>\n",
              "  </thead>\n",
              "  <tbody>\n",
              "    <tr>\n",
              "      <th>0</th>\n",
              "      <td>The Broadway Melody</td>\n",
              "      <td>English</td>\n",
              "    </tr>\n",
              "    <tr>\n",
              "      <th>1</th>\n",
              "      <td>Hell's Angels</td>\n",
              "      <td>English</td>\n",
              "    </tr>\n",
              "    <tr>\n",
              "      <th>2</th>\n",
              "      <td>A Farewell to Arms</td>\n",
              "      <td>English</td>\n",
              "    </tr>\n",
              "    <tr>\n",
              "      <th>3</th>\n",
              "      <td>42nd Street</td>\n",
              "      <td>English</td>\n",
              "    </tr>\n",
              "    <tr>\n",
              "      <th>4</th>\n",
              "      <td>She Done Him Wrong</td>\n",
              "      <td>English</td>\n",
              "    </tr>\n",
              "  </tbody>\n",
              "</table>\n",
              "</div>"
            ],
            "text/plain": [
              "                 title language\n",
              "0  The Broadway Melody  English\n",
              "1        Hell's Angels  English\n",
              "2   A Farewell to Arms  English\n",
              "3          42nd Street  English\n",
              "4   She Done Him Wrong  English"
            ]
          },
          "metadata": {},
          "execution_count": 59
        }
      ]
    },
    {
      "cell_type": "markdown",
      "metadata": {
        "id": "MOmO-KHKB0jr"
      },
      "source": [
        "* Get the `title` and `certification` of all films with an `NC-17` or `R` certification."
      ]
    },
    {
      "cell_type": "code",
      "metadata": {
        "colab": {
          "base_uri": "https://localhost:8080/",
          "height": 206
        },
        "id": "Kd2XIFv3Bu8s",
        "outputId": "8c55afc2-d1ec-47ad-b5ac-dab56d8e0dc7"
      },
      "source": [
        "pd.read_sql_query('''SELECT title, certification \n",
        "                     FROM 'public.films'\n",
        "                     WHERE certification IN ('NC-17', 'R')\n",
        "                     LIMIT 5;''', engine)"
      ],
      "execution_count": 60,
      "outputs": [
        {
          "output_type": "execute_result",
          "data": {
            "text/html": [
              "<div>\n",
              "<style scoped>\n",
              "    .dataframe tbody tr th:only-of-type {\n",
              "        vertical-align: middle;\n",
              "    }\n",
              "\n",
              "    .dataframe tbody tr th {\n",
              "        vertical-align: top;\n",
              "    }\n",
              "\n",
              "    .dataframe thead th {\n",
              "        text-align: right;\n",
              "    }\n",
              "</style>\n",
              "<table border=\"1\" class=\"dataframe\">\n",
              "  <thead>\n",
              "    <tr style=\"text-align: right;\">\n",
              "      <th></th>\n",
              "      <th>title</th>\n",
              "      <th>certification</th>\n",
              "    </tr>\n",
              "  </thead>\n",
              "  <tbody>\n",
              "    <tr>\n",
              "      <th>0</th>\n",
              "      <td>Psycho</td>\n",
              "      <td>R</td>\n",
              "    </tr>\n",
              "    <tr>\n",
              "      <th>1</th>\n",
              "      <td>A Fistful of Dollars</td>\n",
              "      <td>R</td>\n",
              "    </tr>\n",
              "    <tr>\n",
              "      <th>2</th>\n",
              "      <td>Rosemary's Baby</td>\n",
              "      <td>R</td>\n",
              "    </tr>\n",
              "    <tr>\n",
              "      <th>3</th>\n",
              "      <td>Mississippi Mermaid</td>\n",
              "      <td>R</td>\n",
              "    </tr>\n",
              "    <tr>\n",
              "      <th>4</th>\n",
              "      <td>The Wild Bunch</td>\n",
              "      <td>R</td>\n",
              "    </tr>\n",
              "  </tbody>\n",
              "</table>\n",
              "</div>"
            ],
            "text/plain": [
              "                  title certification\n",
              "0                Psycho             R\n",
              "1  A Fistful of Dollars             R\n",
              "2       Rosemary's Baby             R\n",
              "3   Mississippi Mermaid             R\n",
              "4        The Wild Bunch             R"
            ]
          },
          "metadata": {},
          "execution_count": 60
        }
      ]
    },
    {
      "cell_type": "markdown",
      "metadata": {
        "id": "GTrJAp4qCN1Y"
      },
      "source": [
        "# **Introduction to NULL and IS NULL**\n",
        "\n",
        "In SQL, `NULL` represents a missing or unknown value. You can check for `NULL` values using the expression `IS NULL`. For example, to count the number of missing birth dates in the `people` table:\n",
        "\n",
        "```\n",
        "SELECT COUNT(*)\n",
        "FROM people\n",
        "WHERE birthdate IS NULL;\n",
        "```\n",
        "\n",
        "As you can see, `IS NULL` is useful when combined with `WHERE` to figure out <ins>what data you're missing</ins>.\n",
        "\n",
        "Sometimes, you'll want to filter out missing values so you only get results which are not `NULL`. To do this, you can use the `IS NOT NULL` operator.\n",
        "\n",
        "For example, this query gives the names of all people whose birth dates are not missing in the people table.\n",
        "\n",
        "```\n",
        "SELECT name\n",
        "FROM people\n",
        "WHERE birthdate IS NOT NULL;\n",
        "```\n",
        "* Get the `name`s of people who are still alive, i.e. whose `deathdate` is missing.\n",
        "\n",
        "## เหมือนจะมีปัญหาที่ยังแก้กันอยู่ในการอ่าน NULL values ด้วย `pd.read_sql_query`\n"
      ]
    },
    {
      "cell_type": "code",
      "metadata": {
        "id": "i2clzb6yCFGg"
      },
      "source": [
        "df = pd.read_sql_query('''SELECT name, deathdate FROM 'public.people'\n",
        "                          WHERE deathdate IS NULL;''', engine)"
      ],
      "execution_count": 88,
      "outputs": []
    },
    {
      "cell_type": "markdown",
      "metadata": {
        "id": "yC4O0-_GINef"
      },
      "source": [
        "* Get the `title` of every film which doesn't have a `budget` associated with it.\n",
        "\n",
        "\n",
        "\n",
        "```\n",
        "SELECT title FROM films\n",
        "WHERE budget IS NULL\n",
        "```\n",
        "\n",
        "* Get the number of films which don't have a language associated with them.\n",
        "\n",
        "\n",
        "\n",
        "```\n",
        "SELECT COUNT(*) FROM films\n",
        "WHERE language IS NULL\n",
        "```\n",
        "\n",
        "\n",
        "\n"
      ]
    },
    {
      "cell_type": "markdown",
      "metadata": {
        "id": "QPDEufAJcC87"
      },
      "source": [
        "# **LIKE and NOT LIKE**\n",
        "\n",
        "As you've seen, the `WHERE` clause can be used to filter text data. However, so far you've only been able to filter by specifying the <ins>*exact*</ins> text you're interested in. In the real world, often you'll want to search for a pattern rather than a specific text string.\n",
        "\n",
        "In SQL, the `LIKE` operator can be used in a `WHERE` clause to search for a pattern in a column. To accomplish this, you use something called a <ins>*wildcard*</ins> as a placeholder for some other values. There are two wildcards you can use with `LIKE`:\n",
        "\n",
        "* The `%` wildcard will match zero, one, or many characters in text. For example, the following query matches companies like `'Data'`, `'DataC'` `'DataCamp'`, `'DataMind'`, and so on:\n",
        "\n",
        "\n",
        "\n",
        "```\n",
        "SELECT name\n",
        "FROM companies\n",
        "WHERE name LIKE 'Data%';\n",
        "```\n",
        "\n",
        "* The `_` wildcard will match a single character. For example, the following query matches companies like `'DataCamp'`, `'DataComp'`, and so on:\n",
        "\n",
        "\n",
        "\n",
        "```\n",
        "SELECT name\n",
        "FROM companies\n",
        "WHERE name LIKE 'DataC_mp';\n",
        "```\n",
        "\n",
        "\n",
        "You can also use the `NOT LIKE` operator to find records that don't match the pattern you specify.\n",
        "\n",
        "* Get the names of all people whose names begin with `'B'`. The pattern you need is `'B%'`.\n",
        "\n"
      ]
    },
    {
      "cell_type": "code",
      "metadata": {
        "colab": {
          "base_uri": "https://localhost:8080/",
          "height": 206
        },
        "id": "iSa_hAQeDGBb",
        "outputId": "d66dbb75-298e-45f5-8bcf-01de3cbb9c42"
      },
      "source": [
        "pd.read_sql_query('''SELECT name \n",
        "                     FROM 'public.people'\n",
        "                     WHERE name LIKE 'B%'\n",
        "                     LIMIT 5;''', con=engine)"
      ],
      "execution_count": 96,
      "outputs": [
        {
          "output_type": "execute_result",
          "data": {
            "text/html": [
              "<div>\n",
              "<style scoped>\n",
              "    .dataframe tbody tr th:only-of-type {\n",
              "        vertical-align: middle;\n",
              "    }\n",
              "\n",
              "    .dataframe tbody tr th {\n",
              "        vertical-align: top;\n",
              "    }\n",
              "\n",
              "    .dataframe thead th {\n",
              "        text-align: right;\n",
              "    }\n",
              "</style>\n",
              "<table border=\"1\" class=\"dataframe\">\n",
              "  <thead>\n",
              "    <tr style=\"text-align: right;\">\n",
              "      <th></th>\n",
              "      <th>name</th>\n",
              "    </tr>\n",
              "  </thead>\n",
              "  <tbody>\n",
              "    <tr>\n",
              "      <th>0</th>\n",
              "      <td>B.J. Novak</td>\n",
              "    </tr>\n",
              "    <tr>\n",
              "      <th>1</th>\n",
              "      <td>Babak Najafi</td>\n",
              "    </tr>\n",
              "    <tr>\n",
              "      <th>2</th>\n",
              "      <td>Babar Ahmed</td>\n",
              "    </tr>\n",
              "    <tr>\n",
              "      <th>3</th>\n",
              "      <td>Bahare Seddiqi</td>\n",
              "    </tr>\n",
              "    <tr>\n",
              "      <th>4</th>\n",
              "      <td>Bai Ling</td>\n",
              "    </tr>\n",
              "  </tbody>\n",
              "</table>\n",
              "</div>"
            ],
            "text/plain": [
              "             name\n",
              "0      B.J. Novak\n",
              "1    Babak Najafi\n",
              "2     Babar Ahmed\n",
              "3  Bahare Seddiqi\n",
              "4        Bai Ling"
            ]
          },
          "metadata": {},
          "execution_count": 96
        }
      ]
    },
    {
      "cell_type": "markdown",
      "metadata": {
        "id": "7INEsbbeexi4"
      },
      "source": [
        "* Get the `name`s of people whose names have `'r'` as the second letter. The pattern you need is `'_r%'`."
      ]
    },
    {
      "cell_type": "code",
      "metadata": {
        "colab": {
          "base_uri": "https://localhost:8080/",
          "height": 206
        },
        "id": "TeryBm3uHhZZ",
        "outputId": "83b5603c-1070-463c-d09c-5d35c39a1156"
      },
      "source": [
        "pd.read_sql_query('''SELECT name \n",
        "                     FROM 'public.people'\n",
        "                     WHERE name LIKE '_r%'\n",
        "                     LIMIT 5;''', con=engine)"
      ],
      "execution_count": 97,
      "outputs": [
        {
          "output_type": "execute_result",
          "data": {
            "text/html": [
              "<div>\n",
              "<style scoped>\n",
              "    .dataframe tbody tr th:only-of-type {\n",
              "        vertical-align: middle;\n",
              "    }\n",
              "\n",
              "    .dataframe tbody tr th {\n",
              "        vertical-align: top;\n",
              "    }\n",
              "\n",
              "    .dataframe thead th {\n",
              "        text-align: right;\n",
              "    }\n",
              "</style>\n",
              "<table border=\"1\" class=\"dataframe\">\n",
              "  <thead>\n",
              "    <tr style=\"text-align: right;\">\n",
              "      <th></th>\n",
              "      <th>name</th>\n",
              "    </tr>\n",
              "  </thead>\n",
              "  <tbody>\n",
              "    <tr>\n",
              "      <th>0</th>\n",
              "      <td>Ara Celi</td>\n",
              "    </tr>\n",
              "    <tr>\n",
              "      <th>1</th>\n",
              "      <td>Aramis Knight</td>\n",
              "    </tr>\n",
              "    <tr>\n",
              "      <th>2</th>\n",
              "      <td>Arben Bajraktaraj</td>\n",
              "    </tr>\n",
              "    <tr>\n",
              "      <th>3</th>\n",
              "      <td>Arcelia Ramírez</td>\n",
              "    </tr>\n",
              "    <tr>\n",
              "      <th>4</th>\n",
              "      <td>Archie Kao</td>\n",
              "    </tr>\n",
              "  </tbody>\n",
              "</table>\n",
              "</div>"
            ],
            "text/plain": [
              "                name\n",
              "0           Ara Celi\n",
              "1      Aramis Knight\n",
              "2  Arben Bajraktaraj\n",
              "3    Arcelia Ramírez\n",
              "4         Archie Kao"
            ]
          },
          "metadata": {},
          "execution_count": 97
        }
      ]
    },
    {
      "cell_type": "markdown",
      "metadata": {
        "id": "EJLQHjCIe_gf"
      },
      "source": [
        "* Get the names of people whose names don't start with A. The pattern you need is `'A%'`."
      ]
    },
    {
      "cell_type": "code",
      "metadata": {
        "colab": {
          "base_uri": "https://localhost:8080/",
          "height": 206
        },
        "id": "VfYercqge6j2",
        "outputId": "5c09e5d2-e069-45f4-d33a-2efbef0f23d7"
      },
      "source": [
        "pd.read_sql_query('''SELECT name \n",
        "                     FROM 'public.people'\n",
        "                     WHERE name NOT LIKE 'A%'\n",
        "                     LIMIT 5;''', con=engine)"
      ],
      "execution_count": 98,
      "outputs": [
        {
          "output_type": "execute_result",
          "data": {
            "text/html": [
              "<div>\n",
              "<style scoped>\n",
              "    .dataframe tbody tr th:only-of-type {\n",
              "        vertical-align: middle;\n",
              "    }\n",
              "\n",
              "    .dataframe tbody tr th {\n",
              "        vertical-align: top;\n",
              "    }\n",
              "\n",
              "    .dataframe thead th {\n",
              "        text-align: right;\n",
              "    }\n",
              "</style>\n",
              "<table border=\"1\" class=\"dataframe\">\n",
              "  <thead>\n",
              "    <tr style=\"text-align: right;\">\n",
              "      <th></th>\n",
              "      <th>name</th>\n",
              "    </tr>\n",
              "  </thead>\n",
              "  <tbody>\n",
              "    <tr>\n",
              "      <th>0</th>\n",
              "      <td>50 Cent</td>\n",
              "    </tr>\n",
              "    <tr>\n",
              "      <th>1</th>\n",
              "      <td>Álex Angulo</td>\n",
              "    </tr>\n",
              "    <tr>\n",
              "      <th>2</th>\n",
              "      <td>Álex de la Iglesia</td>\n",
              "    </tr>\n",
              "    <tr>\n",
              "      <th>3</th>\n",
              "      <td>Ángela Molina</td>\n",
              "    </tr>\n",
              "    <tr>\n",
              "      <th>4</th>\n",
              "      <td>B.J. Novak</td>\n",
              "    </tr>\n",
              "  </tbody>\n",
              "</table>\n",
              "</div>"
            ],
            "text/plain": [
              "                 name\n",
              "0             50 Cent\n",
              "1         Álex Angulo\n",
              "2  Álex de la Iglesia\n",
              "3       Ángela Molina\n",
              "4          B.J. Novak"
            ]
          },
          "metadata": {},
          "execution_count": 98
        }
      ]
    },
    {
      "cell_type": "markdown",
      "metadata": {
        "id": "_H3sMrdEfSKm"
      },
      "source": [
        "# **Aggregate functions**\n",
        "\n",
        "Often, you will want to perform some calculation on the data in a database. SQL provides a few functions, called aggregate functions, to help you out with this.\n",
        "\n",
        "For example,\n",
        "\n",
        "```\n",
        "SELECT AVG(budget)\n",
        "FROM films;\n",
        "```\n",
        "\n",
        "\n",
        "gives you the average value from the budget column of the films table. Similarly, the `MAX()` function returns the highest budget:\n",
        "\n",
        "\n",
        "\n",
        "```\n",
        "SELECT MAX(budget)\n",
        "FROM films;\n",
        "```\n",
        "\n",
        "\n",
        "The `SUM()` function returns the result of adding up the numeric values in a column:\n",
        "\n",
        "\n",
        "\n",
        "```\n",
        "SELECT SUM(budget)\n",
        "FROM films;\n",
        "```\n",
        "\n",
        "\n",
        "You can probably guess what the `MIN()` function does! Now it's your turn to try out some SQL functions.\n",
        "\n",
        "* Use the `SUM()` function to get the total duration of all films."
      ]
    },
    {
      "cell_type": "code",
      "metadata": {
        "colab": {
          "base_uri": "https://localhost:8080/",
          "height": 81
        },
        "id": "OePmda4mfHkk",
        "outputId": "33386ea0-9580-4842-bb26-d237e933b9c3"
      },
      "source": [
        "pd.read_sql_query('''SELECT SUM(duration) AS sum\n",
        "                     FROM 'public.films';''', con=engine)"
      ],
      "execution_count": 99,
      "outputs": [
        {
          "output_type": "execute_result",
          "data": {
            "text/html": [
              "<div>\n",
              "<style scoped>\n",
              "    .dataframe tbody tr th:only-of-type {\n",
              "        vertical-align: middle;\n",
              "    }\n",
              "\n",
              "    .dataframe tbody tr th {\n",
              "        vertical-align: top;\n",
              "    }\n",
              "\n",
              "    .dataframe thead th {\n",
              "        text-align: right;\n",
              "    }\n",
              "</style>\n",
              "<table border=\"1\" class=\"dataframe\">\n",
              "  <thead>\n",
              "    <tr style=\"text-align: right;\">\n",
              "      <th></th>\n",
              "      <th>sum</th>\n",
              "    </tr>\n",
              "  </thead>\n",
              "  <tbody>\n",
              "    <tr>\n",
              "      <th>0</th>\n",
              "      <td>534882.0</td>\n",
              "    </tr>\n",
              "  </tbody>\n",
              "</table>\n",
              "</div>"
            ],
            "text/plain": [
              "        sum\n",
              "0  534882.0"
            ]
          },
          "metadata": {},
          "execution_count": 99
        }
      ]
    },
    {
      "cell_type": "markdown",
      "metadata": {
        "id": "Zu4vtcSNgrs7"
      },
      "source": [
        "* Get the average duration of all films."
      ]
    },
    {
      "cell_type": "code",
      "metadata": {
        "colab": {
          "base_uri": "https://localhost:8080/",
          "height": 81
        },
        "id": "ZvbJrt6ngFVc",
        "outputId": "e0dbc027-9f20-440f-a76c-01fbac221153"
      },
      "source": [
        "pd.read_sql_query('''SELECT AVG(duration)\n",
        "                     FROM 'public.films';''', con=engine)"
      ],
      "execution_count": 104,
      "outputs": [
        {
          "output_type": "execute_result",
          "data": {
            "text/html": [
              "<div>\n",
              "<style scoped>\n",
              "    .dataframe tbody tr th:only-of-type {\n",
              "        vertical-align: middle;\n",
              "    }\n",
              "\n",
              "    .dataframe tbody tr th {\n",
              "        vertical-align: top;\n",
              "    }\n",
              "\n",
              "    .dataframe thead th {\n",
              "        text-align: right;\n",
              "    }\n",
              "</style>\n",
              "<table border=\"1\" class=\"dataframe\">\n",
              "  <thead>\n",
              "    <tr style=\"text-align: right;\">\n",
              "      <th></th>\n",
              "      <th>AVG(duration)</th>\n",
              "    </tr>\n",
              "  </thead>\n",
              "  <tbody>\n",
              "    <tr>\n",
              "      <th>0</th>\n",
              "      <td>107.665459</td>\n",
              "    </tr>\n",
              "  </tbody>\n",
              "</table>\n",
              "</div>"
            ],
            "text/plain": [
              "   AVG(duration)\n",
              "0     107.665459"
            ]
          },
          "metadata": {},
          "execution_count": 104
        }
      ]
    },
    {
      "cell_type": "markdown",
      "metadata": {
        "id": "wm-rmPtvg26s"
      },
      "source": [
        "* Get the duration of the shortest film."
      ]
    },
    {
      "cell_type": "code",
      "metadata": {
        "colab": {
          "base_uri": "https://localhost:8080/",
          "height": 81
        },
        "id": "tUu-mwoogPbY",
        "outputId": "1aff4d50-4245-4953-9e11-53131f453646"
      },
      "source": [
        "pd.read_sql_query('''SELECT MIN(duration)\n",
        "                     FROM 'public.films';''', con=engine)"
      ],
      "execution_count": 105,
      "outputs": [
        {
          "output_type": "execute_result",
          "data": {
            "text/html": [
              "<div>\n",
              "<style scoped>\n",
              "    .dataframe tbody tr th:only-of-type {\n",
              "        vertical-align: middle;\n",
              "    }\n",
              "\n",
              "    .dataframe tbody tr th {\n",
              "        vertical-align: top;\n",
              "    }\n",
              "\n",
              "    .dataframe thead th {\n",
              "        text-align: right;\n",
              "    }\n",
              "</style>\n",
              "<table border=\"1\" class=\"dataframe\">\n",
              "  <thead>\n",
              "    <tr style=\"text-align: right;\">\n",
              "      <th></th>\n",
              "      <th>MIN(duration)</th>\n",
              "    </tr>\n",
              "  </thead>\n",
              "  <tbody>\n",
              "    <tr>\n",
              "      <th>0</th>\n",
              "      <td></td>\n",
              "    </tr>\n",
              "  </tbody>\n",
              "</table>\n",
              "</div>"
            ],
            "text/plain": [
              "  MIN(duration)\n",
              "0              "
            ]
          },
          "metadata": {},
          "execution_count": 105
        }
      ]
    },
    {
      "cell_type": "markdown",
      "metadata": {
        "id": "_A1e_szRhFjA"
      },
      "source": [
        "* Get the duration of the longest film."
      ]
    },
    {
      "cell_type": "code",
      "metadata": {
        "colab": {
          "base_uri": "https://localhost:8080/",
          "height": 81
        },
        "id": "6b24PXECg7-1",
        "outputId": "6a210ef4-9a23-4881-ae08-75a2bbf578f7"
      },
      "source": [
        "pd.read_sql_query('''SELECT MAX(duration)\n",
        "                     FROM 'public.films';''', con=engine)"
      ],
      "execution_count": 106,
      "outputs": [
        {
          "output_type": "execute_result",
          "data": {
            "text/html": [
              "<div>\n",
              "<style scoped>\n",
              "    .dataframe tbody tr th:only-of-type {\n",
              "        vertical-align: middle;\n",
              "    }\n",
              "\n",
              "    .dataframe tbody tr th {\n",
              "        vertical-align: top;\n",
              "    }\n",
              "\n",
              "    .dataframe thead th {\n",
              "        text-align: right;\n",
              "    }\n",
              "</style>\n",
              "<table border=\"1\" class=\"dataframe\">\n",
              "  <thead>\n",
              "    <tr style=\"text-align: right;\">\n",
              "      <th></th>\n",
              "      <th>MAX(duration)</th>\n",
              "    </tr>\n",
              "  </thead>\n",
              "  <tbody>\n",
              "    <tr>\n",
              "      <th>0</th>\n",
              "      <td>99</td>\n",
              "    </tr>\n",
              "  </tbody>\n",
              "</table>\n",
              "</div>"
            ],
            "text/plain": [
              "  MAX(duration)\n",
              "0            99"
            ]
          },
          "metadata": {},
          "execution_count": 106
        }
      ]
    },
    {
      "cell_type": "markdown",
      "metadata": {
        "id": "Ga1jbH4Ii3bN"
      },
      "source": [
        "`MAX()` กับ `MIN()` ดูจะมีปัญหา เพราะค่าจริงๆต้องได้แบบนี้"
      ]
    },
    {
      "cell_type": "code",
      "metadata": {
        "colab": {
          "base_uri": "https://localhost:8080/"
        },
        "id": "cV_0dC3lhNm7",
        "outputId": "24c869cf-f326-4240-dd3a-4c9e6fafc59f"
      },
      "source": [
        "df = pd.read_sql_query(\"SELECT duration FROM 'public.films'\", engine)\n",
        "df = df[df[\"duration\"] != ''] # ตัวที่เป็น string ว่าง คือ NULL แต่ pd.read_sql_query จัดการพวกนี้ไม่ได้ ?\n",
        "df[\"duration\"] = df[\"duration\"].astype(int)\n",
        "print(df[\"duration\"].max())\n",
        "print(df[\"duration\"].min())\n",
        "print(df[\"duration\"].mean())\n",
        "print(df[\"duration\"].sum())"
      ],
      "execution_count": 126,
      "outputs": [
        {
          "output_type": "stream",
          "name": "stdout",
          "text": [
            "334\n",
            "7\n",
            "107.94793138244198\n",
            "534882\n"
          ]
        }
      ]
    },
    {
      "cell_type": "markdown",
      "metadata": {
        "id": "YV_d8mGEjgyr"
      },
      "source": [
        "* Use the `SUM()` function to get the total amount grossed by all films."
      ]
    },
    {
      "cell_type": "code",
      "metadata": {
        "colab": {
          "base_uri": "https://localhost:8080/",
          "height": 81
        },
        "id": "-y_7int8ha8t",
        "outputId": "b934bf31-cd43-44de-c591-e9ff3fbdeac1"
      },
      "source": [
        "pd.read_sql_query('''SELECT SUM(gross)\n",
        "                     FROM 'public.films';''', con=engine)"
      ],
      "execution_count": 127,
      "outputs": [
        {
          "output_type": "execute_result",
          "data": {
            "text/html": [
              "<div>\n",
              "<style scoped>\n",
              "    .dataframe tbody tr th:only-of-type {\n",
              "        vertical-align: middle;\n",
              "    }\n",
              "\n",
              "    .dataframe tbody tr th {\n",
              "        vertical-align: top;\n",
              "    }\n",
              "\n",
              "    .dataframe thead th {\n",
              "        text-align: right;\n",
              "    }\n",
              "</style>\n",
              "<table border=\"1\" class=\"dataframe\">\n",
              "  <thead>\n",
              "    <tr style=\"text-align: right;\">\n",
              "      <th></th>\n",
              "      <th>SUM(gross)</th>\n",
              "    </tr>\n",
              "  </thead>\n",
              "  <tbody>\n",
              "    <tr>\n",
              "      <th>0</th>\n",
              "      <td>2.025158e+11</td>\n",
              "    </tr>\n",
              "  </tbody>\n",
              "</table>\n",
              "</div>"
            ],
            "text/plain": [
              "     SUM(gross)\n",
              "0  2.025158e+11"
            ]
          },
          "metadata": {},
          "execution_count": 127
        }
      ]
    },
    {
      "cell_type": "markdown",
      "metadata": {
        "id": "qYoaJBVIkABV"
      },
      "source": [
        "* Get the average amount grossed by all films."
      ]
    },
    {
      "cell_type": "code",
      "metadata": {
        "colab": {
          "base_uri": "https://localhost:8080/",
          "height": 81
        },
        "id": "ekHtTJs5joRL",
        "outputId": "b496c622-83f7-48e8-b245-f45470db73d4"
      },
      "source": [
        "pd.read_sql_query('''SELECT AVG(gross)\n",
        "                     FROM 'public.films';''', con=engine)"
      ],
      "execution_count": 128,
      "outputs": [
        {
          "output_type": "execute_result",
          "data": {
            "text/html": [
              "<div>\n",
              "<style scoped>\n",
              "    .dataframe tbody tr th:only-of-type {\n",
              "        vertical-align: middle;\n",
              "    }\n",
              "\n",
              "    .dataframe tbody tr th {\n",
              "        vertical-align: top;\n",
              "    }\n",
              "\n",
              "    .dataframe thead th {\n",
              "        text-align: right;\n",
              "    }\n",
              "</style>\n",
              "<table border=\"1\" class=\"dataframe\">\n",
              "  <thead>\n",
              "    <tr style=\"text-align: right;\">\n",
              "      <th></th>\n",
              "      <th>AVG(gross)</th>\n",
              "    </tr>\n",
              "  </thead>\n",
              "  <tbody>\n",
              "    <tr>\n",
              "      <th>0</th>\n",
              "      <td>4.076406e+07</td>\n",
              "    </tr>\n",
              "  </tbody>\n",
              "</table>\n",
              "</div>"
            ],
            "text/plain": [
              "     AVG(gross)\n",
              "0  4.076406e+07"
            ]
          },
          "metadata": {},
          "execution_count": 128
        }
      ]
    },
    {
      "cell_type": "markdown",
      "metadata": {
        "id": "jS65HrR-kT4l"
      },
      "source": [
        "`MIN()` และ `MAX()` มีปัญหา"
      ]
    },
    {
      "cell_type": "code",
      "metadata": {
        "colab": {
          "base_uri": "https://localhost:8080/",
          "height": 81
        },
        "id": "LWdvZ-w6kEci",
        "outputId": "10c304a6-a145-4904-c6c4-401571162dfe"
      },
      "source": [
        "pd.read_sql_query('''SELECT MAX(gross)\n",
        "                     FROM 'public.films';''', con=engine)"
      ],
      "execution_count": 130,
      "outputs": [
        {
          "output_type": "execute_result",
          "data": {
            "text/html": [
              "<div>\n",
              "<style scoped>\n",
              "    .dataframe tbody tr th:only-of-type {\n",
              "        vertical-align: middle;\n",
              "    }\n",
              "\n",
              "    .dataframe tbody tr th {\n",
              "        vertical-align: top;\n",
              "    }\n",
              "\n",
              "    .dataframe thead th {\n",
              "        text-align: right;\n",
              "    }\n",
              "</style>\n",
              "<table border=\"1\" class=\"dataframe\">\n",
              "  <thead>\n",
              "    <tr style=\"text-align: right;\">\n",
              "      <th></th>\n",
              "      <th>MAX(gross)</th>\n",
              "    </tr>\n",
              "  </thead>\n",
              "  <tbody>\n",
              "    <tr>\n",
              "      <th>0</th>\n",
              "      <td>99851</td>\n",
              "    </tr>\n",
              "  </tbody>\n",
              "</table>\n",
              "</div>"
            ],
            "text/plain": [
              "  MAX(gross)\n",
              "0      99851"
            ]
          },
          "metadata": {},
          "execution_count": 130
        }
      ]
    },
    {
      "cell_type": "code",
      "metadata": {
        "colab": {
          "base_uri": "https://localhost:8080/"
        },
        "id": "MvoqFuI_kPdL",
        "outputId": "087e7cf1-d979-4fc5-becf-e6541045a1d4"
      },
      "source": [
        "df = pd.read_sql_query(\"SELECT gross FROM 'public.films'\", engine)\n",
        "df = df[df[\"gross\"] != ''] # ตัวที่เป็น string ว่าง คือ NULL แต่ pd.read_sql_query จัดการพวกนี้ไม่ได้ ?\n",
        "df[\"gross\"] = df[\"gross\"].astype(int)\n",
        "print(df[\"gross\"].max())\n",
        "print(df[\"gross\"].min())\n",
        "print(df[\"gross\"].mean())\n",
        "print(df[\"gross\"].sum())"
      ],
      "execution_count": 131,
      "outputs": [
        {
          "output_type": "stream",
          "name": "stdout",
          "text": [
            "936627416\n",
            "162\n",
            "48705108.25733526\n",
            "202515840134\n"
          ]
        }
      ]
    },
    {
      "cell_type": "markdown",
      "metadata": {
        "id": "WPDDa01Zk-YM"
      },
      "source": [
        "# **Combining aggregate functions with WHERE**\n",
        "\n",
        "Aggregate functions can be combined with the `WHERE` clause to gain further insights from your data.\n",
        "\n",
        "For example, to get the total budget of movies made in the year 2010 or later:\n",
        "\n",
        "\n",
        "\n",
        "```\n",
        "SELECT SUM(budget)\n",
        "FROM films\n",
        "WHERE release_year >= 2010;\n",
        "```\n",
        "\n",
        "* Use the `SUM()` function to get the total amount grossed by all films made in the year 2000 or later.\n",
        "\n"
      ]
    },
    {
      "cell_type": "code",
      "metadata": {
        "colab": {
          "base_uri": "https://localhost:8080/",
          "height": 81
        },
        "id": "H2RdKTOBkxS8",
        "outputId": "07fc14e3-ef22-46ad-838e-3257e5fffe6c"
      },
      "source": [
        "pd.read_sql_query('''SELECT SUM(gross)\n",
        "                     FROM 'public.films'\n",
        "                     WHERE release_year >= '2000';''', con=engine)"
      ],
      "execution_count": 132,
      "outputs": [
        {
          "output_type": "execute_result",
          "data": {
            "text/html": [
              "<div>\n",
              "<style scoped>\n",
              "    .dataframe tbody tr th:only-of-type {\n",
              "        vertical-align: middle;\n",
              "    }\n",
              "\n",
              "    .dataframe tbody tr th {\n",
              "        vertical-align: top;\n",
              "    }\n",
              "\n",
              "    .dataframe thead th {\n",
              "        text-align: right;\n",
              "    }\n",
              "</style>\n",
              "<table border=\"1\" class=\"dataframe\">\n",
              "  <thead>\n",
              "    <tr style=\"text-align: right;\">\n",
              "      <th></th>\n",
              "      <th>SUM(gross)</th>\n",
              "    </tr>\n",
              "  </thead>\n",
              "  <tbody>\n",
              "    <tr>\n",
              "      <th>0</th>\n",
              "      <td>1.509009e+11</td>\n",
              "    </tr>\n",
              "  </tbody>\n",
              "</table>\n",
              "</div>"
            ],
            "text/plain": [
              "     SUM(gross)\n",
              "0  1.509009e+11"
            ]
          },
          "metadata": {},
          "execution_count": 132
        }
      ]
    },
    {
      "cell_type": "markdown",
      "metadata": {
        "id": "1UNnRbpLl9MU"
      },
      "source": [
        "* Get the average amount grossed by all films whose titles start with the letter `'A'`."
      ]
    },
    {
      "cell_type": "code",
      "metadata": {
        "colab": {
          "base_uri": "https://localhost:8080/",
          "height": 81
        },
        "id": "FKM-BhQ4l5VL",
        "outputId": "49a75140-5c67-487b-e02e-cbe505ca50f0"
      },
      "source": [
        "pd.read_sql_query('''SELECT AVG(gross)\n",
        "                     FROM 'public.films'\n",
        "                     WHERE title LIKE 'A%';''', con=engine)"
      ],
      "execution_count": 133,
      "outputs": [
        {
          "output_type": "execute_result",
          "data": {
            "text/html": [
              "<div>\n",
              "<style scoped>\n",
              "    .dataframe tbody tr th:only-of-type {\n",
              "        vertical-align: middle;\n",
              "    }\n",
              "\n",
              "    .dataframe tbody tr th {\n",
              "        vertical-align: top;\n",
              "    }\n",
              "\n",
              "    .dataframe thead th {\n",
              "        text-align: right;\n",
              "    }\n",
              "</style>\n",
              "<table border=\"1\" class=\"dataframe\">\n",
              "  <thead>\n",
              "    <tr style=\"text-align: right;\">\n",
              "      <th></th>\n",
              "      <th>AVG(gross)</th>\n",
              "    </tr>\n",
              "  </thead>\n",
              "  <tbody>\n",
              "    <tr>\n",
              "      <th>0</th>\n",
              "      <td>3.825528e+07</td>\n",
              "    </tr>\n",
              "  </tbody>\n",
              "</table>\n",
              "</div>"
            ],
            "text/plain": [
              "     AVG(gross)\n",
              "0  3.825528e+07"
            ]
          },
          "metadata": {},
          "execution_count": 133
        }
      ]
    },
    {
      "cell_type": "markdown",
      "metadata": {
        "id": "1S5L20jvmcET"
      },
      "source": [
        "* Get the amount grossed by the worst performing film in 1994."
      ]
    },
    {
      "cell_type": "code",
      "metadata": {
        "colab": {
          "base_uri": "https://localhost:8080/",
          "height": 81
        },
        "id": "0Hrx45w0mOkA",
        "outputId": "b48a7fd7-1bab-44eb-adcf-cc7ba57e76d9"
      },
      "source": [
        "pd.read_sql_query('''SELECT MIN(gross)\n",
        "                     FROM 'public.films'\n",
        "                     WHERE release_year = '1994';''', con=engine)"
      ],
      "execution_count": 134,
      "outputs": [
        {
          "output_type": "execute_result",
          "data": {
            "text/html": [
              "<div>\n",
              "<style scoped>\n",
              "    .dataframe tbody tr th:only-of-type {\n",
              "        vertical-align: middle;\n",
              "    }\n",
              "\n",
              "    .dataframe tbody tr th {\n",
              "        vertical-align: top;\n",
              "    }\n",
              "\n",
              "    .dataframe thead th {\n",
              "        text-align: right;\n",
              "    }\n",
              "</style>\n",
              "<table border=\"1\" class=\"dataframe\">\n",
              "  <thead>\n",
              "    <tr style=\"text-align: right;\">\n",
              "      <th></th>\n",
              "      <th>MIN(gross)</th>\n",
              "    </tr>\n",
              "  </thead>\n",
              "  <tbody>\n",
              "    <tr>\n",
              "      <th>0</th>\n",
              "      <td></td>\n",
              "    </tr>\n",
              "  </tbody>\n",
              "</table>\n",
              "</div>"
            ],
            "text/plain": [
              "  MIN(gross)\n",
              "0           "
            ]
          },
          "metadata": {},
          "execution_count": 134
        }
      ]
    },
    {
      "cell_type": "markdown",
      "metadata": {
        "id": "hADmH799mqP2"
      },
      "source": [
        "* Get the amount grossed by the best performing film between 2000 and 2012, inclusive."
      ]
    },
    {
      "cell_type": "code",
      "metadata": {
        "colab": {
          "base_uri": "https://localhost:8080/",
          "height": 81
        },
        "id": "OPm5WYJpmnHs",
        "outputId": "a49e2a45-9161-4cc2-8796-e15ff617367e"
      },
      "source": [
        "pd.read_sql_query('''SELECT MAX(gross)\n",
        "                     FROM 'public.films'\n",
        "                     WHERE release_year BETWEEN '2000' AND '2012';''', con=engine)"
      ],
      "execution_count": 135,
      "outputs": [
        {
          "output_type": "execute_result",
          "data": {
            "text/html": [
              "<div>\n",
              "<style scoped>\n",
              "    .dataframe tbody tr th:only-of-type {\n",
              "        vertical-align: middle;\n",
              "    }\n",
              "\n",
              "    .dataframe tbody tr th {\n",
              "        vertical-align: top;\n",
              "    }\n",
              "\n",
              "    .dataframe thead th {\n",
              "        text-align: right;\n",
              "    }\n",
              "</style>\n",
              "<table border=\"1\" class=\"dataframe\">\n",
              "  <thead>\n",
              "    <tr style=\"text-align: right;\">\n",
              "      <th></th>\n",
              "      <th>MAX(gross)</th>\n",
              "    </tr>\n",
              "  </thead>\n",
              "  <tbody>\n",
              "    <tr>\n",
              "      <th>0</th>\n",
              "      <td>99851</td>\n",
              "    </tr>\n",
              "  </tbody>\n",
              "</table>\n",
              "</div>"
            ],
            "text/plain": [
              "  MAX(gross)\n",
              "0      99851"
            ]
          },
          "metadata": {},
          "execution_count": 135
        }
      ]
    },
    {
      "cell_type": "code",
      "metadata": {
        "colab": {
          "base_uri": "https://localhost:8080/"
        },
        "id": "8H9BOfsNm1wB",
        "outputId": "ac446066-334f-4294-8512-165b7d5b5a1a"
      },
      "source": [
        "df = pd.read_sql_query(\"SELECT * FROM 'public.films'\", engine)\n",
        "df = df[df[\"gross\"] != ''] # ตัวที่เป็น string ว่าง คือ NULL แต่ pd.read_sql_query จัดการพวกนี้ไม่ได้ ?\n",
        "df = df[df[\"release_year\"] != '']\n",
        "df[\"gross\"] = df[\"gross\"].astype(int)\n",
        "df[\"release_year\"] = df[\"release_year\"].astype(int)\n",
        "print(df.loc[df[\"release_year\"]==1994, \"gross\"].min())\n",
        "print(df.loc[(df[\"release_year\"]<2012) & (df[\"release_year\"]>2000), \"gross\"].max())"
      ],
      "execution_count": 152,
      "outputs": [
        {
          "output_type": "stream",
          "name": "stdout",
          "text": [
            "125169\n",
            "760505847\n"
          ]
        }
      ]
    },
    {
      "cell_type": "markdown",
      "metadata": {
        "id": "9-SJcZRilJaP"
      },
      "source": [
        "# **A note on arithmetic**\n",
        "\n",
        "In addition to using aggregate functions, you can perform basic arithmetic with symbols like `+`, `-`, `*`, and `/`.\n",
        "\n",
        "So, for example, this gives a result of `12`:\n",
        "\n",
        "`SELECT (4 * 3);`\n",
        "\n",
        "However, the following gives a result of `1`:\n",
        "\n",
        "`SELECT (4 / 3);`\n",
        "\n",
        "What's going on here?\n",
        "\n",
        "SQL assumes that <ins>if you divide **an integer** by **an integer**, you want to get **an integer** back.</ins> So be careful when dividing!\n",
        "\n",
        "If you want more precision when dividing, you can <ins>**add decimal**</ins> places to your numbers. For example,\n",
        "\n",
        "`SELECT (4.0 / 3.0) AS result;`\n",
        "\n",
        "gives you the result you would expect: 1.333.\n",
        "\n",
        "What is the result of `SELECT (10 / 3);`"
      ]
    },
    {
      "cell_type": "code",
      "metadata": {
        "colab": {
          "base_uri": "https://localhost:8080/",
          "height": 81
        },
        "id": "X2Dekm3AnomI",
        "outputId": "003a7d1b-3537-45ac-cea1-26a2f732d746"
      },
      "source": [
        "pd.read_sql_query(\"SELECT (10/3) AS result\", engine)"
      ],
      "execution_count": 3,
      "outputs": [
        {
          "output_type": "execute_result",
          "data": {
            "text/html": [
              "<div>\n",
              "<style scoped>\n",
              "    .dataframe tbody tr th:only-of-type {\n",
              "        vertical-align: middle;\n",
              "    }\n",
              "\n",
              "    .dataframe tbody tr th {\n",
              "        vertical-align: top;\n",
              "    }\n",
              "\n",
              "    .dataframe thead th {\n",
              "        text-align: right;\n",
              "    }\n",
              "</style>\n",
              "<table border=\"1\" class=\"dataframe\">\n",
              "  <thead>\n",
              "    <tr style=\"text-align: right;\">\n",
              "      <th></th>\n",
              "      <th>result</th>\n",
              "    </tr>\n",
              "  </thead>\n",
              "  <tbody>\n",
              "    <tr>\n",
              "      <th>0</th>\n",
              "      <td>3</td>\n",
              "    </tr>\n",
              "  </tbody>\n",
              "</table>\n",
              "</div>"
            ],
            "text/plain": [
              "   result\n",
              "0       3"
            ]
          },
          "metadata": {},
          "execution_count": 3
        }
      ]
    },
    {
      "cell_type": "markdown",
      "metadata": {
        "id": "4iWeMyDjmicU"
      },
      "source": [
        "# **It's AS simple AS aliasing**\n",
        "\n",
        "Aliasing simply means you assign a temporary name to something. To alias, you use the `AS` keyword.\n",
        "\n",
        "```\n",
        "SELECT MAX(budget) AS max_budget,\n",
        "       MAX(duration) AS max_duration\n",
        "FROM films;\n",
        "```\n",
        "\n",
        "* Get the `title` and net profit (the amount a film `gross`ed, minus its `budget`) for all films. Alias the net profit as `net_profit`.\n",
        "\n",
        "\n",
        "\n",
        "```\n",
        "SELECT title, gross, budget, gross-budget AS net_profit\n",
        "FROM films\n",
        "```\n",
        "\n",
        "![image.png](data:image/png;base64,iVBORw0KGgoAAAANSUhEUgAAA4kAAAHdCAYAAACwrjydAAAgAElEQVR4Aey9bWhd2Znnmy/6GKh0d17UafJaSlIvYmhuG1rfbmDiHJqJafrGVA9d9kyPO77YjD2VpsYuxsGetLGGclxKELGqyxP76hJXnwpqITClE7Aik1K7UESqSuJiONAqIVqoLIzKCAuBDqjguay917P22m9HZ+vl6OjoV+A60tY+e6/1rN9a6/k/6+1THZ3dwr/2tcFX//S7wr+0DQzz2CVtF2yCTWAABmAABmAABmDgYDBQzx/+FAKxfQVivYI/6JUf2xyMxu+gc07+4RwGYAAGYAAGYCCPgXr+MCKxzUdS86A46NfrVYqDbhvyT2cCAzAAAzAAAzAAA+3PQD1/GJGISDyQ0y7rVQoaxfZvFCljyhgGYAAGYAAGYOCgM1DPH0YkIhIRiazbPJAMHPSOgfzjHMEADMAADMDAwWYAkdjmQtAUcN4/Kn925a9XKbBZts2wC3aBARiAARiAARiAgfZhoJ4/zEhiHYGVJ7z203UqcnZFrlcpsFm2zbALdoEBGIABGIABGICB9mGgnj+MSEQkHsiphvUqBY1f+zR+lCVlCQMwAAMwAAMwAAPZDNTzhxGJiEREImsSDyQDdBjZHQZ2wS4wAAMwAAMwcDAYQCS2uRA0BZz3j0qeXcnrVQpslm0z7IJdYAAGYAAGYAAGYKB9GKjnDzOSWEdg5Qmv/XSdipxdketVCmyWbTPsgl1gAAZgAAZgAAZgoH0YqOcPIxIRiVufaviX/0Ne/sktee21n8rxv9xfFaZepaDx219lSXlRXjAAAzAAAzAAAzBQnIF6/jAiscki8dashP8tjMlh8+6eE3L0zHk5duaHcrgnf9qoKcSt/NvJCvPtUz+Rf/j5L+Vn//hL+dnr1+Xli7fCn//xl/La/3xZvvqnl+SS+ds//lL+4dx/2rr4bMIawXqVYidtxrOKN1jYDJvBAAzAAAzAAAzAwO4zUM8fRiRuUXxtRbCZ76RE4qUpWQlkY00m+7YmBOulZecq2P+QC6+rQByU115/Xc6c7JV/uP5L+dn11+Xlk0YUIhJ3zt673zCQVmwMAzAAAzAAAzAAAweXAURik4VgPdG2b0Xif/qJvBqMEg7KhVP/V84oISKRhvbgNrSUPWUPAzAAAzAAAzCwnxjYNZF45PqUzK/Z6ZMbyzI5s2x/WZSRF7qlI2uULOta52npG5+TlZo+qyZLU4NyzE6/PHd/NfzDxrIsPbQ3rc1Ib+azhqVqHzN/50TmFM3c53V2S9crozL90L7PPOfJnIxcOOqeE+T5iX2BiKxUR206s96bvhYTiW/NRQ9yPy26d9UTm43+bUdA/eF1N600mGpqp5RGPw/KKydNo5AUidHvr/7kuvS6qaqDcuncWSn501ev/295+T9H4jOY2tpvRy7/8Zfy6v+6LKX/c+cannqVYkds1oQps6Rz53jAltgSBmAABmAABmDgoDFQzx/e8nTTrr4ZWXfCJvlDEZF4Qm5VVR2KrK9FP8vCmBzp7BYn6vzX7IRIzH2eiGzUZN0lxUwFLUnHSxOyZL+z/mhRluzf12cGpaMzLQizrsVE4mDVe4eI1GqyvjbXeiLxbL+8ZqaVqji8Piiv/XzQu7a5SHTf1Wdkfl6XHxgh+NevSq/9+2s/fV167btfu/w/ckYwizdq9SrFQWsgyG9xfrAZNoMBGIABGIABGNjvDNTzh7coEk9Ied6qpdqijFw+IYdfGpVI6xUQiVdVbNak+tYV6TKjeZejdXrTb/gisSbzlWvRBi/bHUkU/3lenh5OycXjZn3gabk1a5Xgwwk55kb+VuXe5aPS1T8h1eqcVGdG5dxWRKKZBpuZh51bm7hj8HrTTcNRw+/KV1PXopHDcOOa6Pef/eRV+Zuj/1FKRnCqQPz5dTl17L/IX174306AXvrhd+WrbuTylrz8n/+j/Lv/+1W59L+uy6XLlxGJjFDuGAM7VjcoE8oEBmAABmAABmBgHzKwCyIxGjVbGr/kRr4O31m0yrFxkXj2HW9qpz+ypyN2U/3RSOJaVfr8HUAzBVaUtk2nm8aeF30vIxkisijlHw17QjgcbVxZmJK+U6WtjSQeIJEY7Xb6Q3nZTiN97R/O2wYlEpPBfd+7JJf8kcvXB+XVn/xEjh+NpqNu18GvVym2+2y+T2QRBmAABmAABmAABmCg1Rmo5w9vcSQxElTbFYnH7uo6xmWZHBqVcvJf/yVPJM5Ir78JzbZFov+8QZneCOXh+uxEOh1DZTn3Qrd0nbohI1NzsvTEzUUVkTm5xUhi3TWJhUTin35X/t3R83Lmf16X3v5BN8r4s3+8vmNRqnqVotUrNOmj04EBGIABGIABGIABGNguA/X84S2KRG9qpizKyEtH5VDWdNMXxkRnpa7Pjsqx0nkZeKDiyh754ISeyFLldDAqaaabLq2Z9XmrMnnzxXyReMZbI2ie33NULuomNyKy+UiiLxJL0fEUboTxtNyqrgbrJNcXxuT/rSy6n0+aabFuXabJyw2Z1E18Hs/IxdJROTuuAjhKS2xNYmIkcfr6zk0zNYVer+ALQ5WaWlpsumkRkfgfXnk9XPP4k175D0YwnvypnaI6iEjch1MZCrNGHneMc2yPAwEDMAADMAADMJDHQD2tsEWR6AukrMmZdrpp5yWpPMr6u7mm5wLGN64xm7e4/x7PSO8L3ppEs1mNP5JY9/mRMFPBpJ9uI5zk8zzBatLgb1wzP3IptnFNsLGNHXmU2pzceqEkAw9cylM/qGBNicTOQZn2siwbLbi7qXHamygS/Y1rfva6OZPRbppznZHEvErOdToAGIABGIABGIABGICBIgzsikg0D40dgbG2KJMPdORMRWJ4pET1sdVMG6syX120u6KqSAw3iEkegbFSHZPeYK1fPZFopn+WZdp//lTV7UCqwkzFoX7misTMIzAWZfL2FTlkxWnyCIz1x3MycjUcAe04Pij3Fqzi26jJSnUulZa0SEzYsdaCu5s2WyT+6XcleQTGaz+7Lmf+7r/s2AhLvUpRpHJxL40xDMAADMAADMAADMDAfmSgnj+85ZFEFVyxT7f7ZyQSY3+PjQJud2rlD2Xg/ly4u2il322e0+FNQa2+lX1O4u6labt52vnv70dgm5Fmw0Az3sM76DRgAAZgAAZgAAZgAAZakYF6/vA+Fond0vueztOsyfT1o9LRc17KemSFWSsZHGOx88JrP4nMVgSyFdJUr1K0QvpIA50JDMAADMAADMAADMDAbjJQzx/e1yKx43jiSApvJeDK1A05vKMjl/tTbO4mWPv52fUqxX7OF2mnM4EBGIABGIABGIABGGiEgXr+8M6KxJdu2KMjwuMizIt3+1/XK6My/VBHFM1+OKtSrfTLkSa8e7fzthPPbwSQg3iPse1BzDd5ptOAARiAARiAARiAARgwDNTzh3dWJCLMdl0UFxWONALZjUC9SoHNsm2GXbALDMAADMAADMAADLQPA/X8YURimwtbKnJ2Ra5XKbBZts2wC3aBARiAARiAARiAgfZhoJ4/jEhEJB7IaZf1KgWNX/s0fpQlZQkDMAADMAADMAAD2QzU84cRiYhERKI5B5J/2AAGYAAGYAAGYAAGYOAAMYBIbHMhaAo47x/iJ1sA1qsU2CzbZtgFu8AADMAADMAADMBA+zBQzx9mJLGOwMoTXvvpOhU5uyLXqxTYLNtm2AW7wAAMwAAMwAAMwED7MFDPH0YkIhIP5LSCepWCxq99Gj/KkrKEARiAARiAARiAgWwG6vnDiEREIiLxAM09p5HMbiSxC3aBARiAARiAARg4aAwgEttcCJoC5h82gAEYgAEYgAEYgAEYgAEY2AkGGElEYCEwYQAGYAAGYAAGYAAGYAAGYMAxgEgEBgfDTkQdeAbRKxiAARiAARiAARiAARjY3wwgEhGJiEQYgAEYgAEYgAEYgAEYgAEYcAwgEoHBwUDEZ39HfCg/yg8GYAAGYAAGYAAGYGAnGEAkIhIRiTAAAzAAAzAAAzAAAzAAAzDgGEAkAoODYSeiDjyD6BUMwAAMwAAMwAAMwAAM7G8GEImIREQiDMAADMAADMAADMAADMAADDgGEInA4GAg4rO/Iz6UH+UHAzAAAzAAAzAAAzCwEwwgEhGJiEQYgAEYgAEYgAEYgAEYgAEYcAwgEoHBwbATUQeeQfQKBmAABmAABmAABmAABvY3A4hERCIiEQZgAAZgAAZgAAZgAAZgAAYcA4hEYHAwEPHZ3xEfyo/ygwEYgAEYgAEYgAEY2AkGEImIREQiDMAADMAADMAADMAADMAADDgGEInA4GDYiagDzyB6BQMwAAMwAAMwAAMwAAP7mwFEIiIRkQgDMAADMAADMAADMAADMAADjoHti8Tu5+XFf/+8dGFUZ1QiJ/s7ckL5UX4wAAMwAAMwAAMwAAPNYOA7//45+V5369l6eyLxb74uH/3+0/LJB5+WtV99U76ziVB8+fXPB/d+8sHn5TfHW88YzQCBd1DuMAADMAADMAAD7cXAN+TBB6E/+MnIN3Z54OBZ+c1v7bt++zV5eRPfs73sTL3Zz+XZdfxp+fBfPmO10GfkwSvPyy9+9Vn7+xfkN3/TWuXbmEj8u6flwa++HPwb/rsoA2d+/gWbMVNZvyS/eDr824+uhfc++NXT8iOv8iISI9vtZ8hJO+UIAzAAAzAAAzAQMdCOIvE5+cUN68/e+Ia86PmzUb5hoPm22Kfl8vQ35f3f2eCGDah8+GOv3nzwafn49WfDWYl/8Q151+qudy88t2czFRsTiRe/5MTghz/2KsS3vynv/9Yo4s/Kh/3PyJ/ZCvSLf1Yj/Im8aYWjgQiR6NmOxmbPoG9+g0a5Y3MYgAEYgIF2ZsBzdttmJJERy9ass/u0XP7+y05Lrf1zl5w5+i258lfd8vJPvyhrRjT+9ivy8+/aNuJvviYfWyH58Y1n9sxf3p5IzBE6iMR27gjIW2s2mpQL5QIDMAADMLBXDCASYa9Z7O1TkZg34JalpfaLSIwEn44Ohp/BiGIqE14joXPTg89wRDFvJPHP/rpL3v/152UtWN/4GVkb/5K8/d+e2+U57c2CmffQcMIADMAADOx/Brr+6hvyYPyPbDT8M7J252sy/MvkXgOeH/Drr8hv7mjfHu1FcObyV+Qjty7nKVm7+xV586/j9jHvev/Xn3OR90/+5YvytrfcpePb35K3Rzqt3/Bp+eT3X5D3X8Fv2Lt65pX7na/Jm7/yliP99svy5l9F5Rv5lf5ss3zH/8yPvywf/86u4/r95+TD15+W9zPXJD4vr73+Rfn490+F3Pz+C/Lg8tfkQ/VH/RHOp5+T1/q/JB+/+wf23s/JR7/skjO6eYjn35p9N9w/1kAWHtWKfP/Pyfs//Zp8+C/W5mYW4uvfku8lRFLQPvzWtjO//yP5eOTr8lrGCJsrE1M+WykXX7S93iUPxjVdn5GPf+Wx0Omx+S9fknd/ZdqdkDGdXblZmxYx77HkcxX8nNRK8Xv3YkRx05HEvIztlEj83sUvhcOsKWP9oXz44+cLw7h3DWTUAJIGbAEDMAADMNBWDPzN1930p5hz5vpuFYGeWHB/M86O+bu/SUPcAfrkgz+SBxdtn//n35QHbu3OHziH7JMP/liGv224elZ+M26FwAefkTUVEB98Vt7/r3C3N9zllbuWs/LRLZFfublIfDm294U+y/t04sCwpQEM7+8+gyoSn37G4ydxr3meWSaFSNwx/zsSiQlb27L5qF/X3D0vv/jnnDL83Z/Im6bu72S5eCIxs01TFnyR6PP0wacDnRJtPJPMX9SmRcwn7/F/34ciMWhsPEOqag6ue4XlK9zIGH4DkLEm8c+7ogjP+Ffl53/1vPzZoWdl+I5C8kUZ/nMa/L1p8LE7docBGIABGDAMPC9v3lFR9pSsvf1VGf7x0/Lu27orn3F0VAT4YuEp+fhXT8uVo8/Ji3/7Lbn5s2h/g0/e/aK8+2qXDN+063GM8/X7P5E3TZ9/Ibrvw8vd0uFt+BA4lEcjwfrxzWekq/M5efuudbb+6Zs75txS9kXqv1/un5a1X4eM/GbEGw1+uyvYBT/bR/RGa1T4+T6iGXW6+bS8+epX5cN3lUVvBOnvvhoNOPz+8/Lgp13y5k+/LB/bHfgDEWBF4o9uapr+SD589Zng6IEf/P1XXRBkbVDXgGWkKTHqBSObMxITib/746Dev/0rLYOoDL9z+U/siO1T8vHgN+UHh7rlO2Y3UA0YWX6CIFHmSPLmaYmVl6dtTJDqo4AvM9IZ8fVhrwlceRyY0xx+/VX5xd8+Jy8e/Zbcfj1qq+q2aYYb732+lsqsDzn6Kpb+JrC46UhikKCcjPmKfisi8Tu9X3RD+Gt3v+R2UH1wR6evfFo+epXRxGZDwfsKNjRNqKiUCWUCAzCwZwz4zvrbT8uLbkO652X4bXWoMkSii8SHZfeLf9Z7vyjDOn2ss1u+9+ofO18gOUvJbIz30a++Jm+eek6+o+992hckn5GP73xV3v770NnfMxsd+H7AK5N/+Yq8ptM2O31GwpHgTKfYd8StSIx8xKfkw1e9qcTf9gYY7L1XBjVg8bnYaHLXKU88BiLxGXn3XRtQ+P3n5cN/1t34vyQf6fV3vyKvBeXpiQMVrge+nIu3w5FI/Ky8/9/0+15g5wMzoGQ40VG1P5KPRrRcviwf/langXozCXZYJK4Nfsttvtnh8/X20/I9n02TVse2GRVvsE0z3ORoqcz6gEj0RxYVjPSnLz5p/LVy8QkLMAADMAADTWKgjsMSOYAZIlGn923mcGc83+3450/v+t2fyLBd2/a9//6V+ChRcN8X5N3/SmB5b+qFJxJj5e77eiEjmU6x74hbQZZmS3lPi7fsZ5r7k+nyfvfZiv2ss+DS79kb22q+9+dnXjnGy8yzdawsfF2gbYx373bEe45oi40cBs/Pe1/e9fi0WKdjct4Xt4Mt44w2cS/Y29ORxK4cg+2FIXjn/mx8KDfKDQZgAAZ2mYHESGK00YQ/SqQOnOeEJ8RCFHXXEYEw3d9zs4qeEjOS2HXoOXnxL8x0rmflR6e+IW//sjOaSmimnHU/H/79L5+VM3/3TRl+/U/cVMFP3v2qXGG0Zw+m3HrlbkbidNS37kjiF+Q3Ry273pRi3YQkGklMzCrzR3qsSIhGEuPrUtMjiXUc+xQ3Re7d5TqYStv+eV9jItEflVORnpfHHSoXT4OYkcQutbHP150u+bOMAIb2OY22acH93vvaa7qptz7g419+U878xTPyI7MTWY7S/cWvdPj18/L+K8/Ki3/7jLz8f6SjSR1//o1ocfq7X5JffK9bOrr9NYna6eSBwnUFlU9YgAEYgAEY2B0G/DWJ0XqzTdckJkTidzwn6RO7Nim2JtFuThGJg8/K+3//vHR1f0ve16mAd78uP/CmEH700+fkz55+Lpqq9rsvy8+dQIGH3eEhy66eSDQjQTlrEk2A4Yy/Gc2/fEneNutbf617UURr1Dr84IRbM9bAmsQPPld3TWIkWv5APvr5M8E05hf/W7Qm8ZORb9iph2aDJDuS9fs/lrf/9jk5c/JZeVHFBJ8NBSMie8d9+uQImt8+rP3qG/KD7m75s7/21iSagEBQt3eoXPz26IM/lI8GzZpXf03iU5Jak5gYufTTXK9NC+qh975NRaK37vqTt78uP/qLZ+XKcd3gJ6v+7c61xkYS/QiPHQZOrhtww6md3dL191+Oon7B/WFUIAuU/N1Nn5K1f/pmNEeYythQZWxeh7A7QJJ+7AoDMAADLcjAVnY3TYhEswFO/k6An5UHP7brzjJ8jnD3wafko/5nw41qfq3BaH862qfxG/bMV0qIxNSUwS/Ib/QIk798Wj5K/d0rR88Rb/rupkYM6uhmZ7f84KfRetmAQS9ttFONtVNZvr+xXVIkBu1D3u6mZufi/x69b0fKxRNtmbubjnuiNHcNZINtmqmX3vs2FYlmM65EG+frrGax15hINMLP7DCkZ5v8/o/k/Qv5I4km8WY9gTur5ndfll88nTGSaBuz1DmJv/1jef/ys9Ei9T1r9CIgm1UgvAebwwAMwAAMtCIDhc9JTInEsFzjZ4qZs5G/LG8efz6a7mV8ju9+S35zR3dAfEo+ebdTHvh+Qfez8mZwXpkVF7/7vHz4+jeD0YdWtF37p8kTibFzEp+STzLK98VXvtLg2Yfd0pxzEj8bnMf3czOjLeZzPi8/N9Odg11Sn5JP7n5dXo79PXk/v8ftl+/7p0Wi1z745yT++iup9sEIym2Xiy/afu6fk/gH+eck5gQJGmnTionEbun49jflfXcu7R8EAbKkbXf794ZF4m4nhOfTsMAADMAADMBA6zHw/Ve+5nYff/uUnz5/Gmp81z/K0bcTP+8uD8/I8D/Z3TBvfkN+4Is472iM8LgUymJ3y2Iv7eutVawzUu1G8XyR+OO9THfrvhuR6Dcm/JyIoLUuuO3byGFzyhYGYKDFGPD2HwjW3Vx4Rl78i2fkF7/sdEdXfPJ2l0Qb2rRY+unb27xvN4ew/6Fjce2fw7M5z5z6unem4ufk3ViAA0bbr51FJO50mSIS6TzavPOgI9jpRoPnwRQMHDwGXv65JwiTUfp3vyRveucewsfB42PPy/zb35AH72avU/3kg8/IR68/wx4X+Ltxf5eRxLg9MvhAJGYYZc8bO9K0KbiUEU4IDMAADDSXgRdPPi0PxvXQ8k/LJ7//nHz0yy55+VBz00G5Y+9MBrqflV/c/GK01vEDs971S/L23z+HQMSvTPuViMS0TRKcIBITBslseLhnU5CwG502DMAADMAADMAADMAADLQHA4hEBCACEAZgAAZgAAZgAAZgAAZgAAYcA4hEYHAwEPlpj8gP5Ug5wgAMwAAMwAAMwAAMbIcBRCIiEZEIAzAAAzAAAzAAAzAAAzAAA44BRCIwOBi2E23gu0SrYAAGYAAGYAAGYAAGYKA9GEAkIhIRiTAAAzAAAzAAAzAAAzAAAzDgGEAkAoODgchPe0R+KEfKEQZgAAZgAAZgAAZgYDsMIBIRiYhEGIABGIABGIABGIABGIABGHAMIBKBwcGwnWgD3yVaBQMwAAMwAAMwAAMwAAPtwQAiEZGISIQBGIABGIABGIABGIABGIABxwAiERgcDER+2iPyQzlSjjAAAzAAAzAAAzAAA9thAJGISEQkwgAMwAAMwAAMwAAMwAAMwIBjAJEIDA6G7UQb+C7RKhiAARiAARiAARiAARhoDwYQiYhERCIMwAAMwAAMwAAMwAAMwAAMOAY+JfyHBbAAFsACWAALYAEsgAWwABbAAljAWoCRRCIGLmLA9ID2mB5AOVKOMAADMAADMAADMAAD22EAkYhIRCTCAAzAAAzAAAzAAAzAAAzAgGMAkQgMDobtRBv4LtEqGIABGIABGIABGIABGGgPBhCJiEREIgzAAAzAAAzAAAzAAAzAAAw4BhCJwOBgIPLTHpEfypFyhAEYgAEYgAEYgAEY2A4DiEREIiIRBmAABmAABmAABmAABmAABhwDiERgcDBsJ9rAd4lWwQAMwAAMwAAMwAAMwEB7MIBIRCQiEmEABmAABmAABmAABmAABmDAMYBIBAYHA5Gf9oj8UI6UIwzAAAzAAAzAAAzAwHYYQCQiEhGJMAADMAADMAADMAADMAADMOAYQCQCg4NhO9EGvku0CgZgAAZgAAZgAAZgAAbagwFEIiIRkQgDMAADMAADMAADMAADMAADjgFEIjA4GIj8tEfkh3KkHGEABmAABmAABmAABrbDACIRkYhIhAEYgAEYgAEYgAEYgAEYgAHHACIRGBwM24k28F2iVTAAAzAAAzAAAzAAAzDQHgwgEhGJiEQYgAEYgAEYgAEYgAEYgAEYcAwgEoHBwbATkZ9Dx8/LkVJ7RFB2wh48AxZgAAZgAAZgAAZgAAb2GwMNicRbsyIiq3LvcvMLeC/f3cqF2ZJ2uToj6waVtRnp3Zb4Pipnh+ZkpWYeFv63vjAlfcebz9+OMnBpSlZMduZHpWtb9rkm956oZep8mvfs2Dv3xvYtyXnBstuLPJy7vxqCsTEnAz17U3Y7WncK2px374Myf2suYHTl/rUwULnP2yqY26xfWpSy1xZ1vTIq0w9XZX0jbKrWnyzL9NCVeN/YZ32KzG7Of15Jjr0xIdXHntPweE4q109nB8FLV6Q8sywr9t3m8SuzE9J3qmTv3ywvIvJkSs7RLmXbd7ftkmortLx8JvZBG7jbdtqB5++6SDx2e0aq1TkZubq1AtsLB2s/NPYtaZfbYacvG9VtOKYl6ZuxDf3GqsxX56T6SH+PP/diZU6q1Rm5dWZrbDW9nFMN21bTfV5uTZm867/lUJyrvfT63RuIxO00kmeGZdLYstLfUEeY19Y1v672y+Ra5FXN3znRUPqbXh+2UzZ8d/+XKSJx/5dhrB4m+6Wwf5rXgGatKn0qEl8ak6VAoNVkqTollftzsmS7+aXxS5FdLCPyeNHr77Tfm5Be+7yTI4thH2jE3sKcVBdskMzEZIcSQvH4sFRVS64tB8+df2zby41lqVw2QjE7L0Gf+9B++dGEnIzlf6v9Od8r3PekfClEYmEbNsjurotEjWjPD2mEpliFaL6DVSx9u1Uwmz23Je1yZkKWTFv7cEyONAhgKp/6jI1FKbuoXkl63wsbZr8DaUkb1Mt3qmHbKdaGpWrsnhXZ3LV37lTa6z9nT8u4oO3y2rpm56HrZkCDyFotdJxwZiKns1795G/NtRMisbn2bjrfJTl31wYwn1RlwPXn3XJxKuzP5yvno5HD42Myb/oxbyZS1KYezbfVC6Ph98xst6vRfYeu2pk7xpd4QfuZE3LLKsSV9wblmIrWzpLou6Rue3lCykEiRebvJMRn0+2reTqAn6m+GZGY8qV3iEdE4g4ZcrcKKO+5zXY889IRvx5WVF/Ixf/eQGOmkcPklMxLE7JknN4Hw65TaR1f2IEAACAASURBVE0b1MljqmGrc28hLhGJhTlrxL4Fy0udjGRArLmclmTgQRgVn79TtiOKq3LvlZ1ijefsCmuN8Nhu9yAS84XPvi/r0zLwIBzNW384IRcT+xRkt4lpR7/PtmXTN/MHGbosR+vv3XC+gdZRF1yuWEGngnKtKn2JNHV0XpLKI9N21mSyL6ede8kGws00/tT3c76z78uyBfOV6pvT7CgDfG6v/LYmEl0BTcjA/cVoXndtUe65OeDWcQ39lej/3mjHoQtmTrqO+5u6Gc5JP+RVquzG5LRcrFRl6Yn9bm1VlmbG5KK/Zk3T+LAq9xbsffruUr+MzEbTEWRtWSYHB+06r2hOs3P67pblnjd9IXN9XM956Rufi2whIsF9XvQsgPV4v4yYufA2ScE8/Eq/N/J2Oop03b+WavQU+Gy7JGEwa/uqsuRNPVt/VJXyBY221WsUdcrastx7JWygu14py73ZVVnXtD+ek3uDiTUEXtl1dB4VMyVU8yobq8HUPb98NT/uU8stsxG3+dN7IqrCn6ywDG1Tk+pUVB6B4550SjStmdfNGocpmfdstzI7JheHEutogmc0eK+mOyaAS3J2cCpYSxGszdioycrslAxYmzu7aFozPxsRiRMy4PNpyiKx/iPXbp3dsvW62i3ZrNp1p7omZKMmS1Nl6bNr6VRo6Xcn34q3FY3Wwfg6k27pyCyD9PXwvUnA8tZl12/rCuWhs4G2LZMBWzfUCZJFKZe6XXTcOFBplhorg/B7jaRrC/W9Xl74W0aZJdv45v3eaH+ovCf3MEhdT7a7eXUTDlqKg3Q7kmCw55pUrF+3Xh2Vkxli6tjd5aBxXZnqdz5O12U78udG8k7IyIK5zbS7J+Rk/7CUh0ZloPe0+D6E4zJjtlrX0GLYiM8Ohza0S2LWZwbde/38HL4T3p8X6NYR0CxB6j+HnxNMuLpdTzN0S0eyTdC6n7zunqf7OyASd4u57YlEU/10HZSuG5NlqbxkALkkvUOjUpkNFcXSe6NBBS/fDgWRaxCMmHo4J9XZZbeA2Sxk1409Uh1L52m5ZZ8pTxZlcnwsEC5BS2CmFahQVIj8NL43LCd7rsk9nX+enI8ePCQtEoPLT8I58TpvPj4lwUtTLZzjHq2j89LkzYVfWZiRyp0pqep8/flRKxQ9h9M1lokK15nnePv3edMnjAM+OydVJ8hNoxsKv8MjthGtlp3NDWxuytpCOHU0Kq9wDcHIeNWtIfDLywfVPfvJnFSGJlxe8xrg8LueLSV8V7n/UqxT6HjhmgwMjcqkjfpVxy1b10PBGjITlJqsPwrXL1T6S403QJ3dcuStObfGIcmnebLbbKHIvcqkE4leGRlu7o9JZcZOzwk6xvzoqW/njs4GRKJJdIoDET9Cm2e3qOyL1tWQx3Qd9vKdsYbEJDUuEsOyDNeleEGpWP3wuLFtUrTOxKuDqTKwdSZx/WT/qJTHLQOPZsK2a2g4HojSDmyTts63a8N5qNe2uff69T38+eR46HxJtRzWGRf5rspA7HuNl0FHg23u1up7Og9xtvl7q9hDnfGgNtbpD9P1PSzD1PVNHT/KvlXKvvF0vCgDbsGfbbc3ajJ/35/a2S0dnh8W9NHG/wtu96eMquNvn+N/1HTtYLeosFt550pKTDtmbV9x9p1wcGB+SAPlCcZUqD4op57V0VOW6SCouSgjyeB/rG1NPJO/RcFZU4a5mgGR2Hg9ax5j2xSJizLykla2o27DEd+B1kqqTl9oBB2lWpXpN/w56WWZDkZuouH+ZMdy2HYssjDmzSfvliMaMZoflcOmUqrTJ/EKfawSOlHrs6Pe932HKUMkLoxF0bDSoE1jNKrgnKN5P2rmPTNocE7YERWR2Dz8ztPRHPehcIOJI1fHZHJmSm65Eb80EEm7pODSnUafVL0du7rlyM1q2BjrvH+/4fPm7eu8++qgKV9trGsyfV3L2zb0gciNbOGnQ9M4edWKnRdGpWqmjC5MyNl6DWfPeen1RyBt52FGvvwIoj4/O2ItYqKF/v0NR6k6Iz7v9Z2IxLMv8nVHviL3KpMqEvX3xKipE2U68l3PVsHfGhGJfl0tybGKDQ5oWlzgIWm3yBZF66qykConHe2qzUnZtR/d4vKdIRJNWR7W9SP16uDCmJx1keuSnFXRtDAWbxe8fAfp1LLwr2ddq1MW2W2dBnRCu9bNQ6NtW24adGaASFhvTbvhX/OCDgXKoNE2V8u5cH3PzU+63VOm+Gy+bZRv0/e60aGMuqgcZLfLXl+BSEwLkXaoC8f75dbtG3L2+FHp+v41KVftrK3Z4bANNnk8XpZpDZD74m9jOXM22vr8hPSavqLnhJyr2E1qNubklvFZXCDMCwYG7xiVeZ2pYvtSZTjuj3p1qU6bnwrAtUNZNSsPalfjj7s+P0MzJNsETV/yuj7P9dfqo0b+O32Ex7XacQuf2xOJroBsYjQK413PrJS6rfH8aNyJNyNYFob1qXBHwXiHU3JCqzpySY6dOe/9G5bpYNByTm4ZQ3gQRULBn77gOUzm/h4dwYsgy0x7ZzSFK2xoSlbkRaNzSTgPHT8th/T5G3NSftlP93k5dtsKN50S0UBBxu2ShkHn4qcjZmrDmkzaHWd1CoWLxGmja4SkcczVlo9npDdm8/NyzjrhfmBA83/STikxI7737pTl4klPcDWQR/Ocru9fCgWjbez9Ucg8G+h156zqu5INTd71OnwqEy6/Re5VO9r64Z41dcPj2LBhpuuYnnNV7l1Kl63aN/psQCQm61qPXezvCdFMu9XJX/26GqVbn6tOo4v8ejMGwrwom8mRxFVJlqXaLqyDdeq1C3CE0y8dy14bFbw7UTa515SZjM94mtL5r5+HKO+btm0Z7w7Sq4EhE3RQQd0ZRdqNcx8E0LxrhmOdtZFdBo2nayfqe5iGyHb83jq2yOM7eT1Z37UMU9eT7XFWHcxjnev7SGBqoEpnmUWzucwSg5PfN75YSQ5fHpP5wIfTfu+omBkd98bLXkA/rA/KXOgPeAF5s2RpfFRG7kdLTQINakcSdZpr2i+y9Ux92AfxmVUdLhhsBjASviMsbs5iXt1We2t/nGwT1LbJ66nnIRK1nd3pz50ViamCSwoqWxGTBa4gmM/EM+Idi4Lgh56SPy9LxRyJkHhOaDj9fiQEI4Om/6YNUTLqFL+e/l70TK+D1/Qkk+v//mhCjvm2qPNz3C7ee+x36v09nn4vEpeIti29Y9cb2vLyk5r6+cFgRkNxOlynadcwBt/xpomk7VSSwyeNSPphNGpk89OlYsVso71JHnPznsdd8nryd78ckn9L/l7vXmXANohhOlOWjF2YfiNdtmm7NSYS42Ig/Z1Mu9XLX2Z+vJGCnHJK8efZLPm3zDSlAjX162DsGYk0O1tmXc+65qXVfddeS6Zd/x57v/f9+P2ah1jxJ36xbZv3DH2H+dRNHhJf8n5VJy2nXc7MR5F0Fa3vjbDNPX4Z7+XPcV6jcklez+M9dT3ZthSsb3tpC94dlX8jtogxon35oyk56wWzzHM0gGhmjtR9boqVUrj/go5OBmv7J6RvyO70PGs3vHsj/D3v+fp+Pxht0uGW32SkuW46c9rqA/edVHlZfpLXk22C2i95Pfk9PxicYOrA2VpttkOfeyMStZHQ6IGXGR2d0AXN8Y5FR+3MtMdNGqkUROZ+b8QhudufjvSZDR8sZLGGzUtj/LqmKe0cx+DUkRtP5MT+7j2/ketxu6RtEY0kJqNeOjLgj87ots4mSqbTC5dlRNd3arRnO0dblE4Hm74Eh8l7o1fxvGr5mOlyyXSnR3rzbJB3Xaeb6ii1vlsXt2eNDsaFVeRcb+neBJPK0ZLuvFaQAU1/Q2sSU3WtQZFYuK5GI9Rh+tL1QztiZ0OXb2UzPZKoo5CaZ7VdeiQxWRdU5KRHEqMZBt3SoYz7dkqUl7477zOepigdeTzG71c7NdC2OXtF74jWyyzL5JBdo+t96tpwnS3QeBlsMV0N1Xcv/Vl54lp9R7nJ9onzGpVd8nrI++btgLbHrh0oWN/y6iHXo7Jppi10lC7dn+mOy6ZtK0mHFWqSnN1ixJguGzIjeXpfYr8Ekycn2sx9PSfkqJnhdNxbCmPrhs6ScmnSafZmd9KUmDhtN8pJjhbq9YwzF5tcB5tZnjv6rry6nbxuxeCmPlrye4jEXesr9kYkuqF7sybRO2vm+KCdpx5V0qSD5a//88/iO3R9Jjwiwax3M5U/BVHYcGpDZhqo6PvedIXCIrFb/DRlnbsT7oSlQizZ0ByVvqllWV+ryfx4OHJ36EJZykPD0ltncXTSLqkKrVPPzJpEFXtmk5XrVQmEmk4ltY2ca3TX7LCf3bAmfK4KR19Ymim652Vktibra6syHaxd9Dun83Y7aX/7fc9hTzXQtnzsmtHgzD/vHrfm1NusJM8GedcdE/50PJOHYAc1fzMaP79ex7PJmsRJ74ymjqx7k0y6MpqRi15eu06NhWs3zdlSbn2db9vkz2nB53hIvtN1aunvZNstssVmdVWdRROlVXFt8hIeK+UFUVxH7Z+FWW9Novddm359l47yuzr4cMyLTpfkrK69VJ5dMMgLgnRGayNMu6Bpd7z415z9kmUQBRA0TVoG2XZN3+/yEGubuiXVtmWkwX1X85m8R1nTtcgFysA9u266tlbf1UZ8pnlqNZsk65ymL3ldf9+0Hdh0dKD1baI24NObkeRvIGgEnQbg9NgIbXuSm7N5m9kEZxC6/RKM3+H1w6V+u/lgTaZvHpUOfV7ee806OOcDlaTvgfVx5uP7Uhwb0o3KrA+pbajfdnr9NGVeoH7m+SHJ6/r7Zj6a3uf65s19S8qrQHkp+53dsusiMRIfc1IZn5H52XDTEtdwmN1NzQ6Usd1N+91axbSD5e1iqDsAVjN2xkpBZA3kNUTmyI1qdU7cLojBxKyiI4nmuV6akrub1ubkljZQvnDQ3U11V9jHU/YsoUG7g5ZIfAfVeAGHdhFZWQh37zT5iP6NyUX/cFizS2hyd1O/0Q2A8N4r/sYX4Xuj8tLdTWdk3k7tiG8CFKXT7RBaW5bJO2Nyb94uYE84m7HKa8on2LXU2wXL35XVS7dbSP5oRir352TpvXBHsjQzmiZdGxEetxKUvU5PqbNjaWhjb1fNrd6bYtILTujuplP6nppUh7xNnbxKG7NXcD0t+Nw9qXeqLdLfybNbVPb166rbQEDrdFXzYiqWL/S8fCubbne7cHakCq28NKkjqvfF6mByd1OzQY4LuHhOgqzKvKk3WgfNq12nY4IguptdTarjEzK5MCeVC2q/9GdeW7elPNRr21Is+CPwnjMVu0/Z15HKxssgZts66dpSfY+lMW1TxzH37VqkuFEbp+tcWF6p67qmfbN2AJG452XaaNk3dl9Gm+KODov3Z66t0N2tvb5ifT4K9NW9z20+6L/Xtuk57w3yUc8HNMthPB/DrJXUc2fd8hvaouLc5vkhqevaT23io6W+h0hsrI4W72N3XSQaB6PPO0txZXZUTtpKljp7bc2ck3gtth4t08EKdr/0z0kMz5aL7QaagsgzzvHB2LmH8mRZJm+XZTIQDFsRieGoWuycRDMnvjqWGg3sOnUjfk7i2qpU7w97OzJG5yQu3Y/EchKA0C6hQ53+v+Yh45zEh1UpX87eQEanZkhilFHffejCcPycxCfLMl25kVpUrvebBvbskH9OorHJqJdXr0z8htecOWmY8dYyrj+eS6e750qwc5o7X3AqPEw3kxl9flD20YPNeXsDd8OdPt20p+De7LMPe+2RIVu6N5PJo3L2duKcxIdVGelrVCAaG6YFnyuDzHdmf6ee3Rqpq+adR657Z0sGW5+XpRIMJfoi0bw/64y+YRmY0i3Kw+nGeWlKOaamzDLOKjXnJA643dQsb5YbV28MW2/NhCPsvkjU/Ggg4YnZjdU+Q3mKfWa3dUXz0Bs7AzajbYu904vg59RbZcGNCLrpW42VQfD9Rtrcrdb3ZH74vbgT1gSbZda51PrgsH401A4gEluynLW92NpnYm2gCRQ8npOKv4t9wKrpXyeC84FdO1xblep4Odo51zJt+p7q46jPFnNfyu9I+zrBhnk3E8dnaT0pXZGyOa9adz+1axhTfcVxnQnjj0bW6wP4WyY3eX5I1vVGfLTU9xCJmXZX3rfx2ZBI3K2X81walFZk4FhfeGhvb4YgUEdJ1zgUubcV89r8NL0o526aNXNlOeeOXNF6oGsS7dqVbTRszc+X5mE/fFIG8LEfOCWNcAoDMAADe8kAIhFHtA2jmdtrVNyIS2zNQrd0nRqV8JzgKKpY5N69rOit9G4dsV5574abVm7Sd+jqVOZ62VZKe7ukhTLYXhvRLhyQDziAARiAARjIYwCRiEhEJKYYuCYjug7Srm/z18zGpwEXuZeGKGiIXtANqqJ1B9V6a0hS5YMd8xr0hq9TBrR71CsYgAEYgAEYqMMAIrGOcRp2uHhG+1UyXd/mLYXIXeNQ5F5YCVlJrgmxa1fy1stSF3dBGFMG7ddu0b5QpjAAAzAAAzvEACJxhwyJE7sLTixlQ0MHAzAAAzAAAzAAAzAAA01nAJEIdE2HDkGNoIYBGIABGIABGIABGICB1mUAkYhIRCTCAAzAAAzAAAzAAAzAAAzAgGMAkQgMDgaiOa0bzaFsKBsYgAEYgAEYgAEYgIFmMYBIRCQiEmEABmAABmAABmAABmAABmDAMYBIBAYHQ7MiE7yHKBgMwAAMwAAMwAAMwAAMtC4DiEREIiIRBmAABmAABmAABmAABmAABhwDiERgcDAQzWndaA5lQ9nAAAzAAAzAAAzAAAw0iwFEIiIRkQgDMAADMAADMAADMAADMAADjgFEIjA4GJoVmeA9RMFgAAZgAAZgAAZgAAZgoHUZQCQiEhGJMAADMAADMAADMAADMAADMOAYQCQCg4OBaE7rRnMoG8oGBmAABmAABmAABmCgWQwgEhGJiEQYgAEYgAEYgAEYgAEYgAEYcAwgEoHBwdCsyATvIQoGAzAAAzAAAzAAAzAAA63LACIRkYhIhAEYgAEYgAEYgAEYgAEYgAHHwKc++rd/Ff5hAxiAARiAARiAARiAARiAARiAAcMAI4lEDFzEgCH/1h3yp2woGxiAARiAARiAARiAgWYxgEhEJCISYQAGYAAGYAAGYAAGYAAGYMAxgEgEBgdDsyITvIcoGAzAAAzAAAzAAAzAAAy0LgOIREQiIhEGYAAGYAAGYAAGYAAGYAAGHAOIRGBwMBDNad1oDmVD2cAADMAADMAADMAADDSLAUQiIhGRCAMwAAMwAAMwAAMwAAMwAAOOAUQiMDgYmhWZ4D1EwWAABmAABmAABmAABmCgdRlAJCISEYkwAAMwAAMwAAMwAAMwAAMw4BhAJAKDg4FoTutGcygbygYGYAAGYAAGYAAGYKBZDCASEYmIRBiAARiAARiAARiAARiAARhwDCASgcHB0KzIBO8hCgYDMAADMAADMAADMAADrcsAIhGRiEiEARiAARiAARiAARiAARiAAccAIhEYHAxEc1o3mkPZUDYwAAMwAAMwAAMwAAPNYgCRiEhEJMIADMAADMAADMAADMAADMCAYwCRCAwOhmZFJngPUTAYgAEYgAEYgAEYgAEYaF0GEImIREQiDMAADMAADMAADMAADMAADDgGEInA4GAgmtO60RzKhrKBARiAARiAARiAARhoFgMFReJROTtUlaUnNXH/bdRkZWFGyheO7g+xcWlKVkzi50elaxcF4rn7q4GJ5odK2XZJpqPnmtx7bL6yKvcu2++8NRc8Y+X+tfAZye/sYvoLAdikdKlNA6P4/9uoyfz9QTmyF/ZIltFepIF3Ztcx7IJdYGDHGLg16ze6yZ9Nv+U7buorePc9mZPKG+ez+93SFSnPLMvKRnT/yuyE9J3K6T8L3t91alAqs6uy7p5fk6WZUTlb8tOsP5fk2BsTUn3s+Tm1ZZkeuiKHMnkqmNfMZ+i72+MzZGVRyj3x/LRUORRkqKPo/QegnIv4iYcujMbr1MaqVMcH5ZjPiNpYq96Graf+Pc6uu1xPNS2uzRDZuzYpXo+K2H279zYuEo8PymQgYsJGfGVhTqrVOVl64jXq9/tzGtE9yOCZYZmszkm10h/vJJssaBoWiWfGZMmacunupTDNSQHScNr7ZcTkfWpYjrkKtRNlkPPchtO1vTSoSFx/GLJn+KtWFyPHYnZYDu9ofhtIb7KMmv1+3hev39gDe8DArjBwseK3u/bnR+rNLUvlJW0vT8utqr1unLzZOakuhEFT08UtjV+LC8Xjw6K3y9py4FfMq6+xsSwVDZpquRa8v+vylCypo/d4MfRb1mxnu1aVgeOabvNZknPvLDunJvBzZpeduFx/UE4EIwvmVfPQ1p/X5F7gF8ZFYkuVQ0GGOore39bl69eXxn42ZR8MzojI+qOE3zY/GtapnhsyqXrCtgNL2rw8mZJzMaG4y/W0aHkXvL9YXWjMxtsVg3nfb0wkulEukfX5MTn3/Xh079CFMZm3hWlGvXZzhC4vI6nrecIl7/oOV2oVNA2LxM5uOXJ1WMq3b0SRlaQAaTjtw1I13ZypWDuar5znNpyu7cGea1PDZ9C41GSyb3vvSHG0mf2SZbTZ/fx9VxzYwuVGOVAOMLAtBo7crIaOX21ZKlejmUSHb8/Juul/Hs/ERgIjR9EXlCecoFx5zx9VKIm29/JoQk66sip6v87Qqcl8xR8JPC23Zq3T8qAc+Szal9UWZcSfHeU5gdM3I/+nWF6b3Dc5mzXzvSU5NrRoRbYvElupHIoyVPT+Ztp7P7zrvFQehUjMj1yKBpJK/VYUhn7bxamwPq7PjkY+cM95Kdt66mbUGa53tZ4WLe+i9xesC3tSjyOuGhCJJel9L6Pwkgl3jajfAUQvaroTpxAlp5XmXU/mZ5u/awdXRCSmbJQUIA2nPUfMbTNPHZ05z204XdvjoZ5ND98JO6ZYQ7Lt/DaQ3mQZNeOdvGNbzm2qnmFP7AkDBRgoybm7y6EQfFKVgdiU0BNSnjcOYU2mr0fCUevcyfFwlG79vRvh+14YleD2tar0paZ+XrLOpRf8K3r/1ZkwnQtjkeOpZd1TlulghHFRRl4I23p1VOcr6WmxXTeD0KvIwpidsVIwr/retvw8IecGJ2TSGzEW8URiK5VDUYaK3t+W5duAL5SX7xfGwjqeGg3slshv+60bfR6Jjex3S4d+v1aVPvuOXa2nRcu76P0F64K2nXv1ublI7LHCQJZlJNYZpKE5Ugk7gGA0MdWgRvcfHrGRpmrZRhVKcnZwKpivHKwZMOscZ6dk4JUoYuciBw+rcm/BRgBzRsqy107YNRNO0EzIwPhcNFXRzI8euhJFFC2MXa+U5Z5Zy2Bfuf54Tu4Npu9LFmA9QRPc69IRrY0M0+2t7UgKkIzv5L3XhvLcRyRW7foJnW4TDP9XN11TqvlxD7Q/BM916do7m0aNjV2/2XNe+vzylbz55I3ZIyybmlSnImaCvGsZvTccrKlxa15qi3Lv+umE49XAu5wtIy7yeDl0dSw2x39ldkwuJhytrfKb5Irfo/YLW2CLg8vAaRl4YKeOPpqS3sSsIhdINKIvNj3MMqMOn44O3g7X3a/PDKb6XmNjbdeXxu0SjIL3n30nTOtSJdkWh+nRAPj0TfP7FbsvwLKkHNXAH7ghk6bf3KjKQPC79Y0azav1KdqTHZ3NI7L+WNeWRiKxpcqhIEMdRe9v63LeQtuvS7/u3kjV8S476rxy//+rM/tN2VqVe5eaUE+LlnfB+4vVhS3Ye4f521wk9tlI3MOxxFz8jMSfmQjX1QX39ocNqtmI5RX/Xj86aESgN62ktizV+2NSmbFRSn8TF3WejTjZWJV5sx7tvWFvGkr0jpP9o1Iet1NeHs1IeWhUykPDctFEKGLPseslHloFKCL+VJJoekxNlqpTMjJeFZ0jvdm0WhVVkTiL0hd0EpoOb6RzJ0Ti4ctlKQ/NhOWwNieVIO+j0hcIbs/WulbE5d3bMCcDsrrP1bwEZbMHNo1NNzVMeVOJLCvRGpdFKbtIVeP28AMP4Zz6Oan0l6TDisRAMyffJf6oeoPvUlt6XGTyotGrYPH3qFSq6rhFU7O2w297OjKJOpjBOfnGRjCQz4COBNoYYfCxUvU2gLkQbQyXvcmLdfis0FKHaX4oPeoYlIOuZXpQDgJuRe+/FQz+rcrkVS/g7NV7dVJDEaozZWbkYpbA7SzZUVLbrhfM68HhSp36SCS2UjkUZajo/QennPPbicZscFpGFsKWZPpm2QZg5mQgWfd67GyDwD8379zdelq0vIveX6wubNfG2//+5iJRneCk0+o1tBEQWnjhWjjtUNzUEvMdHWp9NCVnDQzqFCemmzgHV0cL9T5Z3HREM0iP3p9Mt143z3lJO6aSHKvY0U13vzZ0iWkzTpB4I34ZtlCR6HemmT+793XLTojEsCzi5eDKR23/pBpbK2LWlgRrSNZmpDcjL+77rnIm1jo22aYq0pIb16zPDgeBDDdSvTDm7V5XkrN2qpObLlTAHioSTcQ75vxo/TD8uqj6UembCQMPbvpro+9SW3pcZPKsI5hT/TY6d0LK1Zqsry1K5YJpGLbHb1Tm229keBY2hIE2YaDnivQNleXiyRPSVbokA/d12qntE/LaL9evaLsUCgjtJxsNpha9P9WnunTY8tB2NNhBPKff9L4Te17BvB6cOhAvY5PvmN08ezqbNLEcijJU9H6Xp6x8cs3OrvKC5o8m5GxPSfoeRD5TtK+Jd585lCA4LWB362nR8i56f7G6sPf9xuYiccsjiWYusY0AbGh0oCQDD0KpNH8nnP6hBl6ZuiHHzpz3/l2TykNzrx1i9hrkmJOeV+m8+yPgPFE6Pxp39jVakRSlj2ekN5au83LOig0nADLSoPmK78Tp7Q43b0d+PDGQsLFivgAAIABJREFUgifWcMbTHstT6v3ZlUin1qSjtiXbiNdk8mo9KLOf64R+k2yaEts1fyvlEzY6lTUy6nVepW631rYRe2jZpCLSWkZOrFn7aQTclm/Dtm+A26DsX7Kj9rIq8/fHZKD3h3LYj8Dpc7bILx1dvXrA3+ADBkIGoj49mLKps4mSfYHro2wbbEYSe7rl2N1wiUq6DU60o3ZzmaL39wX+Rn6/Fh9JHAzXKK7NyEWXXr+cEyOJBfN6cOqM18/aPqmVyqEoQ0XvPzjl7NeNIj97a5prc1LWZWxuXxORlfkpGRmakGm3e3Lo9YUz/Xa3nhYt76L3F6sLRey6O/duLhJjaxLrJyK2JjFoZKMOJIgA6LOMaLRrp0LnO+X2xy5Mv1FEINk0qpPsibCg8uZdT46SWec/lpDkLw8GE2vOIvuoSGw0QmrSpkLEnTelAqTwOYnZYi71fK8j3DS9wb3Zz/VFYly8Ju7fbZsGaUx3UH6j7dvA/9m/x/yctEfuvckyUpsmOMv9fvJdie+5dGVcP3I9cZaX1GTprt1deJu2du/V/PCZW9exVdTuYYsDaItYG2gdOG+TiRgTyTWJb4SbwZgZGrH7bHuTWpNY8H514DZfk2imo+oujA2sSQzET8G8Hpg2NN0Ht1Q5FGSoo+j9B6act9LWnZa+9+wASXIHYWO344nzTJ+Y80kH5V6wO6quSdzlelq0vAveX6wubMXGO/udzUViZ7S7qTmAPvfAchcFWJaKv+GMTrNbGJOTdsMaf5G6OuN5jbjrODKcZPe3rEqZd3/e9aRI1JGgRtZiZrxf89VKIjEazUquz9CRxPy1G6GtE6JP890qNg3S448kJiuL13nFRhI3t0euyIs5SN77EjZp2Pbe92Ij5spjMugR5PmoHOkdlWpwDIidBq33b5HfunVLy53PTMcW23n1AEbag5E6jpAuKwn7cN3xU6Q6mGxXu+WI3YXaLEEJAoqp2UY+O7pmyexuap9V9H71Px5Pydkki+ZctmADt0W3UY3umrjyzpVUuXXprKoF3Z+hYF6T72/b371+Vme3tFI5FGWo6P1tW65+3dzCz+Y4Cz0QNbUrcrccOm5mEiZmRBlbqv29DaJ2tZ7q+9wMSD+vzW+T9tqfaEAkdktH4pzEs4kdFOPnJPbHp3F2RhvVrAcNstfgGwC08XgSXyzedWpMqms1WTcwmfd5znN8tMovQO/nvPvzridFYme08U5simHPeRmZNWu/VmV6UNc0eu+1DUQrisTI1lXpc5u3dMuR6/a8K7MmURv1zIZumyJxt21q0+zWJD4cC9e9BtdLclbXnWon79jb3B7bFYkN215H281uwq6MojWOJlBj+NdolO/MxJnbHr973TDx/nSbgk2wyZ4x4I6LSEzj94LD92xwuOsNu8Z9YzGaStbZLV2nRiX0Ef1AcrQWybRtx1z/Y87b083nzJolLfui96v/IbIy5fsmR+Xi/XBEY/2B7rLeLR3eNP5J7+zHjlK/3fm0JtM3o36/WF41D+3+mSESnR/YCuVQlKGi97d7+W4hfz1m+ZjdIDJzV+RuccIvtnQn2oTQBZaMP7er9bRoeRe9v2CblOmLb6EMtvicxkSiefjxskwHIxXhnMuVhXB93ZJ3ben+jfi6KJsodWiDb+qGNS7B3sJU3d10atEeTVGT6pA9ryhX3OUYy3VqNamOm/N75sINPXKfkxZAbvMcM40v2N10RuZtfmMHfrq8RGmJO+zRddfJZ6QjJUSSo1QZ33HPi6UhgnDpvQm5V12WyUGTBs/WJk+zc1LVimvWfvqdYux5mv6c5+amq8k2dWmOGhbdCdftburPgS9gj1TZ6LuSZaTXUzZp1PZeg2PWG5pdfP15+TqS6JyzmixNjcnI/cXwYGvjmFlxuR1+s7lSDvjEPjBw0Bg48pYVbeY4IdP/zy6LHvmzct8XYBltnTs/ryZL4/698SC0GB+gOidRe70slWS/5AWtG7rftZUi8mQxeP6SHgGVMaJRN58Pyp6QNXWgYF61f2jrzyyRaHzIYRskaIFyKMpQ0fvbunyLtv16eLxRANbvNH6N92/y9vkYH7o5oaunj6dSx3vtaj0tWt5F7y9YF/ayr2lcJAbQ23PenkRHRog503BhRsqXT6TOQHEZ0+FbszuR3bDG/U2feztxTuLDqoz0eQfappzuzUE9cn3KiTp5Mifll+qNSKYFjUnjoQvD8XMSzRzpyo1ER5FOy96KxG7pemU0OkOvtiqT5rgGtfVQVVzlM+ckPqzWLz+vwct8bm7ZNNmmXjo7cs5JHHA72mqZZZxdmGGP7YtE877G3tXRc0XKeqSFaVcfz0n5rZlQBKpINJF5v4xNOZr7LkRR7u3wG6+fais+sQsMHGQGUuuggzVDVxKzh7y2zgsim/apcvNSxr3d0lG6EpwzuxIcbm+OuTJnJU9Iur22/BW8v+tUYq3TxqoszYzKObcjtc91SY69kVjvHeTzWmYQ3LXrjebV76fa8ucckRiMJrdQORRkqDCjbVm2fj1p9GfrB4bjS5n/100gtZ66m0w7UN2jerrLfGheNdBmBjTy26RGbb3z9xUUiTufgIPc4ZJ3eIIBGIABGIABGIABGIABGGg1BhCJRHtSC/RbDVLSQ8MJAzAAAzAAAzAAAzAAA81jAJGISEQkwgAMwAAMwAAMwAAMwAAMwIBjAJEIDA4GojPNi85ga2wNAzAAAzAAAzAAAzDQqgwgEhGJiEQYgAEYgAEYgAEYgAEYgAEYcAwgEoHBwdCqkQzSRZQNBmAABmAABmAABmAABprHACIRkYhIhAEYgAEYgAEYgAEYgAEYgAHHACIRGBwMRGeaF53B1tgaBmAABmAABmAABmCgVRlAJCISEYkwAAMwAAMwAAMwAAMwAAMw4BhAJAKDg6FVIxmkiygbDMAADMAADMAADMAADDSPAUQiIhGRCAMwAAMwAAMwAAMwAAMwAAOOAUQiMDgYiM40LzqDrbE1DMAADMAADMAADMBAqzKASEQkIhJhAAZgAAZgAAZgAAZgAAZgwDGASAQGB0OrRjJIF1E2GIABGIABGIABGIABGGgeA4hERCIiEQZgAAZgAAZgAAZgAAZgAAYcA4hEYHAwEJ1pXnQGW2NrGIABGIABGIABGICBVmUAkYhIRCTCAAzAAAzAAAzAAAzAAAzAgGMAkQgMDoZWjWSQLqJsMAADMAADMAADMAADMNA8Bj710b/9q/APG8AADMAADMAADMAADMAADMAADBgGGElkJJGRRBiAARiAARiAARiAARiAARhwDCASgcHBwBB+84bwsTW2hgEYgAEYgAEYgAEYaFUGEImIREQiDMAADMAADMAADMAADMAADDgGEInA4GBo1UgG6SLKBgMwAAMwAAMwAAMwAAPNYwCRiEhEJMIADMAADMAADMAADMAADMCAYwCRCAwOBqIzzYvOYGtsDQMwAAMwAAMwAAMw0KoMIBIRiYhEGIABGIABGIABGIABGIABGHAMIBKBwcHQqpEM0kWUDQZgAAZgAAZgAAZgAAaaxwAiEZGISIQBGIABGIABGIABGIABGIABxwAiERgcDERnmhedwdbYGgZgAAZgAAZgAAZgoFUZQCQiEhGJMAADMAADMAADMAADMAADMOAYQCQCg4OhVSMZpIsoGwzAAAzAAAzAAAzAAAw0jwFEIiIRkQgDMAADMAADMAADMAADMAADjgFEIjA4GIjONC86g62xNQzAAAzAAAzAAAzAQKsygEhEJCISYQAGYAAGYAAGYAAGYAAGYMAxgEgEBgdDq0YySBdRNhiAARiAARiAARiAARhoHgOIREQiIhEGYAAGYAAGYAAGYAAGYAAGHAObiMRrcu+JbP7f/Kh0XZqSFXOn+XkXDXzu/mpOemqyNFWWYz2Rwj7y1pys2zQd2aE03ZrNef3GqlSHruxq3otHT7T8FqXs2aX4cyKb8l1sAQMwAAMwsG0G3poLOtOV+9dCh6RJPsS2071DvkRbpqPnvPTdX5SVjchPWn9YlfKFo87pTOX7+JjM29vnh0refSdkZCF6TvInx42WR+mKlGeWY+9emZ2QvlP+M6N623VqUCqzq7Lu0lqTpZlROVuK7onSWpJjb0xI9XEtSkZtWaaHrsghfT+fXtll2XAHr6XaCnzdiNUdtHNnt2wiEs/Lrak5qVb133IoujZWZd5dm5Pq3RtNF4nrDzVN4eeS1t3ZYTlsK2vfjL1Yq0rfDokkFYkr8977Z5ddQ5NquPa04aDi7FbF4bk72xBhT+wJAweMAURi85zqpvghp+XWrPW51Ed8qI7Zqty7nCXWLknlUaS74iJR/ZeaLPn+pv158q1Lkf2OD0tVX7W2HPis84/tczeWpZJ4d9flKVlScfh4Mbh/ac3ev1aVgeN+XSzJuXeWXSJXFuak6vl86w/KslODELSBvt3r/IxIjNjf5bq9iUhMFtKwVE1VeTIl55IJSxVa8rs787uOJMYbk27p6Lkhk0ElX5V7r9h39VyRvqFRGagXxUrmY5PfQ5FoGrxEfo6PynzQ6CzKyAuJv23yzN1rGLSRZSRx92zcKmVNOihjGICBfcQAIrFpjl5T6sUbgXco8mRGer+vgrAkx4YWQ4G1MOYC+Jqek3cj8WVuivt16m/OyMW6Qf4TcssqxJX3Br3ZZCVRf1EeTchJ54ddk3uBgKzJfMUfCfRE7oNyNCtMfdvaooz4vqQnTKdvan73Uf1z9tiHadYycTMX8XW1Tu30Z/uIxM5u1yDEG5qdrQC5IrGzW3rfC0NZ1bd29p1bL3QqztZt1yplSDooQxiAgTZkAJHYViJR/Z/5oeTUUg3gz8ktX5i8NCFLRhluLMrkTLiMKOa7nbF/jwm8jHrwwmg4XXWtKn2pqaI6UlmTyT773asz4Yy4hTFPUNq/9ZRlOhHsvzgV+nXzlfORcLT56LpphXGGAKbNyigrv/y38zMisWltxy6IxAkZGJ+L5oXnrNXreqUs98x8cDtFYP3xnNwb3HxNn0aGYo1JAFtJBh6YFqcm09dtVCcFkoHWzC2fknmdWiAiK7NjcnEosT4iB+DGRKJ5f0mODc6Im8KQ+x4bLVubk8mqrre0I38952VgKprKKsaWlX4pB+siE6OZZj6++76IrC3L5OCgXVOaGEk83i8jZu6+2v7JskxX+pkykVPmNPa72Nhj86Y19nAMx9thwPW9d8tyb0H7KpH1hSnp86bn5fWRqeuIxLaq+xcrZgnOjNx6KVnPNFg9J7fciKCKNzN6eD47wN9nxZxZQnS8XwaGRqV8+4acdKOU9j23Q99tfWYwJeIM74fvhCOZS+Ph9NSz74TsLlVOZ9pfxe70TfP8K3bUcVlGPMajemQF8EZVBujLMu0Z2Mr54hMy4K9ZrS3KveteOSTbBLVp8rp7nu6BoowlfF39Pp/5ZbOJbXZeJAaRoZoszc5J1c1HF/GH48188GCTGzFzzadkZLwquqbQrOmrt/GN66hiC5yN8JsJn7k2I73aEKVA6ha3mY2IBOsavbnlJumbrSlMdXRqYH+66fH4e5Jz2OPvsSLRXDT2MHarTkhvjzf1ITW/39zricQenT5honLhelE3Hz94rldxvCkSKwszUrkzJVXdnGh+FKGo5cnnlhuVqANNOgv8jm1gYL8yoH1v0KU8seu4bKDRn86X10emrm/q+MHKfmXFT3eXij1vRFCnma7PjgajecpWLPhv+Qh4S/xvxVsHqKIvPYJp+VF/80E56NNuBYN/qzJ5NXuKaJedHhuKys2mvJakHOy6syyVlDiGX8eB+uKmHNWffaSNh2e7ZJugfljyuj6P6aa77qftgkhclJGXdLpBSY5V7Hz0VGGaET+9z6wp1EiAJ34UEO9TG5NEmxH+GixQ9p6ZAqk/WrfYdyISo75w0p3WvHc60Du7JezoRALhp4upPaEZitxBmQ74X5V7V730ZL5HRWLCHter4ZSIx1Ny0ZtCEYncyE6HRyIbn3T3evPxRUXiCZf++NSJ07ahM1G9E7sOnW9PfqYjgQEYgIHWZ8D1vQtj4vqZ0qBM614Adp1+SgzavjR1fVPHr/VtAreblJHzeWoyfdP6QjrNtDYnZbvzqLLli0S9JhvLMn37mhzu6ZZDL5Vl0m50owF9vc//bqxcEn5gisOkrxfjUkVixj4ceVwnn8fv0qFlIL4+OCq6uaSWZUfM9h5byev6vJSuUF/X+y7235ZPv/MicX40viVwj50vrpvdaOE+npHeM+flmPfv3Hi4iNkBk1G42iAkdzet6vQXf2cqfZeCpBGtZBq99Yz13m0aHhWJKZFqpmzqdsiF3qONUHxxtk55SEfHkmJat4k2ojERGetRAWorjv6+MSfll+O2P3bbitLZ4W0BFWucM8qPv9N4wQAMwMD+Y0D73qQznrye54Snrm/q+O0/G8G1V2bHyzJtZymt3O+3fqFOM61JdSha45dkyNix6/vXZGB8Skb8QLvxKV4YlqpZN2ineB6zm9+kfSWbFm8k0cxS67PLkiavemn1fJX4SOJguEZxbUYuevdE5cxIYmSLbHsGf0/64mpLLRv10ZNtgt6XvJ56nvrFiMSGykPt2sDnrojE+HRRFUE2EmMLOyWy/AsPBnOFSlZjokY5YqcJrL93I/x+EqQkaL6B6v3Nuy/V0Xl/03TkRkPMvan3JOxjn1fvPfG/1ascib+pPXxbJ39+NCHHsvLEtVwmXbljI2wEAzDQpgzk9b3J6/H+KXIcU9eTfaH2T+owtqkdD0J/0fXKmMzb2YSxHUft+sFgymGwtCY8SkyXx6w/susaz0TcZNkrxpLdVdWsScy6N7kmUUXl5msSTdD9vD2io4E1ibrMCW7T5ZBXt5PXk22C2jJ5Pfm9zoSvq9/jM10WBW3SfJGokYOHY1ta/5bskOKNQkJwJUHyRvjiQjbaGbWxkcRoqmf8/bZh0/dUvW2UbcFo+qP3JNJs79ORxOpgYnTQVQZNgz+SmGhYdeRQp5vqqK45N7IgKJn55BnbroDYNcEsTMEUDLQkA9p3NTaSWJP4SI2OuGi/lREwTfbXcNCSHGzWZx26qmcQ1mRpXEcQbTtvnf1kbDr+u2FExZl3pJnjQUcj7Vo23d10Y04GUkLttIwsmKeb3U2tL6W7mz6ekrPumTZ97ii1RbdRje5uuvLOlVR5uPWWC1vzZzezZdv8Pa9uJ69bPtan+mO21tFd5zcnv+f8YkYSd5qZ5ovEzmhdYGzhcM95GZmtyfraqkwPeuv4EpU4r6Myhjl0006Z1AqbAsl/t/cON29+GxvXxNJppygEm8t4Ii/zPdkiscOdOTQl57yGb7M1icfcvdlrEsNF1mbtobejVOdR6TO7qK7VZH588x1mdxpCnodQggEYgIHWZiCv701e19/93Sa7To2FxxT4G65tOjrQ2vaA13T5HLlZdZsSVocuxZcexXyk+HeVGT8AcdIuP5L5cHOb0N7m3MW5cL+GRxNyNvB3StL3wA5bbnqvea+KTJGVKV/EHpWL98OdT9cflKO06xpKMZvdeH5jqd+dt+jWW9bJ44HmJeWL2/JPXtffzXEm6ssabRAIfc8/1/vcrANGEneLrz0Qid2S3t10Rubt3HXd7Sovw9qYhNMSwqkKVbOBjK5JNJ2QVuQUSBm7jlYXo+M6trO7aaJxiMSc3eTG29zGxLVcRKQzRyR2bnF309qyBPZwO0eZt3nRFV+o6u6mem9ik5y8MuB6vIPDHtgDBmCg3RnQvtd35E2eU9edUy0S9tN+H8tIYrtycvi2FW/G5bC73wa+iG7wVx3LWdeXwZDxp8xmhnaTGkn5NZ6fp/c+Ni82g4ahD6RTWM3vFfUJ1U/z/CBNqzuu7ElVBuyGOlpW9fw5s9NqFJynHVSbxT4zfPHg76nrkYB35ai77/t+c+p7iMSYvZXzHfjcE5FoMnPownD8nMTgrL4bm1Y27ZBscxD/eDwnlTeixdBuRyUXbTAVOPucxF67Q2gk3rIre2wufN0CKMnZoTl3FqFs1ILzGNPvyROJppEMzz5cDw53NY2fOSfxht2J1OtsTTqyzkm8XZbJoIJ5ItEsCD91I35O4tqqVO8Py1m3M2p23ncLQp6LvWEABmCgtRnQvndTkdjZLUeue2cRb9Rk/n5ZKsFRAV6/xUhibErdfudf+Yg7Zf5vcT/Ez69+N8lWR8956fPP1TNCYWFGbl3wRvTUDzM+kDn/Wf2lwOeakAG32368fnWdGpSKOavb3b8qSzOjci55DmPwfOM3Tkj1sR7bYISw2aww3HXVzws/x+0c2CMl6uw9WdePD8q9hcjO5hzWgbvhDv7OP099D5G4W9wVFIkZha8VdB98HusblvLQqPRmnGejjVTeYubdKgCeu7+ZovwoPxiAARiAARiAARiAgXZj4ECJRP88QX96QNepUakGgYtosXK7FTT5ofGCARiAARiAARiAARiAARhohIEDJRI7Oq/JyEM7jL2xKvNmrry3VnDJneUDPI3Awz1wAgMwAAMwAAMwAAMwAAPtx8ABE4lmnd956Rv31gqaKfNPFuXezcZ34qIitF9FoEwpUxiAARiAARiAARiAARgIGTh4InEfrJ0EThooGIABGIABGIABGIABGICBvWIAkYhobKsd1vaqIvFeGnEYgAEYgAEYgAEYgIF2YQCRiEhEJMIADMAADMAADMAADMAADMCAYwCRCAwOhnaJfJAPongwAAMwAAMwAAMwAAMwsHUGEImIREQiDMAADMAADMAADMAADMAADDgGEInA4GAg2rL1aAu2w3YwAAMwAAMwAAMwAAPtwgAiEZGISIQBGIABGIABGIABGIABGIABxwAiERgcDO0S+SAfRPFgAAZgAAZgAAZgAAZgYOsMIBIRiYhEGIABGIABGIABGIABGIABGHAMIBKBwcFAtGXr0RZsh+1gAAZgAAZgAAZgAAbahQFEIiIRkQgDMAADMAADMAADMAADMAADjgFEIjA4GNol8kE+iOLBAAzAAAzAAAzAAAzAwNYZQCQiEhGJMAADMAADMAADMAADMAADMOAYQCQCg4OBaMvWoy3YDtvBAAzAAAzAAAzAAAy0CwOIREQiIhEGYAAGYAAGYAAGYAAGYAAGHAOf+ujf/lX4hw1gAAZgAAZgAAZgAAZgAAZgAAYMA4wkEjFwEYN2GR4nH0z1gAEYgAEYgAEYgAEYgIGtM4BIRCQiEmEABmAABmAABmAABmAABmDAMYBIBAYHA9GWrUdbsB22gwEYgAEYgAEYgAEYaBcGEImIREQiDMAADMAADMAADMAADMAADDgGEInA4GBol8gH+SCKBwMwAAMwAAMwAAMwAANbZwCRiEhEJMIADMAADMAADMAADMAADMCAYwCRCAwOBqItW4+2YDtsBwMwAAMwAAMwAAMw0C4MIBIRiYhEGIABGIABGIABGIABGIABGHAMIBKBwcHQLpEP8kEUDwZgAAZgAAZgAAZgAAa2zgAiEZGISIQBGIABGIABGIABGIABGIABxwAiERgcDERbth5twXbYDgZgAAZgAAZgAAZgoF0YQCQiEhGJMAADMAADMAADMAADMAADMOAYQCQCg4OhXSIf5IMoHgzAAAzAAAzAAAzAAAxsnQFEIiIRkQgDMAADMAADMAADMAADMAADjgFEIjA4GIi2bD3agu2wHQzAAAzAAAzAAAzAQLswgEhEJCISYQAGYAAGYAAGYAAGYAAGYMAxgEgEBgdDu0Q+yAdRPBiAARiAARiAARiAARjYOgMNicRbsxL+Nz8qh+uKqhPi39tV996tJ7olCvzSlKwYq8yPSpDPnmty77G5sCr3LpcQXu1c9uQNvmEABg4cA0fl7NCcrNSsP2A+Hs9J5Y3zYR/o7FGSY29MyfwT777askwOJu/zfYCS9L5nH/xkSs65Z3VHPoX3uOhH09/a5/TNyHr0h8RPi1Lu8d/Hz7vmR5WuSLm6KusbURGszI7JxVLa5l2nBqUy699bk6WZUTmbcW9Hp+FqQqqPPQBryzI9dEUOebxE+TK8VmXJ5/BJFq82XSbdM8uyEkv3hPSdyvHnCt5fLK9pW0X5arO/NVxvM8rftD/XT0d90VtzEXQ5P80PlaRjk/tW7l+zz7whk2s5DzLuv3mWY6+Rdu+EjCzkPy96b+uUcTGRaATQK3US/9KELGn+VTw5A9b5nr3n2O0ZqVbnZOTq5vdGBbNH9yZF4pkxl/elu5c8cPYofQXsvue2JK3wAgMwAAMtzEBJzt1ftb17TZZm56S6oL8bZyly1I68NefE2srCnFRnl93v/n1+v9P1RtXdIwmReLEyF/gFxjdw/x6pUFiWyku2j1XH7/FidJ/7zoT0IhJ3ny8XLBeR2nJQDi5YYMrVK4Ouy1OypILMltmSOuRrVRk47vtOJTn3zrJ6l+K4st9ff1CWI7H247TcqlpGNtK8Lo1fiwc2jg+L3i5rNt1B0F9ENpalkgz8F7y/WF79fB+AnxustydHFl0bEZR/VvtzdSyj7pt2Y9GJ/+mbJenIus9rpyIffliqhrqNVZl3bUnUDlX6I5HYWLt3Te4FQYuaLGU8b/Kt1tMOBUWiyPp7N3IbmotT2nB7I2yxilsfeO2E4uq8/nf8jqapPydFYme3HLk6LOXbN+SY1xA2NU0FbE26WpQryjC3fYFZmIWBPWLgjA0AbyxK+aWjro4eujoTzqhZm5Fe03b1DMp04AbUpDoUjRwaJzmYebNRlYFkG+e+YzVAQiQmy/zIzWr4rNqyVK5GaYn8h+ha8rv8vrv8nLxrhdzjKW/k8LTcmg19w6VxdYJ15lVN5iv+SGB0rzwoR0JO/a3aooxc8MrXE2uB82/ZOnzbBioez8RGAh2H4gUXOk84Qbny3qDnv3mBkUcTctJxW/T+gnl179ndsmqVutBQvX1hVOaD5mFV7nl1/tBVbVcWpfxCHXtdtbMMTDuWhziYAAAgAElEQVSV5Z8fL8u0irfx/mhkWrmbH42uZZWPa8M2a/es6HwyIxez0pH17D2+VlgkysacDGRlrqcs0xoVMoW5hZHECJZInbcKyKl0ePC09bTaPQY0ZXfS4xw0bFOnU4ATOIGBHWPg8J3FwEUz06Hi/Z1On1qVe5e6petmEHcXWRhLjOyUpPeuicDPyC0d+QvKpyR9D0IBsTI1EzqCuSKxJOfu2lHJJ1UZSEwD7HsQikxfLNBGNrONvCSVR6YMajLZl/DhXhqWSTNycvdGyI867QtjniizaXW+5KKMWMdfByDmK1HgQcvWZy5cDnVCyoGiqMn0dU9Q2vbg5HgoZN2AhwqQtar0paa5+nmy6St6f8G8ar4Oymcj9bbLjjaaMou3P91umvpSJZrNELddSQZs27D0zpXU97suT8hS0AStynRySvwbtj3zAxYZ/YrPYHxEO9HuabAtFnRoZh0t/q4CInFVloIGQGT+zolU53N4JOxE5NFyfK2e7QjODk4Fc8mDeeobNVmZnZKBV7Qhseo6bOOj/9vOQsXj0syUzNvpCDp3V+d5uy9trEp13I8GdUuHJ+h6K3Nu2Fk2ajJ/fzDRmZlo6HnpG/fuE5GV2cTcdO+ZCm24HtNbI9FzXgamvDnum67LKF6A8crA97EHDMAADMDAzjKgS0H86VWhjUvWIQ9Foq4rnB86Kh2l03Lx5qiUh4al9+UTKefMfN9NMzWR9ZJG2eNrEsP3nJaBB3Z666Mp6f2++g6aT0+sXj4hJ/uHpTw0KgO9p+uPAGQ4fLCjNi34+cKYFflmlKQkh1++IbeGRqV8s1+OJMTX2XfCssxz7JWj6ZsmDVfsfg/LMhKbgqrps+vG3Ci15ciIvqwBDU2nOuq3w3Vs6zODmYxqgMSNgha8v1heNU8H5bOxeqsaIGuWYdeQ1R6zwyldEtRlFfWymOLHzUrYWJZ7fek2Ssve6I16PCuvm7Z7uv5ydlgOH++XAVM/bt+Qk6n2rHXKv5BIvHfHDtk+npKzscbVi7bcSWzo0ukN2Zs56vfHpDKjaxR0k5dL0js0KhWdkvCe6ViM8foDAaeABELwSbjeIJi76001kGBOezTv2IxkOkWvgs4qyeR8djEF5vLjTXew85Dn3dz0RSlrI6XP9EZMkyJRo1/rCzMycmdG5sOAqRDpbJ0KgENAWcAADMDAFhk4boWBcdB7VDDWpDoTrR9yAVwz+qf9p+lv3RQtnUKWLxJ19Mc9ywRuq/4GJ7rWx7/D/mympSbXlLn+fov55vtph1ynFD+syqQdUIhKoyZLd6NR6FvBAM2qTF5Niv2wPNTxD4WZcpE3RU+5s1NIL0Q+aPaGNpYVKypVxAUOfla5ar4elIM8F72/WF4PGo+N1Vsn1t65kuLO6QMV/Yky1LbDBAFiPLzs7aGioD6ek7I3ndk9W//uPn2elb8G2j1df+meE/2wklpX2xosFBOJlz0x2OdlQIfTH03JWa1QKp5UTCWG8t3ccG9qiRZIMlqg180Ulmi9n04pkPic9p4rUnkYGt6NeGoaJD5fuMOJTDM9IsyPGxFdGPN22CrJWTtFwaQhEJT6TM1np+7CpiOJCv+ilDWKdnVKltZqsj4TNjY4Jh5DiYqNbbANDMAADLQwA94mJUvjZhqX9nlh/7vyXlnOHjcjipdk4L5OE9VRQm+a6X1dA6RiQO/x8t5zRfqGynLx5Anpynye/a6IrM9PSK9ZN9lzQs5VrFjdmJNb9dYs0f+knO/Cdc93gM3awd4fymEzonh5VKp2h9HqW+EstGRAPfUu+6xwxlgdLmy5xZ6X4ZvFn6+chjveqn+Z9DvddxLPK3p/LG1ZnMXy6jGfdW/bXWuw3uqmmGZNtB9oOj4q87rMzdMSruzc1OVluedmLqqNS3L2upltYDg9KidvTrlpp2bqvHlGWHZmBvWiVPovyaFOw/OYG/AJeVaeNm/3lB2zGdL07WtyuKdbDr1UdkEVnSHp0t8C5V1QJHbLYW0IqrqoOJrvO3/ndGxqp5mGqUZZmbohx86c9/5ds2IunKZijKL3JitrdN2bX65TBgwYySkFXqUOIgf6uxGxiXtdlGGqXzo6/aHvZIRLQbCiT5+ZKxKjTnD9UVUqt2+EHWYLFHorAUhatMHiExZgAAb2CQM9pv8Op8asz47a4K32keGeBFFA1+Qp8hPMFEI3zTS2wcnmYiDiI/68js6jcrJ/VO6Nl71AcmhL9R/cdEH64O0Lwiwbqm8oZoTQ89XMverk29GecB1aTSZzdrKPjyQOhvtdrM3Ixaz3dupIjh1J1HVfuZuNWE6D0e9uOWY322lkJNH4tEXvL5bXfVL/M8shL+1euxANnNl9Sxqtt/EZidPjozJyP74kTDJGEv1BHzezsE7a3dpCO2p86KUbUr4/kVr/7JawBe/08jevbaHaIt5OdX3/mgyMT8lIsn68MCxVI3bdlGn9/t5/FhaJHZ399twQu6hY5/uaDW3MiFlCPDkl7sOR+Hn6jdAQ2pjni0RPuCXeE3Ue5lmJzqbevdqwBWJPCzv7TKVYRCjjmbG/GxB70ufuSHLKTR1g43nae1hID2UAAzAAAwecgeODMmmXYKzP+zNuosh7psPtRkx+Y9eYiaw/iraTr1btaKNuN18xgds6tnbP0zPNcu7N6KvrPrfeO/lbfpmonTN3boz7Viq0Nl+TaHy+83ZDnAbWJAaDAFZU1qrSl1VeOsCgosJuTmKmI2ZxoVMdXZCh4P3F8prDcFY+9s21E3Ju0C4hM8vI9N/19CYyMfsrT24gphQ/9zLY22RC+obs5jKzw4k1pTrzUaQ6mAha5NouoR1y74vzrDqnfrtXv51K6YfcdzeXkS2IxG7R0beVd664n92uQ4mCVeGX1xj4UOi9DYlErehZQ8xeGmIjiam1lF5egl3b/JHEZEF4UGSIYZOPeoXc9X1vyo2DPvkOfvd54Gd4gAEYgIHWYaDr1Kg7T86soYmPFkajLFnTptRvWKoM27PCEtHi5K+mn6zjkEfPOy0duguhm+EU2cwfHdBN5mAqss/O2cKKM8kIsuu0P91MRpcoZfhkHT16gHm00Yju72B8zmR6u3QzELejbrQUqTroDSxYp/uI3anX+az+QEdipllH52l7+Lm3Y2vR+wvmNZm/tv690Xrbc0KOmpmIZvp6QjwpG0mN4bhIzTasE0TQEe+HZndme1/WiQ7Kc2I0un679//YYEfWefMqaP2jWXajjhZ/5pZEYodWkrVlCQ8/jSpzciSxQytIIrrUdWpMqmZ9nhlZs2v2ConEzqghWKp4EYmeK7ZSm11Y7Za4KhrNLBjv0N/4msSwMXHD0w/HvKmpJTlbsTsoaUOkz/QEX1wkZgDWY896yRK2CfCTFYHfi8ONzbAZDMAADOwMA9FW8SJL928E62lStlUny6wd8o6oiMRlPScoI4qvzpjoJnc2L24/AbvWyLsvNtWx1G9HLWsyfTPtYKbSTz+ccsIbt1G0xGblvRveJiFH5eL9cDfT9Qe6g6g6xSIrU7om1ZStf285eoZylZzKmlO+bjpzPQ7dGrUo3WbDwyjwUZJjQ/a8xUcTMX9Qj21p7P6CeT1IDDZab1VzJNYkur1NUjuXRvrA6QBn12gKqBF1UeAo2rQyPCrDu28zRpXPery9FA1KNcbNzrTbjdff7PdtTSR66wuC4F/Vq8wp8RSfSxzsbjqlu5DGN5JxEb+1OamMz8j87ESwi2qeeIxEnogEu57qc0WidRLeFFgbqUzubrr+wEt/ZwSKJHc3rc1FHV8qn8mRRC/fT+akMjQh04/seVAxMLMLZrsFy/exKwzAAAzAwI4woP2d6UPNLuXmzLvYvxm5dcbY2uv3pCZLs3NSnV2W4OgrsyOp26Qmq1wyRGJntxx5yzrq5vsL+c9L3VfN8Qecs5iVBq5tixcn3tUnmxO3O7zvP5kyyLg3HHQw302fg5kqX5+r1Kh2BocL9ggVw6V/YLpJi7cJk/IdpXtZKsk1ZEXvL5jXbZXBPuM7Va6Z9dYvz1WZN22PV57VocT5mU602WVwSZvUKw9/nXTGffN2EyaJ8eynr067Z7jRnX+1HbW6QEwgLMlZMt178PsWRaK3EDl5cKp2Jt4Im4kOnb2dOCfxYVVG+hIF23la+u5HDfvK7KicrLOhjalI2eckluWk7ihqjOqlKX5OYsaZiub+nHMSB8yOaVpI3jM1EhEfSTSdTTw/gei8nzjDUZ/HZ2RbbIEtYAAGYKB1GNC1+8kpoe533dXb9HslOTY4I0vqTJl7nizL9NCVaGQos2yzRaLpc49cnwjOWXavy3neoQuj8ftqq1Kt3PBGhxCBzofJLIMdsE+pX0ZmV11gwJxHnTpn2r5b/TcNIhgfaWlmVM5lnhtXkmNvZHEQ7hKZztfR+Bo2s/Pt4zmp3DS7VGbks5TYQ8KmO+b3+d8reH+xvGakz393m/3cWL215WnPSg/agieLci9VniXRcwvdlOIsex0flEqM05C9s752MN8z5VxN8Fwdk15vpkTIXoPtntEXns4x+VhZmJFb3tEbaZb3joeGRGIrJXhLackQdFt6ThZoXGsdR4ayoCxgAAZgAAZgAAZgAAZgYNsMIBKBaNsQIbj3LsqD7bE9DMAADMAADMAADMDATjOASEQkIhJhAAZgAAZgAAZgAAZgAAZgwDGASAQGB8NORyB4HlEtGIABGIABGIABGIABGNh/DBwMkYgQRAjCAAzAAAzAAAzAAAzAAAzAQEMMIBIBpSFQiADtvwgQZUaZwQAMwAAMwAAMwAAMbIUBRCIiEZEIAzAAAzAAAzAAAzAAAzAAA44BRCIwOBi2EmXgO0SnYAAGYAAGYAAGYAAGYKC9GEAkIhIRiTAAAzAAAzAAAzAAAzAAAzDgGEAkAoODgQhQe0WAKE/KEwZgAAZgAAZgAAZgYCsMIBIRiYhEGIABGIABGIABGIABGIABGHAMIBKBwcGwlSgD3yE6BQMwAAMwAAMwAAMwAAPtxQAiEZGISIQBGIABGIABGIABGIABGIABxwAiERgcDESA2isCRHlSnjAAAzAAAzAAAzAAA1thAJGISEQkwgAMwAAMwAAMwAAMwAAMwIBjAJEIDA6GrUQZ+A7RKRiAARiAARiAARiAARhoLwYQiYhERCIMwAAMwAAMwAAMwAAMwAAMOAYQicDgYCAC1F4RIMqT8oQBGIABGIABGIABGNgKA5/66N/+VfiHDWAABmAABmAABmAABmAABmAABgwDjCQykshIIgzAAAz8/+29z0scy/f//974R/gHuJxlFv4DYVZZXbmbt24CgQhX8oUXyYULySIkixCEjxAhgYiLwFwQEQLO4orCFUEGAroINLxlGN7i20EkiCLMgIvzpbrrVFdX9+iMOv4YHxdyR9ue6uqqR1ed56lTp2EABmAABmAABmAABhwDiERgcDBcZima7xDCAAMwAAMwAAMwAAMwAAODxQAiEZGISIQBGIABGIABGIABGIABGIABxwAiERgcDHiABssDRH/SnzAAAzAAAzAAAzAAA5dhAJGISEQkwgAMwAAMwAAMwAAMwAAMwIBjAJEIDA6Gy3gZ+A7eKRiAARiAARiAARiAARgYLAYQiYhERCIMwAAMwAAMwAAMwAAMwAAMOAYQicDgYMADNFgeIPqT/oQBGIABGIABGIABGLgMA4hERCIiEQZgAAZgAAZgAAZgAAZgAAYcA4hEYHAwXMbLwHfwTsEADMAADMAADMAADMDAYDGASEQkIhJhAAZgAAZgAAZgAAZgAAZgwDGASAQGBwMeoMHyANGf9CcMwAAMwAAMwAAMwMBlGEAkIhIRiTAAAzAAAzAAAzAAAzAAAzDgGEAkAoOD4TJeBr6DdwoGYAAGYAAGYAAGYAAGBosBRCIiEZEIAzAAAzAAAzAAAzAAAzAAA44BRCIwOBjwAA2WB4j+pD9hAAZgAAZgAAZgAAYuwwAi8VIicUye/DEpjy71XUC9DKh8B25gAAZgAAZgAAZgAAZg4GYY6Eokzu1I8X9nJxItvJOR2xBLb2pyZGrVWL7x67+uteP2aP34cvlVOK1/Qcu2DrZl9nn58mXfRn9wTfoLBmAABgaYgbKMf16X6Fcy/8VT16+6VD9N5u555Pm8VHdOpHVmJzhjK6zOy5OAj8ff9wpmQHvouCYvM+ePydRCJM1j7yvHdal+fnXjNgAG6s0YqEN/1+POPtr4mDCmdtMt2H30+Q31eeaZ73DNHAcfZS0eF/akMtrhO92Uyzm5sbwnkXjUqEsU2X87h24CcA/wTTZwDpKbA2MuspPUz8rlJyet/+lh2qambQ/sBHxWl7nfb+6eGABpaxiAARiAgU4MPFvak5ad+o526xLtnji11ljwhOKLZWmojvy1J1G0J0cqFhvLGaH4ciMpo7Xv2RZqY/xYlGfOppiUuUjnxrY0d7LXb65+vPxc7K5B33fq+1s7jkjMGe231hd36TlR+9k5CxCJ/eKiB5F4Imtvg0F0Ylka8eC/J0s3LWhykAR16yPQ4/8cxpNjs+pNjL1er2P9y/L+RzIZHv37jgGi13blfJiBARiAgetl4PdlacSz3omsfRhzZT/6YCN6zvakEtsAT6WSnChHGzPplozyjKz9SjRlY+Gp+34SpXQimx/Oj5x5/K2eCNRf2zLtRdmMvLXXl0Opvrg5G6BfBhnlBn2ISHTPCmx4bOTsZ0Riv/i4mkgcLjlBE/3tdeBNTNA5SG7w+vG1rzgpnVd/nficl+QG7+0m+o5rMPDDAAzAwL1hYMQa62aLRbi9RJ2asdN0dFHiQJvTbXkfhn1NbydCb3/Fria+kuqBEY4XzaUqPNuy9SkVqGoUPVtNnLZX2v4Bi3eTRUTi3eyX235ecvYzIlHHw+v+vEaRmHgCH31Ykch6DM3w39rfltnP+f2DzoP493Jmj8NRtCxTweTy6C9zTuKFPK/MoWG7Z+HUO/cgkspf2YkluXZbolrdhcE0Fkz9yzI+vy1N7/tHOyvyeiGIiw8ekJHnFdncT0NvutpTmIM8FYIjX5N41tb2fDohj76S6dW0vuYOj3bWU6/q6EfPU+utcE4sShKlcyKb00/T8oJ7uG6wKC/tT9qCtoABGLjPDGhYaDJPZvtyZMHuK9xZlKFz5rWhUV2NrMtcPP98kc14rq3L3G+T8vrrslQWFuX9f8J5SoVnJNOBbRC36e8rySrnwboXnpqt431u+/tU927tOj0vjE7LHUckDoZIdOPCusxueOHn7T1Z8/c0h/2tdmp43JWnOUkQif0aJ64mEv1w04mSpKEfRhyaPQYeDEbVeCtjyWCQiLnWQXCut9fPL1PC/Q2ZMsuiE5mc2T0L+7oxwoTKpuEs+WvXpTpTlid/25AWI8DMngtv32UsynTztIIbf87Yia4tjdqKLNXsvo2zSGaLJjT9bg7yZFIzG/43Y0Hcls1prfOkzO3ofowTaUR1aahoNmE+E/a7ugLpPLOTsrSbtHEm9EfrwOdgDMD0I/0IAzDQRwY0wUzRFgg37xqRpoLtV02mwvrk5icr/pIpKvv/40hm7bw29FfqZC7OKG4NRDPnhtfk9xt9LvK2lWcDenZdTgzafsodv1Ac4Azolzi41nLV3jVP+Vliw7r8G85eLUkuUZE+vxdygEi81v7Sdh8uSQ8i0Qon3VTuCSiTuGZk+JUs7RsC2hIteNnGvBWuIpFoVsseWzE18tx6BEUzFGmYiUhj6U26v6GozA82lOU4SlfXhkvy5GuUhLiY8JfMQCRirp1OOvOyFeuw7J6LIbcSJ1KYoEfhbyy7sl5vHErrtC1b8+cMYPq97NTofjMb8bVuj5esp3Z3RabKWmZZpmyYjeyuyGN7b07oHm9LxSYFMO0+fp5g9YDoF2iUq/3GJyzAAAzcMwZerEszNvBSp2Tch85RLCJxNtI3NoRUJJPMZnjS7VUUsfkNvDmwub0oL38ry1D5jczWkvDRpLzS+auT8dyFgXhXnicViefbdSXJicGMbeblv7hQHNyz5+ih2lruWd+TpRca2Tcm09s2/4YuwIT9re0VHtfy3MITY0C/xoCeRKJTMPrD8aFsLbxLxIx6EM1EEQgS3c+QF4neYBDDULYTiT3eQ5m6L6KxoADq4FG2A1JbNj8kx3SAymyW1/0SntjTRldPaaFIHFVx2Zbm9rrMzbyTJ07IaR0KPhXyMLupW31ty9ZXEzb61K4GmjbRlUUtz3sw3DW9VUfTT+26VLyN/npPfGob8gkLMAADMHA+A16kTvtQtlaXZWkju/1BbLhnGv2TzImV7zWJ/NdW6MrB6FN5+XVd1qpegpvYDnhq52yRra8lGfrDCtSCuTmps50HL4reUYOTz76tLqptlQ0jDey6YUTi+c/aAI5Fau86UWfvUaML9HgoBvVZDY/nyvNs4UB/PLi21ja7ps8eRGIo6AKQc53m/b3gb8WDSTB4FHzPdXjwt07lmfNV5Ol+isJzQwj9Bj7vb8MlGflzWba8PYlGmx39rGRSfbt6a7lB/TN/V+9svPp5PvyF9/J8JfH6ikjznzd9mxAyddb74pP2hgEYgIEBZKCcfU/hWTvZF79g3wm1s+j2vIdzYsu8T/HzsmzF2dDrMneRIZeZc+eT77UjmS7iSp3J7Em8deYK7ZECUdjtebnww/PspiI2OHbrTMR2Yqd+C49nnntPQ4THw+8Nn28nY6t6bdnjM3F9IlEH6oK9CN2vJAYiUcvMvVS3JGGZ6UpiuNqmK4lpmu3CAUpXEqP8uw9VZBauJGYavCyP/1ORNbsXUkVpIaA5yLOd6Or4xl9JzJ4z5D8YnVYSvT2LhfXI1D8sn99pMxiAARh48AyMPpWxP17J+EQYqVOS17UkZCx5JVRZHj97JeN/TLrtEq7tdEuIzW6qr5Iq2ueoGUubq8bJmW47iebD+b0kT74n2zGKMq+6azPP3YhYcHZL8Lq08HjyexrdlfRTfsURkTggY28nezc8bsVgqzaT4VWTYzkbPPyebwtf5IBiLMi07UVj5PWJxGFNZx3sRSjaP1jgWdKKZgeTdHJoXLTPUScgsydRN7ybPYmfIjkyS3teSu7sNfQhtN7KeL+ENxFdtCfxs/WieuIyB3QRlDnItR4lGSpX7P7IPVmaKInbk7i/4mV+LctUNd2r+CS+hhcStLsiL/XvBSHA2t58eu1e1E8c62lAgSd4goEBZEDfkxg4HdPQ0mSu8gVdZk+iZwc0vtvs2/4+R29LxMjzZZuR+1CqfyZz8chnm1vAXP+Cc+Hv9vgrtq0C578X3eVncE9zUnhRaxeuIN3evcJZD23fyd4Nj+vvp14m49FXXgLGj4k9oudpmCoisW922jWKxCC7aZix1Ag116H5QUMfuHCQSSchkSQLal2aNtGnKTIt0xNIUpDd1HsBcHgNvbZL+tJLdlNv8juK1qWyGtn6Fe0h9B4qhbzjnkSTKEf3anj7DG1mKJfd1Ntz6NrKHUu/Zzww4fut9L759PoFUdi3wQbO4AwG7isD/vxqsxPu6mufssnq3Dyk86jbZy/S2vGTqJXl5b82SY3O2SYhXjyx+/OfaTP/+nZ+967fXNW58r6272DUu5NtlTuuDgLzmrScrYhIHLhxUu1dTwPE95g7nia+kvahRCaTv7efmZXEmx8nrlUkmk5/8qmW7dT9bZn7up2s5nmA5AYNa5wXHS96T2JRmYXvSdyPpPI2+96lomskD6XZc1GXIxWh8Z6LFXlvs4s6QEMhMTEva27CMlne9mTts5fhNTzf/K4Ph50QMx9nJxKtzmczknZ4T+KsZopyK54m4Y0XEuQS6wQrvEV14hgCCQZgAAZgoJCB/HuI47nuq5d53H7PzNlb7hVUNu39RkWeuW0RauyUZfxz1mYwZW5+swnxMvWw1/eMxnivY8H1B87IzrSDtt3d++xkWxUdj21FfSf1WVsaGxWpNowlhEgcOH7V3vU0QHyPRcdje1qNcJHWbk1m/0mi5pwNnvseexL7xUxXIrFfF6fcuzfI0yf0CQzAAAzAAAzAAAzAAAw8bAYQiffEQ8eD+rAfVPqf/ocBGIABGIABGIABGLgpBhCJiERCq2AABmAABmAABmAABmAABmDAMYBIBAYHw015JrgOXjAYgAEYgAEYgAEYgAEYuLsMIBIRiYhEGIABGIABGIABGIABGIABGHAMIBKBwcGAN+fuenPoG/oGBmAABmAABmAABmDgphhAJCISEYkwAAMwAAMwAAMwAAMwAAMw4BhAJAKDg+GmPBNcBy8YDMAADMAADMAADMAADNxdBhCJiEREIgzAAAzAAAzAAAzAAAzAAAw4BhCJwOBgwJtzd7059A19AwMwAAMwAAMwAAMwcFMMIBIRiYhEGIABGIABGIABGIABGIABGHAMIBKBwcFwU54JroMXDAZgAAZgAAZgAAZgAAbuLgOIREQiIhEGYAAGYAAGYAAGYAAGYAAGHAOIRGBwMODNubveHPqGvoEBGIABGIABGIABGLgpBhCJiEREIgzAAAzAAAzAAAzAAAzAAAw4BhCJwOBguCnPBNfBCwYDMAADMAADMAADMAADd5cBRCIiEZEIAzAAAzAAAzAAAzAAAzAAA44BRCIwOBjw5txdbw59Q9/AAAzAAAzAAAzAAAzcFAOIREQiIhEGYAAGYAAGYAAGYAAGYAAGHAP/9X//+z/CP9oABmAABmAABmAABmAABmAABmDAMMBKIh4D5zG4qeVrrkOoBAzAAAzAAAzAAAzAAAzcXQYQiYhERCIMwAAMwAAMwAAMwAAMwAAMOAYQicDgYMCbc3e9OfQNfQMDMAADMAADMAADMHBTDCASEYmIRBiAARiAARiAARiAARiAARhwDCASgcHBcFOeCa6DFwwGYAAGYAAGYAAGYAAG7i4DiEREIiIRBmAABmAABmAABmAABmAABhwDiERgcDDgzbm73hz6hj1mct4AACAASURBVL6BARiAARiAARiAARi4KQYQiYhERCIMwAAMwAAMwAAMwAAMwAAMOAYQicDgYLgpzwTXwQsGAzAAAzAAAzAAAzAAA3eXAUQiIhGRCAMwAAMwAAMwAAMwAAMwAAOOAUQiMDgY8ObcXW8OfUPfwAAMwAAMwAAMwAAM3BQDiEREIiIRBmAABmAABmAABmAABmAABhwDiERgcDDclGeC6+AFgwEYgAEYgAEYgAEYgIG7ywAiEZGISIQBGIABGIABGIABGIABGIABxwAiERgcDHhz7q43h76hb2AABmAABmAABmAABm6KAUQiIhGRCAMwAAMwAAMwAAMwAAMwAAOOAUQiMDgYbsozwXXwgsEADMAADMAADMAADMDA3WXgApH4UdaO5eL/Gssy8qYmR+ZM83MfhdfLjZMO9WlLs1aR8dG71tjahntSuXN1K2gr7Uc5kbW3BX/3+7aXc/3vDZdkbsd0YxfXCL533mDSjzLPux5/u4CPHvqOtqQtYeCuMzAmUwt1OWp7U/CvulQ/vwrm/EmZXq3L0ak98awtRzvrMj1RcH/ld1LZPpSjs7TM+Nzn5QLnZVmmFiJpHnvl7kdS+bPoXFNXc25arhwX1dXWqad6lGTk+bxUd06k5erdlub2skyVC+7xwYyDaut4bZ750dhAF50jIsc1eRm3mfZhClyrY3+XZfzzukS/0nOlfShbC+/kUWH793q+1sW7ofN4KrzmQ2ajJI/+Ws72z9mJRKvznW320S+yeZq099HGx+x4MPpKpjf2MuNGzMZfY5nzcs+pveaTwv7psY8fyJhxgUh8JXO1ukSR/juUlumzsxNpuGN1if75cuMisbWvdUo+mzo27CzK40IAbusB1UHxvolEEYkqweTvt2FZZn/qgNm72OuHoOtHmRiufp/zMzzAwMNkoCypg7YtzZ26RLupw7axMGmNs7JMb9vJ+HhPNlfXZVPPO4tk1neUTixKpPP26WFsZzR+2Tnl7FCqb7Pi71n1MPlj+1CijXVZi6w9IodSfeFzOSlzWvBZvq7N1Y/Zea3Heoy8rUlTxeGvvbjeTWvMymkks0Vi+E7ZJH5bXefPob2Y2GYNFertSKZHi8+Jbcx9C8PBujwbLsv7muVL+/BAYTH2hs9GWV7+a9kQkaPdukQ7h07At35WJCsKej2/R54eRF/3xo15ZuJFJBFpHRguPIHXWA76x5Rdlumf2t8iWZE4KXM79m+qRZSdeOHBsvFiWRpaRPycnnfNHvv4AY0ZF4jEEIRFicww7Tw93t91VemGVhIbC/4gUZIh53U4kbU/vXrd+gN7j0Wi7MnS7x3a8vdlaahGvMSKYD8EXT/KfJgGYYc+v/VniXrBIwzcCgN/rEvTjPdne1J5kXrrH33YToy/0215b8YHnRdOI5l2q2plef8jsdYa359aMfnUCbmjH/5qgidGY7Gg/T1jVxX2ZMlbZXzyfS+ehVo/vrgVhMff6okz+9e2THvnpoaqLyp7rcdHWYuFbFsaVX+VyjNcf57nXNX7eQifZXn5jxXyx5HMen2RZ/ipVKxB0fg+KUMftpM+bNel4r5XlvEF27e+Daq2Z3tPlvyVJM+Q3/rq2Ys9nt8bTw+hX3u9x1dSPUiMxcbSm3Rltzwjm7EDoS2b09kyRz5HSf9bGzMjEj/HKkTkeFve/6b9athIxgLZXZHHwylPRxszmWsmz69IY0HHopL01scPa8wYHJE4XHKezpyAvFXj9j6LRJGjf9+5ydcf2J+tpp67y4SN9kPQ9aNM/575OTuQ0x60Bww8DAYeWzFmjLXsdpKnsrRrLLkTWXtTkiE1wENn8d/12Nxzxl6hmNS2fGONSt947OCgzl1PjcO2bH1KxaxyqvOWE5W91kPFy+5KPkxutCJb8QrjOc7VW7VFtH1v4nNSZn8mK4Gt/XV57RwGHa79Qp0QdZkte7acEYyZNlPeTP8mZb2uWQdENQx7LsnIVysoYuFwmfN75ClT1w73+tDO+X0lWVAwwt6PJBguiT+uuH4enZetuEtPZLOWCD83bgyXUofTQvh8a3hqXeZG7XhhnFfBNYemrQNif8WuYPbYxw9szOiDSFyXWbMfQcMxTAzwwrtgYinJyJ8VWTMx/XY5uPWrLmvz+fMcOPbB0pCXvBDU8EczeFjvgk4g+5Gs7doLqQfKxDT79TRhCmbfhPNa2Qd89JXM1tLQBRNqG1VnpFK0p87EKEdpCI6cHsrm/Lzd1+nH4/uezFLqNTurZ8Nx1GPSWE48IeUZWdo5r3xT506itNPxYCDTNjs4TDzH6iHODGzq1T2UZuwhCsJNJ2Zkyewz0b49PpSt6kwmpKBQ0PXQJyYe3e0HKeyTTvfb6XjQDpn75W/hc8jvMAEDD4eB8W/bcVhldUY993rvZbsCZEXi8HwilMyKowu7nHSrRG5F51siGlvb8znbwHClxmNz9Y0VCboacSKbH7QO6apjep4ahya0UevofarBqquUPdZj6t9k/m1WQ/GSXENXTLe+etd8aHPJ6Eep2vC/VrQszy4SiMMlUaFnxLtxQhTaB4ENmAiHd3Zl91CWHG9+21vhYEKd4+/3en6PPD20vu7mfv9YlE2zPc1sSwvOH7Grf6kITMNMj2oz8ih0LhlWqiZcdVvmMiHmps/VtqvL3P87J0fKqEbB1WUurk+PffzAxozrF4nGX6gx5C5OWMRNDsMlScM+2tKMarK0GonuKTSwhCD5xkixSDSbkL2wF50cVPDEdbL7KH8syrNhLzTExjSneyGyk1vn2GfrPdXkLmZDtttPkVzLlRn7UJM9ierJTCe11GtmTovmdQIsybTd8xfNj8mQX364f8MrP31Qwj2Q+gCFx/0B1fcEr8iSDf/w62T6wvfOLYVi2QvxONrdlur3mkS6J8GLPc9PApfpE7vfxOMsXdXsdL+djgftEAxmPoP8TFvBAAzAQEmGJuwqgbff8MnfNiRQ7Dxox//WzrJbfVOx1citBliudA/Tz4pbScrYDWZPpO5R+1VLV6r+So3D4oQldvy3oqHXeszFC1O+UM0+B2r0+vP7w+Lkv2VW94PGdkliDzY2/JDibJsN+Suw1kmvYju0PcxeNQ1LlZgNa+Afb8trtfsyc7eer475Hs/vkaeH1ddBP2bavZu/TdoohFQfuDBTfaYLRGKnNh7RFULjAFJn0K+aTIX10rFF9zL32McPbczog0jckyW3Z6Es41UbJ+zCT9RID8JBXNarYFUq6GAViTr+ZD7jze7eErQTidl9DI+X0tjlNBtZWaY0hFJDEz7ZuGgF1tbFnwQ1A6grs+F7zlJPp4gVZxpWoZ5M5/2wd+KSxahHNgm/GLeb9v2J1gyYaXuo+NP21d/1Ye10XP9uP7XNzOplQajGkBfrbcRrVuw9tb+LNDKhH6knWePAs98riWu/3RUvQ1xBn2i4TyYevST5Pul0v52OB+0QcNdpYOI47QYDMPAgGfAcl81VjQIy+9D2MvuJdI42c9eUNeR13spHBOXnIXUaP/kapRFKWqj5PKilmVO9+Uu/l+2b7Pjfaz3CeStbdkmGejBqc98dlDlnYkbmvn2RqYkxGfntYxpd1SGpoDrOTaI8FfZOLAQhiqmjQDPpq+jTjKj5sSjbZz2e3yNPA9un186mZ7serCfjghdmuvbB2vHdPk9ucaItW1/NdzVk3ew99Ff9U1vULSj02McPbcy4fpGooZEKlS7tapindsivbXn/xysZ9/69tCItXXrOP/DaQWF2U5dpzc8uptfK1Elj2sMMWeZa3gRSPi/2Wc9TQXtOmRobrSLRwWs9W1rH3UgikyFNQ0411DQeOHspX+t2dZE44trDSwakItfGemcGYL3Xs7pU/pPt2/FvVnDvLMae4cz3hs+5P1eHPan01CdXbAfll0/nyWcCzI9HtAlt8iAZ8EMKvRVClwDCJBF5P2m3SbyR2R92m4QVCuP/JHvau1lJjMWezpNnh7L59Y08NmJz9Km8rFpBqvaFJtjJzPk+o3ZesCufvdYjie5py+YHv8z0Z1YS07ZInws12HU1zz9Ht66Y/adpFNWQH+11vCdr35eluq3ZbK2HIE4QZJ3pp9vyunCuDlcSezy/R57Se/bvkZ+z7eIlNHKJibwwUz/RTDcicaIiWzZawU9SkzoUzOtp1qXiR7XFCFkee+zjhzZm9EUkZj14gefGdrrvCMz9/HO+o2GqIrHIA/nExje7Tek6sbhVTPOwdhIPyYPsixf/5yzkYcz8eWXm/6aeMxOS4n6uTroNuWY/QybU9Nw6h+WHv+sA1em4/t1+Bm2mK3zaprp3oPlv4jnOtJF+N9eh3oGDdRnP7Tk4v27+NfyfL9cn518rLJPfAz4KJ2LOgRMYeDAMTMzLpt1a0Wr4kR/q7DPbJryInnjM0KQSdu+YdYKaPYlF7RbuSdTwQ5130u/oNTWRiRUB5nULRWOVhqFpJE+P9VAD8eI9ib7g4dnoZLe5rSsHNbfKnPatfd+mzW1g8kGYd1FO29ddJIsJule1iz2J8Sp2r+f3yFMRcxzznvFJmVaHkZ+NVkM+xW4h0lfs6Vai4+RVM0uBc2bkzxX3motsluTkmRv5c1m29tM8Hib3SfXzsk0wZRLcmPN67OMHNmbcvEjUeGCXWai3AbTTYJMMLIEgVdGSEYk6qegqoH99T0B4q1b5uHg9T8s4p0xdXXMriSUZUs/Fr0i24sQv2YlTfm7bzf/6Ximv/PD1HrnytW7Jyls64HrHbchP+jevDcI20/0CZoWz7GVvs5vEM6JNV407TdDeYJn5XmYl0atLfL5Xb69P8k4CPU/7RH+/ZDt4dS1sJ/7uDfxhn/E7zMDAIDIw8nzZvdvw6GfF7TFM7lUN8KKVNh2PrfdeMwRq5ExmPNW9SunqkjpN8yuPulKk+5o0U2F2f7/2hf/KjNiZ3WM93KsZivY6uddw7XVIojLYz0RnAV2QVDDub+3nMCSwJEPlyTjKbMy94kDbTvs3TVCojuuiTOxun9quZrJMk+R0d75er0ueMhxrnfmMn7/RV1LR/arhK1HU7vTWE4p+9O2+Rx/0faVtaa56r7mI+6Asj5+ZaDYbzeD3i25Zchqkxz5+YGPGzYvEYQ0vCDZ/j76SpZ22tE5PZCvnhUwfsvNEotlD1zJk6YCg4GVEorf/bX/F816VZUr3T+r3NeQziIvP73/zymykm/OL9wyae9HJ1D4G6tVUj4Y+Hd77lnQAFi/5S3H5Zbcv0Pd2PtL9lb5Y9R8c/bmgzXQQbu4nIUKagcw8+KHY003l2TjwMZk2GWJP29Kwe1ey3/Pa76I+0QfcbFT3sqbl++SK7aDtwSdiEAZgAAZk5O26SzDX3PiShHwG7aJzRXae8vaMu5T0aXiZOXfcOS69d+HpXiWT7VTzCARzcRpSlgozt5/NZFj1spWnAvdQqn/qSl9v9fD3OsXZF939j8nrjWTFwry8XffWqTh9EJ+6FSWT2dZLVBg7mlNbzglux0TB34KENG6e97+j1xVjU3or2OUZ907LZJ+aLb/H83vjybsHxwbHTOJFzXhr9hCn7ze8oG06hJvG+5NjO7kt0YL37kXX5qnwy9ii3j7q+H2c9vze+vhhjRm3IBK9QcMsLcfZTbelUZABrWhgVZHYOjBpcL1/u7qkfCJu02uB4EnKPCeTpouRNvDmz4t0+TsGVFetzP4IL7tp+zCpm2Zfi8/N7hF0ok9E/Exo6jE1X/EzwhaVX5Q91dyfA9681mO3LtGOH8ufrUeujYvazA2qplaHsuYm2FAkmmx3i6mnWbObajt4CYBCkVjU1u7+OvWJzZ7n9qMGfXKldnCDzQWDGOchIGAABgadAZ0XzBir85s//5qU9H90mAfdnHkim5+8JBIFc2Y65h9K1Tf4i+ZiN+e3pfFdE+eY8dpLiqHha965uVWHnuqRnePEhsE1TT4B81+4QjLoXGTu7/x2jxb89xjq6qJIPoQ4sL2UN48jZ+PZ6zvx6Ns89jVs+RVvz2nR1fnn31eOp0ybYD/EW7w0878+j5mxoy6b314VzyEFItHte46ftyQMNaMFopV4f2rqQLJ2cLTnEl9lE0AyZuR0gMfwrYhEU6FHfy1m35MYv0vvi+dRLH64VCQmI3Lw/zje2BuIdGILVhLjBunwTr5Zl5nVXn80efeheydf27wn8Uv6bih9BYZp1KL3JH6ryGYsgANxpnsjNA2v7RQXo39a8J6niXlZc5OdmZAOZbOw/LJMLYTvqlwsrocHQ9wuhW2WDuhuldZ+Ly/2SjLy/Ev2PYmnJxJtLHpZSwvEpSmv6z55Jfn3JBb1yRXaIWwXfi8exGkX2gUGBp+BC3MJeA5TMw+a9+Tqu5KNIb4fSeXt0/zrrcJzz9rx+4pz87BhTOcH3aMmIvEeo69FKwljMrUQSdM6n42l0PlcO3f7dT6vHsYR+3xequY9z3qPdr/cy1x4ZLEdc55Rdr//Zubcgnb/7Nllpi/11SmSrgDn7lv7W9vY9mEhR8PmNWjrEv3y4DA25cLHwhVv40jo7fweeWJM9MZEuw0sMNf9XzsmqywQiedqgLjQ1NZ+9JfZk+gxYV55t1Hp8O7OHvu4l7HrHo8ZPYrEhzbg3b/7ffy2IpWFZXmfe9GoZvUqEJ8DOKDRDveP3ZyRMIBcco9wCQMwAAMwAAMwcB8YQCQOmCHq9m4Eexfd+yq9dxHdB0AvW0fagQH4suzwPdiBARiAARiAARh46AwgEgdMJJr472qcMdXbO6LL7Zm9fYP+8NMOD31w4/4H/Rnn/mAcBmAABmAABvrFACJx4ESi3buxkW7SNWHaR7s1KdznMYj3r/dk9jTQDt7eAAbSfg2klAtbMAADMAADMAADg8QAIlEFBZ+ICRiAARiAARiAARiAARiAARgQRCIQMBDAAAzAAAzAAAzAAAzAAAzAgGMAkQgMDoZBWiLnXgj5gAEYgAEYgAEYgAEYgIHLMYBIRCQiEmEABmAABmAABmAABmAABmDAMYBIBAYHA56Wy3laaDfaDQZgAAZgAAZgAAZgYJAYQCQiEhGJMAADMAADMAADMAADMAADMOAYQCQCg4NhkLwf3AvePBiAARiAARiAARiAARi4HAOIREQiIhEGYAAGYAAGYAAGYAAGYAAGHAOIRGBwMOBpuZynhXaj3WAABmAABmAABmAABgaJAUQiIhGRCAMwAAMwAAMwAAMwAAMwAAOOAUQiMDgYBsn7wb3gzYMBGIABGIABGIABGICByzGASEQkIhJhAAZgAAZgAAZgAAZgAAZgwDGASAQGBwOelst5Wmg32g0GYAAGYAAGYAAGYGCQGEAkIhIRiTAAAzAAAzAAAzAAAzAAAzDgGPiv//vf/xH+0QYwAAMwAAMwAAMwAAMwAAMwAAOGAVYS8Rg4j8EgLZFzL4R8wAAMwAAMwAAMwAAMwMDlGEAkIhIRiTAAAzAAAzAAAzAAAzAAAzDgGEAkAoODAU/L5TwttBvtBgMwAAMwAAMwAAMwMEgMIBIRiYhEGIABGIABGIABGIABGIABGHAMIBKBwcEwSN4P7gVvHgzAAAzAAAzAAAzAAAxcjgFEIiIRkQgDMAADMAADMAADMAADMAADjgFEIjA4GPC0XM7TQrvRbjAAAzAAAzAAAzAAA4PEACIRkYhIhAEYgAEYgAEYgAEYgAEYgAHHACIRGBwMg+T94F7w5sEADMAADMAADMAADMDA5RhAJCISEYkwAAMwAAMwAAMwAAMwAAMw4BhAJAKDgwFPy+U8LbQb7QYDMAADMAADMAADMDBIDCASEYmIRBiAARiAARiAARiAARiAARhwDCASgcHBMEjeD+4Fbx4MwAAMwAAMwAAMwAAMXI4BRCIiEZEIAzAAAzAAAzAAAzAAAzAAA44BRCIwOBjwtFzO00K70W4wAAMwAAMwAAMwAAODxAAiEZGISIQBGIABGIABGIABGIABGIABx8DdF4mjT2Xs2VMZodNcpw2Sl4J7wesGAzAAAzAAAzAAAzAAA3eLga5E4tyOiMiJrL3tUPm/6+YEOdr42JuQeVOTI/PFxrIVgR9l7dgc2JPKqLnWU6k04qKl8f1pb2V3EpV6TRGJ5svXU2ana13i+IVtfYkyeeg6cEtb3jn+YRVWYeCBMBDaDTo3O3vggbTDwMxDar8lNlv+/2rXmX4dk6mFSJrHbXdaaz+Syp+hTfZFNk/dKbkfGgv++WUZ/7wu0a+0TGkfytbCO3lU2Ma9nq919qpxXJfq51fFixjld1LZPpSjs/T8o511mX7u1xnGLzXe58YKZc9njLa9VNsGz8odF4nvZO1X8oA1V99ci0H7uuYNILsr8jhokOto1KuUgUjkwb4KP3wXfmAABu4FA4jEa7Fp7k5fv5K5Wl2iKPuvETv+RaQdyXTs/C/L+9pJYtidtaW5U5foQO0ysxjhi6hFicyZZyfSCMo116nO6LllefnvoVNjR7t1iXYOpWUFWutnRZ5kbL1ez5+UucjWUeu8a+9BRJqrH7NCcWJR9HQ5PYzbpGFtWTk7lGrmHhmvemYYkXhjY8cdF4klmf5pnvu2bH3SweAKD9RoRbbiQaMtrdg7dSjVF1coLzPoXE85iMTraceeB50+9CV1oC9hAAZgoAMDiMQbM/Ruh8GyvPznUFrGhDuOZFZX0D5sJ8fadanoseGyjC/U7bk1eanzsScGilcDLVt6XntPlv4aS9vVE2tbXz0bssfzH3+zdfu1nVkJHHlro+HEtyWfOkF59GNexmNhbOpZlpcbVlgerMszvUc+0/7qti20/1zUASuJ/XrG77xIHDETyVkks+5B6zDhdAHXyNfYJyWyuyKzdkXx6N93vQPaxbUu22GIxMv372XbnO/R5jAAAzBwwwwgEu+U7XG9/E/K7M9EELX21+V1OWVLhVLj+2Rw/09laVcXBez5n63N9rOSXakLbDCNEGtU86Gfvt2nkWO9na/bnsxihSdAbR2erSYrmK0fX5L7+X1Z4l1Sp5FMe/edtO8bqR4k97g5nbbJ9bb9AygXkRg8O/3r8z6KxLJMzdfi+PB4yf+sLUc7NZn1Y84v0dGPPqxkYs6PdlYyA1Dnh00fdJHGwpgM6bVPt+V9MOC4Qeyfiqx5IQWt3ZpMT4SdYeLU62ncuQlFqFVk2nqMMjHzEzOyZGLUbdRC6/hQtqozmTCIvEgck9fVuvuOCbuIqjMdYuzDuvF7Zx5oG9oGBmAABrploNt5MT+HJW2cO45IvDFDr9s+vpbzRj9KdT8xclrRsjwLhFKOA8/+UsY0v8Xj73tGUcX5Lh7/54vMLSxL5euMPMmUqduSDmUpZ58Z9uy+RrPYEF+r1/NtyKsRfUWLFb+vJKJQVwe/JTk6WtvzhcJW7+m6tlBdS595fdCX8tTebqzL7MZeai+392Ttk+csCMcErVd43JXXKZ8J4/p19WOfRKK3rN4+lGhjRarbNuwgToBjl/177Wj10BihtLos1aiHpfsX69I0o81ZXWbjAUY9OiJbX7NA6UAVj07He3E8eVND5nUgiOH17tMMZCYO3hOV5vtOJHphD0e721L9XpNIY/Uby04ohgPo46VkkBSzQXph3X3nQQ0wOlDwOZhGBf1Kv8LAnWeg23kxnMPUWMkdv9Dwy87LWg6fd7ld/ltm3Wa82IISOWtLYyMNu3z/IzGm8okDyy5RofysxM9DhjlbXPLRluY/ug/QirjjbXldJOKGtVwNCe3x/L/SBIvFIa821NGK0Kl/E7s0XowoGtc0RNXe44PgWW1903m6v9TtQ9V+KclQOCZo+4XHtTzCTfs+b/QgEjNPaOEv6v1JV+myy+0ufvvYxpz32tEKSm3GemieSiUy+wv3pPrX+QOnhgRIVHGrcP4x/xUbbmDaXUm9YOV52Yr3MXpZXlW0mtj6F2kYgrtPJxKfSjJBimTDISbdoNhYSLK3hhOp/r75wQrr35clOm1La3ddpvQB4rPvD8qDGMjhCI5gAAY6MNDtvKhzVpgNPXdc53PNip6zB86f0xmT72j7TMzI3LcvMjUxJiO/fZSKOvN3FuNEgSOfo3TvoSfqfLtJM94nzJi0FHtSnXkjj4bL8vjtijSs0z7629hNKvq8vYwBw1n2ejz/Qi6z++H0OXELBEFdnH3sBM4d7cew3lf5XdtQ9mTJ2cpjMr2ddKTTDuGYoNcMj2t5rg2zfcDYcH1M9SQSjxrZrFUui5UNLdCO1ofkqPZFxv945f0zYQhGX57I2ptSGvLZbUfraqCcSGNjRWbf/3/y2BtkOoMxY9MoBwlwNEzAgPt72qha//AhD49r2IC5b19kmg3KOrjFZYzaQemsLpX/+O3xSsa/2QFzZzE2TrKDWUme/WMzdh3vydr3irzmnZEYcTpw8gkLMAADN8RAOP/pfBseD+cwPS93/ELDL52TtQw+72ObaNSWrhhNytyOVXmxXbPsRZrZ9Qe7B/HRiy9S2VhPk94o6yoS4siu+SQh4em2vNa/Zz7DlcQez//DRqE1lt0CQ5ZDbyVxtCTj1mbrZiUxazfex77tss7aX87Wt9/TVVU9Ho4J2o/h8Vx5iMQsk132i7bvOZ89iERvBS0sMOhAFUiFy4324NbnS4jE4ZI8+RS8B0f8sIMODaObn8+pkB++GU562vjh8fB3Pc98Zv6mQJ9zfTlYl/HhkhWXfltPyvSqtyfRlNEmhbLf1vzcgfvwOeV3BAUMwMAlGcjMaV4Z4fGcGLTn5o4HdsODXGHx2nGQ57GQkaHhwK45O5Hm9rJM29dY6IJD5zbxRcErmwymiz2J8aJCr+dbUWle4VHUX7rYoFuRrL1p9iQW1V8XF3ybs+i8gTqmNrCKQW3H8Hg4Juh54fHwe8M+D9hD18lOX0SiDgjNqrchVTvb/7xSR4/Jk/fLdo+eL6pCQMoyG79GQ6T5Y1kqZuOz/29VUxvXXPim1r+XlcRsp4QriTbbtkIoMAAAF7hJREFUVadBxmuT3ETq/W2oPCmvTZIcIxQ1ZNf/Oz8XDsrZvgn54HfaBwZgAAYuYqDbeTGZw9qy+cFvU13N8ebqCw0///v8fFH/3PbfdQUtb/epDWYjucqTcXTZ2G/eKyli20WTC2rElxVnJo9EGDGmrzOzme81W2lRtvqRafvKjd0Vl/uht/O1XiL5fZQleWKT65jspvHKoG5DKqr38KTL4Lo5Hd7/ADOes/XtvYbH7ZjQqs1kbLmRhTSBUcx5+D1EYqa9rnMs6ItIHNL34AQbiUeeryT76cw7c0zymB47WgchfyDoNHG5RtIH1oSUFma+SkNRNSVxpzJzx7Xssz3vfT8l8WPrE6GZDjKNBV84j8l07VBap21prL6LB5isSFSP14ms/akDCB4T17eI4r4NDLSxPm98wgIMGAZy858df8Pj+ruf3dHM/fFrAeLEdbY9EYmDNX7rdiBjD3m2lrOHNGlgB/vwyd/WYW8yzseiUMWlyFHNz+g+Jq9t9vjWT5tjQq8tJ7L5Ic0PMVSekbX4JfZt2frqHe/xfLePMrT1ni9LkqfnUKouc39Zpn/acNrGcuY9ie5dkAfrMhUK30G2Z3K2vh0DwuP6u59JdvSVFdZJltt4PtLz3MokdnG/5un+iET/paGa3bSmaW/bEi3Yd9n02tEuQ6h5zcSKLJlUumZVLRiU/MbSpX0/YY3/d/OzJrDR8ACd5C5aScy8HNWEve7UJdrRLK5JbKkrw9XdZEG12U01u9OvmnuNR1YklsQNnO1D2fy+ImsNm9HVy4ga3g+/Y9TBAAzAAAxcJwNdz4vOABdpHZg8Bjr3mzmRlcTr7JO7VZaf7d3aQy7bu2f3DXt7Eo19GNUlsnktYj58kefZTWIzzTc0K7xJGPg8XY1ztpJmmje22Flihx39rHhiLRkXejv//HtrrvoitiRDox+tOE22B5l7bMRi1W4X8u9xkMWh3lvO1rdjc+647l/12k37274KJWY+9z1EYr/Ggj6JRAPAmEx9C96TuB/J0rT3stNLdPTIn8uZ9yS2ftWl8pfnIVIo408Fri3nLu27FcEkrKHryTC+RtF7EhdltqZpkNNBbOT5l+x7Ek9PJNpYlCnvnT+hSDRCNH4Po3VMmXTSR9Fy5jv9goNyMTJhAAZgAAYMA73Mi08+1aQRZwM3TlzzCoSKVOOlRETiYD9Pxl6JpOkZ9sZGq3727D5jN42+SnItWBFnpFxsy719GiQBLMlQ+V2cIVUFX2IDrch7TyAmbVqW8c9BzgrzLuqFjx0SHPZ6vrH1Cu7tq8m6WjBGmHqb92LrPcbvCl+XWZfds+A7ReUMwrGcrW/vvej4xLys7arBK2LeTz77D+GmtzVudCUSb6tyd/u6/y0vv5r9jRV56WVG1cFK92VsfUpF4t2+nwc0YA3CoMs9DFaoFv1Jf8IADMAADMAADNwhBhCJV+gMt/n5x5eMJ+nRB/vyVRdbjwBDIMMADMAADMAADMAADMAADNwPBhCJVxCJQ7/Py5aGVWhsfWEM/v2AgYeWfoIBGIABGIABGIABGIABGEAkXkUkmu+GcefnxdZf9Vp8nzAEGIABGIABGIABGIABGICBPjOASOxzA+OJwRMDAzAAAzAAAzAAAzAAAzBwnxhAJCIS8cTAAAzAAAzAAAzAAAzAAAzAgGMAkQgMDob75N2grnjjYAAGYAAGYAAGYAAGYKA/DCASEYmIRBiAARiAARiAARiAARiAARhwDCASgcHBgCemP54Y2pV2hQEYgAEYgAEYgAEYuE8MIBIRiYhEGIABGIABGIABGIABGIABGHAMIBKBwcFwn7wb1BVvHAzAAAzAAAzAAAzAAAz0hwFEIiIRkQgDMAADMAADMAADMAADMAADjgFEIjA4GPDE9McTQ7vSrjAAAzAAAzAAAzAAA/eJAUQiIhGRCAMwAAMwAAMwAAMwAAMwAAOOAUQiMDgY7pN3g7rijYMBGIABGIABGIABGICB/jCASEQkIhJhAAZgAAZgAAZgAAZgAAZgwDGASAQGBwOemP54YmhX2hUGYAAGYAAGYAAGYOA+MYBIRCQiEmEABmAABmAABmAABmAABmDAMYBIBAYHw33yblBXvHEwAAMwAAMwAAMwAAMw0B8G/uv//vd/hH+0AQzAAAzAAAzAAAzAAAzAAAzAgGGAlURWEllJhAEYgAEYgAEYgAEYgAEYgAHHACIRGBwMLNf3Z7medqVdYQAGYAAGYAAGYAAG7hMDiEREIiIRBmAABmAABmAABmAABmAABhwDiERgcDDcJ+8GdcUbBwMwAAMwAAMwAAMwAAP9YQCRiEhEJMIADMAADMAADMAADMAADMCAYwCRCAwOBjwx/fHE0K60KwzAAAzAAAzAAAzAwH1iAJGISEQkwgAMwAAMwAAMwAAMwAAMwIBjAJEIDA6G++TdoK5442AABmAABmAABmAABmCgPwwgEhGJiEQYgAEYgAEYgAEYgAEYgAEYcAwgEoHBwYAnpj+eGNqVdoUBGIABGIABGIABGLhPDCASEYmIRBiAARiAARiAARiAARiAARhwDCASgcHBcJ+8G9QVbxwMwAAMwAAMwAAMwAAM9IcBRCIiEZEIAzAAAzAAAzAAAzAAAzAAA44BRCIwOBjwxPTHE0O70q4wAAMwAAMwAAMwAAP3iQFEIiIRkQgDMAADMAADMAADMAADMAADjgFEIjA4GO6Td4O64o2DARiAARiAARiAARiAgf4wgEhEJCISYQAGYAAGYAAGYAAGYAAGYMAx0LtIfFOTI0n+i+bLrqCLVPzLjRP7rQ4fxzV5OUAdM7dj7vNE1t5adf93Pb7xo42PXbfZRW166b9fsg8vfb0B6lfaoD/eKtqVdoWBB8ZAOCfqvNRYlhHmjNu3Ey7ZByN/LsvW/om0zhJbr3V8KFsL7wr6tCzjn9cl+tVOjcJ2cu6jwmv3ev6YTC1E0jxOi5fjulQ/vyqoS0mGyu+ksn0oR7be5ltHO+sy/bzYzh15Pi/VnfQ+RdrS3F6WqfIDe44L+6rPbZAbKz7KWtzPe1IZ7fO1b+N+b/GaPYvE1zXvgd5dkcddVl5FYmu/LlFU8O/Hojzrsqz7YExcWiT+sSibpn2qM32bJC7bh/eh3akjAyQMwAAM3AMGEIl9m+Nvjf8XK9KMRVZbmlFNqht1aVqTsbn6xrvfsrz899Cpt6PdukQ7h6mw/FmRJxl7sNfzJ2Uushc+a0tzpy7RbrpQ0Vz9mBWKE4uip8vpYWyjNn7Z6p0dSvVtViiOvK3Z+xSRX3vx+c1Te/5pJLMT9+D5y7TvPasvItF7lvrbd72JxNGKbNkBoBU/EIdSfdFdBVUkNhayD9utDWZ9fkAuLRJz8HfXvl234xX6sOtr9Lltqcc1M0F/3diAC7uwCwOWAUTiwI076oBuVL3VuokVaRj9dLot73WuUTunvSdLf42l7eCJta2vnq3Y4/mPv9WlZa75azuzEmjEXRIJ59uuT52gPPoxL+NuJaosarfKwbq3iPFR1mIB2ZZG9Z2kq56TMrdjhenPSlaE6n3zmfb1VdpCeXBRB6wk9mte6UkkjnyNElfJ7orM2hXFo3/fddXp+rAhEi8IN83Bf71G1VX6sF8QUu719jHtSXvCAAzceQYQiV3ZTne+Hz1jP+ccj/+WN+ALxaQtx7dRNFKtt/OfSiVWpW3Z+uQJUFv+s9VkBbP140vS/r8vWxEbyXQuVPSNVA+M2duWzWk7pnzYTgTo7oonKO3fnBN+T5Z+ZwzqG7s5OznPWN+u7fH+EK7Rg0jUB0+ksTAmQ9pJvnfonMbrXiSWZXx+W9zSfRwXviKvF8I9fYsSS9bTumxGGkag8chlmZqvxbHucVz8WVuOdmoy+6f1TGndM96hkuhAJFHWCzT9M9HG8X2be5yYkSUTu26dRnHMfXUmEx6RGyzDCbGgrZLvJNdK/+/taxx9JdOr9a5j5vMAd9+HSV3aEtXS68UCX9tuP5I1L3yjtVuT6YmSPPqwIpGGaZi+265kBtKR5xXZ3Nf+EmkdbMtsh5j/fP0ZdGkTGIABGLgNBtwc/k+lcOzXOuXmPjvX5Y6Hc6LOLW51gH7WNr0vn+P/JALsqDbjVtLc6p2zt97ZlbhDWSoMy/wimyZS7SyS2ZidXs9X2zCSabcq6LH0u13Z1Pp8S2zL1va8q7Pf3o+/78XmmIbLTv2b2C/N6mShyH//IzEMt7561yyw9/xrDPzP7tlel9mNvdSGbe/J2ievHcMxQdstPO7K0/3LiMR+MdS9SHyxLk3zqJzVZTb2tqiHRaSbh8FNMBeEmz7524YJGIERxKmby6eJX+xAED++NuY8Wpf3o16IQPtQoo0VqW4fJp6fOJGMEYpadz/kQCGz9+gGl/kkxFbv2wuHONrdlur3mkS6Mbqx7ITihROiwu99PptZlsqqvf+DbaksLEtlYVFexwOpF8pwdiKNqC5pzPyeVAoH22CQ6qEPk/rHjSutg2QPaXWmnDoHYhaSejhBf3qShHIcmxh9byBwoRczyeAvbWnUVmSptpf0i5kMXHsHdfbap18PAeXS5jAAAzBwPgM6h8ezQjzGp/vN/HC83Nxnx/Dc8QsNv/PrQ3/dwfYZ1VBM4wC2+wxjYE5k7YOu6lnb7XhbXhfO+2W7Eqj2WY/n/2VDShvLXiio31bW1rMiVEWfWwQIbQ4NUf1ZiUXhXLw6cSKbH7xwWO87IwtZUQmnpUK7MTqwqyyi/VySoXBM0HYNjyMSCx0U/WCta5GoS/RmlU1jsP1jF2Ujy0wwifbI/D8JQ52XrZgbf0AxK3fppuK8SAxCChSe02zogPNm2SyqWnf1DrmVUVsrl7n1sw2xje/7qah4ysTcD0/aQc2ssj5NBpLLZjfV+gfe1MdLycAjuyte9qyyTNnQCXNcQzM6gaL33E0f6n0a75r2d1yu1u9sTyq6AmgmBk8ou5j+iWVpxHtY7QqvftcbvF9vHErrtC1b8/4gzs+d+pDjsAEDMHAbDLg5fHdFnmlYXnletuL8BGnES04MIhJvzKC7DS4y15yoyJbaAr6Fd3borRip6Ouc0T7LUI/ne3ZGsV2q9kpilyjXHbdCBeVl61YwFoWCRoXOQ/7UNpQ9WXqhzoIxmd5OhKKz6zu1XXhcy3N2crZPM0w+5Ha/hnvvUiSmK0BbnzzviS7bm46/IP5aH8RO2U3jVappG+vtiQjtbP2+g2lYB46sN8qdV/si43+88v59lOq+GbVOZO1NSYZ0Vc2GHOj3Gj/tSp4NOdVQ02h+TIZG7TXP6lL5j1/2Kxn/FiWrYjuLfRCJT2Vp19Y9yLI1NOw9HDpxF4LRWx/qQJjzluUezmSQdO0XrBRrOfGrQEbVCWBSRa/L3Mw7eXJunQsG4MJ74zx9TviEBRiAgX4w0GmMD49nxnxvvM4dv9Dwox/70Y/9KzNdRWzWKvLsN2MrluXx2xVpqPPf2F7DNjrrdFtee3yk9QpXEns8/w8b9VZgRybXsDaTjWDSENluVhKN6ExswrZsfijmk5XEgnbpYDcO6Sqtir1wTFA+wuO58jw7uHB1uqBOWjaf5zqxuhOJuprme4aCn92KXIcGDyeSdEDwOi8EwS8r9zcViVlvVDIRBZULft36bK7ph5ymPy9N+PHwQaipghmUl/n1YF3Gh0t2xTH1rnZcRvfv0fys19CHJv77+Q9AbvINyzS/99iHHcssrF/JZQELvXFhOfoOJb/NjnLprj0miu6FY+c+1IXPFm1Gm8EADFyBgU5zeHg8HPN1PModD+f0DnOLfp/POz4vqpP/oCZTgaGu+/pMZNLQ8CubDKaLPYlxOb2eb+22diTTRbzr4obuSbS2UVK3fBtr3dXGVVF58Z5Eb0GlqB4P6VinZzs8Ho4J2kbh8fB7/mJJwB7jRp7pXtqkC5FYllmbuKX5w+yRC/7pHrpfNZnSDi34DCeSwkrqIBMkjjHn6vfzK4lZkajndXqA/evqw360HSX7LfdX4j2Funq49cOGmuqeulGbBavT4OPd94UToneuX6dikeivJIYd7gnIjqtyvfdhrv5a39zDmdRH2/0ikZjea1ke/6cia/tJuEH4vfS88H75nbaBARiAgZtmoNMYHx5P5o5wpUVXh85xnHaYW276PrneJZ8tdUQXrODp6ppYW0qTBBZlxx9RO3A3scdMf/R2fpqgz20bUvtluCRPbCIak900DkfV7KYm70ROYEzaKC6T3dSKPs1uWmTzjtpFBhNd102eCK9eA81dp2c7PG7FYKuWfU+48uPs//B7iMS+OUAvFon6AHWEPg1jdCmCC8APJ5LiB8J6gFyCGTtYnbcn0e4xdOXpAxxsih55viLRaVtax5FNvFOSIQ1LsMta6ikKV93S9/Wkg09jwcvINDwm07Vkb11j9V088OREVugJKWij+B5y8Cdt4PYk7q94XrqyTFXTvYrZl896A/0l+jBXf61vh/p16t9MOTqJeE6A3MOv1+Gzbw+9e1ZoY9oYBmCgSwY6jfHhcf3dzxZp5t/4rQTx3G7npnBO7DC3MF55c3mXfXUrbebsDOMI8FbRvGQ2je/WbtLtPmISwOgetZIMlWfcOwi3vnrHezx/5LPd/uPnThguycjzZYliv/ShVDXb/XBZpn8mzmppLHvZ2MsyvqCJBNc9u0sjz0RMFtc0Z8OYvN5IMp+2fqa5O26lL+4aJ52e7fC4/m5yiqhgH31lhbqXuFLPcxF33mKJfu+utcE9rc+FIlGX2v1kJyH0mhCl03K9OV8njotWjHrObhqKxOGC7KY1zbTZlmjBe8mrC3swKtHLsKQx8+ZwmHnTF6ya3VSzNP2qyWu7mpcRRwaOcELsBIx7z05botV12dytS/UvM0mck920XU+TyBSUe5k+zNVfy809nMkE1ql/M+V4k8VRtC6V1UiaulfBn1T0WnxiwMIADMDAnWCg0xifO+4Mepvh0s90jUi8E30Z2nDX9XvOfvP6vtXwHdwlyZ27cyjxK8tMFvuf2Vdnmfr1dr5nB4rNfu9e2dWW5qov7koy5NkmYrLi+9nj24dS9YWsGY88O1A002+cwElEzEKEJvVj7Ep472A35iPnUgHu+sFLhMRK4s07jC4Qidph3lJ7EfTqQSpcrj9fROQHp7JMLdTdOwglfsfhiry32T0dJC5xTTbcNClvTKa+Be9J3I9kadoXiEm9nIDS+PT4/tLwTN8bqnUdef4l+57E0xOJNha9rKNX2JNoBsNPNWnog3Fcl8oLC0aH9yTOumxRRQBdrg8z4s7v8w4Pe85QsN/JlTMxn3nHlhlg1z7n+0Xbms+iPuUYXMAADNwsA53G+KLj8RymRvNZWxobFanGS4mEmw42t2UZ/7wev6Pa5R1on0i0Wkkz4jp7ouDc40PZWvgojwtXg3o9f0ymFiJpqi0lIq1fdal+feOt/nnPUPmdVMz7r+OM7GaBwLxfe1062Vcjz+elunPihK2cnUhze1lexgl7vHLd/T7gYx3sxrxINALc2Ih2Zdf02W5NZv9JIuac/Z8rj5XEfo0rF4jEBww1D/ZAezz79UBRLmMGDMAADMAADMAADMDAfWcAkYgYRAzCAAzAAAzAAAzAAAzAAAzAgGMAkQgMDob77vGg/njtYAAGYAAGYAAGYAAGYODqDCASEYmIRBiAARiAARiAARiAARiAARhwDCASgcHBgNfl6l4X2pA2hAEYgAEYgAEYgAEYuO8MIBIRiYhEGIABGIABGIABGIABGIABGHAMIBKBwcFw3z0e1B+vHQzAAAzAAAzAAAzAAAxcnQFEIiIRkQgDMAADMAADMAADMAADMAADjgFEIjA4GPC6XN3rQhvShjAAAzAAAzAAAzAAA/edAUQiIhGRCAMwAAMwAAMwAAMwAAMwAAOOAUQiMDgY7rvHg/rjtYMBGIABGIABGIABGICBqzOASEQkIhJhAAZgAAZgAAZgAAZgAAZgwDGASAQGBwNel6t7XWhD2hAGYAAGYAAGYAAGYOC+M4BIRCQiEmEABmAABmAABmAABmAABmDAMYBIBAYHw333eFB/vHYwAAMwAAMwAAMwAAMwcHUGEImIREQiDMAADMAADMAADMAADMAADDgG/n+EbJldFMCkzgAAAABJRU5ErkJggg==)\n",
        "\n",
        "\n",
        "\n"
      ]
    },
    {
      "cell_type": "markdown",
      "metadata": {
        "id": "NdCMVPqKuj6p"
      },
      "source": [
        "เนื่องจากการใช้ NULL Values ใน sqlalchemy ต้องไปทำใน database จะแสดงผลแบบเดียวกันใช้ `pandas` ดีกว่า"
      ]
    },
    {
      "cell_type": "code",
      "metadata": {
        "colab": {
          "base_uri": "https://localhost:8080/",
          "height": 206
        },
        "id": "3kSivS6YtoNQ",
        "outputId": "1581f57b-b9a2-4cfa-fcb2-f77ab9428898"
      },
      "source": [
        "import numpy as np\n",
        "df = pd.read_sql_query('''SELECT title, gross, budget\n",
        "                          FROM 'public.films';''', con=engine)\n",
        "for col in [\"gross\", \"budget\"]:\n",
        "    df.loc[df[col] == \"\", col] = np.nan\n",
        "    df[col] = df[col].astype(float)\n",
        "\n",
        "df[\"net_profit\"] = df[\"gross\"] - df[\"budget\"]\n",
        "df.head()\n"
      ],
      "execution_count": 21,
      "outputs": [
        {
          "output_type": "execute_result",
          "data": {
            "text/html": [
              "<div>\n",
              "<style scoped>\n",
              "    .dataframe tbody tr th:only-of-type {\n",
              "        vertical-align: middle;\n",
              "    }\n",
              "\n",
              "    .dataframe tbody tr th {\n",
              "        vertical-align: top;\n",
              "    }\n",
              "\n",
              "    .dataframe thead th {\n",
              "        text-align: right;\n",
              "    }\n",
              "</style>\n",
              "<table border=\"1\" class=\"dataframe\">\n",
              "  <thead>\n",
              "    <tr style=\"text-align: right;\">\n",
              "      <th></th>\n",
              "      <th>title</th>\n",
              "      <th>gross</th>\n",
              "      <th>budget</th>\n",
              "      <th>net_profit</th>\n",
              "    </tr>\n",
              "  </thead>\n",
              "  <tbody>\n",
              "    <tr>\n",
              "      <th>0</th>\n",
              "      <td>Intolerance: Love's Struggle Throughout the Ages</td>\n",
              "      <td>NaN</td>\n",
              "      <td>385907.0</td>\n",
              "      <td>NaN</td>\n",
              "    </tr>\n",
              "    <tr>\n",
              "      <th>1</th>\n",
              "      <td>Over the Hill to the Poorhouse</td>\n",
              "      <td>3000000.0</td>\n",
              "      <td>100000.0</td>\n",
              "      <td>2900000.0</td>\n",
              "    </tr>\n",
              "    <tr>\n",
              "      <th>2</th>\n",
              "      <td>The Big Parade</td>\n",
              "      <td>NaN</td>\n",
              "      <td>245000.0</td>\n",
              "      <td>NaN</td>\n",
              "    </tr>\n",
              "    <tr>\n",
              "      <th>3</th>\n",
              "      <td>Metropolis</td>\n",
              "      <td>26435.0</td>\n",
              "      <td>6000000.0</td>\n",
              "      <td>-5973565.0</td>\n",
              "    </tr>\n",
              "    <tr>\n",
              "      <th>4</th>\n",
              "      <td>Pandora's Box</td>\n",
              "      <td>9950.0</td>\n",
              "      <td>NaN</td>\n",
              "      <td>NaN</td>\n",
              "    </tr>\n",
              "  </tbody>\n",
              "</table>\n",
              "</div>"
            ],
            "text/plain": [
              "                                              title  ...  net_profit\n",
              "0  Intolerance: Love's Struggle Throughout the Ages  ...         NaN\n",
              "1                    Over the Hill to the Poorhouse  ...   2900000.0\n",
              "2                                    The Big Parade  ...         NaN\n",
              "3                                        Metropolis  ...  -5973565.0\n",
              "4                                     Pandora's Box  ...         NaN\n",
              "\n",
              "[5 rows x 4 columns]"
            ]
          },
          "metadata": {},
          "execution_count": 21
        }
      ]
    },
    {
      "cell_type": "markdown",
      "metadata": {
        "id": "T4A-QM91vGSh"
      },
      "source": [
        "* Get the `title` and `duration` in hours for all films. The duration is in minutes, so you'll need to divide by `60.0` to get the duration in hours. Alias the duration in hours as `duration_hours`."
      ]
    },
    {
      "cell_type": "code",
      "metadata": {
        "colab": {
          "base_uri": "https://localhost:8080/",
          "height": 206
        },
        "id": "WOLCDHFTn1nK",
        "outputId": "73e3b1de-cfeb-476f-a394-c2d7b0533d9e"
      },
      "source": [
        "pd.read_sql_query(\"SELECT title, duration/60.0 AS duration_hours FROM 'public.films' LIMIT 5;\", engine)"
      ],
      "execution_count": 23,
      "outputs": [
        {
          "output_type": "execute_result",
          "data": {
            "text/html": [
              "<div>\n",
              "<style scoped>\n",
              "    .dataframe tbody tr th:only-of-type {\n",
              "        vertical-align: middle;\n",
              "    }\n",
              "\n",
              "    .dataframe tbody tr th {\n",
              "        vertical-align: top;\n",
              "    }\n",
              "\n",
              "    .dataframe thead th {\n",
              "        text-align: right;\n",
              "    }\n",
              "</style>\n",
              "<table border=\"1\" class=\"dataframe\">\n",
              "  <thead>\n",
              "    <tr style=\"text-align: right;\">\n",
              "      <th></th>\n",
              "      <th>title</th>\n",
              "      <th>duration_hours</th>\n",
              "    </tr>\n",
              "  </thead>\n",
              "  <tbody>\n",
              "    <tr>\n",
              "      <th>0</th>\n",
              "      <td>Intolerance: Love's Struggle Throughout the Ages</td>\n",
              "      <td>2.050000</td>\n",
              "    </tr>\n",
              "    <tr>\n",
              "      <th>1</th>\n",
              "      <td>Over the Hill to the Poorhouse</td>\n",
              "      <td>1.833333</td>\n",
              "    </tr>\n",
              "    <tr>\n",
              "      <th>2</th>\n",
              "      <td>The Big Parade</td>\n",
              "      <td>2.516667</td>\n",
              "    </tr>\n",
              "    <tr>\n",
              "      <th>3</th>\n",
              "      <td>Metropolis</td>\n",
              "      <td>2.416667</td>\n",
              "    </tr>\n",
              "    <tr>\n",
              "      <th>4</th>\n",
              "      <td>Pandora's Box</td>\n",
              "      <td>1.833333</td>\n",
              "    </tr>\n",
              "  </tbody>\n",
              "</table>\n",
              "</div>"
            ],
            "text/plain": [
              "                                              title  duration_hours\n",
              "0  Intolerance: Love's Struggle Throughout the Ages        2.050000\n",
              "1                    Over the Hill to the Poorhouse        1.833333\n",
              "2                                    The Big Parade        2.516667\n",
              "3                                        Metropolis        2.416667\n",
              "4                                     Pandora's Box        1.833333"
            ]
          },
          "metadata": {},
          "execution_count": 23
        }
      ]
    },
    {
      "cell_type": "markdown",
      "metadata": {
        "id": "NZh7tPhyvtqD"
      },
      "source": [
        "* Get the average duration in hours for all films, aliased as `avg_duration_hours`."
      ]
    },
    {
      "cell_type": "code",
      "metadata": {
        "colab": {
          "base_uri": "https://localhost:8080/",
          "height": 81
        },
        "id": "LDayDQvtru_4",
        "outputId": "69506328-17cb-430d-fa6b-d4a0aa554069"
      },
      "source": [
        "pd.read_sql_query(\"SELECT AVG(duration)/60.0 AS avg_duration_hours FROM 'public.films';\", con=engine)"
      ],
      "execution_count": 26,
      "outputs": [
        {
          "output_type": "execute_result",
          "data": {
            "text/html": [
              "<div>\n",
              "<style scoped>\n",
              "    .dataframe tbody tr th:only-of-type {\n",
              "        vertical-align: middle;\n",
              "    }\n",
              "\n",
              "    .dataframe tbody tr th {\n",
              "        vertical-align: top;\n",
              "    }\n",
              "\n",
              "    .dataframe thead th {\n",
              "        text-align: right;\n",
              "    }\n",
              "</style>\n",
              "<table border=\"1\" class=\"dataframe\">\n",
              "  <thead>\n",
              "    <tr style=\"text-align: right;\">\n",
              "      <th></th>\n",
              "      <th>avg_duration_hours</th>\n",
              "    </tr>\n",
              "  </thead>\n",
              "  <tbody>\n",
              "    <tr>\n",
              "      <th>0</th>\n",
              "      <td>1.794424</td>\n",
              "    </tr>\n",
              "  </tbody>\n",
              "</table>\n",
              "</div>"
            ],
            "text/plain": [
              "   avg_duration_hours\n",
              "0            1.794424"
            ]
          },
          "metadata": {},
          "execution_count": 26
        }
      ]
    },
    {
      "cell_type": "markdown",
      "metadata": {
        "id": "pKUnaoAczIl0"
      },
      "source": [
        "# **Even more aliasing**\n",
        "\n",
        "Recall: SQL assumes that <ins>if you divide an *integer* by an *integer*, you want to get an *integer* back</ins>.\n",
        "\n",
        "This means that the following will erroneously result in `400.0`:\n",
        "\n",
        "`SELECT 45 / 10 * 100.0;`\n",
        "\n",
        "This is because `45 / 10` evaluates to an integer (`4`), and not a decimal number like we would expect.\n",
        "\n",
        "So when you're dividing make sure at least one of your numbers has a decimal place:\n",
        "\n",
        "* Get the percentage of people who are no longer alive. Alias the result as `percentage_dead`. Remember to use `100.0` and not `100`!"
      ]
    },
    {
      "cell_type": "code",
      "metadata": {
        "colab": {
          "base_uri": "https://localhost:8080/",
          "height": 81
        },
        "id": "LrCHiX3bwIkR",
        "outputId": "662a51ec-68ec-4840-e254-b4d79aca3f34"
      },
      "source": [
        "pd.read_sql_query(\"SELECT COUNT(deathdate)*100.0/COUNT(*) AS percentage_dead FROM 'public.people';\", con=engine)"
      ],
      "execution_count": 29,
      "outputs": [
        {
          "output_type": "execute_result",
          "data": {
            "text/html": [
              "<div>\n",
              "<style scoped>\n",
              "    .dataframe tbody tr th:only-of-type {\n",
              "        vertical-align: middle;\n",
              "    }\n",
              "\n",
              "    .dataframe tbody tr th {\n",
              "        vertical-align: top;\n",
              "    }\n",
              "\n",
              "    .dataframe thead th {\n",
              "        text-align: right;\n",
              "    }\n",
              "</style>\n",
              "<table border=\"1\" class=\"dataframe\">\n",
              "  <thead>\n",
              "    <tr style=\"text-align: right;\">\n",
              "      <th></th>\n",
              "      <th>percentage_dead</th>\n",
              "    </tr>\n",
              "  </thead>\n",
              "  <tbody>\n",
              "    <tr>\n",
              "      <th>0</th>\n",
              "      <td>100.0</td>\n",
              "    </tr>\n",
              "  </tbody>\n",
              "</table>\n",
              "</div>"
            ],
            "text/plain": [
              "   percentage_dead\n",
              "0            100.0"
            ]
          },
          "metadata": {},
          "execution_count": 29
        }
      ]
    },
    {
      "cell_type": "markdown",
      "metadata": {
        "id": "AFOOb1KB0oYM"
      },
      "source": [
        "ไม่ถูกแน่นอน เพราะ `deathdate` มี NULL เยอะ"
      ]
    },
    {
      "cell_type": "code",
      "metadata": {
        "colab": {
          "base_uri": "https://localhost:8080/"
        },
        "id": "W2mjCl7W0aGW",
        "outputId": "83042c33-d016-4cbf-e4ad-2c091c823d1d"
      },
      "source": [
        "import numpy as np\n",
        "df = pd.read_sql_query(\"SELECT deathdate FROM 'public.people';\", engine)\n",
        "df.loc[df[\"deathdate\"]==\"\"] = np.nan\n",
        "df[df[\"deathdate\"] !=  np.nan].count() / df.shape[0] * 100.0"
      ],
      "execution_count": 41,
      "outputs": [
        {
          "output_type": "execute_result",
          "data": {
            "text/plain": [
              "deathdate    9.372395\n",
              "dtype: float64"
            ]
          },
          "metadata": {},
          "execution_count": 41
        }
      ]
    },
    {
      "cell_type": "markdown",
      "metadata": {
        "id": "ttUP7gRL2Gxz"
      },
      "source": [
        "* Get the number of years between the newest film and oldest film. Alias the result as `difference`.\n",
        "\n",
        "\n",
        "\n",
        "```\n",
        "SELECT MAX(release_year)-MIN(release_year) AS difference\n",
        "FROM films\n",
        "```\n",
        "* Get the number of decades the `films` table covers. Alias the result as `number_of_decades`. The top half of your fraction should be enclosed in parentheses.\n",
        "\n",
        "\n",
        "\n",
        "```\n",
        "SELECT (MAX(release_year) - MIN(release_year))/10 AS number_of_decades\n",
        "FROM films;\n",
        "```\n",
        "\n",
        "\n"
      ]
    },
    {
      "cell_type": "markdown",
      "metadata": {
        "id": "y2l0JC3HCZk3"
      },
      "source": [
        "# **ORDER BY**\n",
        "\n",
        "In SQL, the `ORDER BY` keyword is used to sort results in ascending or descending order according to the values of one or more columns.\n",
        "\n",
        "By default `ORDER BY` will sort in <ins>ascending</ins> order. If you want to sort the results in descending order, you can use the `DESC` keyword. For example,\n",
        "\n",
        "```\n",
        "SELECT title\n",
        "FROM films\n",
        "ORDER BY release_year DESC;\n",
        "```\n",
        "\n",
        "\n",
        "gives you the titles of films sorted by release year, from newest to oldest.\n",
        "\n",
        "# **Sorting single columns**\n",
        "\n",
        "* Get the `name`s of people from the `people` table, sorted alphabetically."
      ]
    },
    {
      "cell_type": "code",
      "metadata": {
        "colab": {
          "base_uri": "https://localhost:8080/",
          "height": 206
        },
        "id": "kD74-NeC05WO",
        "outputId": "ca73232a-1942-4e1c-bce0-829c87a7062c"
      },
      "source": [
        "pd.read_sql_query('''SELECT name \n",
        "                     FROM 'public.people'\n",
        "                     ORDER BY name\n",
        "                     LIMIT 5;''', con=engine)"
      ],
      "execution_count": 2,
      "outputs": [
        {
          "output_type": "execute_result",
          "data": {
            "text/html": [
              "<div>\n",
              "<style scoped>\n",
              "    .dataframe tbody tr th:only-of-type {\n",
              "        vertical-align: middle;\n",
              "    }\n",
              "\n",
              "    .dataframe tbody tr th {\n",
              "        vertical-align: top;\n",
              "    }\n",
              "\n",
              "    .dataframe thead th {\n",
              "        text-align: right;\n",
              "    }\n",
              "</style>\n",
              "<table border=\"1\" class=\"dataframe\">\n",
              "  <thead>\n",
              "    <tr style=\"text-align: right;\">\n",
              "      <th></th>\n",
              "      <th>name</th>\n",
              "    </tr>\n",
              "  </thead>\n",
              "  <tbody>\n",
              "    <tr>\n",
              "      <th>0</th>\n",
              "      <td>50 Cent</td>\n",
              "    </tr>\n",
              "    <tr>\n",
              "      <th>1</th>\n",
              "      <td>A. Michael Baldwin</td>\n",
              "    </tr>\n",
              "    <tr>\n",
              "      <th>2</th>\n",
              "      <td>A. Raven Cruz</td>\n",
              "    </tr>\n",
              "    <tr>\n",
              "      <th>3</th>\n",
              "      <td>A.J. Buckley</td>\n",
              "    </tr>\n",
              "    <tr>\n",
              "      <th>4</th>\n",
              "      <td>A.J. DeLucia</td>\n",
              "    </tr>\n",
              "  </tbody>\n",
              "</table>\n",
              "</div>"
            ],
            "text/plain": [
              "                 name\n",
              "0             50 Cent\n",
              "1  A. Michael Baldwin\n",
              "2       A. Raven Cruz\n",
              "3        A.J. Buckley\n",
              "4        A.J. DeLucia"
            ]
          },
          "metadata": {},
          "execution_count": 2
        }
      ]
    },
    {
      "cell_type": "markdown",
      "metadata": {
        "id": "Dxd8CkCmDX6L"
      },
      "source": [
        "* Get the `name`s of people, sorted by `birthdate`\n",
        "\n",
        "\n",
        "```\n",
        "SELECT name, birthdate \n",
        "FROM people \n",
        "ORDER BY birthdate\n",
        "```\n",
        "\n"
      ]
    },
    {
      "cell_type": "code",
      "metadata": {
        "colab": {
          "base_uri": "https://localhost:8080/",
          "height": 206
        },
        "id": "xey2ls71DSmw",
        "outputId": "56390413-f0c6-488a-9cdb-5864b89cf7a7"
      },
      "source": [
        "df = pd.read_sql_query('''SELECT name, birthdate\n",
        "                          FROM 'public.people'\n",
        "                          ORDER BY birthdate ''', con=engine)\n",
        "df = df[df[\"birthdate\"] != \"\"]\n",
        "df.head()"
      ],
      "execution_count": 36,
      "outputs": [
        {
          "output_type": "execute_result",
          "data": {
            "text/html": [
              "<div>\n",
              "<style scoped>\n",
              "    .dataframe tbody tr th:only-of-type {\n",
              "        vertical-align: middle;\n",
              "    }\n",
              "\n",
              "    .dataframe tbody tr th {\n",
              "        vertical-align: top;\n",
              "    }\n",
              "\n",
              "    .dataframe thead th {\n",
              "        text-align: right;\n",
              "    }\n",
              "</style>\n",
              "<table border=\"1\" class=\"dataframe\">\n",
              "  <thead>\n",
              "    <tr style=\"text-align: right;\">\n",
              "      <th></th>\n",
              "      <th>name</th>\n",
              "      <th>birthdate</th>\n",
              "    </tr>\n",
              "  </thead>\n",
              "  <tbody>\n",
              "    <tr>\n",
              "      <th>2245</th>\n",
              "      <td>Robert Shaw</td>\n",
              "      <td>1837-10-10</td>\n",
              "    </tr>\n",
              "    <tr>\n",
              "      <th>2246</th>\n",
              "      <td>Lucille La Verne</td>\n",
              "      <td>1872-11-07</td>\n",
              "    </tr>\n",
              "    <tr>\n",
              "      <th>2247</th>\n",
              "      <td>Mary Carr</td>\n",
              "      <td>1874-03-14</td>\n",
              "    </tr>\n",
              "    <tr>\n",
              "      <th>2248</th>\n",
              "      <td>D.W. Griffith</td>\n",
              "      <td>1875-01-22</td>\n",
              "    </tr>\n",
              "    <tr>\n",
              "      <th>2249</th>\n",
              "      <td>Finlay Currie</td>\n",
              "      <td>1878-01-20</td>\n",
              "    </tr>\n",
              "  </tbody>\n",
              "</table>\n",
              "</div>"
            ],
            "text/plain": [
              "                  name   birthdate\n",
              "2245       Robert Shaw  1837-10-10\n",
              "2246  Lucille La Verne  1872-11-07\n",
              "2247         Mary Carr  1874-03-14\n",
              "2248     D.W. Griffith  1875-01-22\n",
              "2249     Finlay Currie  1878-01-20"
            ]
          },
          "metadata": {},
          "execution_count": 36
        }
      ]
    },
    {
      "cell_type": "markdown",
      "metadata": {
        "id": "qc6tF7CuFTl6"
      },
      "source": [
        "* Get the `title` of films released in `2000` or `2012`, in the order they were released."
      ]
    },
    {
      "cell_type": "code",
      "metadata": {
        "colab": {
          "base_uri": "https://localhost:8080/",
          "height": 238
        },
        "id": "5awy5zWuDrnN",
        "outputId": "9216638f-00ce-429c-efc5-24f040cf72e0"
      },
      "source": [
        "pd.read_sql_query('''SELECT title, release_year \n",
        "                     FROM 'public.films'\n",
        "                     WHERE release_year IN ('2000', '2012')\n",
        "                     ORDER BY release_year\n",
        "                     LIMIT 5;''', engine).set_index(\"title\")"
      ],
      "execution_count": 16,
      "outputs": [
        {
          "output_type": "execute_result",
          "data": {
            "text/html": [
              "<div>\n",
              "<style scoped>\n",
              "    .dataframe tbody tr th:only-of-type {\n",
              "        vertical-align: middle;\n",
              "    }\n",
              "\n",
              "    .dataframe tbody tr th {\n",
              "        vertical-align: top;\n",
              "    }\n",
              "\n",
              "    .dataframe thead th {\n",
              "        text-align: right;\n",
              "    }\n",
              "</style>\n",
              "<table border=\"1\" class=\"dataframe\">\n",
              "  <thead>\n",
              "    <tr style=\"text-align: right;\">\n",
              "      <th></th>\n",
              "      <th>release_year</th>\n",
              "    </tr>\n",
              "    <tr>\n",
              "      <th>title</th>\n",
              "      <th></th>\n",
              "    </tr>\n",
              "  </thead>\n",
              "  <tbody>\n",
              "    <tr>\n",
              "      <th>102 Dalmatians</th>\n",
              "      <td>2000</td>\n",
              "    </tr>\n",
              "    <tr>\n",
              "      <th>28 Days</th>\n",
              "      <td>2000</td>\n",
              "    </tr>\n",
              "    <tr>\n",
              "      <th>3 Strikes</th>\n",
              "      <td>2000</td>\n",
              "    </tr>\n",
              "    <tr>\n",
              "      <th>Aberdeen</th>\n",
              "      <td>2000</td>\n",
              "    </tr>\n",
              "    <tr>\n",
              "      <th>All the Pretty Horses</th>\n",
              "      <td>2000</td>\n",
              "    </tr>\n",
              "  </tbody>\n",
              "</table>\n",
              "</div>"
            ],
            "text/plain": [
              "                      release_year\n",
              "title                             \n",
              "102 Dalmatians                2000\n",
              "28 Days                       2000\n",
              "3 Strikes                     2000\n",
              "Aberdeen                      2000\n",
              "All the Pretty Horses         2000"
            ]
          },
          "metadata": {},
          "execution_count": 16
        }
      ]
    },
    {
      "cell_type": "markdown",
      "metadata": {
        "id": "qZhs52cfF_y3"
      },
      "source": [
        "* Get all details for all films except those released in `2015` and order them by `duration`.\n",
        "\n",
        "\n",
        "\n",
        "```\n",
        "SELECT * FROM films\n",
        "WHERE release_year <> 2015\n",
        "ORDER BY duration\n",
        "```\n",
        "\n"
      ]
    },
    {
      "cell_type": "code",
      "metadata": {
        "colab": {
          "base_uri": "https://localhost:8080/",
          "height": 238
        },
        "id": "duvcGtc5Fw-r",
        "outputId": "15a37899-32f6-4149-8022-c9fb53bcc5f7"
      },
      "source": [
        "df = pd.read_sql_query('''SELECT * \n",
        "                          FROM 'public.films'\n",
        "                          WHERE release_year <> '2015';''', engine)\n",
        "\n",
        "df = df[df[\"duration\"] != \"\"]\n",
        "df[\"duration\"] = df[\"duration\"].astype(int)\n",
        "df.sort_values(by=\"duration\").set_index(\"id\").head()"
      ],
      "execution_count": 22,
      "outputs": [
        {
          "output_type": "execute_result",
          "data": {
            "text/html": [
              "<div>\n",
              "<style scoped>\n",
              "    .dataframe tbody tr th:only-of-type {\n",
              "        vertical-align: middle;\n",
              "    }\n",
              "\n",
              "    .dataframe tbody tr th {\n",
              "        vertical-align: top;\n",
              "    }\n",
              "\n",
              "    .dataframe thead th {\n",
              "        text-align: right;\n",
              "    }\n",
              "</style>\n",
              "<table border=\"1\" class=\"dataframe\">\n",
              "  <thead>\n",
              "    <tr style=\"text-align: right;\">\n",
              "      <th></th>\n",
              "      <th>title</th>\n",
              "      <th>release_year</th>\n",
              "      <th>country</th>\n",
              "      <th>duration</th>\n",
              "      <th>language</th>\n",
              "      <th>certification</th>\n",
              "      <th>gross</th>\n",
              "      <th>budget</th>\n",
              "    </tr>\n",
              "    <tr>\n",
              "      <th>id</th>\n",
              "      <th></th>\n",
              "      <th></th>\n",
              "      <th></th>\n",
              "      <th></th>\n",
              "      <th></th>\n",
              "      <th></th>\n",
              "      <th></th>\n",
              "      <th></th>\n",
              "    </tr>\n",
              "  </thead>\n",
              "  <tbody>\n",
              "    <tr>\n",
              "      <th>2926</th>\n",
              "      <td>The Touch</td>\n",
              "      <td>2007</td>\n",
              "      <td>USA</td>\n",
              "      <td>7</td>\n",
              "      <td>English</td>\n",
              "      <td></td>\n",
              "      <td></td>\n",
              "      <td>13000</td>\n",
              "    </tr>\n",
              "    <tr>\n",
              "      <th>4098</th>\n",
              "      <td>Vessel</td>\n",
              "      <td>2012</td>\n",
              "      <td>USA</td>\n",
              "      <td>14</td>\n",
              "      <td>English</td>\n",
              "      <td></td>\n",
              "      <td></td>\n",
              "      <td></td>\n",
              "    </tr>\n",
              "    <tr>\n",
              "      <th>2501</th>\n",
              "      <td>Wal-Mart: The High Cost of Low Price</td>\n",
              "      <td>2005</td>\n",
              "      <td>USA</td>\n",
              "      <td>20</td>\n",
              "      <td>English</td>\n",
              "      <td>Not Rated</td>\n",
              "      <td></td>\n",
              "      <td>1500000</td>\n",
              "    </tr>\n",
              "    <tr>\n",
              "      <th>4927</th>\n",
              "      <td>10,000 B.C.</td>\n",
              "      <td></td>\n",
              "      <td></td>\n",
              "      <td>22</td>\n",
              "      <td></td>\n",
              "      <td></td>\n",
              "      <td></td>\n",
              "      <td></td>\n",
              "    </tr>\n",
              "    <tr>\n",
              "      <th>4929</th>\n",
              "      <td>Anger Management</td>\n",
              "      <td></td>\n",
              "      <td>USA</td>\n",
              "      <td>22</td>\n",
              "      <td>English</td>\n",
              "      <td></td>\n",
              "      <td></td>\n",
              "      <td></td>\n",
              "    </tr>\n",
              "  </tbody>\n",
              "</table>\n",
              "</div>"
            ],
            "text/plain": [
              "                                     title release_year  ... gross   budget\n",
              "id                                                       ...               \n",
              "2926                             The Touch         2007  ...          13000\n",
              "4098                                Vessel         2012  ...               \n",
              "2501  Wal-Mart: The High Cost of Low Price         2005  ...        1500000\n",
              "4927                           10,000 B.C.               ...               \n",
              "4929                      Anger Management               ...               \n",
              "\n",
              "[5 rows x 8 columns]"
            ]
          },
          "metadata": {},
          "execution_count": 22
        }
      ]
    },
    {
      "cell_type": "markdown",
      "metadata": {
        "id": "EEx7J9kiHYc7"
      },
      "source": [
        "* Get the `title` and `gross` earnings for movies which begin with the letter `'M'` and order the results alphabetically."
      ]
    },
    {
      "cell_type": "code",
      "metadata": {
        "colab": {
          "base_uri": "https://localhost:8080/",
          "height": 206
        },
        "id": "LBddJJWtGiCU",
        "outputId": "745cad30-f0eb-44ef-fb29-30acc2279cd8"
      },
      "source": [
        "pd.read_sql_query('''SELECT title, gross\n",
        "                     FROM 'public.films'\n",
        "                     WHERE title LIKE 'M%'\n",
        "                     ORDER BY title\n",
        "                     LIMIT 5;''', engine)"
      ],
      "execution_count": 23,
      "outputs": [
        {
          "output_type": "execute_result",
          "data": {
            "text/html": [
              "<div>\n",
              "<style scoped>\n",
              "    .dataframe tbody tr th:only-of-type {\n",
              "        vertical-align: middle;\n",
              "    }\n",
              "\n",
              "    .dataframe tbody tr th {\n",
              "        vertical-align: top;\n",
              "    }\n",
              "\n",
              "    .dataframe thead th {\n",
              "        text-align: right;\n",
              "    }\n",
              "</style>\n",
              "<table border=\"1\" class=\"dataframe\">\n",
              "  <thead>\n",
              "    <tr style=\"text-align: right;\">\n",
              "      <th></th>\n",
              "      <th>title</th>\n",
              "      <th>gross</th>\n",
              "    </tr>\n",
              "  </thead>\n",
              "  <tbody>\n",
              "    <tr>\n",
              "      <th>0</th>\n",
              "      <td>MacGruber</td>\n",
              "      <td>8460995</td>\n",
              "    </tr>\n",
              "    <tr>\n",
              "      <th>1</th>\n",
              "      <td>Machete</td>\n",
              "      <td>26589953</td>\n",
              "    </tr>\n",
              "    <tr>\n",
              "      <th>2</th>\n",
              "      <td>Machete Kills</td>\n",
              "      <td>7268659</td>\n",
              "    </tr>\n",
              "    <tr>\n",
              "      <th>3</th>\n",
              "      <td>Machine Gun McCain</td>\n",
              "      <td></td>\n",
              "    </tr>\n",
              "    <tr>\n",
              "      <th>4</th>\n",
              "      <td>Machine Gun Preacher</td>\n",
              "      <td>537580</td>\n",
              "    </tr>\n",
              "  </tbody>\n",
              "</table>\n",
              "</div>"
            ],
            "text/plain": [
              "                  title     gross\n",
              "0             MacGruber   8460995\n",
              "1               Machete  26589953\n",
              "2         Machete Kills   7268659\n",
              "3    Machine Gun McCain          \n",
              "4  Machine Gun Preacher    537580"
            ]
          },
          "metadata": {},
          "execution_count": 23
        }
      ]
    },
    {
      "cell_type": "markdown",
      "metadata": {
        "id": "7KShUy-FH5zB"
      },
      "source": [
        "# **Sorting single columns (DESC)**\n",
        "\n",
        "To order results in descending order, you can put the keyword `DESC` after your `ORDER BY`. For example, to get all the` name`s in the `people` table, in reverse alphabetical order:\n",
        "\n",
        "```\n",
        "SELECT name\n",
        "FROM people\n",
        "ORDER BY name DESC;\n",
        "```\n",
        "\n",
        "* Get the `imdb_score` and `film_id` for every film from the `reviews` table, sorted from highest to lowest score."
      ]
    },
    {
      "cell_type": "code",
      "metadata": {
        "colab": {
          "base_uri": "https://localhost:8080/",
          "height": 206
        },
        "id": "pXku5zgOHu2_",
        "outputId": "c693f4be-938f-418e-d3ff-4dcc5174920b"
      },
      "source": [
        "pd.read_sql_query('''SELECT imdb_score, film_id\n",
        "                     FROM 'public.reviews'\n",
        "                     ORDER BY imdb_score DESC\n",
        "                     LIMIT 5;''', engine)"
      ],
      "execution_count": 25,
      "outputs": [
        {
          "output_type": "execute_result",
          "data": {
            "text/html": [
              "<div>\n",
              "<style scoped>\n",
              "    .dataframe tbody tr th:only-of-type {\n",
              "        vertical-align: middle;\n",
              "    }\n",
              "\n",
              "    .dataframe tbody tr th {\n",
              "        vertical-align: top;\n",
              "    }\n",
              "\n",
              "    .dataframe thead th {\n",
              "        text-align: right;\n",
              "    }\n",
              "</style>\n",
              "<table border=\"1\" class=\"dataframe\">\n",
              "  <thead>\n",
              "    <tr style=\"text-align: right;\">\n",
              "      <th></th>\n",
              "      <th>imdb_score</th>\n",
              "      <th>film_id</th>\n",
              "    </tr>\n",
              "  </thead>\n",
              "  <tbody>\n",
              "    <tr>\n",
              "      <th>0</th>\n",
              "      <td>9.5</td>\n",
              "      <td>4960</td>\n",
              "    </tr>\n",
              "    <tr>\n",
              "      <th>1</th>\n",
              "      <td>9.30000019</td>\n",
              "      <td>742</td>\n",
              "    </tr>\n",
              "    <tr>\n",
              "      <th>2</th>\n",
              "      <td>9.19999981</td>\n",
              "      <td>178</td>\n",
              "    </tr>\n",
              "    <tr>\n",
              "      <th>3</th>\n",
              "      <td>9.10000038</td>\n",
              "      <td>4866</td>\n",
              "    </tr>\n",
              "    <tr>\n",
              "      <th>4</th>\n",
              "      <td>9</td>\n",
              "      <td>3110</td>\n",
              "    </tr>\n",
              "  </tbody>\n",
              "</table>\n",
              "</div>"
            ],
            "text/plain": [
              "   imdb_score film_id\n",
              "0         9.5    4960\n",
              "1  9.30000019     742\n",
              "2  9.19999981     178\n",
              "3  9.10000038    4866\n",
              "4           9    3110"
            ]
          },
          "metadata": {},
          "execution_count": 25
        }
      ]
    },
    {
      "cell_type": "markdown",
      "metadata": {
        "id": "Z7N7OsdJI1Mi"
      },
      "source": [
        "* Get the `title` for every `film`, in reverse order."
      ]
    },
    {
      "cell_type": "code",
      "metadata": {
        "colab": {
          "base_uri": "https://localhost:8080/",
          "height": 206
        },
        "id": "S1b4JBc0IotQ",
        "outputId": "ef0ce49b-ecdd-4ff9-b177-d936f9d9caea"
      },
      "source": [
        "pd.read_sql_query('''SELECT title\n",
        "                     FROM 'public.films'\n",
        "                     ORDER BY title DESC\n",
        "                     LIMIT 5;''', engine)"
      ],
      "execution_count": 26,
      "outputs": [
        {
          "output_type": "execute_result",
          "data": {
            "text/html": [
              "<div>\n",
              "<style scoped>\n",
              "    .dataframe tbody tr th:only-of-type {\n",
              "        vertical-align: middle;\n",
              "    }\n",
              "\n",
              "    .dataframe tbody tr th {\n",
              "        vertical-align: top;\n",
              "    }\n",
              "\n",
              "    .dataframe thead th {\n",
              "        text-align: right;\n",
              "    }\n",
              "</style>\n",
              "<table border=\"1\" class=\"dataframe\">\n",
              "  <thead>\n",
              "    <tr style=\"text-align: right;\">\n",
              "      <th></th>\n",
              "      <th>title</th>\n",
              "    </tr>\n",
              "  </thead>\n",
              "  <tbody>\n",
              "    <tr>\n",
              "      <th>0</th>\n",
              "      <td>Æon Flux</td>\n",
              "    </tr>\n",
              "    <tr>\n",
              "      <th>1</th>\n",
              "      <td>xXx: State of the Union</td>\n",
              "    </tr>\n",
              "    <tr>\n",
              "      <th>2</th>\n",
              "      <td>xXx</td>\n",
              "    </tr>\n",
              "    <tr>\n",
              "      <th>3</th>\n",
              "      <td>eXistenZ</td>\n",
              "    </tr>\n",
              "    <tr>\n",
              "      <th>4</th>\n",
              "      <td>[Rec] 2</td>\n",
              "    </tr>\n",
              "  </tbody>\n",
              "</table>\n",
              "</div>"
            ],
            "text/plain": [
              "                     title\n",
              "0                 Æon Flux\n",
              "1  xXx: State of the Union\n",
              "2                      xXx\n",
              "3                 eXistenZ\n",
              "4                  [Rec] 2"
            ]
          },
          "metadata": {},
          "execution_count": 26
        }
      ]
    },
    {
      "cell_type": "markdown",
      "metadata": {
        "id": "DoEIHLykJDTZ"
      },
      "source": [
        "* Get the `title` and `duration` for every film, in order of longest `duration` to shortest.\n",
        "\n",
        "\n",
        "\n",
        "```\n",
        "SELECT title, duration \n",
        "FROM films\n",
        "ORDER BY duration DESC\n",
        "```\n",
        "\n"
      ]
    },
    {
      "cell_type": "code",
      "metadata": {
        "colab": {
          "base_uri": "https://localhost:8080/",
          "height": 206
        },
        "id": "5yTbAQAQI_j4",
        "outputId": "7d75a15c-0c4a-4b58-db0f-2b08120fbfdb"
      },
      "source": [
        "df = pd.read_sql_query('''SELECT title, duration\n",
        "                          FROM 'public.films';''', engine)\n",
        "df = df[df[\"duration\"] != \"\"]\n",
        "df[\"duration\"] = df[\"duration\"].astype(int)\n",
        "df.sort_values(by=\"duration\", ascending=False).head()"
      ],
      "execution_count": 31,
      "outputs": [
        {
          "output_type": "execute_result",
          "data": {
            "text/html": [
              "<div>\n",
              "<style scoped>\n",
              "    .dataframe tbody tr th:only-of-type {\n",
              "        vertical-align: middle;\n",
              "    }\n",
              "\n",
              "    .dataframe tbody tr th {\n",
              "        vertical-align: top;\n",
              "    }\n",
              "\n",
              "    .dataframe thead th {\n",
              "        text-align: right;\n",
              "    }\n",
              "</style>\n",
              "<table border=\"1\" class=\"dataframe\">\n",
              "  <thead>\n",
              "    <tr style=\"text-align: right;\">\n",
              "      <th></th>\n",
              "      <th>title</th>\n",
              "      <th>duration</th>\n",
              "    </tr>\n",
              "  </thead>\n",
              "  <tbody>\n",
              "    <tr>\n",
              "      <th>4931</th>\n",
              "      <td>Carlos</td>\n",
              "      <td>334</td>\n",
              "    </tr>\n",
              "    <tr>\n",
              "      <th>648</th>\n",
              "      <td>Blood In, Blood Out</td>\n",
              "      <td>330</td>\n",
              "    </tr>\n",
              "    <tr>\n",
              "      <th>267</th>\n",
              "      <td>Heaven's Gate</td>\n",
              "      <td>325</td>\n",
              "    </tr>\n",
              "    <tr>\n",
              "      <th>1665</th>\n",
              "      <td>The Legend of Suriyothai</td>\n",
              "      <td>300</td>\n",
              "    </tr>\n",
              "    <tr>\n",
              "      <th>286</th>\n",
              "      <td>Das Boot</td>\n",
              "      <td>293</td>\n",
              "    </tr>\n",
              "  </tbody>\n",
              "</table>\n",
              "</div>"
            ],
            "text/plain": [
              "                         title  duration\n",
              "4931                    Carlos       334\n",
              "648        Blood In, Blood Out       330\n",
              "267              Heaven's Gate       325\n",
              "1665  The Legend of Suriyothai       300\n",
              "286                   Das Boot       293"
            ]
          },
          "metadata": {},
          "execution_count": 31
        }
      ]
    },
    {
      "cell_type": "markdown",
      "metadata": {
        "id": "nerNzbHuKC4X"
      },
      "source": [
        "# **Sorting multiple columns**\n",
        "\n",
        "`ORDER BY` can also be used to sort on multiple columns. It will sort by the first column specified, then sort by the next, then the next, and so on. For example,\n",
        "\n",
        "\n",
        "\n",
        "```\n",
        "SELECT birthdate, name\n",
        "FROM people\n",
        "ORDER BY birthdate, name;\n",
        "```\n",
        "\n",
        "\n",
        "\n",
        "sorts on birth dates first (oldest to newest) and then sorts on the names in alphabetical order. The order of columns is important!\n",
        "\n",
        "* Get the `birthdate` and `name` of people in the `people` table, in order of when they were born and alphabetically by name.\n",
        "\n",
        "\n",
        "```\n",
        "SELECT birthdate, name \n",
        "FROM people\n",
        "ORDER BY birthdate, name\n",
        "```\n",
        "\n"
      ]
    },
    {
      "cell_type": "code",
      "metadata": {
        "colab": {
          "base_uri": "https://localhost:8080/",
          "height": 206
        },
        "id": "L21FfOACJMhZ",
        "outputId": "8dd96a45-72ee-4b30-ebd6-b39100459413"
      },
      "source": [
        "df = pd.read_sql_query('''SELECT birthdate, name \n",
        "                          FROM \"public.people\"\n",
        "                          ORDER BY birthdate, name;''', engine)\n",
        "df = df[df[\"birthdate\"] != \"\"]\n",
        "df.head()"
      ],
      "execution_count": 37,
      "outputs": [
        {
          "output_type": "execute_result",
          "data": {
            "text/html": [
              "<div>\n",
              "<style scoped>\n",
              "    .dataframe tbody tr th:only-of-type {\n",
              "        vertical-align: middle;\n",
              "    }\n",
              "\n",
              "    .dataframe tbody tr th {\n",
              "        vertical-align: top;\n",
              "    }\n",
              "\n",
              "    .dataframe thead th {\n",
              "        text-align: right;\n",
              "    }\n",
              "</style>\n",
              "<table border=\"1\" class=\"dataframe\">\n",
              "  <thead>\n",
              "    <tr style=\"text-align: right;\">\n",
              "      <th></th>\n",
              "      <th>birthdate</th>\n",
              "      <th>name</th>\n",
              "    </tr>\n",
              "  </thead>\n",
              "  <tbody>\n",
              "    <tr>\n",
              "      <th>2245</th>\n",
              "      <td>1837-10-10</td>\n",
              "      <td>Robert Shaw</td>\n",
              "    </tr>\n",
              "    <tr>\n",
              "      <th>2246</th>\n",
              "      <td>1872-11-07</td>\n",
              "      <td>Lucille La Verne</td>\n",
              "    </tr>\n",
              "    <tr>\n",
              "      <th>2247</th>\n",
              "      <td>1874-03-14</td>\n",
              "      <td>Mary Carr</td>\n",
              "    </tr>\n",
              "    <tr>\n",
              "      <th>2248</th>\n",
              "      <td>1875-01-22</td>\n",
              "      <td>D.W. Griffith</td>\n",
              "    </tr>\n",
              "    <tr>\n",
              "      <th>2249</th>\n",
              "      <td>1878-01-20</td>\n",
              "      <td>Finlay Currie</td>\n",
              "    </tr>\n",
              "  </tbody>\n",
              "</table>\n",
              "</div>"
            ],
            "text/plain": [
              "       birthdate              name\n",
              "2245  1837-10-10       Robert Shaw\n",
              "2246  1872-11-07  Lucille La Verne\n",
              "2247  1874-03-14         Mary Carr\n",
              "2248  1875-01-22     D.W. Griffith\n",
              "2249  1878-01-20     Finlay Currie"
            ]
          },
          "metadata": {},
          "execution_count": 37
        }
      ]
    },
    {
      "cell_type": "markdown",
      "metadata": {
        "id": "q7h933L3Lbz-"
      },
      "source": [
        "* Get the `release_year`, `duration`, and `title` of films ordered by their `release_year` and `duration`."
      ]
    },
    {
      "cell_type": "code",
      "metadata": {
        "colab": {
          "base_uri": "https://localhost:8080/",
          "height": 238
        },
        "id": "GFpZQewaK8xB",
        "outputId": "950ad8fc-4125-432e-bb59-3b3b70c75e8c"
      },
      "source": [
        "df = pd.read_sql_query('''SELECT release_year, duration, title \n",
        "                          FROM \"public.films\"\n",
        "                          ORDER BY release_year, duration;''', engine)\n",
        "df = df[df[\"release_year\"] != \"\"].set_index(\"release_year\")\n",
        "df.head()"
      ],
      "execution_count": 41,
      "outputs": [
        {
          "output_type": "execute_result",
          "data": {
            "text/html": [
              "<div>\n",
              "<style scoped>\n",
              "    .dataframe tbody tr th:only-of-type {\n",
              "        vertical-align: middle;\n",
              "    }\n",
              "\n",
              "    .dataframe tbody tr th {\n",
              "        vertical-align: top;\n",
              "    }\n",
              "\n",
              "    .dataframe thead th {\n",
              "        text-align: right;\n",
              "    }\n",
              "</style>\n",
              "<table border=\"1\" class=\"dataframe\">\n",
              "  <thead>\n",
              "    <tr style=\"text-align: right;\">\n",
              "      <th></th>\n",
              "      <th>duration</th>\n",
              "      <th>title</th>\n",
              "    </tr>\n",
              "    <tr>\n",
              "      <th>release_year</th>\n",
              "      <th></th>\n",
              "      <th></th>\n",
              "    </tr>\n",
              "  </thead>\n",
              "  <tbody>\n",
              "    <tr>\n",
              "      <th>1916</th>\n",
              "      <td>123</td>\n",
              "      <td>Intolerance: Love's Struggle Throughout the Ages</td>\n",
              "    </tr>\n",
              "    <tr>\n",
              "      <th>1920</th>\n",
              "      <td>110</td>\n",
              "      <td>Over the Hill to the Poorhouse</td>\n",
              "    </tr>\n",
              "    <tr>\n",
              "      <th>1925</th>\n",
              "      <td>151</td>\n",
              "      <td>The Big Parade</td>\n",
              "    </tr>\n",
              "    <tr>\n",
              "      <th>1927</th>\n",
              "      <td>145</td>\n",
              "      <td>Metropolis</td>\n",
              "    </tr>\n",
              "    <tr>\n",
              "      <th>1929</th>\n",
              "      <td>100</td>\n",
              "      <td>The Broadway Melody</td>\n",
              "    </tr>\n",
              "  </tbody>\n",
              "</table>\n",
              "</div>"
            ],
            "text/plain": [
              "             duration                                             title\n",
              "release_year                                                           \n",
              "1916              123  Intolerance: Love's Struggle Throughout the Ages\n",
              "1920              110                    Over the Hill to the Poorhouse\n",
              "1925              151                                    The Big Parade\n",
              "1927              145                                        Metropolis\n",
              "1929              100                               The Broadway Melody"
            ]
          },
          "metadata": {},
          "execution_count": 41
        }
      ]
    },
    {
      "cell_type": "markdown",
      "metadata": {
        "id": "lJrppcYAMITl"
      },
      "source": [
        "* Get `certification`s, `release_year`s, and `title`s of films ordered by `certification` (alphabetically) and `release_year`."
      ]
    },
    {
      "cell_type": "code",
      "metadata": {
        "colab": {
          "base_uri": "https://localhost:8080/",
          "height": 206
        },
        "id": "9QZaklGWLyL_",
        "outputId": "3e199ce0-3c19-4542-c366-3f373103ed79"
      },
      "source": [
        "df = pd.read_sql_query('''SELECT certification, release_year, title \n",
        "                          FROM \"public.films\"\n",
        "                          ORDER BY certification, release_year;''', engine)\n",
        "df = df[df[\"certification\"] != \"\"]\n",
        "df.head()"
      ],
      "execution_count": 43,
      "outputs": [
        {
          "output_type": "execute_result",
          "data": {
            "text/html": [
              "<div>\n",
              "<style scoped>\n",
              "    .dataframe tbody tr th:only-of-type {\n",
              "        vertical-align: middle;\n",
              "    }\n",
              "\n",
              "    .dataframe tbody tr th {\n",
              "        vertical-align: top;\n",
              "    }\n",
              "\n",
              "    .dataframe thead th {\n",
              "        text-align: right;\n",
              "    }\n",
              "</style>\n",
              "<table border=\"1\" class=\"dataframe\">\n",
              "  <thead>\n",
              "    <tr style=\"text-align: right;\">\n",
              "      <th></th>\n",
              "      <th>certification</th>\n",
              "      <th>release_year</th>\n",
              "      <th>title</th>\n",
              "    </tr>\n",
              "  </thead>\n",
              "  <tbody>\n",
              "    <tr>\n",
              "      <th>302</th>\n",
              "      <td>Approved</td>\n",
              "      <td>1933</td>\n",
              "      <td>She Done Him Wrong</td>\n",
              "    </tr>\n",
              "    <tr>\n",
              "      <th>303</th>\n",
              "      <td>Approved</td>\n",
              "      <td>1935</td>\n",
              "      <td>Top Hat</td>\n",
              "    </tr>\n",
              "    <tr>\n",
              "      <th>304</th>\n",
              "      <td>Approved</td>\n",
              "      <td>1936</td>\n",
              "      <td>The Charge of the Light Brigade</td>\n",
              "    </tr>\n",
              "    <tr>\n",
              "      <th>305</th>\n",
              "      <td>Approved</td>\n",
              "      <td>1937</td>\n",
              "      <td>Snow White and the Seven Dwarfs</td>\n",
              "    </tr>\n",
              "    <tr>\n",
              "      <th>306</th>\n",
              "      <td>Approved</td>\n",
              "      <td>1937</td>\n",
              "      <td>The Prisoner of Zenda</td>\n",
              "    </tr>\n",
              "  </tbody>\n",
              "</table>\n",
              "</div>"
            ],
            "text/plain": [
              "    certification release_year                            title\n",
              "302      Approved         1933               She Done Him Wrong\n",
              "303      Approved         1935                          Top Hat\n",
              "304      Approved         1936  The Charge of the Light Brigade\n",
              "305      Approved         1937  Snow White and the Seven Dwarfs\n",
              "306      Approved         1937            The Prisoner of Zenda"
            ]
          },
          "metadata": {},
          "execution_count": 43
        }
      ]
    },
    {
      "cell_type": "markdown",
      "metadata": {
        "id": "mhrq2-CTMvh7"
      },
      "source": [
        "Get the `name`s and `birthdate`s of `people` ordered by `name` and `birthdate`."
      ]
    },
    {
      "cell_type": "code",
      "metadata": {
        "colab": {
          "base_uri": "https://localhost:8080/",
          "height": 206
        },
        "id": "u00Z1iIYMg4D",
        "outputId": "a76c64b5-e238-4d80-92cc-2581d5389e32"
      },
      "source": [
        "df = pd.read_sql_query('''SELECT name, birthdate\n",
        "                          FROM \"public.people\"\n",
        "                          ORDER BY name, birthdate;''', engine)\n",
        "df.loc[df[\"birthdate\"] == \"\", \"birthdate\"] = \"null\"\n",
        "df.head()\n"
      ],
      "execution_count": 51,
      "outputs": [
        {
          "output_type": "execute_result",
          "data": {
            "text/html": [
              "<div>\n",
              "<style scoped>\n",
              "    .dataframe tbody tr th:only-of-type {\n",
              "        vertical-align: middle;\n",
              "    }\n",
              "\n",
              "    .dataframe tbody tr th {\n",
              "        vertical-align: top;\n",
              "    }\n",
              "\n",
              "    .dataframe thead th {\n",
              "        text-align: right;\n",
              "    }\n",
              "</style>\n",
              "<table border=\"1\" class=\"dataframe\">\n",
              "  <thead>\n",
              "    <tr style=\"text-align: right;\">\n",
              "      <th></th>\n",
              "      <th>name</th>\n",
              "      <th>birthdate</th>\n",
              "    </tr>\n",
              "  </thead>\n",
              "  <tbody>\n",
              "    <tr>\n",
              "      <th>0</th>\n",
              "      <td>50 Cent</td>\n",
              "      <td>1975-07-06</td>\n",
              "    </tr>\n",
              "    <tr>\n",
              "      <th>1</th>\n",
              "      <td>A. Michael Baldwin</td>\n",
              "      <td>1963-04-04</td>\n",
              "    </tr>\n",
              "    <tr>\n",
              "      <th>2</th>\n",
              "      <td>A. Raven Cruz</td>\n",
              "      <td>null</td>\n",
              "    </tr>\n",
              "    <tr>\n",
              "      <th>3</th>\n",
              "      <td>A.J. Buckley</td>\n",
              "      <td>1978-02-09</td>\n",
              "    </tr>\n",
              "    <tr>\n",
              "      <th>4</th>\n",
              "      <td>A.J. DeLucia</td>\n",
              "      <td>null</td>\n",
              "    </tr>\n",
              "  </tbody>\n",
              "</table>\n",
              "</div>"
            ],
            "text/plain": [
              "                 name   birthdate\n",
              "0             50 Cent  1975-07-06\n",
              "1  A. Michael Baldwin  1963-04-04\n",
              "2       A. Raven Cruz        null\n",
              "3        A.J. Buckley  1978-02-09\n",
              "4        A.J. DeLucia        null"
            ]
          },
          "metadata": {},
          "execution_count": 51
        }
      ]
    },
    {
      "cell_type": "markdown",
      "metadata": {
        "id": "O1hNCHVaWSGy"
      },
      "source": [
        "# **GROUP BY**\n",
        "\n",
        "Often you'll need to aggregate results. For example, you might want to count the number of male and female employees in your company. Here, what you want is to group all the males together and count them, and group all the females together and count them. In SQL, `GROUP BY` allows you to group a result by one or more columns, like so:\n",
        "\n",
        "\n",
        "\n",
        "```\n",
        "SELECT sex, count(*)\n",
        "FROM employees\n",
        "GROUP BY sex;\n",
        "```\n",
        "\n",
        "\n",
        "This might give, for example:\n",
        "\n",
        "sex\tcount\n",
        "male\t15\n",
        "female\t19\n",
        "\n",
        "```\n",
        "sex\t   count\n",
        "male\t    15\n",
        "female\t  19\n",
        "```\n",
        "\n",
        "Commonly, `GROUP BY` is used with aggregate functions like `COUNT()` or `MAX()`. Note that <ins>`GROUP BY` always goes after the `FROM`</ins>.\n",
        "\n",
        "# **GROUP BY practice**\n",
        "\n",
        "As you've just seen, combining aggregate functions with `GROUP BY` can yield some powerful results!\n",
        "\n",
        "A word of warning: <ins>SQL will return an error if you try to `SELECT` a field that is not in your `GROUP BY` clause without using it to calculate some kind of value about the entire group.</ins>\n",
        "\n",
        "Note that you can combine `GROUP BY` with `ORDER BY` to group your results, calculate something about them, and then order your results. For example,\n",
        "\n",
        "```\n",
        "SELECT sex, count(*)\n",
        "FROM employees\n",
        "GROUP BY sex\n",
        "ORDER BY count DESC;\n",
        "```\n",
        "\n",
        "\n",
        "might return something like\n",
        "\n",
        "\n",
        "\n",
        "```\n",
        "sex\t          count\n",
        "female\t         19\n",
        "male\t           15\n",
        "```\n",
        "because there are more females at our company than males. Note also that <ins>`ORDER BY` always goes after `GROUP BY`</ins>. Let's try some exercises!\n",
        "\n",
        "* Get the `release_year` and `count` of films released in each year.\n",
        "\n"
      ]
    },
    {
      "cell_type": "code",
      "metadata": {
        "colab": {
          "base_uri": "https://localhost:8080/",
          "height": 206
        },
        "id": "llWKCZo4NFyx",
        "outputId": "53961b23-b94c-4746-cf90-e2399bd4a33d"
      },
      "source": [
        "df = pd.read_sql_query('''SELECT release_year, COUNT(*) AS count\n",
        "                          FROM \"public.films\"\n",
        "                          GROUP BY release_year;''', engine)\n",
        "df = df[df[\"release_year\"] != \"\"]\n",
        "df.head()"
      ],
      "execution_count": 55,
      "outputs": [
        {
          "output_type": "execute_result",
          "data": {
            "text/html": [
              "<div>\n",
              "<style scoped>\n",
              "    .dataframe tbody tr th:only-of-type {\n",
              "        vertical-align: middle;\n",
              "    }\n",
              "\n",
              "    .dataframe tbody tr th {\n",
              "        vertical-align: top;\n",
              "    }\n",
              "\n",
              "    .dataframe thead th {\n",
              "        text-align: right;\n",
              "    }\n",
              "</style>\n",
              "<table border=\"1\" class=\"dataframe\">\n",
              "  <thead>\n",
              "    <tr style=\"text-align: right;\">\n",
              "      <th></th>\n",
              "      <th>release_year</th>\n",
              "      <th>count</th>\n",
              "    </tr>\n",
              "  </thead>\n",
              "  <tbody>\n",
              "    <tr>\n",
              "      <th>1</th>\n",
              "      <td>1916</td>\n",
              "      <td>1</td>\n",
              "    </tr>\n",
              "    <tr>\n",
              "      <th>2</th>\n",
              "      <td>1920</td>\n",
              "      <td>1</td>\n",
              "    </tr>\n",
              "    <tr>\n",
              "      <th>3</th>\n",
              "      <td>1925</td>\n",
              "      <td>1</td>\n",
              "    </tr>\n",
              "    <tr>\n",
              "      <th>4</th>\n",
              "      <td>1927</td>\n",
              "      <td>1</td>\n",
              "    </tr>\n",
              "    <tr>\n",
              "      <th>5</th>\n",
              "      <td>1929</td>\n",
              "      <td>2</td>\n",
              "    </tr>\n",
              "  </tbody>\n",
              "</table>\n",
              "</div>"
            ],
            "text/plain": [
              "  release_year  count\n",
              "1         1916      1\n",
              "2         1920      1\n",
              "3         1925      1\n",
              "4         1927      1\n",
              "5         1929      2"
            ]
          },
          "metadata": {},
          "execution_count": 55
        }
      ]
    },
    {
      "cell_type": "markdown",
      "metadata": {
        "id": "i-6-fHP7Z1BN"
      },
      "source": [
        "* Get the `release_year` and average `duration` of all films, grouped by `release_year`."
      ]
    },
    {
      "cell_type": "code",
      "metadata": {
        "colab": {
          "base_uri": "https://localhost:8080/",
          "height": 206
        },
        "id": "1dBaO57RZkUO",
        "outputId": "fa2cb65e-a9cb-4864-fc95-bac5d4caaed9"
      },
      "source": [
        "df = pd.read_sql_query('''SELECT release_year, AVG(duration) AS avg\n",
        "                          FROM \"public.films\"\n",
        "                          GROUP BY release_year;''', engine)\n",
        "df.loc[df[\"release_year\"] == \"\", \"release_year\"] = \"null\"\n",
        "df.head()"
      ],
      "execution_count": 59,
      "outputs": [
        {
          "output_type": "execute_result",
          "data": {
            "text/html": [
              "<div>\n",
              "<style scoped>\n",
              "    .dataframe tbody tr th:only-of-type {\n",
              "        vertical-align: middle;\n",
              "    }\n",
              "\n",
              "    .dataframe tbody tr th {\n",
              "        vertical-align: top;\n",
              "    }\n",
              "\n",
              "    .dataframe thead th {\n",
              "        text-align: right;\n",
              "    }\n",
              "</style>\n",
              "<table border=\"1\" class=\"dataframe\">\n",
              "  <thead>\n",
              "    <tr style=\"text-align: right;\">\n",
              "      <th></th>\n",
              "      <th>release_year</th>\n",
              "      <th>avg</th>\n",
              "    </tr>\n",
              "  </thead>\n",
              "  <tbody>\n",
              "    <tr>\n",
              "      <th>0</th>\n",
              "      <td>null</td>\n",
              "      <td>75.595238</td>\n",
              "    </tr>\n",
              "    <tr>\n",
              "      <th>1</th>\n",
              "      <td>1916</td>\n",
              "      <td>123.000000</td>\n",
              "    </tr>\n",
              "    <tr>\n",
              "      <th>2</th>\n",
              "      <td>1920</td>\n",
              "      <td>110.000000</td>\n",
              "    </tr>\n",
              "    <tr>\n",
              "      <th>3</th>\n",
              "      <td>1925</td>\n",
              "      <td>151.000000</td>\n",
              "    </tr>\n",
              "    <tr>\n",
              "      <th>4</th>\n",
              "      <td>1927</td>\n",
              "      <td>145.000000</td>\n",
              "    </tr>\n",
              "  </tbody>\n",
              "</table>\n",
              "</div>"
            ],
            "text/plain": [
              "  release_year         avg\n",
              "0         null   75.595238\n",
              "1         1916  123.000000\n",
              "2         1920  110.000000\n",
              "3         1925  151.000000\n",
              "4         1927  145.000000"
            ]
          },
          "metadata": {},
          "execution_count": 59
        }
      ]
    },
    {
      "cell_type": "markdown",
      "metadata": {
        "id": "I4XzTGNya_mK"
      },
      "source": [
        "* Get the `release_year` and largest `budget` for all films, grouped by `release_year`."
      ]
    },
    {
      "cell_type": "code",
      "metadata": {
        "colab": {
          "base_uri": "https://localhost:8080/",
          "height": 206
        },
        "id": "nYctF9_vaddE",
        "outputId": "72a125fd-33b6-4286-8de4-f0c6d6f724c0"
      },
      "source": [
        "df = pd.read_sql_query('''SELECT release_year, MAX(budget) AS max\n",
        "                          FROM \"public.films\"\n",
        "                          GROUP BY release_year;''', engine)\n",
        "df.loc[df[\"release_year\"] == \"\", \"release_year\"] = \"null\"\n",
        "df.head()"
      ],
      "execution_count": 63,
      "outputs": [
        {
          "output_type": "execute_result",
          "data": {
            "text/html": [
              "<div>\n",
              "<style scoped>\n",
              "    .dataframe tbody tr th:only-of-type {\n",
              "        vertical-align: middle;\n",
              "    }\n",
              "\n",
              "    .dataframe tbody tr th {\n",
              "        vertical-align: top;\n",
              "    }\n",
              "\n",
              "    .dataframe thead th {\n",
              "        text-align: right;\n",
              "    }\n",
              "</style>\n",
              "<table border=\"1\" class=\"dataframe\">\n",
              "  <thead>\n",
              "    <tr style=\"text-align: right;\">\n",
              "      <th></th>\n",
              "      <th>release_year</th>\n",
              "      <th>max</th>\n",
              "    </tr>\n",
              "  </thead>\n",
              "  <tbody>\n",
              "    <tr>\n",
              "      <th>0</th>\n",
              "      <td>null</td>\n",
              "      <td>5000000</td>\n",
              "    </tr>\n",
              "    <tr>\n",
              "      <th>1</th>\n",
              "      <td>1916</td>\n",
              "      <td>385907</td>\n",
              "    </tr>\n",
              "    <tr>\n",
              "      <th>2</th>\n",
              "      <td>1920</td>\n",
              "      <td>100000</td>\n",
              "    </tr>\n",
              "    <tr>\n",
              "      <th>3</th>\n",
              "      <td>1925</td>\n",
              "      <td>245000</td>\n",
              "    </tr>\n",
              "    <tr>\n",
              "      <th>4</th>\n",
              "      <td>1927</td>\n",
              "      <td>6000000</td>\n",
              "    </tr>\n",
              "  </tbody>\n",
              "</table>\n",
              "</div>"
            ],
            "text/plain": [
              "  release_year      max\n",
              "0         null  5000000\n",
              "1         1916   385907\n",
              "2         1920   100000\n",
              "3         1925   245000\n",
              "4         1927  6000000"
            ]
          },
          "metadata": {},
          "execution_count": 63
        }
      ]
    },
    {
      "cell_type": "markdown",
      "metadata": {
        "id": "Cd6eLG8WcEpH"
      },
      "source": [
        "* Get the `imdb_score` and count of film reviews grouped by `imdb_score` in the reviews table."
      ]
    },
    {
      "cell_type": "code",
      "metadata": {
        "colab": {
          "base_uri": "https://localhost:8080/",
          "height": 206
        },
        "id": "KdTP3umjbe7H",
        "outputId": "64497d98-747c-4b32-9a2d-1a3e706d1adb"
      },
      "source": [
        "df = pd.read_sql_query('''SELECT imdb_score, COUNT(*) AS count\n",
        "                          FROM \"public.reviews\"\n",
        "                          GROUP BY imdb_score;''', engine)\n",
        "df.head()"
      ],
      "execution_count": 66,
      "outputs": [
        {
          "output_type": "execute_result",
          "data": {
            "text/html": [
              "<div>\n",
              "<style scoped>\n",
              "    .dataframe tbody tr th:only-of-type {\n",
              "        vertical-align: middle;\n",
              "    }\n",
              "\n",
              "    .dataframe tbody tr th {\n",
              "        vertical-align: top;\n",
              "    }\n",
              "\n",
              "    .dataframe thead th {\n",
              "        text-align: right;\n",
              "    }\n",
              "</style>\n",
              "<table border=\"1\" class=\"dataframe\">\n",
              "  <thead>\n",
              "    <tr style=\"text-align: right;\">\n",
              "      <th></th>\n",
              "      <th>imdb_score</th>\n",
              "      <th>count</th>\n",
              "    </tr>\n",
              "  </thead>\n",
              "  <tbody>\n",
              "    <tr>\n",
              "      <th>0</th>\n",
              "      <td>1.60000002</td>\n",
              "      <td>1</td>\n",
              "    </tr>\n",
              "    <tr>\n",
              "      <th>1</th>\n",
              "      <td>1.70000005</td>\n",
              "      <td>1</td>\n",
              "    </tr>\n",
              "    <tr>\n",
              "      <th>2</th>\n",
              "      <td>1.89999998</td>\n",
              "      <td>3</td>\n",
              "    </tr>\n",
              "    <tr>\n",
              "      <th>3</th>\n",
              "      <td>2</td>\n",
              "      <td>2</td>\n",
              "    </tr>\n",
              "    <tr>\n",
              "      <th>4</th>\n",
              "      <td>2.0999999</td>\n",
              "      <td>3</td>\n",
              "    </tr>\n",
              "  </tbody>\n",
              "</table>\n",
              "</div>"
            ],
            "text/plain": [
              "   imdb_score  count\n",
              "0  1.60000002      1\n",
              "1  1.70000005      1\n",
              "2  1.89999998      3\n",
              "3           2      2\n",
              "4   2.0999999      3"
            ]
          },
          "metadata": {},
          "execution_count": 66
        }
      ]
    },
    {
      "cell_type": "markdown",
      "metadata": {
        "id": "ZG0YztFmcwqH"
      },
      "source": [
        "# **GROUP BY practice (2)**\n",
        "\n",
        "Now practice your new skills by combining `GROUP BY` and `ORDER BY` with some more aggregate functions!\n",
        "\n",
        "Make sure to always <ins>put the `ORDER BY` clause **at the end** of your query</ins>. You can't sort values that you haven't calculated yet!\n",
        "\n",
        "* Get the `release_year` and lowest `gross` earnings per `release_year`.\n",
        "\n",
        "\n",
        "\n",
        "```\n",
        "SELECT release_year, MIN(gross) \n",
        "FROM films\n",
        "GROUP BY release_year\n",
        "\n",
        "```\n",
        "\n"
      ]
    },
    {
      "cell_type": "code",
      "metadata": {
        "colab": {
          "base_uri": "https://localhost:8080/",
          "height": 206
        },
        "id": "CHEXoB53cbqZ",
        "outputId": "2295a294-3965-4757-c718-f2a3f2d9b892"
      },
      "source": [
        "df = pd.read_sql_query('''SELECT release_year, MIN(gross) AS min\n",
        "                          FROM \"public.films\"\n",
        "                          GROUP BY release_year;''', engine)\n",
        "df.head()"
      ],
      "execution_count": 67,
      "outputs": [
        {
          "output_type": "execute_result",
          "data": {
            "text/html": [
              "<div>\n",
              "<style scoped>\n",
              "    .dataframe tbody tr th:only-of-type {\n",
              "        vertical-align: middle;\n",
              "    }\n",
              "\n",
              "    .dataframe tbody tr th {\n",
              "        vertical-align: top;\n",
              "    }\n",
              "\n",
              "    .dataframe thead th {\n",
              "        text-align: right;\n",
              "    }\n",
              "</style>\n",
              "<table border=\"1\" class=\"dataframe\">\n",
              "  <thead>\n",
              "    <tr style=\"text-align: right;\">\n",
              "      <th></th>\n",
              "      <th>release_year</th>\n",
              "      <th>min</th>\n",
              "    </tr>\n",
              "  </thead>\n",
              "  <tbody>\n",
              "    <tr>\n",
              "      <th>0</th>\n",
              "      <td></td>\n",
              "      <td></td>\n",
              "    </tr>\n",
              "    <tr>\n",
              "      <th>1</th>\n",
              "      <td>1916</td>\n",
              "      <td></td>\n",
              "    </tr>\n",
              "    <tr>\n",
              "      <th>2</th>\n",
              "      <td>1920</td>\n",
              "      <td>3000000</td>\n",
              "    </tr>\n",
              "    <tr>\n",
              "      <th>3</th>\n",
              "      <td>1925</td>\n",
              "      <td></td>\n",
              "    </tr>\n",
              "    <tr>\n",
              "      <th>4</th>\n",
              "      <td>1927</td>\n",
              "      <td>26435</td>\n",
              "    </tr>\n",
              "  </tbody>\n",
              "</table>\n",
              "</div>"
            ],
            "text/plain": [
              "  release_year      min\n",
              "0                      \n",
              "1         1916         \n",
              "2         1920  3000000\n",
              "3         1925         \n",
              "4         1927    26435"
            ]
          },
          "metadata": {},
          "execution_count": 67
        }
      ]
    },
    {
      "cell_type": "markdown",
      "metadata": {
        "id": "3RFyxArOd3k6"
      },
      "source": [
        "* Get the `language` and total `gross` amount films in each `language` made."
      ]
    },
    {
      "cell_type": "code",
      "metadata": {
        "colab": {
          "base_uri": "https://localhost:8080/",
          "height": 206
        },
        "id": "VV9eUW_udanD",
        "outputId": "76764f6d-ec36-4b70-8b51-d03c29c6e0e9"
      },
      "source": [
        "df = pd.read_sql_query('''SELECT language, SUM(gross) AS sum\n",
        "                          FROM \"public.films\"\n",
        "                          GROUP BY language;''', engine)\n",
        "df.head()"
      ],
      "execution_count": 68,
      "outputs": [
        {
          "output_type": "execute_result",
          "data": {
            "text/html": [
              "<div>\n",
              "<style scoped>\n",
              "    .dataframe tbody tr th:only-of-type {\n",
              "        vertical-align: middle;\n",
              "    }\n",
              "\n",
              "    .dataframe tbody tr th {\n",
              "        vertical-align: top;\n",
              "    }\n",
              "\n",
              "    .dataframe thead th {\n",
              "        text-align: right;\n",
              "    }\n",
              "</style>\n",
              "<table border=\"1\" class=\"dataframe\">\n",
              "  <thead>\n",
              "    <tr style=\"text-align: right;\">\n",
              "      <th></th>\n",
              "      <th>language</th>\n",
              "      <th>sum</th>\n",
              "    </tr>\n",
              "  </thead>\n",
              "  <tbody>\n",
              "    <tr>\n",
              "      <th>0</th>\n",
              "      <td></td>\n",
              "      <td>4319281.0</td>\n",
              "    </tr>\n",
              "    <tr>\n",
              "      <th>1</th>\n",
              "      <td>Aboriginal</td>\n",
              "      <td>78680789.0</td>\n",
              "    </tr>\n",
              "    <tr>\n",
              "      <th>2</th>\n",
              "      <td>Arabic</td>\n",
              "      <td>1681831.0</td>\n",
              "    </tr>\n",
              "    <tr>\n",
              "      <th>3</th>\n",
              "      <td>Aramaic</td>\n",
              "      <td>499263.0</td>\n",
              "    </tr>\n",
              "    <tr>\n",
              "      <th>4</th>\n",
              "      <td>Bosnian</td>\n",
              "      <td>301305.0</td>\n",
              "    </tr>\n",
              "  </tbody>\n",
              "</table>\n",
              "</div>"
            ],
            "text/plain": [
              "     language         sum\n",
              "0               4319281.0\n",
              "1  Aboriginal  78680789.0\n",
              "2      Arabic   1681831.0\n",
              "3     Aramaic    499263.0\n",
              "4     Bosnian    301305.0"
            ]
          },
          "metadata": {},
          "execution_count": 68
        }
      ]
    },
    {
      "cell_type": "markdown",
      "metadata": {
        "id": "p0tXWLKNeZzR"
      },
      "source": [
        "* Get the `country` and total `budget` spent making movies in each country."
      ]
    },
    {
      "cell_type": "code",
      "metadata": {
        "colab": {
          "base_uri": "https://localhost:8080/",
          "height": 206
        },
        "id": "eOh7YBVIeNLX",
        "outputId": "dc1d12a4-6840-4646-a517-5b87f803bfd5"
      },
      "source": [
        "pd.read_sql_query('''SELECT country, SUM(budget) AS sum\n",
        "                     FROM \"public.films\"\n",
        "                     GROUP BY country LIMIT 5;''', engine)"
      ],
      "execution_count": 71,
      "outputs": [
        {
          "output_type": "execute_result",
          "data": {
            "text/html": [
              "<div>\n",
              "<style scoped>\n",
              "    .dataframe tbody tr th:only-of-type {\n",
              "        vertical-align: middle;\n",
              "    }\n",
              "\n",
              "    .dataframe tbody tr th {\n",
              "        vertical-align: top;\n",
              "    }\n",
              "\n",
              "    .dataframe thead th {\n",
              "        text-align: right;\n",
              "    }\n",
              "</style>\n",
              "<table border=\"1\" class=\"dataframe\">\n",
              "  <thead>\n",
              "    <tr style=\"text-align: right;\">\n",
              "      <th></th>\n",
              "      <th>country</th>\n",
              "      <th>sum</th>\n",
              "    </tr>\n",
              "  </thead>\n",
              "  <tbody>\n",
              "    <tr>\n",
              "      <th>0</th>\n",
              "      <td></td>\n",
              "      <td>3.500000e+06</td>\n",
              "    </tr>\n",
              "    <tr>\n",
              "      <th>1</th>\n",
              "      <td>Afghanistan</td>\n",
              "      <td>4.600000e+04</td>\n",
              "    </tr>\n",
              "    <tr>\n",
              "      <th>2</th>\n",
              "      <td>Argentina</td>\n",
              "      <td>5.700000e+06</td>\n",
              "    </tr>\n",
              "    <tr>\n",
              "      <th>3</th>\n",
              "      <td>Aruba</td>\n",
              "      <td>3.500000e+07</td>\n",
              "    </tr>\n",
              "    <tr>\n",
              "      <th>4</th>\n",
              "      <td>Australia</td>\n",
              "      <td>1.558606e+09</td>\n",
              "    </tr>\n",
              "  </tbody>\n",
              "</table>\n",
              "</div>"
            ],
            "text/plain": [
              "       country           sum\n",
              "0               3.500000e+06\n",
              "1  Afghanistan  4.600000e+04\n",
              "2    Argentina  5.700000e+06\n",
              "3        Aruba  3.500000e+07\n",
              "4    Australia  1.558606e+09"
            ]
          },
          "metadata": {},
          "execution_count": 71
        }
      ]
    },
    {
      "cell_type": "markdown",
      "metadata": {
        "id": "muTC4fgLfMAi"
      },
      "source": [
        "* Get the `release_year`, `country`, and highest `budget` spent making a film for each year, for each country. Sort your results by `release_year` and `country`.\n",
        "\n",
        "\n",
        "\n",
        "```\n",
        "SELECT release_year, country, MAX(budget) FROM films\n",
        "GROUP BY release_year, country\n",
        "ORDER BY release_year, country\n",
        "```\n",
        "\n"
      ]
    },
    {
      "cell_type": "code",
      "metadata": {
        "colab": {
          "base_uri": "https://localhost:8080/",
          "height": 394
        },
        "id": "Yx9K-l2YepO9",
        "outputId": "95b4bc50-acf0-4776-af13-347cc7bb658a"
      },
      "source": [
        "df = pd.read_sql_query('''SELECT release_year, country, budget\n",
        "                          FROM \"public.films\";''', engine)\n",
        "for col in [\"release_year\", \"country\", \"budget\"]:\n",
        "    df = df[df[col] != \"\"]\n",
        "\n",
        "df.groupby([\"release_year\", \"country\"]).max().sort_values(by=[\"release_year\", \"country\"]).head(10)"
      ],
      "execution_count": 85,
      "outputs": [
        {
          "output_type": "execute_result",
          "data": {
            "text/html": [
              "<div>\n",
              "<style scoped>\n",
              "    .dataframe tbody tr th:only-of-type {\n",
              "        vertical-align: middle;\n",
              "    }\n",
              "\n",
              "    .dataframe tbody tr th {\n",
              "        vertical-align: top;\n",
              "    }\n",
              "\n",
              "    .dataframe thead th {\n",
              "        text-align: right;\n",
              "    }\n",
              "</style>\n",
              "<table border=\"1\" class=\"dataframe\">\n",
              "  <thead>\n",
              "    <tr style=\"text-align: right;\">\n",
              "      <th></th>\n",
              "      <th></th>\n",
              "      <th>budget</th>\n",
              "    </tr>\n",
              "    <tr>\n",
              "      <th>release_year</th>\n",
              "      <th>country</th>\n",
              "      <th></th>\n",
              "    </tr>\n",
              "  </thead>\n",
              "  <tbody>\n",
              "    <tr>\n",
              "      <th>1916</th>\n",
              "      <th>USA</th>\n",
              "      <td>385907</td>\n",
              "    </tr>\n",
              "    <tr>\n",
              "      <th>1920</th>\n",
              "      <th>USA</th>\n",
              "      <td>100000</td>\n",
              "    </tr>\n",
              "    <tr>\n",
              "      <th>1925</th>\n",
              "      <th>USA</th>\n",
              "      <td>245000</td>\n",
              "    </tr>\n",
              "    <tr>\n",
              "      <th>1927</th>\n",
              "      <th>Germany</th>\n",
              "      <td>6000000</td>\n",
              "    </tr>\n",
              "    <tr>\n",
              "      <th>1929</th>\n",
              "      <th>USA</th>\n",
              "      <td>379000</td>\n",
              "    </tr>\n",
              "    <tr>\n",
              "      <th>1930</th>\n",
              "      <th>USA</th>\n",
              "      <td>3950000</td>\n",
              "    </tr>\n",
              "    <tr>\n",
              "      <th>1932</th>\n",
              "      <th>USA</th>\n",
              "      <td>800000</td>\n",
              "    </tr>\n",
              "    <tr>\n",
              "      <th>1933</th>\n",
              "      <th>USA</th>\n",
              "      <td>439000</td>\n",
              "    </tr>\n",
              "    <tr>\n",
              "      <th>1934</th>\n",
              "      <th>USA</th>\n",
              "      <td>325000</td>\n",
              "    </tr>\n",
              "    <tr>\n",
              "      <th>1935</th>\n",
              "      <th>USA</th>\n",
              "      <td>609000</td>\n",
              "    </tr>\n",
              "  </tbody>\n",
              "</table>\n",
              "</div>"
            ],
            "text/plain": [
              "                       budget\n",
              "release_year country         \n",
              "1916         USA       385907\n",
              "1920         USA       100000\n",
              "1925         USA       245000\n",
              "1927         Germany  6000000\n",
              "1929         USA       379000\n",
              "1930         USA      3950000\n",
              "1932         USA       800000\n",
              "1933         USA       439000\n",
              "1934         USA       325000\n",
              "1935         USA       609000"
            ]
          },
          "metadata": {},
          "execution_count": 85
        }
      ]
    },
    {
      "cell_type": "markdown",
      "metadata": {
        "id": "_03BrHiPhQDO"
      },
      "source": [
        "* Get the country, release year, and lowest amount grossed per release year per country. Order your results by country and release year.\n",
        "\n",
        "\n",
        "\n",
        "```\n",
        "SELECT country, release_year, MIN(gross) FROM films\n",
        "GROUP BY release_year, country\n",
        "ORDER BY country, release_year\n",
        "```\n",
        "\n"
      ]
    },
    {
      "cell_type": "code",
      "metadata": {
        "colab": {
          "base_uri": "https://localhost:8080/",
          "height": 394
        },
        "id": "3BFiE2hofgMn",
        "outputId": "87a78835-9654-4af5-a2e2-bc98e800b3a4"
      },
      "source": [
        "df = pd.read_sql_query('''SELECT country, release_year, gross\n",
        "                          FROM \"public.films\";''', engine)\n",
        "for col in [\"release_year\", \"country\", \"gross\"]:\n",
        "    df = df[df[col] != \"\"]\n",
        "\n",
        "df.groupby([\"country\", \"release_year\"]).min().sort_values(by=[\"country\", \"release_year\"]).head(10)"
      ],
      "execution_count": 88,
      "outputs": [
        {
          "output_type": "execute_result",
          "data": {
            "text/html": [
              "<div>\n",
              "<style scoped>\n",
              "    .dataframe tbody tr th:only-of-type {\n",
              "        vertical-align: middle;\n",
              "    }\n",
              "\n",
              "    .dataframe tbody tr th {\n",
              "        vertical-align: top;\n",
              "    }\n",
              "\n",
              "    .dataframe thead th {\n",
              "        text-align: right;\n",
              "    }\n",
              "</style>\n",
              "<table border=\"1\" class=\"dataframe\">\n",
              "  <thead>\n",
              "    <tr style=\"text-align: right;\">\n",
              "      <th></th>\n",
              "      <th></th>\n",
              "      <th>gross</th>\n",
              "    </tr>\n",
              "    <tr>\n",
              "      <th>country</th>\n",
              "      <th>release_year</th>\n",
              "      <th></th>\n",
              "    </tr>\n",
              "  </thead>\n",
              "  <tbody>\n",
              "    <tr>\n",
              "      <th>Afghanistan</th>\n",
              "      <th>2003</th>\n",
              "      <td>1127331</td>\n",
              "    </tr>\n",
              "    <tr>\n",
              "      <th rowspan=\"3\" valign=\"top\">Argentina</th>\n",
              "      <th>2000</th>\n",
              "      <td>1221261</td>\n",
              "    </tr>\n",
              "    <tr>\n",
              "      <th>2004</th>\n",
              "      <td>304124</td>\n",
              "    </tr>\n",
              "    <tr>\n",
              "      <th>2009</th>\n",
              "      <td>20167424</td>\n",
              "    </tr>\n",
              "    <tr>\n",
              "      <th>Aruba</th>\n",
              "      <th>1998</th>\n",
              "      <td>10076136</td>\n",
              "    </tr>\n",
              "    <tr>\n",
              "      <th rowspan=\"5\" valign=\"top\">Australia</th>\n",
              "      <th>1981</th>\n",
              "      <td>9003011</td>\n",
              "    </tr>\n",
              "    <tr>\n",
              "      <th>1985</th>\n",
              "      <td>36200000</td>\n",
              "    </tr>\n",
              "    <tr>\n",
              "      <th>1986</th>\n",
              "      <td>174635000</td>\n",
              "    </tr>\n",
              "    <tr>\n",
              "      <th>1988</th>\n",
              "      <td>109306210</td>\n",
              "    </tr>\n",
              "    <tr>\n",
              "      <th>1989</th>\n",
              "      <td>882290</td>\n",
              "    </tr>\n",
              "  </tbody>\n",
              "</table>\n",
              "</div>"
            ],
            "text/plain": [
              "                              gross\n",
              "country     release_year           \n",
              "Afghanistan 2003            1127331\n",
              "Argentina   2000            1221261\n",
              "            2004             304124\n",
              "            2009           20167424\n",
              "Aruba       1998           10076136\n",
              "Australia   1981            9003011\n",
              "            1985           36200000\n",
              "            1986          174635000\n",
              "            1988          109306210\n",
              "            1989             882290"
            ]
          },
          "metadata": {},
          "execution_count": 88
        }
      ]
    },
    {
      "cell_type": "markdown",
      "metadata": {
        "id": "DCI1SNP72lAl"
      },
      "source": [
        "# **HAVING a great time**\n",
        "In SQL, aggregate functions can't be used in `WHERE` clauses. For example, the following query is invalid:\n",
        "\n",
        "```\n",
        "SELECT release_year\n",
        "FROM films\n",
        "GROUP BY release_year\n",
        "WHERE COUNT(title) > 10;\n",
        "```\n",
        "\n",
        "This means that if you want to filter based on the result of an aggregate function, you need another way! That's where the `HAVING` clause comes in. For example,\n",
        "\n",
        "```\n",
        "SELECT release_year\n",
        "FROM films\n",
        "GROUP BY release_year\n",
        "HAVING COUNT(title) > 10;\n",
        "```\n",
        "shows only those years in which more than 10 films were released.\n",
        "\n",
        "* How many different years were more than 200 movies released?\n",
        "\n",
        "```\n",
        "SELECT release_year\n",
        "FROM films\n",
        "GROUP BY release_year\n",
        "HAVING COUNT(*) > 200\n",
        "```\n",
        "\n",
        "\n",
        "\n"
      ]
    },
    {
      "cell_type": "code",
      "metadata": {
        "colab": {
          "base_uri": "https://localhost:8080/"
        },
        "id": "MHzA0bLAiycK",
        "outputId": "fa3426d0-bbd9-4eb2-eb84-23a8d8f9c21f"
      },
      "source": [
        "pd.read_sql_query('''SELECT release_year\n",
        "                     FROM \"public.films\"\n",
        "                     GROUP BY release_year\n",
        "                     HAVING COUNT(*) > 200;''', engine).shape[0]"
      ],
      "execution_count": 100,
      "outputs": [
        {
          "output_type": "execute_result",
          "data": {
            "text/plain": [
              "13"
            ]
          },
          "metadata": {},
          "execution_count": 100
        }
      ]
    },
    {
      "cell_type": "markdown",
      "metadata": {
        "id": "eh-HOLfU5a6E"
      },
      "source": [
        "# **All together now**\n",
        "\n",
        "Time to practice using `ORDER BY`, `GROUP BY` and `HAVING` together.\n",
        "\n",
        "Now you're going to write a query that returns the average budget and average gross earnings for films in each year after 1990, if the average budget is greater than $60 million.\n",
        "\n",
        "\n",
        "\n",
        "```\n",
        "SELECT AVG(budget) AS avg_budget, AVG(gross) AS AVG(gross), release_year\n",
        "FROM films\n",
        "WHERE release_year > 1990\n",
        "GROUP BY release_year\n",
        "HAVING AVG(budget) > 60000000\n",
        "ORDER BY AVG(gross) DESC\n",
        "```\n",
        "\n"
      ]
    },
    {
      "cell_type": "code",
      "metadata": {
        "colab": {
          "base_uri": "https://localhost:8080/",
          "height": 112
        },
        "id": "e7nZdckZ5LWb",
        "outputId": "b5b4975d-24f1-40c8-9896-d9cd8ba41efe"
      },
      "source": [
        "df = pd.read_sql_query('''SELECT release_year, AVG(budget) AS avg_budget, AVG(gross) AS avg_gross\n",
        "                          FROM \"public.films\"\n",
        "                          WHERE release_year > '1990'\n",
        "                          GROUP BY release_year\n",
        "                          HAVING AVG(budget) > 60000000;''', engine)\n",
        "df"
      ],
      "execution_count": 111,
      "outputs": [
        {
          "output_type": "execute_result",
          "data": {
            "text/html": [
              "<div>\n",
              "<style scoped>\n",
              "    .dataframe tbody tr th:only-of-type {\n",
              "        vertical-align: middle;\n",
              "    }\n",
              "\n",
              "    .dataframe tbody tr th {\n",
              "        vertical-align: top;\n",
              "    }\n",
              "\n",
              "    .dataframe thead th {\n",
              "        text-align: right;\n",
              "    }\n",
              "</style>\n",
              "<table border=\"1\" class=\"dataframe\">\n",
              "  <thead>\n",
              "    <tr style=\"text-align: right;\">\n",
              "      <th></th>\n",
              "      <th>release_year</th>\n",
              "      <th>avg_budget</th>\n",
              "      <th>avg_gross</th>\n",
              "    </tr>\n",
              "  </thead>\n",
              "  <tbody>\n",
              "    <tr>\n",
              "      <th>0</th>\n",
              "      <td>2005</td>\n",
              "      <td>6.459620e+07</td>\n",
              "      <td>3.780681e+07</td>\n",
              "    </tr>\n",
              "    <tr>\n",
              "      <th>1</th>\n",
              "      <td>2006</td>\n",
              "      <td>8.409824e+07</td>\n",
              "      <td>3.561083e+07</td>\n",
              "    </tr>\n",
              "  </tbody>\n",
              "</table>\n",
              "</div>"
            ],
            "text/plain": [
              "  release_year    avg_budget     avg_gross\n",
              "0         2005  6.459620e+07  3.780681e+07\n",
              "1         2006  8.409824e+07  3.561083e+07"
            ]
          },
          "metadata": {},
          "execution_count": 111
        }
      ]
    },
    {
      "cell_type": "markdown",
      "metadata": {
        "id": "yronoxx58IPs"
      },
      "source": [
        "ปีถูก แต่ตัวเลขไม่ถูก"
      ]
    },
    {
      "cell_type": "code",
      "metadata": {
        "colab": {
          "base_uri": "https://localhost:8080/",
          "height": 143
        },
        "id": "FkdtIDUT65lA",
        "outputId": "b9117019-5714-4a17-911d-971ad48d4976"
      },
      "source": [
        "import numpy as np\n",
        "\n",
        "df = pd.read_sql_query('''SELECT release_year, budget, gross\n",
        "                          FROM \"public.films\"\n",
        "                          WHERE release_year > '1990';''', engine)\n",
        "for col in [\"budget\", \"gross\"]:\n",
        "    df.loc[df[col] == \"\", col] = np.nan\n",
        "    df[col] = df[col].astype(float)\n",
        "\n",
        "df.groupby(df[\"release_year\"]).filter(lambda df: df[\"budget\"].mean() > 60000000).groupby(df[\"release_year\"]).mean()"
      ],
      "execution_count": 137,
      "outputs": [
        {
          "output_type": "execute_result",
          "data": {
            "text/html": [
              "<div>\n",
              "<style scoped>\n",
              "    .dataframe tbody tr th:only-of-type {\n",
              "        vertical-align: middle;\n",
              "    }\n",
              "\n",
              "    .dataframe tbody tr th {\n",
              "        vertical-align: top;\n",
              "    }\n",
              "\n",
              "    .dataframe thead th {\n",
              "        text-align: right;\n",
              "    }\n",
              "</style>\n",
              "<table border=\"1\" class=\"dataframe\">\n",
              "  <thead>\n",
              "    <tr style=\"text-align: right;\">\n",
              "      <th></th>\n",
              "      <th>budget</th>\n",
              "      <th>gross</th>\n",
              "    </tr>\n",
              "    <tr>\n",
              "      <th>release_year</th>\n",
              "      <th></th>\n",
              "      <th></th>\n",
              "    </tr>\n",
              "  </thead>\n",
              "  <tbody>\n",
              "    <tr>\n",
              "      <th>2005</th>\n",
              "      <td>7.032394e+07</td>\n",
              "      <td>4.115914e+07</td>\n",
              "    </tr>\n",
              "    <tr>\n",
              "      <th>2006</th>\n",
              "      <td>9.396893e+07</td>\n",
              "      <td>3.923786e+07</td>\n",
              "    </tr>\n",
              "  </tbody>\n",
              "</table>\n",
              "</div>"
            ],
            "text/plain": [
              "                    budget         gross\n",
              "release_year                            \n",
              "2005          7.032394e+07  4.115914e+07\n",
              "2006          9.396893e+07  3.923786e+07"
            ]
          },
          "metadata": {},
          "execution_count": 137
        }
      ]
    },
    {
      "cell_type": "markdown",
      "metadata": {
        "id": "CGjxQPjuB3yV"
      },
      "source": [
        "Get the country, average budget, and average gross take of countries that have made more than 10 films. Order the result by country name, and limit the number of results displayed to 5. You should alias the averages as avg_budget and avg_gross respectively."
      ]
    },
    {
      "cell_type": "code",
      "metadata": {
        "colab": {
          "base_uri": "https://localhost:8080/",
          "height": 238
        },
        "id": "TZMYNgjw8oo8",
        "outputId": "50caac2a-e604-40c8-a2ce-1694524cd0ad"
      },
      "source": [
        "import numpy as np\n",
        "\n",
        "df = pd.read_sql_query('''SELECT country, budget, gross\n",
        "                          FROM \"public.films\";''', engine)\n",
        "\n",
        "for col in [\"budget\", \"gross\"]:\n",
        "    df.loc[df[col] == \"\", col] = np.nan\n",
        "    df[col] = df[col].astype(float)\n",
        "\n",
        "df.groupby(df[\"country\"]).filter(lambda x: len(x) > 10).groupby(df[\"country\"]).mean().sort_values(by=\"country\").head()"
      ],
      "execution_count": 139,
      "outputs": [
        {
          "output_type": "execute_result",
          "data": {
            "text/html": [
              "<div>\n",
              "<style scoped>\n",
              "    .dataframe tbody tr th:only-of-type {\n",
              "        vertical-align: middle;\n",
              "    }\n",
              "\n",
              "    .dataframe tbody tr th {\n",
              "        vertical-align: top;\n",
              "    }\n",
              "\n",
              "    .dataframe thead th {\n",
              "        text-align: right;\n",
              "    }\n",
              "</style>\n",
              "<table border=\"1\" class=\"dataframe\">\n",
              "  <thead>\n",
              "    <tr style=\"text-align: right;\">\n",
              "      <th></th>\n",
              "      <th>budget</th>\n",
              "      <th>gross</th>\n",
              "    </tr>\n",
              "    <tr>\n",
              "      <th>country</th>\n",
              "      <th></th>\n",
              "      <th></th>\n",
              "    </tr>\n",
              "  </thead>\n",
              "  <tbody>\n",
              "    <tr>\n",
              "      <th>Australia</th>\n",
              "      <td>3.117211e+07</td>\n",
              "      <td>4.020591e+07</td>\n",
              "    </tr>\n",
              "    <tr>\n",
              "      <th>Canada</th>\n",
              "      <td>1.479846e+07</td>\n",
              "      <td>2.243207e+07</td>\n",
              "    </tr>\n",
              "    <tr>\n",
              "      <th>China</th>\n",
              "      <td>6.221900e+07</td>\n",
              "      <td>1.414304e+07</td>\n",
              "    </tr>\n",
              "    <tr>\n",
              "      <th>Denmark</th>\n",
              "      <td>1.392222e+07</td>\n",
              "      <td>1.418469e+06</td>\n",
              "    </tr>\n",
              "    <tr>\n",
              "      <th>France</th>\n",
              "      <td>3.067203e+07</td>\n",
              "      <td>1.635059e+07</td>\n",
              "    </tr>\n",
              "  </tbody>\n",
              "</table>\n",
              "</div>"
            ],
            "text/plain": [
              "                 budget         gross\n",
              "country                              \n",
              "Australia  3.117211e+07  4.020591e+07\n",
              "Canada     1.479846e+07  2.243207e+07\n",
              "China      6.221900e+07  1.414304e+07\n",
              "Denmark    1.392222e+07  1.418469e+06\n",
              "France     3.067203e+07  1.635059e+07"
            ]
          },
          "metadata": {},
          "execution_count": 139
        }
      ]
    },
    {
      "cell_type": "markdown",
      "metadata": {
        "id": "uHv6WlMpDSrJ"
      },
      "source": [
        "# **JOIN**\n",
        "\n",
        "What if you want to see the `imdb_score` for a particular movie?\n",
        "\n",
        "In this case, you'd want to get the `ID` of the movie from the `films` table and then use it to get `imdb_score` from the `reviews` table. In SQL, this concept is known as a `join`.\n",
        "\n",
        "The query below gets the `imdb_score` for the film `To Kill a Mockingbird!`.\n",
        "\n",
        "As you can see, `join`s are incredibly useful and important to understand for anyone using SQL.\n",
        "\n",
        "```\n",
        "SELECT title, imdb_score\n",
        "FROM films\n",
        "JOIN reviews\n",
        "ON films.id = reviews.film_id\n",
        "WHERE title = 'To Kill a Mockingbird';\n",
        "```\n",
        "What is the IMDB score for the film To Kill a Mockingbird?\n"
      ]
    },
    {
      "cell_type": "code",
      "metadata": {
        "colab": {
          "base_uri": "https://localhost:8080/",
          "height": 81
        },
        "id": "Fy28Ov5_Al-t",
        "outputId": "b60cf1a8-0bd5-4640-af57-4534745a59d4"
      },
      "source": [
        "pd.read_sql_query('''SELECT title, imdb_score\n",
        "                     FROM 'public.films'\n",
        "                     JOIN 'public.reviews'\n",
        "                     ON 'public.films'.id = 'public.reviews'.film_id\n",
        "                     WHERE title = 'To Kill a Mockingbird';''', con=engine)"
      ],
      "execution_count": 144,
      "outputs": [
        {
          "output_type": "execute_result",
          "data": {
            "text/html": [
              "<div>\n",
              "<style scoped>\n",
              "    .dataframe tbody tr th:only-of-type {\n",
              "        vertical-align: middle;\n",
              "    }\n",
              "\n",
              "    .dataframe tbody tr th {\n",
              "        vertical-align: top;\n",
              "    }\n",
              "\n",
              "    .dataframe thead th {\n",
              "        text-align: right;\n",
              "    }\n",
              "</style>\n",
              "<table border=\"1\" class=\"dataframe\">\n",
              "  <thead>\n",
              "    <tr style=\"text-align: right;\">\n",
              "      <th></th>\n",
              "      <th>title</th>\n",
              "      <th>imdb_score</th>\n",
              "    </tr>\n",
              "  </thead>\n",
              "  <tbody>\n",
              "    <tr>\n",
              "      <th>0</th>\n",
              "      <td>To Kill a Mockingbird</td>\n",
              "      <td>8.39999962</td>\n",
              "    </tr>\n",
              "  </tbody>\n",
              "</table>\n",
              "</div>"
            ],
            "text/plain": [
              "                   title  imdb_score\n",
              "0  To Kill a Mockingbird  8.39999962"
            ]
          },
          "metadata": {},
          "execution_count": 144
        }
      ]
    }
  ]
}